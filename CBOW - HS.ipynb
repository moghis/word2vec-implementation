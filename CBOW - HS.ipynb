{
 "cells": [
  {
   "cell_type": "code",
   "execution_count": 1,
   "metadata": {
    "colab": {
     "base_uri": "https://localhost:8080/"
    },
    "executionInfo": {
     "elapsed": 8,
     "status": "ok",
     "timestamp": 1639649382272,
     "user": {
      "displayName": "moghis fereidouni",
      "photoUrl": "https://lh3.googleusercontent.com/a-/AOh14GjVlp_EUmsYa2wET4sH8v8ttME5Wjz5knmZivaz=s64",
      "userId": "04154357719458086941"
     },
     "user_tz": -210
    },
    "id": "icJZGDbKDAw2",
    "outputId": "b0d09358-554c-4263-8ead-537eb3339b7b"
   },
   "outputs": [
    {
     "name": "stdout",
     "output_type": "stream",
     "text": [
      "{0: 4, 1: 6, 2: 3, 3: 2, 4: 2}\n",
      "{1: [1, 1], 0: [1, 0], 3: [0, 1, 1], 4: [0, 1, 0], 2: [0, 0]}\n",
      "{1: [8, 7], 0: [8, 7], 3: [8, 6, 5], 4: [8, 6, 5], 2: [8, 6]}\n",
      "[8, 7]\n",
      "[8, 7]\n",
      "[8, 6]\n",
      "[8, 6, 5]\n",
      "[8, 6, 5]\n",
      "([[8], [8, 7], [], [6, 5], [6]], [[7], [], [8, 6], [8], [8, 5]])\n"
     ]
    }
   ],
   "source": [
    "class HuffmanNode:\n",
    "    def __init__(self, word_id, frequency):\n",
    "        self.word_id = word_id\n",
    "        self.frequency = frequency\n",
    "        self.left_child = None\n",
    "        self.right_child = None\n",
    "        self.father = None\n",
    "        self.Huffman_code = []\n",
    "        self.path = []\n",
    "\n",
    "\n",
    "class HuffmanTree:\n",
    "    def __init__(self, wordid_frequency_dict):\n",
    "        self.word_count = len(wordid_frequency_dict)\n",
    "        self.wordid_code = dict()\n",
    "        self.wordid_path = dict()\n",
    "        self.root = None\n",
    "        unmerge_node_list = [HuffmanNode(wordid, frequency) for wordid, frequency in wordid_frequency_dict.items()] # Unmerged node list\n",
    "        self.huffman = [HuffmanNode(wordid, frequency) for wordid, frequency in wordid_frequency_dict.items()] # Store all leaf nodes and intermediate nodes\n",
    "        # Build huffman tree\n",
    "        self.build_tree(unmerge_node_list)\n",
    "        # Generate huffman code\n",
    "        self.generate_huffman_code_and_path()\n",
    "\n",
    "    def merge_node(self, node1, node2):\n",
    "        sum_frequency = node1.frequency + node2.frequency\n",
    "        mid_node_id = len(self.huffman)\n",
    "        father_node = HuffmanNode(mid_node_id, sum_frequency)\n",
    "        if node1.frequency >= node2.frequency:\n",
    "            father_node.left_child = node1\n",
    "            father_node.right_child = node2\n",
    "        else:\n",
    "            father_node.left_child = node2\n",
    "            father_node.right_child = node1\n",
    "        self.huffman.append(father_node)\n",
    "        return father_node\n",
    "\n",
    "    def build_tree(self, node_list):\n",
    "        while len(node_list) > 1:\n",
    "            i1 = 0  # Node with least frequency\n",
    "            i2 = 1  # Node with the second smallest frequency\n",
    "            if node_list[i2].frequency < node_list[i1].frequency:\n",
    "                [i1, i2] = [i2, i1]\n",
    "            for i in range(2, len(node_list)):\n",
    "                if node_list[i].frequency < node_list[i2].frequency:\n",
    "                    i2 = i\n",
    "                    if node_list[i2].frequency < node_list[i1].frequency:\n",
    "                        [i1, i2] = [i2, i1]\n",
    "            father_node = self.merge_node(node_list[i1], node_list[i2])  # Combine the least frequent two nodes\n",
    "            if i1 < i2:\n",
    "                node_list.pop(i2)\n",
    "                node_list.pop(i1)\n",
    "            elif i1 > i2:\n",
    "                node_list.pop(i1)\n",
    "                node_list.pop(i2)\n",
    "            else:\n",
    "                raise RuntimeError('i1 should not be equal to i2')\n",
    "            node_list.insert(0, father_node)  # Insert new node\n",
    "        self.root = node_list[0]\n",
    "\n",
    "    def generate_huffman_code_and_path(self):\n",
    "        stack = [self.root]\n",
    "        while len(stack) > 0:\n",
    "            node = stack.pop()\n",
    "            while node.left_child or node.right_child:\n",
    "                code = node.Huffman_code\n",
    "                path = node.path\n",
    "                node.left_child.Huffman_code = code + [1]\n",
    "                node.right_child.Huffman_code = code + [0]\n",
    "                node.left_child.path = path + [node.word_id]\n",
    "                node.right_child.path = path + [node.word_id]\n",
    "                stack.append(node.right_child)\n",
    "                node = node.left_child\n",
    "            word_id = node.word_id\n",
    "            word_code = node.Huffman_code\n",
    "            word_path = node.path\n",
    "            self.huffman[word_id].Huffman_code = word_code\n",
    "            self.huffman[word_id].path = word_path\n",
    "            # Write the Huffman code and path calculated by the node into the value of the dictionary\n",
    "            self.wordid_code[word_id] = word_code\n",
    "            self.wordid_path[word_id] = word_path\n",
    "\n",
    "    # Get the id of all positive nodes and the id of all negative nodes\n",
    "    def get_all_pos_and_neg_path(self):\n",
    "        positive = []  # Array of positive paths of all words\n",
    "        negative = []  # Array of negative paths for all words\n",
    "        for word_id in range(self.word_count):\n",
    "            pos_id = []\n",
    "            neg_id = []\n",
    "            for i, code in enumerate(self.huffman[word_id].Huffman_code):\n",
    "                if code == 1:\n",
    "                    pos_id.append(self.huffman[word_id].path[i])\n",
    "                else:\n",
    "                    neg_id.append(self.huffman[word_id].path[i])\n",
    "            positive.append(pos_id)\n",
    "            negative.append(neg_id)\n",
    "        return positive, negative\n",
    "\n",
    "\n",
    "def test():\n",
    "    word_frequency = {0: 4, 1: 6, 2: 3, 3: 2, 4: 2}\n",
    "    print(word_frequency)\n",
    "    tree = HuffmanTree(word_frequency)\n",
    "    print(tree.wordid_code)\n",
    "    print(tree.wordid_path)\n",
    "    for i in range(len(word_frequency)):\n",
    "        print(tree.huffman[i].path)\n",
    "    print(tree.get_all_pos_and_neg_path())\n",
    "\n",
    "\n",
    "if __name__ == '__main__':\n",
    "    test()"
   ]
  },
  {
   "cell_type": "code",
   "execution_count": 2,
   "metadata": {
    "colab": {
     "base_uri": "https://localhost:8080/"
    },
    "executionInfo": {
     "elapsed": 65561,
     "status": "ok",
     "timestamp": 1639649489840,
     "user": {
      "displayName": "moghis fereidouni",
      "photoUrl": "https://lh3.googleusercontent.com/a-/AOh14GjVlp_EUmsYa2wET4sH8v8ttME5Wjz5knmZivaz=s64",
      "userId": "04154357719458086941"
     },
     "user_tz": -210
    },
    "id": "oIVrAob4DdRA",
    "outputId": "397a727c-161e-4657-8660-00a305a1076e"
   },
   "outputs": [
    {
     "name": "stdout",
     "output_type": "stream",
     "text": [
      "[nltk_data] Downloading package gutenberg to /root/nltk_data...\n",
      "[nltk_data]   Unzipping corpora/gutenberg.zip.\n",
      "[nltk_data] Downloading package stopwords to /root/nltk_data...\n",
      "[nltk_data]   Unzipping corpora/stopwords.zip.\n",
      "[nltk_data] Downloading package brown to /root/nltk_data...\n",
      "[nltk_data]   Unzipping corpora/brown.zip.\n",
      "[nltk_data] Downloading package punkt to /root/nltk_data...\n",
      "[nltk_data]   Unzipping tokenizers/punkt.zip.\n",
      "Word Count is: 24794\n",
      "Word Count Sum is 147000\n",
      "Sentence Count is: 15146\n",
      "Tree Node is: 49587\n",
      "['The', 'Fulton', 'County', 'Grand', 'Jury', 'said', 'Friday', 'an', 'investigation', 'of', \"Atlanta's\", 'recent', 'primary', 'election', 'produced', '``', 'no', 'evidence', \"''\", 'that', 'any', 'irregularities', 'took', 'place', '.']\n",
      "['The', 'jury', 'further', 'said', 'in', 'term-end', 'presentments', 'that', 'the', 'City', 'Executive', 'Committee', ',', 'which', 'had', 'over-all', 'charge', 'of', 'the', 'election', ',', '``', 'deserves', 'the', 'praise', 'and', 'thanks', 'of', 'the', 'City', 'of', 'Atlanta', \"''\", 'for', 'the', 'manner', 'in', 'which', 'the', 'election', 'was', 'conducted', '.']\n",
      "[([24794, 24794, 1, 2], 0), ([24794, 0, 2, 3], 1), ([0, 1, 3, 4], 2), ([1, 2, 4, 5], 3), ([2, 3, 5, 6], 4), ([3, 4, 6, 7], 5), ([4, 5, 7, 8], 6), ([5, 6, 8, 9], 7), ([6, 7, 9, 10], 8), ([7, 8, 10, 11], 9)]\n",
      "[(['county', 'grand'], 'fulton'), (['fulton', 'grand', 'jury'], 'county'), (['fulton', 'county', 'jury', 'said'], 'grand'), (['county', 'grand', 'said', 'friday'], 'jury'), (['grand', 'jury', 'friday', 'investigation'], 'said'), (['jury', 'said', 'investigation', 'atlantas'], 'friday'), (['said', 'friday', 'atlantas', 'recent'], 'investigation'), (['friday', 'investigation', 'recent', 'primary'], 'atlantas'), (['investigation', 'atlantas', 'primary', 'election'], 'recent'), (['atlantas', 'recent', 'election', 'produced'], 'primary')]\n",
      "\n",
      "[49572, 49557, 49527, 49468, 49111, 47848, 44319]\n",
      "[49586, 49584, 49580, 49344, 48655, 46416]\n",
      "[([24794, 24794, 1, 2], 49572), ([24794, 24794, 1, 2], 49557), ([24794, 24794, 1, 2], 49527), ([24794, 24794, 1, 2], 49468), ([24794, 24794, 1, 2], 49111), ([24794, 24794, 1, 2], 47848), ([24794, 24794, 1, 2], 44319), ([24794, 0, 2, 3], 49586), ([24794, 0, 2, 3], 49582), ([24794, 0, 2, 3], 49577), ([24794, 0, 2, 3], 49255), ([24794, 0, 2, 3], 48934), ([24794, 0, 2, 3], 48335), ([0, 1, 3, 4], 49580), ([0, 1, 3, 4], 49573), ([0, 1, 3, 4], 49559), ([0, 1, 3, 4], 49531), ([0, 1, 3, 4], 49362), ([0, 1, 3, 4], 49143), ([0, 1, 3, 4], 48719), ([1, 2, 4, 5], 49586), ([1, 2, 4, 5], 49585), ([1, 2, 4, 5], 49578), ([1, 2, 4, 5], 49569), ([1, 2, 4, 5], 49551), ([1, 2, 4, 5], 49442), ([1, 2, 4, 5], 49017), ([1, 2, 4, 5], 48486), ([1, 2, 4, 5], 47540), ([2, 3, 5, 6], 49586), ([2, 3, 5, 6], 49585), ([2, 3, 5, 6], 49578), ([2, 3, 5, 6], 49550), ([2, 3, 5, 6], 49438), ([3, 4, 6, 7], 49586), ([3, 4, 6, 7], 49585), ([3, 4, 6, 7], 49578), ([3, 4, 6, 7], 49569), ([3, 4, 6, 7], 49514), ([3, 4, 6, 7], 49296), ([3, 4, 6, 7], 48477), ([4, 5, 7, 8], 49580), ([4, 5, 7, 8], 49573), ([4, 5, 7, 8], 49530), ([4, 5, 7, 8], 49473), ([4, 5, 7, 8], 49359), ([4, 5, 7, 8], 49132), ([4, 5, 7, 8], 46561), ([4, 5, 7, 8], 44390), ([5, 6, 8, 9], 49584), ([5, 6, 8, 9], 49574), ([5, 6, 8, 9], 49563), ([5, 6, 8, 9], 49534), ([5, 6, 8, 9], 48755), ([5, 6, 8, 9], 48139), ([5, 6, 8, 9], 46704), ([5, 6, 8, 9], 41515), ([5, 6, 8, 9], 39078), ([6, 7, 9, 10], 49586), ([6, 7, 9, 10], 49585), ([6, 7, 9, 10], 49578), ([6, 7, 9, 10], 49550), ([6, 7, 9, 10], 49513), ([6, 7, 9, 10], 49439), ([6, 7, 9, 10], 49007), ([7, 8, 10, 11], 49586), ([7, 8, 10, 11], 49585), ([7, 8, 10, 11], 49583), ([7, 8, 10, 11], 49579), ([7, 8, 10, 11], 49554), ([7, 8, 10, 11], 49521), ([7, 8, 10, 11], 47723), ([7, 8, 10, 11], 46266)]\n",
      "[([24794, 24794, 1, 2], 49586), ([24794, 24794, 1, 2], 49584), ([24794, 24794, 1, 2], 49580), ([24794, 24794, 1, 2], 49344), ([24794, 24794, 1, 2], 48655), ([24794, 24794, 1, 2], 46416), ([24794, 0, 2, 3], 49585), ([24794, 0, 2, 3], 49567), ([24794, 0, 2, 3], 49546), ([24794, 0, 2, 3], 49504), ([24794, 0, 2, 3], 49420), ([0, 1, 3, 4], 49586), ([0, 1, 3, 4], 49584), ([0, 1, 3, 4], 49475), ([0, 1, 3, 4], 47945), ([0, 1, 3, 4], 46582), ([1, 2, 4, 5], 49583), ([1, 2, 4, 5], 49515), ([1, 2, 4, 5], 49298), ([2, 3, 5, 6], 49583), ([2, 3, 5, 6], 49569), ([2, 3, 5, 6], 49513), ([3, 4, 6, 7], 49583), ([3, 4, 6, 7], 49551), ([3, 4, 6, 7], 49441), ([3, 4, 6, 7], 49014), ([3, 4, 6, 7], 47531), ([4, 5, 7, 8], 49586), ([4, 5, 7, 8], 49584), ([4, 5, 7, 8], 49559), ([4, 5, 7, 8], 48706), ([4, 5, 7, 8], 47911), ([5, 6, 8, 9], 49586), ([5, 6, 8, 9], 49581), ([5, 6, 8, 9], 49488), ([5, 6, 8, 9], 49372), ([5, 6, 8, 9], 49194), ([5, 6, 8, 9], 45155), ([6, 7, 9, 10], 49583), ([6, 7, 9, 10], 49569), ([6, 7, 9, 10], 49293), ([6, 7, 9, 10], 48470), ([6, 7, 9, 10], 47511), ([7, 8, 10, 11], 49571), ([7, 8, 10, 11], 49455), ([7, 8, 10, 11], 49323), ([7, 8, 10, 11], 49068), ([7, 8, 10, 11], 48582)]\n",
      "[([8, 9, 11, 12], 10), ([9, 10, 12, 13], 11), ([10, 11, 13, 14], 12), ([11, 12, 14, 15], 13), ([12, 13, 15, 24794], 14), ([13, 14, 24794, 24794], 15), ([24794, 24794, 4, 16], 3), ([24794, 3, 16, 17], 4), ([3, 4, 17, 18], 16), ([4, 16, 18, 19], 17)]\n",
      "[(['recent', 'primary', 'produced', 'evidence'], 'election'), (['primary', 'election', 'evidence', 'irregularities'], 'produced'), (['election', 'produced', 'irregularities', 'took'], 'evidence'), (['produced', 'evidence', 'took', 'place'], 'irregularities'), (['evidence', 'irregularities', 'place'], 'took'), (['irregularities', 'took'], 'place'), (['said', 'termend'], 'jury'), (['jury', 'termend', 'presentments'], 'said'), (['jury', 'said', 'presentments', 'city'], 'termend'), (['said', 'termend', 'city', 'executive'], 'presentments')]\n",
      "gomez\n"
     ]
    }
   ],
   "source": [
    "from collections import deque\n",
    "import nltk\n",
    "import re\n",
    "from nltk.corpus import brown\n",
    "from nltk.corpus import gutenberg\n",
    "nltk.download('gutenberg')\n",
    "nltk.download('stopwords')\n",
    "nltk.download('brown')\n",
    "nltk.download('punkt')\n",
    "\n",
    "\n",
    "class InputData:\n",
    "    def __init__(self, sentences):\n",
    "        self.sentences = sentences\n",
    "        self.normalize()\n",
    "        self.counter = 0\n",
    "        self.wordId_frequency_dict = dict()\n",
    "        self.word_count = 0  # Number of words (repeated words only count as 1)\n",
    "        self.word_count_sum = 0  # Total number of words (the number of repeated words also accumulates)\n",
    "        self.sentence_count = 0  # Number of sentences\n",
    "        self.id2word_dict = dict()\n",
    "        self.word2id_dict = dict()\n",
    "        self._init_dict()  # Initialize the dictionary\n",
    "        self.huffman_tree = HuffmanTree(self.wordId_frequency_dict)  # Hoffman Tree\n",
    "        self.huffman_pos_path, self.huffman_neg_path = self.huffman_tree.get_all_pos_and_neg_path()\n",
    "        self.word_pairs_queue = deque()\n",
    "\n",
    "        print('Word Count is:', self.word_count)\n",
    "        print('Word Count Sum is', self.word_count_sum)\n",
    "        print('Sentence Count is:', self.sentence_count)\n",
    "        print('Tree Node is:', len(self.huffman_tree.huffman))\n",
    "\n",
    "    def normalize(self):\n",
    "      stop_words = nltk.corpus.stopwords.words('english')\n",
    "      norm_sentences_word_list = []\n",
    "      for word_list in self.sentences:\n",
    "        sentence = \" \".join(word for word in word_list)\n",
    "        sentence = re.sub(r'[^a-zA-Z\\s]', '', sentence)\n",
    "        sentence = sentence.lower()\n",
    "        sentence = re.sub(' +', ' ', sentence)\n",
    "        sentence = sentence.strip()\n",
    "        norm_word_list = sentence.split(' ')\n",
    "        norm_word_list = [word for word in norm_word_list if word not in stop_words]\n",
    "        if(len(norm_word_list) > 1):\n",
    "          norm_sentences_word_list.append(norm_word_list)\n",
    "        \n",
    "      # print(self.sentences[5286])\n",
    "      # print(norm_sentences_word_list[5274])  \n",
    "      self.sentences = norm_sentences_word_list\n",
    "\n",
    "    def _init_dict(self):\n",
    "        word_freq = dict()\n",
    "        for word_list in self.sentences:\n",
    "            self.word_count_sum += len(word_list)\n",
    "            self.sentence_count += 1\n",
    "            for word in word_list:\n",
    "                try:\n",
    "                    word_freq[word] += 1\n",
    "                except:\n",
    "                    word_freq[word] = 1\n",
    "        word_id = 0\n",
    "        # Initialize word2id_dict, id2word_dict, wordId_frequency_dict dictionary\n",
    "        for per_word, per_count in word_freq.items():\n",
    "            self.id2word_dict[word_id] = per_word\n",
    "            self.word2id_dict[per_word] = word_id\n",
    "            self.wordId_frequency_dict[word_id] = per_count\n",
    "            word_id += 1\n",
    "        self.word_count = len(self.word2id_dict)\n",
    "\n",
    "    def generate_context_word_pairs(self, window_size):\n",
    "      self.counter += 1\n",
    "      if not self.sentences[20*(self.counter-1):20*self.counter]:\n",
    "        self.counter = 1\n",
    "        self.word_pairs_queue.clear()\n",
    "      sub_wids = [[self.word2id_dict[word] for word in word_list] for word_list in self.sentences[20*(self.counter-1):20*self.counter]]\n",
    "      context_length = window_size*2\n",
    "      for words in sub_wids:\n",
    "          sentence_length = len(words)\n",
    "          for index, word in enumerate(words):         \n",
    "              start = index - window_size\n",
    "              end = index + window_size + 1\n",
    "\n",
    "              context_words = []\n",
    "              for i in range(start, end):\n",
    "                  if 0 <= i < sentence_length and i != index:\n",
    "                    context_words.append(words[i])\n",
    "                  elif i < 0 or i >= sentence_length:\n",
    "                    context_words.append(self.word_count)\n",
    "\n",
    "              self.word_pairs_queue.append((context_words,word))\n",
    "\n",
    "\n",
    "    def get_batch_pairs(self, batch_size, window_size):\n",
    "\n",
    "        while len(self.word_pairs_queue) < batch_size:\n",
    "          self.generate_context_word_pairs(window_size)\n",
    "\n",
    "        result_pairs = []  # Returns the positive sample pair of mini-batch size\n",
    "        for _ in range(batch_size):\n",
    "            result_pairs.append(self.word_pairs_queue.popleft())\n",
    "        return result_pairs\n",
    "\n",
    "    def get_pairs(self, pos_pairs):\n",
    "        neg_word_pair = []\n",
    "        pos_word_pair = []\n",
    "        for pair in pos_pairs:\n",
    "            pos_word_pair += zip([pair[0]] * len(self.huffman_pos_path[pair[1]]), self.huffman_pos_path[pair[1]])\n",
    "            neg_word_pair += zip([pair[0]] * len(self.huffman_neg_path[pair[1]]), self.huffman_neg_path[pair[1]])\n",
    "        return pos_word_pair, neg_word_pair\n",
    "\n",
    "\n",
    "    def evaluate_pairs_count(self):\n",
    "        return self.word_count_sum\n",
    "\n",
    "\n",
    "# Test all methods\n",
    "def test():\n",
    "    sentences = brown.sents(categories=['news','reviews','humor','hobbies','fiction'])\n",
    "    test_data = InputData(sentences)\n",
    "    pos_pairs = test_data.get_batch_pairs(10, 2)\n",
    "    print(sentences[0])\n",
    "    print(sentences[1])\n",
    "    print(pos_pairs)\n",
    "    pos_word_pairs = []\n",
    "    for pair in pos_pairs:\n",
    "        pos_word_pairs.append(([test_data.id2word_dict[i] for i in pair[0] if i != test_data.word_count], test_data.id2word_dict[pair[1]]))\n",
    "    print(pos_word_pairs)\n",
    "    print('')\n",
    "    print(test_data.huffman_pos_path[0])\n",
    "    print(test_data.huffman_neg_path[0])\n",
    "    pos, neg = test_data.get_pairs(pos_pairs)\n",
    "    print(pos)\n",
    "    print(neg)\n",
    "\n",
    "    pos_word_pairs = []\n",
    "    pos_pairs = test_data.get_batch_pairs(10, 2)\n",
    "    for pair in pos_pairs:\n",
    "        pos_word_pairs.append(([test_data.id2word_dict[i] for i in pair[0] if i != test_data.word_count], test_data.id2word_dict[pair[1]]))\n",
    "    print(pos_pairs)\n",
    "    print(pos_word_pairs)\n",
    "\n",
    "    print(test_data.id2word_dict[4846])\n",
    "\n",
    "\n",
    "if __name__ == '__main__':\n",
    "    test()"
   ]
  },
  {
   "cell_type": "code",
   "execution_count": 3,
   "metadata": {
    "colab": {
     "base_uri": "https://localhost:8080/"
    },
    "executionInfo": {
     "elapsed": 5838,
     "status": "ok",
     "timestamp": 1639649515191,
     "user": {
      "displayName": "moghis fereidouni",
      "photoUrl": "https://lh3.googleusercontent.com/a-/AOh14GjVlp_EUmsYa2wET4sH8v8ttME5Wjz5knmZivaz=s64",
      "userId": "04154357719458086941"
     },
     "user_tz": -210
    },
    "id": "jrBu1I1KEpDB",
    "outputId": "e35933b8-0274-449b-fe1a-dc101693c8b6"
   },
   "outputs": [
    {
     "name": "stdout",
     "output_type": "stream",
     "text": [
      "(5, 5)\n"
     ]
    }
   ],
   "source": [
    "import torch\n",
    "import torch.nn as nn\n",
    "import torch.nn.functional as F\n",
    "import numpy as np\n",
    "from sklearn.metrics.pairwise import euclidean_distances\n",
    "\n",
    "\n",
    "class CBOWModel(nn.Module):\n",
    "    def __init__(self, emb_size, emb_dimension):\n",
    "        super(CBOWModel, self).__init__()\n",
    "        self.emb_size = emb_size\n",
    "        self.emb_dimension = emb_dimension\n",
    "        self.u_embeddings = nn.Embedding(2*self.emb_size-1, self.emb_dimension, sparse=True)  # Define the embedded dictionary for the input word\n",
    "        self.w_embeddings = nn.Embedding(2*self.emb_size-1, self.emb_dimension, sparse=True)  # Define the embedded dictionary for the output word\n",
    "        self._init_embedding()  # initialization\n",
    "\n",
    "    def _init_embedding(self):\n",
    "        int_range = 0.5 / self.emb_dimension\n",
    "        self.u_embeddings.weight.data.uniform_(-int_range, int_range)\n",
    "        self.w_embeddings.weight.data.uniform_(-0, 0)\n",
    "\n",
    "    def compute_context_matrix(self, u):\n",
    "        pos_u_emb = self.u_embeddings(torch.LongTensor(u))\n",
    "        pos_u_emb = torch.mean(pos_u_emb, 1, True)\n",
    "        pos_u_emb = pos_u_emb.squeeze()\n",
    "\n",
    "        return pos_u_emb\n",
    "\n",
    "    def forward(self, pos_u, pos_w, neg_u, neg_w):\n",
    "        pos_u_emb = self.compute_context_matrix(pos_u)\n",
    "        pos_w_emb = self.w_embeddings(torch.LongTensor(pos_w))\n",
    "        neg_u_emb = self.compute_context_matrix(neg_u)\n",
    "        neg_w_emb = self.w_embeddings(torch.LongTensor(neg_w))\n",
    "\n",
    "        score_1 = torch.mul(pos_u_emb, pos_w_emb).squeeze()\n",
    "        score_2 = torch.sum(score_1, dim=1)\n",
    "        score_3 = F.logsigmoid(score_2)\n",
    "        neg_score_1 = torch.mul(neg_u_emb, neg_w_emb).squeeze()\n",
    "        neg_score_2 = torch.sum(neg_score_1, dim=1)\n",
    "        neg_score_3 = F.logsigmoid(-1 * neg_score_2)\n",
    "\n",
    "        loss = torch.sum(score_3) + torch.sum(neg_score_3)\n",
    "        return -1 * loss\n",
    "\n",
    "    def distance_matrix(self, word_count):\n",
    "        embedding = self.u_embeddings.weight.data.numpy()[:word_count]\n",
    "        distance_matrix = euclidean_distances(embedding)\n",
    "        return distance_matrix\n",
    "\n",
    "\n",
    "def test():\n",
    "    model = CBOWModel(100, 10)\n",
    "\n",
    "    pos_u = [[9, 1, 2, 3],[0, 1, 2, 3]]\n",
    "    pos_w = [50, 70]\n",
    "    neg_u = [[9, 1, 2, 3],[0, 1, 2, 3]]\n",
    "    neg_w = [30, 42]\n",
    "    model.forward(pos_u, pos_w, neg_u, neg_w)\n",
    "    distance_matrix = model.distance_matrix(5)\n",
    "    print(distance_matrix.shape)\n",
    "\n",
    "\n",
    "if __name__ == '__main__':\n",
    "    test()"
   ]
  },
  {
   "cell_type": "code",
   "execution_count": 189,
   "metadata": {
    "executionInfo": {
     "elapsed": 403,
     "status": "ok",
     "timestamp": 1639665203281,
     "user": {
      "displayName": "moghis fereidouni",
      "photoUrl": "https://lh3.googleusercontent.com/a-/AOh14GjVlp_EUmsYa2wET4sH8v8ttME5Wjz5knmZivaz=s64",
      "userId": "04154357719458086941"
     },
     "user_tz": -210
    },
    "id": "RASy935IDyTm"
   },
   "outputs": [],
   "source": [
    "import torch.optim as optim\n",
    "from tqdm import tqdm\n",
    "from torch.optim.lr_scheduler import LambdaLR\n",
    "\n",
    "# hyper parameters\n",
    "WINDOW_SIZE = 2 \n",
    "BATCH_SIZE = 1000  # mini-batch\n",
    "EMB_DIMENSION = 100  # embedding dimension\n",
    "LR = 0.01  # Learning rate\n",
    "\n",
    "\n",
    "class Word2Vec:\n",
    "    def __init__(self,sentences):\n",
    "        self.data = InputData(sentences)\n",
    "        self.model = CBOWModel(self.data.word_count, EMB_DIMENSION)\n",
    "        self.lr = LR\n",
    "        self.optimizer = optim.SGD(self.model.parameters(), lr=self.lr)\n",
    "        lambda1 = lambda epoch: 0.99 ** epoch\n",
    "        self.scheduler = LambdaLR(self.optimizer, lr_lambda=lambda1)\n",
    "\n",
    "    def train(self):\n",
    "        print(\"CBOW Training......\")\n",
    "        pairs_count = self.data.evaluate_pairs_count()\n",
    "        print(\"pairs_count\", pairs_count)\n",
    "        batch_count = pairs_count / BATCH_SIZE\n",
    "        print(\"batch_count\", batch_count)\n",
    "        for epoch in range(1,51):\n",
    "            mean_loss = 0\n",
    "            process_bar = tqdm(range(int(batch_count)))\n",
    "            for i in process_bar:\n",
    "                pos_pairs = self.data.get_batch_pairs(BATCH_SIZE, WINDOW_SIZE)\n",
    "                pos_pairs, neg_pairs = self.data.get_pairs(pos_pairs)\n",
    "\n",
    "                pos_u = [pair[0] for pair in pos_pairs]\n",
    "                pos_v = [int(pair[1]) for pair in pos_pairs]\n",
    "                neg_u = [pair[0] for pair in neg_pairs]\n",
    "                neg_v = [int(pair[1]) for pair in neg_pairs]\n",
    "\n",
    "                self.optimizer.zero_grad()\n",
    "                loss = self.model.forward(pos_u,pos_v,neg_u,neg_v)\n",
    "                loss.backward()\n",
    "                self.optimizer.step()\n",
    "                mean_loss += loss\n",
    "\n",
    "            print(\"epoch:\",epoch,\"loss:\",mean_loss/int(batch_count))\n",
    "            self.scheduler.step()\n",
    "\n",
    "    def get_distance_matrix(self):\n",
    "        distance_matrix = self.model.distance_matrix(self.data.word_count)\n",
    "        return distance_matrix\n",
    "\n",
    "#def run():\n",
    "    #sentences = brown.sents(categories=['news','reviews','humor','hobbies'])\n",
    "    #w2v = Word2Vec(sentences)\n",
    "    #w2v.train()\n",
    "    \n",
    "    #result = w2v.similar_words(['government','church','children','car','tax','food','election'])\n",
    "\n",
    "    #print(result)            \n",
    "\n",
    "\n",
    "#if __name__ == '__main__':\n",
    "#    run()"
   ]
  },
  {
   "cell_type": "code",
   "execution_count": 190,
   "metadata": {
    "colab": {
     "base_uri": "https://localhost:8080/"
    },
    "executionInfo": {
     "elapsed": 63989,
     "status": "ok",
     "timestamp": 1639665270204,
     "user": {
      "displayName": "moghis fereidouni",
      "photoUrl": "https://lh3.googleusercontent.com/a-/AOh14GjVlp_EUmsYa2wET4sH8v8ttME5Wjz5knmZivaz=s64",
      "userId": "04154357719458086941"
     },
     "user_tz": -210
    },
    "id": "ndkrLkLhynWq",
    "outputId": "1d96b594-02a0-477c-ec42-7f8bf519f196"
   },
   "outputs": [
    {
     "name": "stdout",
     "output_type": "stream",
     "text": [
      "Word Count is: 24616\n",
      "Word Count Sum is 170964\n",
      "Sentence Count is: 17106\n",
      "Tree Node is: 49231\n"
     ]
    }
   ],
   "source": [
    "sentences = brown.sents(categories=['news','reviews','government','hobbies','romance'])\n",
    "w2v = Word2Vec(sentences)"
   ]
  },
  {
   "cell_type": "code",
   "execution_count": 191,
   "metadata": {
    "colab": {
     "base_uri": "https://localhost:8080/"
    },
    "executionInfo": {
     "elapsed": 797104,
     "status": "ok",
     "timestamp": 1639666072697,
     "user": {
      "displayName": "moghis fereidouni",
      "photoUrl": "https://lh3.googleusercontent.com/a-/AOh14GjVlp_EUmsYa2wET4sH8v8ttME5Wjz5knmZivaz=s64",
      "userId": "04154357719458086941"
     },
     "user_tz": -210
    },
    "id": "V_aNo2Oefp3n",
    "outputId": "cefa9e3a-4fcb-4667-ed25-898453c77d5b"
   },
   "outputs": [
    {
     "name": "stdout",
     "output_type": "stream",
     "text": [
      "CBOW Training......\n",
      "pairs_count 170964\n",
      "batch_count 170.964\n"
     ]
    },
    {
     "name": "stderr",
     "output_type": "stream",
     "text": [
      "100%|██████████| 170/170 [00:17<00:00,  9.90it/s]\n"
     ]
    },
    {
     "name": "stdout",
     "output_type": "stream",
     "text": [
      "epoch: 1 loss: tensor(8841.2080, grad_fn=<DivBackward0>)\n"
     ]
    },
    {
     "name": "stderr",
     "output_type": "stream",
     "text": [
      "100%|██████████| 170/170 [00:15<00:00, 10.65it/s]\n"
     ]
    },
    {
     "name": "stdout",
     "output_type": "stream",
     "text": [
      "epoch: 2 loss: tensor(8810.0869, grad_fn=<DivBackward0>)\n"
     ]
    },
    {
     "name": "stderr",
     "output_type": "stream",
     "text": [
      "100%|██████████| 170/170 [00:15<00:00, 10.72it/s]\n"
     ]
    },
    {
     "name": "stdout",
     "output_type": "stream",
     "text": [
      "epoch: 3 loss: tensor(8780.3594, grad_fn=<DivBackward0>)\n"
     ]
    },
    {
     "name": "stderr",
     "output_type": "stream",
     "text": [
      "100%|██████████| 170/170 [00:15<00:00, 10.66it/s]\n"
     ]
    },
    {
     "name": "stdout",
     "output_type": "stream",
     "text": [
      "epoch: 4 loss: tensor(8755.3984, grad_fn=<DivBackward0>)\n"
     ]
    },
    {
     "name": "stderr",
     "output_type": "stream",
     "text": [
      "100%|██████████| 170/170 [00:15<00:00, 10.63it/s]\n"
     ]
    },
    {
     "name": "stdout",
     "output_type": "stream",
     "text": [
      "epoch: 5 loss: tensor(8732.7959, grad_fn=<DivBackward0>)\n"
     ]
    },
    {
     "name": "stderr",
     "output_type": "stream",
     "text": [
      "100%|██████████| 170/170 [00:16<00:00, 10.52it/s]\n"
     ]
    },
    {
     "name": "stdout",
     "output_type": "stream",
     "text": [
      "epoch: 6 loss: tensor(8711.9150, grad_fn=<DivBackward0>)\n"
     ]
    },
    {
     "name": "stderr",
     "output_type": "stream",
     "text": [
      "100%|██████████| 170/170 [00:15<00:00, 10.79it/s]\n"
     ]
    },
    {
     "name": "stdout",
     "output_type": "stream",
     "text": [
      "epoch: 7 loss: tensor(8686.6914, grad_fn=<DivBackward0>)\n"
     ]
    },
    {
     "name": "stderr",
     "output_type": "stream",
     "text": [
      "100%|██████████| 170/170 [00:16<00:00, 10.19it/s]\n"
     ]
    },
    {
     "name": "stdout",
     "output_type": "stream",
     "text": [
      "epoch: 8 loss: tensor(8657.7236, grad_fn=<DivBackward0>)\n"
     ]
    },
    {
     "name": "stderr",
     "output_type": "stream",
     "text": [
      "100%|██████████| 170/170 [00:16<00:00, 10.04it/s]\n"
     ]
    },
    {
     "name": "stdout",
     "output_type": "stream",
     "text": [
      "epoch: 9 loss: tensor(8625.7793, grad_fn=<DivBackward0>)\n"
     ]
    },
    {
     "name": "stderr",
     "output_type": "stream",
     "text": [
      "100%|██████████| 170/170 [00:16<00:00, 10.36it/s]\n"
     ]
    },
    {
     "name": "stdout",
     "output_type": "stream",
     "text": [
      "epoch: 10 loss: tensor(8595.2041, grad_fn=<DivBackward0>)\n"
     ]
    },
    {
     "name": "stderr",
     "output_type": "stream",
     "text": [
      "100%|██████████| 170/170 [00:15<00:00, 10.77it/s]\n"
     ]
    },
    {
     "name": "stdout",
     "output_type": "stream",
     "text": [
      "epoch: 11 loss: tensor(8560.6621, grad_fn=<DivBackward0>)\n"
     ]
    },
    {
     "name": "stderr",
     "output_type": "stream",
     "text": [
      "100%|██████████| 170/170 [00:16<00:00, 10.62it/s]\n"
     ]
    },
    {
     "name": "stdout",
     "output_type": "stream",
     "text": [
      "epoch: 12 loss: tensor(8523.9795, grad_fn=<DivBackward0>)\n"
     ]
    },
    {
     "name": "stderr",
     "output_type": "stream",
     "text": [
      "100%|██████████| 170/170 [00:16<00:00, 10.44it/s]\n"
     ]
    },
    {
     "name": "stdout",
     "output_type": "stream",
     "text": [
      "epoch: 13 loss: tensor(8492.6328, grad_fn=<DivBackward0>)\n"
     ]
    },
    {
     "name": "stderr",
     "output_type": "stream",
     "text": [
      "100%|██████████| 170/170 [00:16<00:00, 10.62it/s]\n"
     ]
    },
    {
     "name": "stdout",
     "output_type": "stream",
     "text": [
      "epoch: 14 loss: tensor(8469.0488, grad_fn=<DivBackward0>)\n"
     ]
    },
    {
     "name": "stderr",
     "output_type": "stream",
     "text": [
      "100%|██████████| 170/170 [00:15<00:00, 10.91it/s]\n"
     ]
    },
    {
     "name": "stdout",
     "output_type": "stream",
     "text": [
      "epoch: 15 loss: tensor(8426.6807, grad_fn=<DivBackward0>)\n"
     ]
    },
    {
     "name": "stderr",
     "output_type": "stream",
     "text": [
      "100%|██████████| 170/170 [00:15<00:00, 10.69it/s]\n"
     ]
    },
    {
     "name": "stdout",
     "output_type": "stream",
     "text": [
      "epoch: 16 loss: tensor(8391.4424, grad_fn=<DivBackward0>)\n"
     ]
    },
    {
     "name": "stderr",
     "output_type": "stream",
     "text": [
      "100%|██████████| 170/170 [00:15<00:00, 10.70it/s]\n"
     ]
    },
    {
     "name": "stdout",
     "output_type": "stream",
     "text": [
      "epoch: 17 loss: tensor(8351.0381, grad_fn=<DivBackward0>)\n"
     ]
    },
    {
     "name": "stderr",
     "output_type": "stream",
     "text": [
      "100%|██████████| 170/170 [00:15<00:00, 10.90it/s]\n"
     ]
    },
    {
     "name": "stdout",
     "output_type": "stream",
     "text": [
      "epoch: 18 loss: tensor(8314.6299, grad_fn=<DivBackward0>)\n"
     ]
    },
    {
     "name": "stderr",
     "output_type": "stream",
     "text": [
      "100%|██████████| 170/170 [00:15<00:00, 10.64it/s]\n"
     ]
    },
    {
     "name": "stdout",
     "output_type": "stream",
     "text": [
      "epoch: 19 loss: tensor(8281.6641, grad_fn=<DivBackward0>)\n"
     ]
    },
    {
     "name": "stderr",
     "output_type": "stream",
     "text": [
      "100%|██████████| 170/170 [00:15<00:00, 10.65it/s]\n"
     ]
    },
    {
     "name": "stdout",
     "output_type": "stream",
     "text": [
      "epoch: 20 loss: tensor(8235.2422, grad_fn=<DivBackward0>)\n"
     ]
    },
    {
     "name": "stderr",
     "output_type": "stream",
     "text": [
      "100%|██████████| 170/170 [00:16<00:00, 10.60it/s]\n"
     ]
    },
    {
     "name": "stdout",
     "output_type": "stream",
     "text": [
      "epoch: 21 loss: tensor(8199.5020, grad_fn=<DivBackward0>)\n"
     ]
    },
    {
     "name": "stderr",
     "output_type": "stream",
     "text": [
      "100%|██████████| 170/170 [00:15<00:00, 10.87it/s]\n"
     ]
    },
    {
     "name": "stdout",
     "output_type": "stream",
     "text": [
      "epoch: 22 loss: tensor(8159.7983, grad_fn=<DivBackward0>)\n"
     ]
    },
    {
     "name": "stderr",
     "output_type": "stream",
     "text": [
      "100%|██████████| 170/170 [00:16<00:00, 10.61it/s]\n"
     ]
    },
    {
     "name": "stdout",
     "output_type": "stream",
     "text": [
      "epoch: 23 loss: tensor(8112.0059, grad_fn=<DivBackward0>)\n"
     ]
    },
    {
     "name": "stderr",
     "output_type": "stream",
     "text": [
      "100%|██████████| 170/170 [00:15<00:00, 10.67it/s]\n"
     ]
    },
    {
     "name": "stdout",
     "output_type": "stream",
     "text": [
      "epoch: 24 loss: tensor(8076.7905, grad_fn=<DivBackward0>)\n"
     ]
    },
    {
     "name": "stderr",
     "output_type": "stream",
     "text": [
      "100%|██████████| 170/170 [00:15<00:00, 10.67it/s]\n"
     ]
    },
    {
     "name": "stdout",
     "output_type": "stream",
     "text": [
      "epoch: 25 loss: tensor(8036.3833, grad_fn=<DivBackward0>)\n"
     ]
    },
    {
     "name": "stderr",
     "output_type": "stream",
     "text": [
      "100%|██████████| 170/170 [00:15<00:00, 10.91it/s]\n"
     ]
    },
    {
     "name": "stdout",
     "output_type": "stream",
     "text": [
      "epoch: 26 loss: tensor(7977.1748, grad_fn=<DivBackward0>)\n"
     ]
    },
    {
     "name": "stderr",
     "output_type": "stream",
     "text": [
      "100%|██████████| 170/170 [00:15<00:00, 10.67it/s]\n"
     ]
    },
    {
     "name": "stdout",
     "output_type": "stream",
     "text": [
      "epoch: 27 loss: tensor(7939.7554, grad_fn=<DivBackward0>)\n"
     ]
    },
    {
     "name": "stderr",
     "output_type": "stream",
     "text": [
      "100%|██████████| 170/170 [00:15<00:00, 10.66it/s]\n"
     ]
    },
    {
     "name": "stdout",
     "output_type": "stream",
     "text": [
      "epoch: 28 loss: tensor(7896.9023, grad_fn=<DivBackward0>)\n"
     ]
    },
    {
     "name": "stderr",
     "output_type": "stream",
     "text": [
      "100%|██████████| 170/170 [00:15<00:00, 10.71it/s]\n"
     ]
    },
    {
     "name": "stdout",
     "output_type": "stream",
     "text": [
      "epoch: 29 loss: tensor(7866.6274, grad_fn=<DivBackward0>)\n"
     ]
    },
    {
     "name": "stderr",
     "output_type": "stream",
     "text": [
      "100%|██████████| 170/170 [00:15<00:00, 10.94it/s]\n"
     ]
    },
    {
     "name": "stdout",
     "output_type": "stream",
     "text": [
      "epoch: 30 loss: tensor(7811.5044, grad_fn=<DivBackward0>)\n"
     ]
    },
    {
     "name": "stderr",
     "output_type": "stream",
     "text": [
      "100%|██████████| 170/170 [00:15<00:00, 10.72it/s]\n"
     ]
    },
    {
     "name": "stdout",
     "output_type": "stream",
     "text": [
      "epoch: 31 loss: tensor(7763.9780, grad_fn=<DivBackward0>)\n"
     ]
    },
    {
     "name": "stderr",
     "output_type": "stream",
     "text": [
      "100%|██████████| 170/170 [00:15<00:00, 10.70it/s]\n"
     ]
    },
    {
     "name": "stdout",
     "output_type": "stream",
     "text": [
      "epoch: 32 loss: tensor(7721.4404, grad_fn=<DivBackward0>)\n"
     ]
    },
    {
     "name": "stderr",
     "output_type": "stream",
     "text": [
      "100%|██████████| 170/170 [00:15<00:00, 10.73it/s]\n"
     ]
    },
    {
     "name": "stdout",
     "output_type": "stream",
     "text": [
      "epoch: 33 loss: tensor(7660.0801, grad_fn=<DivBackward0>)\n"
     ]
    },
    {
     "name": "stderr",
     "output_type": "stream",
     "text": [
      "100%|██████████| 170/170 [00:15<00:00, 10.95it/s]\n"
     ]
    },
    {
     "name": "stdout",
     "output_type": "stream",
     "text": [
      "epoch: 34 loss: tensor(7640.9316, grad_fn=<DivBackward0>)\n"
     ]
    },
    {
     "name": "stderr",
     "output_type": "stream",
     "text": [
      "100%|██████████| 170/170 [00:15<00:00, 10.72it/s]\n"
     ]
    },
    {
     "name": "stdout",
     "output_type": "stream",
     "text": [
      "epoch: 35 loss: tensor(7579.2168, grad_fn=<DivBackward0>)\n"
     ]
    },
    {
     "name": "stderr",
     "output_type": "stream",
     "text": [
      "100%|██████████| 170/170 [00:15<00:00, 10.68it/s]\n"
     ]
    },
    {
     "name": "stdout",
     "output_type": "stream",
     "text": [
      "epoch: 36 loss: tensor(7527.4028, grad_fn=<DivBackward0>)\n"
     ]
    },
    {
     "name": "stderr",
     "output_type": "stream",
     "text": [
      "100%|██████████| 170/170 [00:15<00:00, 10.95it/s]\n"
     ]
    },
    {
     "name": "stdout",
     "output_type": "stream",
     "text": [
      "epoch: 37 loss: tensor(7474.0015, grad_fn=<DivBackward0>)\n"
     ]
    },
    {
     "name": "stderr",
     "output_type": "stream",
     "text": [
      "100%|██████████| 170/170 [00:15<00:00, 10.71it/s]\n"
     ]
    },
    {
     "name": "stdout",
     "output_type": "stream",
     "text": [
      "epoch: 38 loss: tensor(7423.4414, grad_fn=<DivBackward0>)\n"
     ]
    },
    {
     "name": "stderr",
     "output_type": "stream",
     "text": [
      "100%|██████████| 170/170 [00:15<00:00, 10.72it/s]\n"
     ]
    },
    {
     "name": "stdout",
     "output_type": "stream",
     "text": [
      "epoch: 39 loss: tensor(7378.1914, grad_fn=<DivBackward0>)\n"
     ]
    },
    {
     "name": "stderr",
     "output_type": "stream",
     "text": [
      "100%|██████████| 170/170 [00:15<00:00, 10.66it/s]\n"
     ]
    },
    {
     "name": "stdout",
     "output_type": "stream",
     "text": [
      "epoch: 40 loss: tensor(7353.5796, grad_fn=<DivBackward0>)\n"
     ]
    },
    {
     "name": "stderr",
     "output_type": "stream",
     "text": [
      "100%|██████████| 170/170 [00:15<00:00, 10.69it/s]\n"
     ]
    },
    {
     "name": "stdout",
     "output_type": "stream",
     "text": [
      "epoch: 41 loss: tensor(7276.7256, grad_fn=<DivBackward0>)\n"
     ]
    },
    {
     "name": "stderr",
     "output_type": "stream",
     "text": [
      "100%|██████████| 170/170 [00:15<00:00, 10.96it/s]\n"
     ]
    },
    {
     "name": "stdout",
     "output_type": "stream",
     "text": [
      "epoch: 42 loss: tensor(7238.9609, grad_fn=<DivBackward0>)\n"
     ]
    },
    {
     "name": "stderr",
     "output_type": "stream",
     "text": [
      "100%|██████████| 170/170 [00:15<00:00, 10.67it/s]\n"
     ]
    },
    {
     "name": "stdout",
     "output_type": "stream",
     "text": [
      "epoch: 43 loss: tensor(7206.8027, grad_fn=<DivBackward0>)\n"
     ]
    },
    {
     "name": "stderr",
     "output_type": "stream",
     "text": [
      "100%|██████████| 170/170 [00:15<00:00, 10.77it/s]\n"
     ]
    },
    {
     "name": "stdout",
     "output_type": "stream",
     "text": [
      "epoch: 44 loss: tensor(7144.5244, grad_fn=<DivBackward0>)\n"
     ]
    },
    {
     "name": "stderr",
     "output_type": "stream",
     "text": [
      "100%|██████████| 170/170 [00:15<00:00, 10.68it/s]\n"
     ]
    },
    {
     "name": "stdout",
     "output_type": "stream",
     "text": [
      "epoch: 45 loss: tensor(7103.2964, grad_fn=<DivBackward0>)\n"
     ]
    },
    {
     "name": "stderr",
     "output_type": "stream",
     "text": [
      "100%|██████████| 170/170 [00:15<00:00, 10.89it/s]\n"
     ]
    },
    {
     "name": "stdout",
     "output_type": "stream",
     "text": [
      "epoch: 46 loss: tensor(7048.5264, grad_fn=<DivBackward0>)\n"
     ]
    },
    {
     "name": "stderr",
     "output_type": "stream",
     "text": [
      "100%|██████████| 170/170 [00:15<00:00, 10.66it/s]\n"
     ]
    },
    {
     "name": "stdout",
     "output_type": "stream",
     "text": [
      "epoch: 47 loss: tensor(6994.1045, grad_fn=<DivBackward0>)\n"
     ]
    },
    {
     "name": "stderr",
     "output_type": "stream",
     "text": [
      "100%|██████████| 170/170 [00:15<00:00, 10.70it/s]\n"
     ]
    },
    {
     "name": "stdout",
     "output_type": "stream",
     "text": [
      "epoch: 48 loss: tensor(6950.0889, grad_fn=<DivBackward0>)\n"
     ]
    },
    {
     "name": "stderr",
     "output_type": "stream",
     "text": [
      "100%|██████████| 170/170 [00:15<00:00, 10.68it/s]\n"
     ]
    },
    {
     "name": "stdout",
     "output_type": "stream",
     "text": [
      "epoch: 49 loss: tensor(6903.6265, grad_fn=<DivBackward0>)\n"
     ]
    },
    {
     "name": "stderr",
     "output_type": "stream",
     "text": [
      "100%|██████████| 170/170 [00:15<00:00, 10.96it/s]"
     ]
    },
    {
     "name": "stdout",
     "output_type": "stream",
     "text": [
      "epoch: 50 loss: tensor(6862.5098, grad_fn=<DivBackward0>)\n"
     ]
    },
    {
     "name": "stderr",
     "output_type": "stream",
     "text": [
      "\n"
     ]
    }
   ],
   "source": [
    "w2v.train()"
   ]
  },
  {
   "cell_type": "code",
   "execution_count": 234,
   "metadata": {
    "colab": {
     "base_uri": "https://localhost:8080/"
    },
    "executionInfo": {
     "elapsed": 783347,
     "status": "ok",
     "timestamp": 1639668802715,
     "user": {
      "displayName": "moghis fereidouni",
      "photoUrl": "https://lh3.googleusercontent.com/a-/AOh14GjVlp_EUmsYa2wET4sH8v8ttME5Wjz5knmZivaz=s64",
      "userId": "04154357719458086941"
     },
     "user_tz": -210
    },
    "id": "6nEQL3381F9A",
    "outputId": "814bcfbc-f178-4e1a-f054-58821b82df1a"
   },
   "outputs": [
    {
     "name": "stdout",
     "output_type": "stream",
     "text": [
      "CBOW Training......\n",
      "pairs_count 170964\n",
      "batch_count 170.964\n"
     ]
    },
    {
     "name": "stderr",
     "output_type": "stream",
     "text": [
      "100%|██████████| 170/170 [00:16<00:00, 10.45it/s]\n"
     ]
    },
    {
     "name": "stdout",
     "output_type": "stream",
     "text": [
      "epoch: 1 loss: tensor(6822.8618, grad_fn=<DivBackward0>)\n"
     ]
    },
    {
     "name": "stderr",
     "output_type": "stream",
     "text": [
      "100%|██████████| 170/170 [00:15<00:00, 10.70it/s]\n"
     ]
    },
    {
     "name": "stdout",
     "output_type": "stream",
     "text": [
      "epoch: 2 loss: tensor(6776.9663, grad_fn=<DivBackward0>)\n"
     ]
    },
    {
     "name": "stderr",
     "output_type": "stream",
     "text": [
      "100%|██████████| 170/170 [00:15<00:00, 10.86it/s]\n"
     ]
    },
    {
     "name": "stdout",
     "output_type": "stream",
     "text": [
      "epoch: 3 loss: tensor(6728.5425, grad_fn=<DivBackward0>)\n"
     ]
    },
    {
     "name": "stderr",
     "output_type": "stream",
     "text": [
      "100%|██████████| 170/170 [00:15<00:00, 10.81it/s]\n"
     ]
    },
    {
     "name": "stdout",
     "output_type": "stream",
     "text": [
      "epoch: 4 loss: tensor(6681.2227, grad_fn=<DivBackward0>)\n"
     ]
    },
    {
     "name": "stderr",
     "output_type": "stream",
     "text": [
      "100%|██████████| 170/170 [00:15<00:00, 10.75it/s]\n"
     ]
    },
    {
     "name": "stdout",
     "output_type": "stream",
     "text": [
      "epoch: 5 loss: tensor(6636.5571, grad_fn=<DivBackward0>)\n"
     ]
    },
    {
     "name": "stderr",
     "output_type": "stream",
     "text": [
      "100%|██████████| 170/170 [00:15<00:00, 10.75it/s]\n"
     ]
    },
    {
     "name": "stdout",
     "output_type": "stream",
     "text": [
      "epoch: 6 loss: tensor(6586.4272, grad_fn=<DivBackward0>)\n"
     ]
    },
    {
     "name": "stderr",
     "output_type": "stream",
     "text": [
      "100%|██████████| 170/170 [00:15<00:00, 10.72it/s]\n"
     ]
    },
    {
     "name": "stdout",
     "output_type": "stream",
     "text": [
      "epoch: 7 loss: tensor(6541.8926, grad_fn=<DivBackward0>)\n"
     ]
    },
    {
     "name": "stderr",
     "output_type": "stream",
     "text": [
      "100%|██████████| 170/170 [00:15<00:00, 10.80it/s]\n"
     ]
    },
    {
     "name": "stdout",
     "output_type": "stream",
     "text": [
      "epoch: 8 loss: tensor(6487.2227, grad_fn=<DivBackward0>)\n"
     ]
    },
    {
     "name": "stderr",
     "output_type": "stream",
     "text": [
      "100%|██████████| 170/170 [00:15<00:00, 10.74it/s]\n"
     ]
    },
    {
     "name": "stdout",
     "output_type": "stream",
     "text": [
      "epoch: 9 loss: tensor(6456.5132, grad_fn=<DivBackward0>)\n"
     ]
    },
    {
     "name": "stderr",
     "output_type": "stream",
     "text": [
      "100%|██████████| 170/170 [00:15<00:00, 10.96it/s]\n"
     ]
    },
    {
     "name": "stdout",
     "output_type": "stream",
     "text": [
      "epoch: 10 loss: tensor(6420.5566, grad_fn=<DivBackward0>)\n"
     ]
    },
    {
     "name": "stderr",
     "output_type": "stream",
     "text": [
      "100%|██████████| 170/170 [00:15<00:00, 10.91it/s]\n"
     ]
    },
    {
     "name": "stdout",
     "output_type": "stream",
     "text": [
      "epoch: 11 loss: tensor(6363.1567, grad_fn=<DivBackward0>)\n"
     ]
    },
    {
     "name": "stderr",
     "output_type": "stream",
     "text": [
      "100%|██████████| 170/170 [00:15<00:00, 10.70it/s]\n"
     ]
    },
    {
     "name": "stdout",
     "output_type": "stream",
     "text": [
      "epoch: 12 loss: tensor(6338.5376, grad_fn=<DivBackward0>)\n"
     ]
    },
    {
     "name": "stderr",
     "output_type": "stream",
     "text": [
      "100%|██████████| 170/170 [00:15<00:00, 10.90it/s]\n"
     ]
    },
    {
     "name": "stdout",
     "output_type": "stream",
     "text": [
      "epoch: 13 loss: tensor(6295.3848, grad_fn=<DivBackward0>)\n"
     ]
    },
    {
     "name": "stderr",
     "output_type": "stream",
     "text": [
      "100%|██████████| 170/170 [00:15<00:00, 10.95it/s]\n"
     ]
    },
    {
     "name": "stdout",
     "output_type": "stream",
     "text": [
      "epoch: 14 loss: tensor(6238.7412, grad_fn=<DivBackward0>)\n"
     ]
    },
    {
     "name": "stderr",
     "output_type": "stream",
     "text": [
      "100%|██████████| 170/170 [00:15<00:00, 10.91it/s]\n"
     ]
    },
    {
     "name": "stdout",
     "output_type": "stream",
     "text": [
      "epoch: 15 loss: tensor(6212.8950, grad_fn=<DivBackward0>)\n"
     ]
    },
    {
     "name": "stderr",
     "output_type": "stream",
     "text": [
      "100%|██████████| 170/170 [00:15<00:00, 10.91it/s]\n"
     ]
    },
    {
     "name": "stdout",
     "output_type": "stream",
     "text": [
      "epoch: 16 loss: tensor(6175.8101, grad_fn=<DivBackward0>)\n"
     ]
    },
    {
     "name": "stderr",
     "output_type": "stream",
     "text": [
      "100%|██████████| 170/170 [00:15<00:00, 10.86it/s]\n"
     ]
    },
    {
     "name": "stdout",
     "output_type": "stream",
     "text": [
      "epoch: 17 loss: tensor(6145.2563, grad_fn=<DivBackward0>)\n"
     ]
    },
    {
     "name": "stderr",
     "output_type": "stream",
     "text": [
      "100%|██████████| 170/170 [00:15<00:00, 10.76it/s]\n"
     ]
    },
    {
     "name": "stdout",
     "output_type": "stream",
     "text": [
      "epoch: 18 loss: tensor(6084.4404, grad_fn=<DivBackward0>)\n"
     ]
    },
    {
     "name": "stderr",
     "output_type": "stream",
     "text": [
      "100%|██████████| 170/170 [00:15<00:00, 10.94it/s]\n"
     ]
    },
    {
     "name": "stdout",
     "output_type": "stream",
     "text": [
      "epoch: 19 loss: tensor(6058.4414, grad_fn=<DivBackward0>)\n"
     ]
    },
    {
     "name": "stderr",
     "output_type": "stream",
     "text": [
      "100%|██████████| 170/170 [00:15<00:00, 10.95it/s]\n"
     ]
    },
    {
     "name": "stdout",
     "output_type": "stream",
     "text": [
      "epoch: 20 loss: tensor(6011.6333, grad_fn=<DivBackward0>)\n"
     ]
    },
    {
     "name": "stderr",
     "output_type": "stream",
     "text": [
      "100%|██████████| 170/170 [00:15<00:00, 10.83it/s]\n"
     ]
    },
    {
     "name": "stdout",
     "output_type": "stream",
     "text": [
      "epoch: 21 loss: tensor(5996.9009, grad_fn=<DivBackward0>)\n"
     ]
    },
    {
     "name": "stderr",
     "output_type": "stream",
     "text": [
      "100%|██████████| 170/170 [00:15<00:00, 10.90it/s]\n"
     ]
    },
    {
     "name": "stdout",
     "output_type": "stream",
     "text": [
      "epoch: 22 loss: tensor(5952.8589, grad_fn=<DivBackward0>)\n"
     ]
    },
    {
     "name": "stderr",
     "output_type": "stream",
     "text": [
      "100%|██████████| 170/170 [00:15<00:00, 10.97it/s]\n"
     ]
    },
    {
     "name": "stdout",
     "output_type": "stream",
     "text": [
      "epoch: 23 loss: tensor(5923.2637, grad_fn=<DivBackward0>)\n"
     ]
    },
    {
     "name": "stderr",
     "output_type": "stream",
     "text": [
      "100%|██████████| 170/170 [00:15<00:00, 10.97it/s]\n"
     ]
    },
    {
     "name": "stdout",
     "output_type": "stream",
     "text": [
      "epoch: 24 loss: tensor(5877.9985, grad_fn=<DivBackward0>)\n"
     ]
    },
    {
     "name": "stderr",
     "output_type": "stream",
     "text": [
      "100%|██████████| 170/170 [00:15<00:00, 10.87it/s]\n"
     ]
    },
    {
     "name": "stdout",
     "output_type": "stream",
     "text": [
      "epoch: 25 loss: tensor(5835.3218, grad_fn=<DivBackward0>)\n"
     ]
    },
    {
     "name": "stderr",
     "output_type": "stream",
     "text": [
      "100%|██████████| 170/170 [00:15<00:00, 11.00it/s]\n"
     ]
    },
    {
     "name": "stdout",
     "output_type": "stream",
     "text": [
      "epoch: 26 loss: tensor(5799.3154, grad_fn=<DivBackward0>)\n"
     ]
    },
    {
     "name": "stderr",
     "output_type": "stream",
     "text": [
      "100%|██████████| 170/170 [00:15<00:00, 10.97it/s]\n"
     ]
    },
    {
     "name": "stdout",
     "output_type": "stream",
     "text": [
      "epoch: 27 loss: tensor(5762.2046, grad_fn=<DivBackward0>)\n"
     ]
    },
    {
     "name": "stderr",
     "output_type": "stream",
     "text": [
      "100%|██████████| 170/170 [00:15<00:00, 10.95it/s]\n"
     ]
    },
    {
     "name": "stdout",
     "output_type": "stream",
     "text": [
      "epoch: 28 loss: tensor(5725.9902, grad_fn=<DivBackward0>)\n"
     ]
    },
    {
     "name": "stderr",
     "output_type": "stream",
     "text": [
      "100%|██████████| 170/170 [00:15<00:00, 11.01it/s]\n"
     ]
    },
    {
     "name": "stdout",
     "output_type": "stream",
     "text": [
      "epoch: 29 loss: tensor(5718.3262, grad_fn=<DivBackward0>)\n"
     ]
    },
    {
     "name": "stderr",
     "output_type": "stream",
     "text": [
      "100%|██████████| 170/170 [00:15<00:00, 10.96it/s]\n"
     ]
    },
    {
     "name": "stdout",
     "output_type": "stream",
     "text": [
      "epoch: 30 loss: tensor(5682.9409, grad_fn=<DivBackward0>)\n"
     ]
    },
    {
     "name": "stderr",
     "output_type": "stream",
     "text": [
      "100%|██████████| 170/170 [00:15<00:00, 10.86it/s]\n"
     ]
    },
    {
     "name": "stdout",
     "output_type": "stream",
     "text": [
      "epoch: 31 loss: tensor(5637.1162, grad_fn=<DivBackward0>)\n"
     ]
    },
    {
     "name": "stderr",
     "output_type": "stream",
     "text": [
      "100%|██████████| 170/170 [00:15<00:00, 10.91it/s]\n"
     ]
    },
    {
     "name": "stdout",
     "output_type": "stream",
     "text": [
      "epoch: 32 loss: tensor(5606.1875, grad_fn=<DivBackward0>)\n"
     ]
    },
    {
     "name": "stderr",
     "output_type": "stream",
     "text": [
      "100%|██████████| 170/170 [00:15<00:00, 10.96it/s]\n"
     ]
    },
    {
     "name": "stdout",
     "output_type": "stream",
     "text": [
      "epoch: 33 loss: tensor(5570.1470, grad_fn=<DivBackward0>)\n"
     ]
    },
    {
     "name": "stderr",
     "output_type": "stream",
     "text": [
      "100%|██████████| 170/170 [00:15<00:00, 10.93it/s]\n"
     ]
    },
    {
     "name": "stdout",
     "output_type": "stream",
     "text": [
      "epoch: 34 loss: tensor(5541.4102, grad_fn=<DivBackward0>)\n"
     ]
    },
    {
     "name": "stderr",
     "output_type": "stream",
     "text": [
      "100%|██████████| 170/170 [00:15<00:00, 10.98it/s]\n"
     ]
    },
    {
     "name": "stdout",
     "output_type": "stream",
     "text": [
      "epoch: 35 loss: tensor(5519.3867, grad_fn=<DivBackward0>)\n"
     ]
    },
    {
     "name": "stderr",
     "output_type": "stream",
     "text": [
      "100%|██████████| 170/170 [00:15<00:00, 10.78it/s]\n"
     ]
    },
    {
     "name": "stdout",
     "output_type": "stream",
     "text": [
      "epoch: 36 loss: tensor(5491.2104, grad_fn=<DivBackward0>)\n"
     ]
    },
    {
     "name": "stderr",
     "output_type": "stream",
     "text": [
      "100%|██████████| 170/170 [00:15<00:00, 10.96it/s]\n"
     ]
    },
    {
     "name": "stdout",
     "output_type": "stream",
     "text": [
      "epoch: 37 loss: tensor(5461.8906, grad_fn=<DivBackward0>)\n"
     ]
    },
    {
     "name": "stderr",
     "output_type": "stream",
     "text": [
      "100%|██████████| 170/170 [00:15<00:00, 10.95it/s]\n"
     ]
    },
    {
     "name": "stdout",
     "output_type": "stream",
     "text": [
      "epoch: 38 loss: tensor(5446.5991, grad_fn=<DivBackward0>)\n"
     ]
    },
    {
     "name": "stderr",
     "output_type": "stream",
     "text": [
      "100%|██████████| 170/170 [00:15<00:00, 11.00it/s]\n"
     ]
    },
    {
     "name": "stdout",
     "output_type": "stream",
     "text": [
      "epoch: 39 loss: tensor(5408.8521, grad_fn=<DivBackward0>)\n"
     ]
    },
    {
     "name": "stderr",
     "output_type": "stream",
     "text": [
      "100%|██████████| 170/170 [00:15<00:00, 10.91it/s]\n"
     ]
    },
    {
     "name": "stdout",
     "output_type": "stream",
     "text": [
      "epoch: 40 loss: tensor(5372.3643, grad_fn=<DivBackward0>)\n"
     ]
    },
    {
     "name": "stderr",
     "output_type": "stream",
     "text": [
      "100%|██████████| 170/170 [00:15<00:00, 10.96it/s]\n"
     ]
    },
    {
     "name": "stdout",
     "output_type": "stream",
     "text": [
      "epoch: 41 loss: tensor(5357.7842, grad_fn=<DivBackward0>)\n"
     ]
    },
    {
     "name": "stderr",
     "output_type": "stream",
     "text": [
      "100%|██████████| 170/170 [00:15<00:00, 10.93it/s]\n"
     ]
    },
    {
     "name": "stdout",
     "output_type": "stream",
     "text": [
      "epoch: 42 loss: tensor(5321.8516, grad_fn=<DivBackward0>)\n"
     ]
    },
    {
     "name": "stderr",
     "output_type": "stream",
     "text": [
      "100%|██████████| 170/170 [00:15<00:00, 11.00it/s]\n"
     ]
    },
    {
     "name": "stdout",
     "output_type": "stream",
     "text": [
      "epoch: 43 loss: tensor(5291.3784, grad_fn=<DivBackward0>)\n"
     ]
    },
    {
     "name": "stderr",
     "output_type": "stream",
     "text": [
      "100%|██████████| 170/170 [00:15<00:00, 10.73it/s]\n"
     ]
    },
    {
     "name": "stdout",
     "output_type": "stream",
     "text": [
      "epoch: 44 loss: tensor(5267.9795, grad_fn=<DivBackward0>)\n"
     ]
    },
    {
     "name": "stderr",
     "output_type": "stream",
     "text": [
      "100%|██████████| 170/170 [00:15<00:00, 10.89it/s]\n"
     ]
    },
    {
     "name": "stdout",
     "output_type": "stream",
     "text": [
      "epoch: 45 loss: tensor(5251.5186, grad_fn=<DivBackward0>)\n"
     ]
    },
    {
     "name": "stderr",
     "output_type": "stream",
     "text": [
      "100%|██████████| 170/170 [00:15<00:00, 10.88it/s]\n"
     ]
    },
    {
     "name": "stdout",
     "output_type": "stream",
     "text": [
      "epoch: 46 loss: tensor(5216.6216, grad_fn=<DivBackward0>)\n"
     ]
    },
    {
     "name": "stderr",
     "output_type": "stream",
     "text": [
      "100%|██████████| 170/170 [00:15<00:00, 10.87it/s]\n"
     ]
    },
    {
     "name": "stdout",
     "output_type": "stream",
     "text": [
      "epoch: 47 loss: tensor(5203.5552, grad_fn=<DivBackward0>)\n"
     ]
    },
    {
     "name": "stderr",
     "output_type": "stream",
     "text": [
      "100%|██████████| 170/170 [00:15<00:00, 10.78it/s]\n"
     ]
    },
    {
     "name": "stdout",
     "output_type": "stream",
     "text": [
      "epoch: 48 loss: tensor(5171.8374, grad_fn=<DivBackward0>)\n"
     ]
    },
    {
     "name": "stderr",
     "output_type": "stream",
     "text": [
      "100%|██████████| 170/170 [00:15<00:00, 10.68it/s]\n"
     ]
    },
    {
     "name": "stdout",
     "output_type": "stream",
     "text": [
      "epoch: 49 loss: tensor(5152.9751, grad_fn=<DivBackward0>)\n"
     ]
    },
    {
     "name": "stderr",
     "output_type": "stream",
     "text": [
      "100%|██████████| 170/170 [00:15<00:00, 10.85it/s]"
     ]
    },
    {
     "name": "stdout",
     "output_type": "stream",
     "text": [
      "epoch: 50 loss: tensor(5114.2725, grad_fn=<DivBackward0>)\n"
     ]
    },
    {
     "name": "stderr",
     "output_type": "stream",
     "text": [
      "\n"
     ]
    }
   ],
   "source": [
    "w2v.train()"
   ]
  },
  {
   "cell_type": "code",
   "execution_count": 249,
   "metadata": {
    "colab": {
     "base_uri": "https://localhost:8080/"
    },
    "executionInfo": {
     "elapsed": 809772,
     "status": "ok",
     "timestamp": 1639671069857,
     "user": {
      "displayName": "moghis fereidouni",
      "photoUrl": "https://lh3.googleusercontent.com/a-/AOh14GjVlp_EUmsYa2wET4sH8v8ttME5Wjz5knmZivaz=s64",
      "userId": "04154357719458086941"
     },
     "user_tz": -210
    },
    "id": "3X-fAp1d9plT",
    "outputId": "0df3618b-1121-422b-bb6d-1c90d6c8edd7"
   },
   "outputs": [
    {
     "name": "stdout",
     "output_type": "stream",
     "text": [
      "CBOW Training......\n",
      "pairs_count 170964\n",
      "batch_count 170.964\n"
     ]
    },
    {
     "name": "stderr",
     "output_type": "stream",
     "text": [
      "100%|██████████| 170/170 [00:16<00:00, 10.53it/s]\n"
     ]
    },
    {
     "name": "stdout",
     "output_type": "stream",
     "text": [
      "epoch: 1 loss: tensor(5102.5322, grad_fn=<DivBackward0>)\n"
     ]
    },
    {
     "name": "stderr",
     "output_type": "stream",
     "text": [
      "100%|██████████| 170/170 [00:16<00:00, 10.56it/s]\n"
     ]
    },
    {
     "name": "stdout",
     "output_type": "stream",
     "text": [
      "epoch: 2 loss: tensor(5064.4951, grad_fn=<DivBackward0>)\n"
     ]
    },
    {
     "name": "stderr",
     "output_type": "stream",
     "text": [
      "100%|██████████| 170/170 [00:16<00:00, 10.50it/s]\n"
     ]
    },
    {
     "name": "stdout",
     "output_type": "stream",
     "text": [
      "epoch: 3 loss: tensor(5050.1001, grad_fn=<DivBackward0>)\n"
     ]
    },
    {
     "name": "stderr",
     "output_type": "stream",
     "text": [
      "100%|██████████| 170/170 [00:16<00:00, 10.34it/s]\n"
     ]
    },
    {
     "name": "stdout",
     "output_type": "stream",
     "text": [
      "epoch: 4 loss: tensor(5036.2583, grad_fn=<DivBackward0>)\n"
     ]
    },
    {
     "name": "stderr",
     "output_type": "stream",
     "text": [
      "100%|██████████| 170/170 [00:15<00:00, 10.63it/s]\n"
     ]
    },
    {
     "name": "stdout",
     "output_type": "stream",
     "text": [
      "epoch: 5 loss: tensor(5010.4775, grad_fn=<DivBackward0>)\n"
     ]
    },
    {
     "name": "stderr",
     "output_type": "stream",
     "text": [
      "100%|██████████| 170/170 [00:16<00:00, 10.59it/s]\n"
     ]
    },
    {
     "name": "stdout",
     "output_type": "stream",
     "text": [
      "epoch: 6 loss: tensor(4977.7085, grad_fn=<DivBackward0>)\n"
     ]
    },
    {
     "name": "stderr",
     "output_type": "stream",
     "text": [
      "100%|██████████| 170/170 [00:16<00:00, 10.59it/s]\n"
     ]
    },
    {
     "name": "stdout",
     "output_type": "stream",
     "text": [
      "epoch: 7 loss: tensor(4974.0146, grad_fn=<DivBackward0>)\n"
     ]
    },
    {
     "name": "stderr",
     "output_type": "stream",
     "text": [
      "100%|██████████| 170/170 [00:16<00:00, 10.56it/s]\n"
     ]
    },
    {
     "name": "stdout",
     "output_type": "stream",
     "text": [
      "epoch: 8 loss: tensor(4949.4673, grad_fn=<DivBackward0>)\n"
     ]
    },
    {
     "name": "stderr",
     "output_type": "stream",
     "text": [
      "100%|██████████| 170/170 [00:16<00:00, 10.51it/s]\n"
     ]
    },
    {
     "name": "stdout",
     "output_type": "stream",
     "text": [
      "epoch: 9 loss: tensor(4918.1392, grad_fn=<DivBackward0>)\n"
     ]
    },
    {
     "name": "stderr",
     "output_type": "stream",
     "text": [
      "100%|██████████| 170/170 [00:16<00:00, 10.45it/s]\n"
     ]
    },
    {
     "name": "stdout",
     "output_type": "stream",
     "text": [
      "epoch: 10 loss: tensor(4905.5825, grad_fn=<DivBackward0>)\n"
     ]
    },
    {
     "name": "stderr",
     "output_type": "stream",
     "text": [
      "100%|██████████| 170/170 [00:16<00:00, 10.56it/s]\n"
     ]
    },
    {
     "name": "stdout",
     "output_type": "stream",
     "text": [
      "epoch: 11 loss: tensor(4876.7261, grad_fn=<DivBackward0>)\n"
     ]
    },
    {
     "name": "stderr",
     "output_type": "stream",
     "text": [
      "100%|██████████| 170/170 [00:16<00:00, 10.59it/s]\n"
     ]
    },
    {
     "name": "stdout",
     "output_type": "stream",
     "text": [
      "epoch: 12 loss: tensor(4872.6035, grad_fn=<DivBackward0>)\n"
     ]
    },
    {
     "name": "stderr",
     "output_type": "stream",
     "text": [
      "100%|██████████| 170/170 [00:16<00:00, 10.55it/s]\n"
     ]
    },
    {
     "name": "stdout",
     "output_type": "stream",
     "text": [
      "epoch: 13 loss: tensor(4841.7837, grad_fn=<DivBackward0>)\n"
     ]
    },
    {
     "name": "stderr",
     "output_type": "stream",
     "text": [
      "100%|██████████| 170/170 [00:16<00:00, 10.44it/s]\n"
     ]
    },
    {
     "name": "stdout",
     "output_type": "stream",
     "text": [
      "epoch: 14 loss: tensor(4829.6616, grad_fn=<DivBackward0>)\n"
     ]
    },
    {
     "name": "stderr",
     "output_type": "stream",
     "text": [
      "100%|██████████| 170/170 [00:16<00:00, 10.49it/s]\n"
     ]
    },
    {
     "name": "stdout",
     "output_type": "stream",
     "text": [
      "epoch: 15 loss: tensor(4811.1875, grad_fn=<DivBackward0>)\n"
     ]
    },
    {
     "name": "stderr",
     "output_type": "stream",
     "text": [
      "100%|██████████| 170/170 [00:16<00:00, 10.58it/s]\n"
     ]
    },
    {
     "name": "stdout",
     "output_type": "stream",
     "text": [
      "epoch: 16 loss: tensor(4791.8203, grad_fn=<DivBackward0>)\n"
     ]
    },
    {
     "name": "stderr",
     "output_type": "stream",
     "text": [
      "100%|██████████| 170/170 [00:16<00:00, 10.59it/s]\n"
     ]
    },
    {
     "name": "stdout",
     "output_type": "stream",
     "text": [
      "epoch: 17 loss: tensor(4772.4551, grad_fn=<DivBackward0>)\n"
     ]
    },
    {
     "name": "stderr",
     "output_type": "stream",
     "text": [
      "100%|██████████| 170/170 [00:16<00:00, 10.61it/s]\n"
     ]
    },
    {
     "name": "stdout",
     "output_type": "stream",
     "text": [
      "epoch: 18 loss: tensor(4761.5708, grad_fn=<DivBackward0>)\n"
     ]
    },
    {
     "name": "stderr",
     "output_type": "stream",
     "text": [
      "100%|██████████| 170/170 [00:16<00:00, 10.52it/s]\n"
     ]
    },
    {
     "name": "stdout",
     "output_type": "stream",
     "text": [
      "epoch: 19 loss: tensor(4740.6978, grad_fn=<DivBackward0>)\n"
     ]
    },
    {
     "name": "stderr",
     "output_type": "stream",
     "text": [
      "100%|██████████| 170/170 [00:16<00:00, 10.60it/s]\n"
     ]
    },
    {
     "name": "stdout",
     "output_type": "stream",
     "text": [
      "epoch: 20 loss: tensor(4723.0171, grad_fn=<DivBackward0>)\n"
     ]
    },
    {
     "name": "stderr",
     "output_type": "stream",
     "text": [
      "100%|██████████| 170/170 [00:16<00:00, 10.53it/s]\n"
     ]
    },
    {
     "name": "stdout",
     "output_type": "stream",
     "text": [
      "epoch: 21 loss: tensor(4707.3638, grad_fn=<DivBackward0>)\n"
     ]
    },
    {
     "name": "stderr",
     "output_type": "stream",
     "text": [
      "100%|██████████| 170/170 [00:16<00:00, 10.57it/s]\n"
     ]
    },
    {
     "name": "stdout",
     "output_type": "stream",
     "text": [
      "epoch: 22 loss: tensor(4691.0894, grad_fn=<DivBackward0>)\n"
     ]
    },
    {
     "name": "stderr",
     "output_type": "stream",
     "text": [
      "100%|██████████| 170/170 [00:16<00:00, 10.53it/s]\n"
     ]
    },
    {
     "name": "stdout",
     "output_type": "stream",
     "text": [
      "epoch: 23 loss: tensor(4669.0996, grad_fn=<DivBackward0>)\n"
     ]
    },
    {
     "name": "stderr",
     "output_type": "stream",
     "text": [
      "100%|██████████| 170/170 [00:16<00:00, 10.58it/s]\n"
     ]
    },
    {
     "name": "stdout",
     "output_type": "stream",
     "text": [
      "epoch: 24 loss: tensor(4654.5996, grad_fn=<DivBackward0>)\n"
     ]
    },
    {
     "name": "stderr",
     "output_type": "stream",
     "text": [
      "100%|██████████| 170/170 [00:16<00:00, 10.39it/s]\n"
     ]
    },
    {
     "name": "stdout",
     "output_type": "stream",
     "text": [
      "epoch: 25 loss: tensor(4632.5337, grad_fn=<DivBackward0>)\n"
     ]
    },
    {
     "name": "stderr",
     "output_type": "stream",
     "text": [
      "100%|██████████| 170/170 [00:16<00:00, 10.52it/s]\n"
     ]
    },
    {
     "name": "stdout",
     "output_type": "stream",
     "text": [
      "epoch: 26 loss: tensor(4626.3394, grad_fn=<DivBackward0>)\n"
     ]
    },
    {
     "name": "stderr",
     "output_type": "stream",
     "text": [
      "100%|██████████| 170/170 [00:16<00:00, 10.58it/s]\n"
     ]
    },
    {
     "name": "stdout",
     "output_type": "stream",
     "text": [
      "epoch: 27 loss: tensor(4615.6431, grad_fn=<DivBackward0>)\n"
     ]
    },
    {
     "name": "stderr",
     "output_type": "stream",
     "text": [
      "100%|██████████| 170/170 [00:15<00:00, 10.69it/s]\n"
     ]
    },
    {
     "name": "stdout",
     "output_type": "stream",
     "text": [
      "epoch: 28 loss: tensor(4602.2163, grad_fn=<DivBackward0>)\n"
     ]
    },
    {
     "name": "stderr",
     "output_type": "stream",
     "text": [
      "100%|██████████| 170/170 [00:15<00:00, 10.70it/s]\n"
     ]
    },
    {
     "name": "stdout",
     "output_type": "stream",
     "text": [
      "epoch: 29 loss: tensor(4578.2715, grad_fn=<DivBackward0>)\n"
     ]
    },
    {
     "name": "stderr",
     "output_type": "stream",
     "text": [
      "100%|██████████| 170/170 [00:16<00:00, 10.56it/s]\n"
     ]
    },
    {
     "name": "stdout",
     "output_type": "stream",
     "text": [
      "epoch: 30 loss: tensor(4567.1416, grad_fn=<DivBackward0>)\n"
     ]
    },
    {
     "name": "stderr",
     "output_type": "stream",
     "text": [
      "100%|██████████| 170/170 [00:16<00:00, 10.61it/s]\n"
     ]
    },
    {
     "name": "stdout",
     "output_type": "stream",
     "text": [
      "epoch: 31 loss: tensor(4549.1123, grad_fn=<DivBackward0>)\n"
     ]
    },
    {
     "name": "stderr",
     "output_type": "stream",
     "text": [
      "100%|██████████| 170/170 [00:16<00:00, 10.39it/s]\n"
     ]
    },
    {
     "name": "stdout",
     "output_type": "stream",
     "text": [
      "epoch: 32 loss: tensor(4535.4277, grad_fn=<DivBackward0>)\n"
     ]
    },
    {
     "name": "stderr",
     "output_type": "stream",
     "text": [
      "100%|██████████| 170/170 [00:15<00:00, 10.65it/s]\n"
     ]
    },
    {
     "name": "stdout",
     "output_type": "stream",
     "text": [
      "epoch: 33 loss: tensor(4522.2109, grad_fn=<DivBackward0>)\n"
     ]
    },
    {
     "name": "stderr",
     "output_type": "stream",
     "text": [
      "100%|██████████| 170/170 [00:16<00:00, 10.50it/s]\n"
     ]
    },
    {
     "name": "stdout",
     "output_type": "stream",
     "text": [
      "epoch: 34 loss: tensor(4509.8789, grad_fn=<DivBackward0>)\n"
     ]
    },
    {
     "name": "stderr",
     "output_type": "stream",
     "text": [
      "100%|██████████| 170/170 [00:16<00:00, 10.54it/s]\n"
     ]
    },
    {
     "name": "stdout",
     "output_type": "stream",
     "text": [
      "epoch: 35 loss: tensor(4496.3628, grad_fn=<DivBackward0>)\n"
     ]
    },
    {
     "name": "stderr",
     "output_type": "stream",
     "text": [
      "100%|██████████| 170/170 [00:16<00:00, 10.47it/s]\n"
     ]
    },
    {
     "name": "stdout",
     "output_type": "stream",
     "text": [
      "epoch: 36 loss: tensor(4480.2578, grad_fn=<DivBackward0>)\n"
     ]
    },
    {
     "name": "stderr",
     "output_type": "stream",
     "text": [
      "100%|██████████| 170/170 [00:16<00:00, 10.27it/s]\n"
     ]
    },
    {
     "name": "stdout",
     "output_type": "stream",
     "text": [
      "epoch: 37 loss: tensor(4465.7432, grad_fn=<DivBackward0>)\n"
     ]
    },
    {
     "name": "stderr",
     "output_type": "stream",
     "text": [
      "100%|██████████| 170/170 [00:16<00:00, 10.27it/s]\n"
     ]
    },
    {
     "name": "stdout",
     "output_type": "stream",
     "text": [
      "epoch: 38 loss: tensor(4456.6841, grad_fn=<DivBackward0>)\n"
     ]
    },
    {
     "name": "stderr",
     "output_type": "stream",
     "text": [
      "100%|██████████| 170/170 [00:16<00:00, 10.51it/s]\n"
     ]
    },
    {
     "name": "stdout",
     "output_type": "stream",
     "text": [
      "epoch: 39 loss: tensor(4439.9180, grad_fn=<DivBackward0>)\n"
     ]
    },
    {
     "name": "stderr",
     "output_type": "stream",
     "text": [
      "100%|██████████| 170/170 [00:16<00:00, 10.36it/s]\n"
     ]
    },
    {
     "name": "stdout",
     "output_type": "stream",
     "text": [
      "epoch: 40 loss: tensor(4423.1167, grad_fn=<DivBackward0>)\n"
     ]
    },
    {
     "name": "stderr",
     "output_type": "stream",
     "text": [
      "100%|██████████| 170/170 [00:17<00:00,  9.56it/s]\n"
     ]
    },
    {
     "name": "stdout",
     "output_type": "stream",
     "text": [
      "epoch: 41 loss: tensor(4418.0474, grad_fn=<DivBackward0>)\n"
     ]
    },
    {
     "name": "stderr",
     "output_type": "stream",
     "text": [
      "100%|██████████| 170/170 [00:16<00:00, 10.32it/s]\n"
     ]
    },
    {
     "name": "stdout",
     "output_type": "stream",
     "text": [
      "epoch: 42 loss: tensor(4403.8345, grad_fn=<DivBackward0>)\n"
     ]
    },
    {
     "name": "stderr",
     "output_type": "stream",
     "text": [
      "100%|██████████| 170/170 [00:15<00:00, 10.64it/s]\n"
     ]
    },
    {
     "name": "stdout",
     "output_type": "stream",
     "text": [
      "epoch: 43 loss: tensor(4387.2822, grad_fn=<DivBackward0>)\n"
     ]
    },
    {
     "name": "stderr",
     "output_type": "stream",
     "text": [
      "100%|██████████| 170/170 [00:16<00:00, 10.62it/s]\n"
     ]
    },
    {
     "name": "stdout",
     "output_type": "stream",
     "text": [
      "epoch: 44 loss: tensor(4384.0186, grad_fn=<DivBackward0>)\n"
     ]
    },
    {
     "name": "stderr",
     "output_type": "stream",
     "text": [
      "100%|██████████| 170/170 [00:15<00:00, 10.67it/s]\n"
     ]
    },
    {
     "name": "stdout",
     "output_type": "stream",
     "text": [
      "epoch: 45 loss: tensor(4366.2412, grad_fn=<DivBackward0>)\n"
     ]
    },
    {
     "name": "stderr",
     "output_type": "stream",
     "text": [
      "100%|██████████| 170/170 [00:16<00:00, 10.53it/s]\n"
     ]
    },
    {
     "name": "stdout",
     "output_type": "stream",
     "text": [
      "epoch: 46 loss: tensor(4356.9517, grad_fn=<DivBackward0>)\n"
     ]
    },
    {
     "name": "stderr",
     "output_type": "stream",
     "text": [
      "100%|██████████| 170/170 [00:16<00:00, 10.61it/s]\n"
     ]
    },
    {
     "name": "stdout",
     "output_type": "stream",
     "text": [
      "epoch: 47 loss: tensor(4346.6733, grad_fn=<DivBackward0>)\n"
     ]
    },
    {
     "name": "stderr",
     "output_type": "stream",
     "text": [
      "100%|██████████| 170/170 [00:16<00:00, 10.55it/s]\n"
     ]
    },
    {
     "name": "stdout",
     "output_type": "stream",
     "text": [
      "epoch: 48 loss: tensor(4330.6133, grad_fn=<DivBackward0>)\n"
     ]
    },
    {
     "name": "stderr",
     "output_type": "stream",
     "text": [
      "100%|██████████| 170/170 [00:16<00:00, 10.56it/s]\n"
     ]
    },
    {
     "name": "stdout",
     "output_type": "stream",
     "text": [
      "epoch: 49 loss: tensor(4327.4160, grad_fn=<DivBackward0>)\n"
     ]
    },
    {
     "name": "stderr",
     "output_type": "stream",
     "text": [
      "100%|██████████| 170/170 [00:16<00:00, 10.55it/s]"
     ]
    },
    {
     "name": "stdout",
     "output_type": "stream",
     "text": [
      "epoch: 50 loss: tensor(4310.2173, grad_fn=<DivBackward0>)\n"
     ]
    },
    {
     "name": "stderr",
     "output_type": "stream",
     "text": [
      "\n"
     ]
    }
   ],
   "source": [
    "w2v.train()"
   ]
  },
  {
   "cell_type": "code",
   "execution_count": 250,
   "metadata": {
    "executionInfo": {
     "elapsed": 15245,
     "status": "ok",
     "timestamp": 1639671097122,
     "user": {
      "displayName": "moghis fereidouni",
      "photoUrl": "https://lh3.googleusercontent.com/a-/AOh14GjVlp_EUmsYa2wET4sH8v8ttME5Wjz5knmZivaz=s64",
      "userId": "04154357719458086941"
     },
     "user_tz": -210
    },
    "id": "0gt5KV8kzIz6"
   },
   "outputs": [],
   "source": [
    "distance_matrix = w2v.get_distance_matrix()"
   ]
  },
  {
   "cell_type": "code",
   "execution_count": 251,
   "metadata": {
    "colab": {
     "base_uri": "https://localhost:8080/"
    },
    "executionInfo": {
     "elapsed": 1315,
     "status": "ok",
     "timestamp": 1639671101037,
     "user": {
      "displayName": "moghis fereidouni",
      "photoUrl": "https://lh3.googleusercontent.com/a-/AOh14GjVlp_EUmsYa2wET4sH8v8ttME5Wjz5knmZivaz=s64",
      "userId": "04154357719458086941"
     },
     "user_tz": -210
    },
    "id": "ypQ8szDwgLf6",
    "outputId": "0c738af2-a814-4905-8182-b9ed5eb52a46"
   },
   "outputs": [
    {
     "name": "stdout",
     "output_type": "stream",
     "text": [
      "{'fulton': 0, 'county': 1, 'grand': 2, 'jury': 3, 'said': 4, 'friday': 5, 'investigation': 6, 'atlantas': 7, 'recent': 8, 'primary': 9, 'election': 10, 'produced': 11, 'evidence': 12, 'irregularities': 13, 'took': 14, 'place': 15, 'termend': 16, 'presentments': 17, 'city': 18, 'executive': 19, 'committee': 20, 'overall': 21, 'charge': 22, 'deserves': 23, 'praise': 24, 'thanks': 25, 'atlanta': 26, 'manner': 27, 'conducted': 28, 'septemberoctober': 29, 'term': 30, 'charged': 31, 'superior': 32, 'court': 33, 'judge': 34, 'durwood': 35, 'pye': 36, 'investigate': 37, 'reports': 38, 'possible': 39, 'hardfought': 40, 'mayornominate': 41, 'ivan': 42, 'allen': 43, 'jr': 44, 'relative': 45, 'handful': 46, 'received': 47, 'considering': 48, 'widespread': 49, 'interest': 50, 'number': 51, 'voters': 52, 'size': 53, 'find': 54, 'many': 55, 'georgias': 56, 'registration': 57, 'laws': 58, 'outmoded': 59, 'inadequate': 60, 'often': 61, 'ambiguous': 62, 'recommended': 63, 'legislators': 64, 'act': 65, 'studied': 66, 'revised': 67, 'end': 68, 'modernizing': 69, 'improving': 70, 'commented': 71, 'topics': 72, 'among': 73, 'purchasing': 74, 'departments': 75, 'well': 76, 'operated': 77, 'follow': 78, 'generally': 79, 'accepted': 80, 'practices': 81, 'inure': 82, 'best': 83, 'governments': 84, 'merger': 85, 'proposed': 86, 'however': 87, 'believes': 88, 'two': 89, 'offices': 90, 'combined': 91, 'achieve': 92, 'greater': 93, 'efficiency': 94, 'reduce': 95, 'cost': 96, 'administration': 97, 'department': 98, 'lacking': 99, 'experienced': 100, 'clerical': 101, 'personnel': 102, 'result': 103, 'policies': 104, 'urged': 105, 'take': 106, 'steps': 107, 'remedy': 108, 'problem': 109, 'implementation': 110, 'automobile': 111, 'title': 112, 'law': 113, 'also': 114, 'outgoing': 115, 'next': 116, 'legislature': 117, 'provide': 118, 'enabling': 119, 'funds': 120, 'reset': 121, 'effective': 122, 'date': 123, 'orderly': 124, 'may': 125, 'effected': 126, 'swipe': 127, 'state': 128, 'welfare': 129, 'handling': 130, 'federal': 131, 'granted': 132, 'child': 133, 'services': 134, 'foster': 135, 'homes': 136, 'one': 137, 'major': 138, 'items': 139, 'general': 140, 'assistance': 141, 'program': 142, 'seen': 143, 'fit': 144, 'distribute': 145, 'counties': 146, 'exception': 147, 'receives': 148, 'none': 149, 'money': 150, 'jurors': 151, 'realize': 152, 'proportionate': 153, 'distribution': 154, 'might': 155, 'disable': 156, 'less': 157, 'populous': 158, 'nevertheless': 159, 'feel': 160, 'future': 161, 'receive': 162, 'portion': 163, 'available': 164, 'failure': 165, 'continue': 166, 'disproportionate': 167, 'burden': 168, 'taxpayers': 169, 'ordinarys': 170, 'fire': 171, 'appointment': 172, 'appraisers': 173, 'guardians': 174, 'administrators': 175, 'awarding': 176, 'fees': 177, 'compensation': 178, 'wards': 179, 'protected': 180, 'found': 181, 'incorporated': 182, 'operating': 183, 'procedures': 184, 'recommendations': 185, 'previous': 186, 'juries': 187, 'bar': 188, 'association': 189, 'interim': 190, 'citizens': 191, 'actions': 192, 'serve': 193, 'protect': 194, 'fact': 195, 'effect': 196, 'courts': 197, 'undue': 198, 'costs': 199, 'appointed': 200, 'elected': 201, 'servants': 202, 'unmeritorious': 203, 'criticisms': 204, 'regarding': 205, 'new': 206, 'multimilliondollar': 207, 'airport': 208, 'management': 209, 'takes': 210, 'jan': 211, 'eliminate': 212, 'political': 213, 'influences': 214, 'elaborate': 215, 'added': 216, 'periodic': 217, 'surveillance': 218, 'pricing': 219, 'concessionaires': 220, 'purpose': 221, 'keeping': 222, 'prices': 223, 'reasonable': 224, 'ask': 225, 'jail': 226, 'deputies': 227, 'matters': 228, 'four': 229, 'additional': 230, 'employed': 231, 'doctor': 232, 'medical': 233, 'intern': 234, 'extern': 235, 'night': 236, 'weekend': 237, 'duty': 238, 'work': 239, 'officials': 240, 'pass': 241, 'legislation': 242, 'permit': 243, 'establishment': 244, 'fair': 245, 'equitable': 246, 'pension': 247, 'plan': 248, 'employes': 249, 'praised': 250, 'operation': 251, 'police': 252, 'tax': 253, 'commissioners': 254, 'office': 255, 'bellwood': 256, 'alpharetta': 257, 'prison': 258, 'farms': 259, 'grady': 260, 'hospital': 261, 'health': 262, 'mayor': 263, 'william': 264, 'b': 265, 'hartsfield': 266, 'filed': 267, 'suit': 268, 'divorce': 269, 'wife': 270, 'pearl': 271, 'williams': 272, 'petition': 273, 'mental': 274, 'cruelty': 275, 'couple': 276, 'married': 277, 'aug': 278, 'son': 279, 'berry': 280, 'daughter': 281, 'mrs': 282, 'j': 283, 'cheshire': 284, 'griffin': 285, 'attorneys': 286, 'amicable': 287, 'property': 288, 'settlement': 289, 'agreed': 290, 'upon': 291, 'listed': 292, 'mayors': 293, 'occupation': 294, 'attorney': 295, 'age': 296, 'wifes': 297, 'birth': 298, 'opelika': 299, 'ala': 300, 'lived': 301, 'together': 302, 'man': 303, 'year': 304, 'home': 305, 'e': 306, 'pelham': 307, 'rd': 308, 'aj': 309, 'henry': 310, 'l': 311, 'bowden': 312, 'brief': 313, 'interlude': 314, 'since': 315, 'career': 316, 'goes': 317, 'back': 318, 'council': 319, 'present': 320, 'expires': 321, 'succeeded': 322, 'became': 323, 'candidate': 324, 'sept': 325, 'announced': 326, 'would': 327, 'run': 328, 'reelection': 329, 'georgia': 330, 'republicans': 331, 'getting': 332, 'strong': 333, 'encouragement': 334, 'enter': 335, 'governors': 336, 'race': 337, 'top': 338, 'official': 339, 'wednesday': 340, 'robert': 341, 'snodgrass': 342, 'gop': 343, 'chairman': 344, 'meeting': 345, 'held': 346, 'tuesday': 347, 'blue': 348, 'ridge': 349, 'brought': 350, 'enthusiastic': 351, 'responses': 352, 'audience': 353, 'party': 354, 'james': 355, 'w': 356, 'dorsey': 357, 'enthusiasm': 358, 'picking': 359, 'rally': 360, 'savannah': 361, 'newly': 362, 'texas': 363, 'sen': 364, 'john': 365, 'tower': 366, 'featured': 367, 'speaker': 368, 'warned': 369, 'entering': 370, 'governor': 371, 'force': 372, 'petitions': 373, 'voting': 374, 'precincts': 375, 'obtain': 376, 'signatures': 377, 'registered': 378, 'despite': 379, 'warning': 380, 'unanimous': 381, 'vote': 382, 'according': 383, 'attended': 384, 'crowd': 385, 'asked': 386, 'whether': 387, 'wanted': 388, 'wait': 389, 'make': 390, 'voted': 391, 'dissents': 392, 'largest': 393, 'hurdle': 394, 'face': 395, 'says': 396, 'making': 397, 'first': 398, 'alternative': 399, 'courses': 400, 'must': 401, 'taken': 402, 'five': 403, 'per': 404, 'cent': 405, 'sign': 406, 'requesting': 407, 'allowed': 408, 'names': 409, 'candidates': 410, 'ballot': 411, 'hold': 412, 'unit': 413, 'system': 414, 'opposes': 415, 'platform': 416, 'sam': 417, 'caldwell': 418, 'highway': 419, 'public': 420, 'relations': 421, 'director': 422, 'resigned': 423, 'lt': 424, 'gov': 425, 'garland': 426, 'byrds': 427, 'campaign': 428, 'caldwells': 429, 'resignation': 430, 'expected': 431, 'time': 432, 'rob': 433, 'ledford': 434, 'gainesville': 435, 'assistant': 436, 'three': 437, 'years': 438, 'gubernatorial': 439, 'starts': 440, 'become': 441, 'coordinator': 442, 'byrd': 443, 'wind': 444, 'session': 445, 'monday': 446, 'head': 447, 'bond': 448, 'approved': 449, 'shortly': 450, 'adjournment': 451, 'afternoon': 452, 'senate': 453, 'approve': 454, 'study': 455, 'allotted': 456, 'rural': 457, 'urban': 458, 'areas': 459, 'determine': 460, 'adjustments': 461, 'made': 462, 'vandiver': 463, 'traditional': 464, 'visit': 465, 'chambers': 466, 'toward': 467, 'likely': 468, 'mention': 469, 'million': 470, 'issue': 471, 'earlier': 472, 'priority': 473, 'item': 474, 'construction': 475, 'bonds': 476, 'meanwhile': 477, 'learned': 478, 'near': 479, 'ready': 480, 'worth': 481, 'reconstruction': 482, 'go': 483, 'friendly': 484, 'test': 485, 'validity': 486, 'sales': 487, 'begin': 488, 'contracts': 489, 'let': 490, 'repair': 491, 'heavily': 492, 'traveled': 493, 'highways': 494, 'source': 495, 'roads': 496, 'authority': 497, 'road': 498, 'revolving': 499, 'fund': 500, 'apparently': 501, 'intends': 502, 'issued': 503, 'every': 504, 'old': 505, 'ones': 506, 'paid': 507, 'authorities': 508, 'opened': 509, 'battle': 510, 'issuance': 511, 'marvin': 512, 'told': 513, 'constitution': 514, 'consulted': 515, 'yet': 516, 'plans': 517, 'schley': 518, 'rep': 519, 'offer': 520, 'resolution': 521, 'house': 522, 'rescind': 523, 'bodys': 524, 'action': 525, 'day': 526, 'increase': 527, 'expense': 528, 'allowances': 529, 'sunday': 530, 'research': 531, 'done': 532, 'quickie': 533, 'repealed': 534, 'outright': 535, 'notice': 536, 'given': 537, 'reconsideration': 538, 'sought': 539, 'emphasizing': 540, 'technical': 541, 'details': 542, 'fully': 543, 'worked': 544, 'seek': 545, 'set': 546, 'aside': 547, 'privilege': 548, 'similar': 549, 'passed': 550, 'word': 551, 'offered': 552, 'pointed': 553, 'last': 554, 'november': 555, 'rejected': 556, 'constitutional': 557, 'amendment': 558, 'allow': 559, 'pay': 560, 'raises': 561, 'sessions': 562, 'veteran': 563, 'jackson': 564, 'legislator': 565, 'aid': 566, 'education': 567, 'something': 568, 'consistently': 569, 'opposed': 570, 'past': 571, 'mac': 572, 'barber': 573, 'commerce': 574, 'asking': 575, 'endorse': 576, 'increased': 577, 'support': 578, 'provided': 579, 'expended': 580, 'th': 581, 'members': 582, 'congressional': 583, 'delegation': 584, 'washington': 585, 'like': 586, 'see': 587, 'congressmen': 588, 'specifically': 589, 'tossed': 590, 'hopper': 591, 'formally': 592, 'read': 593, 'event': 594, 'congress': 595, 'board': 596, 'directed': 597, 'give': 598, 'teacher': 599, 'long': 600, 'hot': 601, 'controversy': 602, 'miller': 603, 'school': 604, 'superintendent': 605, 'policeman': 606, 'put': 607, 'coolest': 608, 'ever': 609, 'saw': 610, 'harry': 611, 'davis': 612, 'agriculture': 613, 'defeated': 614, 'felix': 615, 'bush': 616, 'principal': 617, 'democratic': 618, 'votes': 619, 'saturdays': 620, 'got': 621, 'ordinary': 622, 'carey': 623, 'armed': 624, 'pistol': 625, 'stood': 626, 'polls': 627, 'insure': 628, 'order': 629, 'calmest': 630, 'colquitt': 631, 'tom': 632, 'church': 633, 'didnt': 634, 'smell': 635, 'drop': 636, 'liquor': 637, 'bit': 638, 'trouble': 639, 'leading': 640, 'quiet': 641, 'marked': 642, 'anonymous': 643, 'midnight': 644, 'phone': 645, 'calls': 646, 'veiled': 647, 'threats': 648, 'violence': 649, 'former': 650, 'george': 651, 'p': 652, 'callan': 653, 'shot': 654, 'death': 655, 'march': 656, 'days': 657, 'post': 658, 'dispute': 659, 'reportedly': 660, 'telephone': 661, 'subjected': 662, 'soon': 663, 'scheduled': 664, 'local': 665, 'feared': 666, 'carry': 667, 'gun': 668, 'promised': 669, 'sheriff': 670, 'tabb': 671, 'good': 672, 'promise': 673, 'everything': 674, 'went': 675, 'real': 676, 'smooth': 677, 'wasnt': 678, 'austin': 679, 'approval': 680, 'price': 681, 'daniels': 682, 'abandoned': 683, 'seemed': 684, 'certain': 685, 'thursday': 686, 'adamant': 687, 'protests': 688, 'bankers': 689, 'daniel': 690, 'personally': 691, 'led': 692, 'fight': 693, 'measure': 694, 'watered': 695, 'considerably': 696, 'rejection': 697, 'legislatures': 698, 'hearing': 699, 'revenue': 700, 'taxation': 701, 'rules': 702, 'automatically': 703, 'subcommittee': 704, 'week': 705, 'questions': 706, 'taunted': 707, 'appearing': 708, 'witnesses': 709, 'left': 710, 'little': 711, 'doubt': 712, 'recommend': 713, 'passage': 714, 'termed': 715, 'extremely': 716, 'conservative': 717, 'estimate': 718, 'produce': 719, 'dollars': 720, 'help': 721, 'erase': 722, 'anticipated': 723, 'deficit': 724, 'current': 725, 'fiscal': 726, 'merely': 727, 'means': 728, 'enforcing': 729, 'escheat': 730, 'books': 731, 'republic': 732, 'permits': 733, 'bank': 734, 'accounts': 735, 'stocks': 736, 'personal': 737, 'persons': 738, 'missing': 739, 'seven': 740, 'bill': 741, 'drafted': 742, 'banks': 743, 'insurance': 744, 'firms': 745, 'pipeline': 746, 'companies': 747, 'corporations': 748, 'report': 749, 'treasurer': 750, 'cannot': 751, 'enforced': 752, 'almost': 753, 'impossible': 754, 'locate': 755, 'declared': 756, 'dewey': 757, 'lawrence': 758, 'tyler': 759, 'lawyer': 760, 'representing': 761, 'sounded': 762, 'opposition': 763, 'keynote': 764, 'violate': 765, 'contractual': 766, 'obligations': 767, 'depositors': 768, 'undermine': 769, 'confidence': 770, 'customers': 771, 'destroy': 772, 'economy': 773, 'circulation': 774, 'millions': 775, 'charles': 776, 'hughes': 777, 'sherman': 778, 'sponsor': 779, 'enact': 780, 'amount': 781, 'gift': 782, 'pockets': 783, 'contention': 784, 'denied': 785, 'several': 786, 'including': 787, 'scott': 788, 'hudson': 789, 'gaynor': 790, 'jones': 791, 'houston': 792, 'brady': 793, 'harlingen': 794, 'howard': 795, 'cox': 796, 'argued': 797, 'probably': 798, 'unconstitutional': 799, 'impair': 800, 'complained': 801, 'enough': 802, 'introduced': 803, 'senators': 804, 'unanimously': 805, 'parkhouse': 806, 'dallas': 807, 'authorizing': 808, 'schools': 809, 'deaf': 810, 'designed': 811, 'special': 812, 'schooling': 813, 'students': 814, 'scholastic': 815, 'reduced': 816, 'debate': 817, 'authorize': 818, 'agency': 819, 'establish': 820, 'countywide': 821, 'population': 822, 'require': 823, 'children': 824, 'attend': 825, 'permitting': 826, 'older': 827, 'residential': 828, 'budget': 829, 'harris': 830, 'bexar': 831, 'tarrant': 832, 'el': 833, 'paso': 834, 'savings': 835, 'yearly': 836, 'capital': 837, 'outlay': 838, 'absorbed': 839, 'tea': 840, 'estimated': 841, 'scholastics': 842, 'saving': 843, 'coming': 844, 'live': 845, 'get': 846, 'hear': 847, 'horse': 848, 'parimutuels': 849, 'reps': 850, 'v': 851, 'red': 852, 'joe': 853, 'ratcliff': 854, 'still': 855, 'expects': 856, 'tell': 857, 'folks': 858, 'thinks': 859, 'berrys': 860, 'pro': 861, 'letters': 862, 'con': 863, 'betting': 864, 'believe': 865, 'people': 866, 'better': 867, 'informed': 868, 'question': 869, 'oppose': 870, 'im': 871, 'willing': 872, 'stake': 873, 'exgambler': 874, 'san': 875, 'antonio': 876, 'advocacy': 877, 'ponies': 878, 'heard': 879, 'option': 880, 'proposal': 881, 'favorable': 882, 'although': 883, 'faces': 884, 'hard': 885, 'sledding': 886, 'later': 887, 'finally': 888, 'sent': 889, 'extending': 890, 'planning': 891, 'cities': 892, 'quickly': 893, 'whipped': 894, 'meager': 895, 'fare': 896, 'bills': 897, 'committees': 898, 'passing': 899, 'calendar': 900, 'validated': 901, 'acts': 902, 'districts': 903, 'another': 904, 'enlarged': 905, 'beaumont': 906, 'navigation': 907, 'district': 908, 'third': 909, 'amended': 910, 'creation': 911, 'lamar': 912, 'previously': 913, 'adopted': 914, 'without': 915, 'dissent': 916, 'r': 917, 'schwartz': 918, 'galveston': 919, 'mentally': 920, 'retarded': 921, 'gulf': 922, 'coast': 923, 'meantime': 924, 'accept': 925, 'gifts': 926, 'donations': 927, 'site': 928, 'revision': 929, 'louis': 930, 'crump': 931, 'saba': 932, 'retailers': 933, 'group': 934, 'miscellaneous': 935, 'excise': 936, 'taxes': 937, 'eliminating': 938, 'requirement': 939, 'return': 940, 'notarized': 941, 'instead': 942, 'certificate': 943, 'correctness': 944, 'violation': 945, 'penalty': 946, 'plus': 947, 'fine': 948, 'series': 949, 'league': 950, 'aikin': 951, 'paris': 952, 'relieve': 953, 'estate': 954, 'brokers': 955, 'annual': 956, 'licensing': 957, 'fee': 958, 'license': 959, 'natural': 960, 'gas': 961, 'utility': 962, 'right': 963, 'eminent': 964, 'domain': 965, 'frank': 966, 'owen': 967, 'acquire': 968, 'sites': 969, 'underground': 970, 'storage': 971, 'reservoirs': 972, 'marshall': 973, 'formby': 974, 'plainview': 975, 'commission': 976, 'suggested': 977, 'fill': 978, 'vacancies': 979, 'need': 980, 'costly': 981, 'elections': 982, 'formbys': 983, 'appointee': 984, 'selected': 985, 'composed': 986, 'lieutenant': 987, 'chief': 988, 'justice': 989, 'supreme': 990, 'representatives': 991, 'decided': 992, 'taking': 993, 'poll': 994, 'kind': 995, 'texans': 996, 'prefer': 997, 'adverse': 998, 'kept': 999, 'affairs': 1000, 'referendum': 1001, 'april': 1002, 'us': 1003, 'senator': 1004, 'wesley': 1005, 'roberts': 1006, 'seminole': 1007, 'idea': 1008, 'delay': 1009, 'kill': 1010, 'west': 1011, 'texan': 1012, 'reported': 1013, 'gotten': 1014, 'hollowell': 1015, 'feb': 1016, 'final': 1017, 'legislative': 1018, 'twothirds': 1019, 'majorities': 1020, 'printed': 1021, 'opponents': 1022, 'couldnt': 1023, 'information': 1024, 'proposals': 1025, 'intelligent': 1026, 'choice': 1027, 'except': 1028, 'absent': 1029, 'paradise': 1030, 'lost': 1031, 'alleged': 1032, 'water': 1033, 'needs': 1034, 'big': 1035, 'cotten': 1036, 'weatherford': 1037, 'insisted': 1038, 'development': 1039, 'effort': 1040, 'fort': 1041, 'cover': 1042, 'places': 1043, 'wise': 1044, 'hamlet': 1045, 'shouting': 1046, 'ended': 1047, 'sending': 1048, 'sponsored': 1049, 'maximum': 1050, 'loan': 1051, 'could': 1052, 'project': 1053, 'construed': 1054, 'large': 1055, 'felt': 1056, 'spent': 1057, 'providing': 1058, 'statements': 1059, 'paying': 1060, 'benefit': 1061, 'pending': 1062, 'sway': 1063, 'cottens': 1064, 'attack': 1065, 'defenders': 1066, 'mostly': 1067, 'smalltown': 1068, 'buchanan': 1069, 'dumas': 1070, 'eligio': 1071, 'kika': 1072, 'de': 1073, 'la': 1074, 'garza': 1075, 'mission': 1076, 'f': 1077, 'collins': 1078, 'newton': 1079, 'chapman': 1080, 'sulphur': 1081, 'springs': 1082, 'poor': 1083, 'boys': 1084, 'peanut': 1085, 'serving': 1086, 'reducing': 1087, 'learning': 1088, 'educational': 1089, 'methods': 1090, 'c': 1091, 'grover': 1092, 'teaches': 1093, 'history': 1094, 'semester': 1095, 'hours': 1096, 'socalled': 1097, 'teaching': 1098, 'required': 1099, 'junior': 1100, 'senior': 1101, 'high': 1102, 'normal': 1103, 'college': 1104, 'juniorsenior': 1105, 'teachers': 1106, 'least': 1107, 'credit': 1108, 'subject': 1109, 'remainder': 1110, 'subjects': 1111, 'person': 1112, 'masters': 1113, 'degree': 1114, 'physics': 1115, 'chemistry': 1116, 'math': 1117, 'english': 1118, 'permitted': 1119, 'teach': 1120, 'fiftythree': 1121, 'immediately': 1122, 'joined': 1123, 'cosigners': 1124, 'sp': 1125, 'regents': 1126, 'named': 1127, 'dr': 1128, 'clarence': 1129, 'clark': 1130, 'hays': 1131, 'kan': 1132, 'president': 1133, 'succeed': 1134, 'mclemore': 1135, 'retire': 1136, 'close': 1137, 'holds': 1138, 'earned': 1139, 'university': 1140, 'oklahoma': 1141, 'master': 1142, 'science': 1143, 'bachelor': 1144, 'southwestern': 1145, 'okla': 1146, 'addition': 1147, 'rhode': 1148, 'island': 1149, 'massachusetts': 1150, 'institute': 1151, 'technology': 1152, 'captain': 1153, 'basketball': 1154, 'team': 1155, 'football': 1156, 'letterman': 1157, 'served': 1158, 'athletic': 1159, 'raymondville': 1160, 'instructor': 1161, 'associate': 1162, 'professor': 1163, 'border': 1164, 'patrolman': 1165, 'signal': 1166, 'corps': 1167, 'army': 1168, 'denton': 1169, 'principals': 1170, 'independent': 1171, 'reelected': 1172, 'recommendation': 1173, 'supt': 1174, 'chester': 1175, 'strickland': 1176, 'racial': 1177, 'discrimination': 1178, 'employment': 1179, 'called': 1180, 'yesterday': 1181, 'ribbon': 1182, 'dependent': 1183, 'culminating': 1184, 'adc': 1185, 'cook': 1186, 'york': 1187, 'consulting': 1188, 'firm': 1189, 'range': 1190, 'soaring': 1191, 'case': 1192, 'load': 1193, 'serious': 1194, 'causes': 1195, 'family': 1196, 'breakdown': 1197, 'desertion': 1198, 'dependency': 1199, 'solve': 1200, 'monthly': 1201, 'recipients': 1202, 'virgil': 1203, 'martin': 1204, 'carson': 1205, 'pirie': 1206, 'co': 1207, 'problems': 1208, 'forced': 1209, 'depend': 1210, 'subsistence': 1211, 'volume': 1212, 'cases': 1213, 'decrease': 1214, 'community': 1215, 'able': 1216, 'deal': 1217, 'effectively': 1218, 'relatively': 1219, 'limited': 1220, 'skills': 1221, 'color': 1222, 'underlying': 1223, 'breakups': 1224, 'extension': 1225, 'living': 1226, 'relatives': 1227, 'parents': 1228, 'preserving': 1229, 'unity': 1230, 'projects': 1231, 'prevention': 1232, 'illegitimacy': 1233, 'defendants': 1234, 'summerdale': 1235, 'burglary': 1236, 'trial': 1237, 'indicating': 1238, 'guilt': 1239, 'arrest': 1240, 'parsons': 1241, 'criminal': 1242, 'disclosure': 1243, 'bellows': 1244, 'defense': 1245, 'counsel': 1246, 'startled': 1247, 'observers': 1248, 'viewed': 1249, 'prelude': 1250, 'quarrel': 1251, 'six': 1252, 'eight': 1253, 'policemen': 1254, 'grant': 1255, 'client': 1256, 'alan': 1257, 'clements': 1258, 'separate': 1259, 'request': 1260, 'allwoman': 1261, 'courtroom': 1262, 'fears': 1263, 'prejudicial': 1264, 'aspects': 1265, 'highly': 1266, 'strongly': 1267, 'indicated': 1268, 'knew': 1269, 'receiving': 1270, 'stolen': 1271, 'involving': 1272, 'others': 1273, 'leaned': 1274, 'bench': 1275, 'inquired': 1276, 'mean': 1277, 'admitting': 1278, 'yes': 1279, 'honor': 1280, 'replied': 1281, 'amounts': 1282, 'true': 1283, 'freeforall': 1284, 'conflict': 1285, 'july': 1286, 'kennedy': 1287, 'today': 1288, 'pushed': 1289, 'white': 1290, 'business': 1291, 'devote': 1292, 'attention': 1293, 'working': 1294, 'berlin': 1295, 'crisis': 1296, 'address': 1297, 'deliver': 1298, 'tomorrow': 1299, 'american': 1300, 'nationwide': 1301, 'television': 1302, 'radio': 1303, 'much': 1304, 'summer': 1305, 'cape': 1306, 'cod': 1307, 'writing': 1308, 'drafts': 1309, 'portions': 1310, 'aids': 1311, 'talked': 1312, 'returned': 1313, 'midmorning': 1314, 'hyannis': 1315, 'port': 1316, 'mass': 1317, 'spokesman': 1318, 'text': 1319, 'quite': 1320, 'way': 1321, 'completion': 1322, 'decisions': 1323, 'pierre': 1324, 'salinger': 1325, 'press': 1326, 'secretary': 1327, 'say': 1328, 'thru': 1329, 'advisers': 1330, 'staff': 1331, 'involved': 1332, 'composition': 1333, 'wording': 1334, 'rather': 1335, 'minute': 1336, 'meet': 1337, 'latest': 1338, 'precipitated': 1339, 'russias': 1340, 'demands': 1341, 'nov': 1342, 'dismissed': 1343, 'acting': 1344, 'karns': 1345, 'prosecution': 1346, 'obtained': 1347, 'unfair': 1348, 'fundamentally': 1349, 'illegal': 1350, 'matter': 1351, 'even': 1352, 'significance': 1353, 'innocence': 1354, 'legal': 1355, 'rights': 1356, 'ruling': 1357, 'pertained': 1358, 'ruled': 1359, 'unable': 1360, 'contempt': 1361, 'proceedings': 1362, 'originally': 1363, 'morris': 1364, 'wexler': 1365, 'prosecutor': 1366, 'subpoenas': 1367, 'admitted': 1368, 'hearings': 1369, 'subpenas': 1370, 'questioned': 1371, 'individuals': 1372, 'building': 1373, 'mayer': 1374, 'goldberg': 1375, 'judges': 1376, 'precinct': 1377, 'ward': 1378, 'procedure': 1379, 'constituted': 1380, 'intimidation': 1381, 'repeatedly': 1382, 'coercion': 1383, 'used': 1384, 'questioning': 1385, 'wrongful': 1386, 'privately': 1387, 'outside': 1388, 'room': 1389, 'misuse': 1390, 'processes': 1391, 'actually': 1392, 'abuse': 1393, 'process': 1394, 'altho': 1395, 'vindication': 1396, 'function': 1397, 'east': 1398, 'st': 1399, 'sitting': 1400, 'faced': 1401, 'complementary': 1402, 'miscount': 1403, 'advisement': 1404, 'claims': 1405, 'precedent': 1406, 'reading': 1407, 'statement': 1408, 'discharging': 1409, 'subpenaed': 1410, 'dismiss': 1411, 'mammoth': 1412, 'care': 1413, 'whereby': 1414, 'social': 1415, 'security': 1416, 'workers': 1417, 'raised': 1418, 'americans': 1419, 'covered': 1420, 'railroad': 1421, 'retirement': 1422, 'programs': 1423, 'message': 1424, 'tied': 1425, 'aged': 1426, 'requests': 1427, 'grants': 1428, 'finance': 1429, 'dental': 1430, 'scholarships': 1431, 'build': 1432, 'expand': 1433, 'capitol': 1434, 'hill': 1435, 'financed': 1436, 'boosting': 1437, 'payroll': 1438, 'worker': 1439, 'employer': 1440, 'alone': 1441, 'boost': 1442, 'base': 1443, 'boosts': 1444, 'imposed': 1445, 'rise': 1446, 'starting': 1447, 'levy': 1448, 'already': 1449, 'outlays': 1450, 'billion': 1451, 'benefits': 1452, 'figures': 1453, 'higher': 1454, 'parts': 1455, 'entail': 1456, 'nursing': 1457, 'carries': 1458, 'systems': 1459, 'full': 1460, 'payment': 1461, 'stays': 1462, 'illness': 1463, 'patient': 1464, 'nine': 1465, 'following': 1466, 'discharge': 1467, 'paidfor': 1468, 'formula': 1469, 'allowing': 1470, 'use': 1471, 'part': 1472, 'hospitalcare': 1473, 'outpatient': 1474, 'clinic': 1475, 'diagnostic': 1476, 'service': 1477, 'excess': 1478, 'visiting': 1479, 'nurse': 1480, 'noted': 1481, 'states': 1482, 'needy': 1483, 'modest': 1484, 'wish': 1485, 'staggered': 1486, 'drain': 1487, 'caused': 1488, 'extended': 1489, 'stay': 1490, 'cut': 1491, 'absolutely': 1492, 'essential': 1493, 'sufficient': 1494, 'deductible': 1495, 'requirements': 1496, 'discourage': 1497, 'malingering': 1498, 'unnecessary': 1499, 'overcrowding': 1500, 'hospitals': 1501, 'socialized': 1502, 'medicine': 1503, 'prepayment': 1504, 'absolute': 1505, 'freedom': 1506, 'guaranteed': 1507, 'choose': 1508, 'wouldnt': 1509, 'doctors': 1510, 'apart': 1511, 'presidents': 1512, 'ambitious': 1513, 'enlarge': 1514, 'nations': 1515, 'handle': 1516, 'student': 1517, 'needed': 1518, 'rising': 1519, 'moreover': 1520, 'qualified': 1521, 'young': 1522, 'going': 1523, 'dentistry': 1524, 'cant': 1525, 'afford': 1526, 'contributions': 1527, 'scholarship': 1528, 'equal': 1529, 'onefourth': 1530, 'based': 1531, 'government': 1532, 'matching': 1533, 'totaling': 1534, 'constructing': 1535, 'enlarging': 1536, 'capacity': 1537, 'existing': 1538, 'area': 1539, 'doubling': 1540, 'dollar': 1541, 'initial': 1542, 'appropriation': 1543, 'stimulatory': 1544, 'improve': 1545, 'unspecified': 1546, 'sum': 1547, 'experimental': 1548, 'field': 1549, 'childrens': 1550, 'bureau': 1551, 'national': 1552, 'asks': 1553, 'vocational': 1554, 'rehabilitation': 1555, 'facilities': 1556, 'propose': 1557, 'increasing': 1558, 'direct': 1559, 'combine': 1560, 'indispensable': 1561, 'elements': 1562, 'sound': 1563, 'knowledge': 1564, 'reaction': 1565, 'along': 1566, 'lines': 1567, 'placing': 1568, 'agedcare': 1569, 'criticized': 1570, 'backed': 1571, 'hailed': 1572, 'republican': 1573, 'leader': 1574, 'dirksen': 1575, 'ill': 1576, 'halleck': 1577, 'ind': 1578, 'persuade': 1579, 'change': 1580, 'compulsory': 1581, 'voluntary': 1582, 'enacted': 1583, 'rayburn': 1584, 'tex': 1585, 'mighty': 1586, 'thing': 1587, 'prediction': 1588, 'fate': 1589, 'hastily': 1590, 'pressure': 1591, 'tonight': 1592, 'confirmed': 1593, 'weaver': 1594, 'housing': 1595, 'floor': 1596, 'record': 1597, 'scattered': 1598, 'ayes': 1599, 'noes': 1600, 'customary': 1601, 'ignored': 1602, 'speed': 1603, 'negro': 1604, 'administrator': 1605, 'presidential': 1606, 'appointments': 1607, 'cabinet': 1608, 'rank': 1609, 'immediate': 1610, 'rule': 1611, 'requiring': 1612, 'hour': 1613, 'enforce': 1614, 'demand': 1615, 'wayne': 1616, 'morse': 1617, 'ore': 1618, 'connection': 1619, 'eisenhowers': 1620, 'selections': 1621, 'kennedys': 1622, 'positive': 1623, 'element': 1624, 'emerge': 1625, 'oslo': 1626, 'north': 1627, 'atlantic': 1628, 'treaty': 1629, 'organization': 1630, 'foreign': 1631, 'ministers': 1632, 'freer': 1633, 'franker': 1634, 'wider': 1635, 'discussions': 1636, 'animated': 1637, 'mutual': 1638, 'understanding': 1639, 'meetings': 1640, 'nature': 1641, 'proceed': 1642, 'route': 1643, 'step': 1644, 'dramatic': 1645, 'changes': 1646, 'met': 1647, 'climate': 1648, 'candor': 1649, 'genuine': 1650, 'attempt': 1651, 'anothers': 1652, 'atmosphere': 1653, 'particularly': 1654, 'noticeable': 1655, 'concerned': 1656, 'colonialist': 1657, 'powers': 1658, 'never': 1659, 'nightmare': 1660, 'clash': 1661, 'africa': 1662, 'exacerbated': 1663, 'difficulties': 1664, 'tragedies': 1665, 'facing': 1666, 'allies': 1667, 'intellectually': 1668, 'emotionally': 1669, 'disapprove': 1670, 'circumstances': 1671, 'troubles': 1672, 'conspicuous': 1673, 'absence': 1674, 'explosion': 1675, 'avoided': 1676, 'portugal': 1677, 'weeks': 1678, 'ago': 1679, 'rumored': 1680, 'walk': 1681, 'nato': 1682, 'critics': 1683, 'angola': 1684, 'policy': 1685, 'prove': 1686, 'harsh': 1687, 'relaxation': 1688, 'tension': 1689, 'remarkably': 1690, 'courteous': 1691, 'explanation': 1692, 'basic': 1693, 'positions': 1694, 'unchanged': 1695, 'bitter': 1696, 'surprises': 1697, 'un': 1698, 'assembly': 1699, 'ad': 1700, 'hoc': 1701, 'discussed': 1702, 'advance': 1703, 'canada': 1704, 'somewhat': 1705, 'allied': 1706, 'cars': 1707, 'track': 1708, 'behind': 1709, 'locomotive': 1710, 'norway': 1711, 'daily': 1712, 'manifestations': 1713, 'atomic': 1714, 'arms': 1715, 'heart': 1716, 'northernmost': 1717, 'alliance': 1718, 'closer': 1719, 'line': 1720, 'negative': 1721, 'side': 1722, 'balance': 1723, 'sheet': 1724, 'disappointment': 1725, 'united': 1726, 'leadership': 1727, 'hoped': 1728, 'diplomat': 1729, 'described': 1730, 'tenor': 1731, 'dean': 1732, 'rusks': 1733, 'speeches': 1734, 'inconclusive': 1735, 'hastened': 1736, 'add': 1737, 'always': 1738, 'clear': 1739, 'mr': 1740, 'analysis': 1741, 'various': 1742, 'global': 1743, 'danger': 1744, 'points': 1745, 'setbacks': 1746, 'firmly': 1747, 'fixed': 1748, 'exploratory': 1749, 'mood': 1750, 'vagueness': 1751, 'tactical': 1752, 'appreciation': 1753, 'semipublic': 1754, 'affair': 1755, 'fewer': 1756, 'soviet': 1757, 'correspondents': 1758, 'accredited': 1759, 'impression': 1760, 'popularity': 1761, 'came': 1762, 'tentative': 1763, 'frame': 1764, 'mind': 1765, 'listen': 1766, 'learn': 1767, 'enunciate': 1768, 'scale': 1769, 'detailed': 1770, 'application': 1771, 'individual': 1772, 'spots': 1773, 'speech': 1774, 'gave': 1775, 'tremendous': 1776, 'events': 1777, 'inside': 1778, 'preoccupied': 1779, 'months': 1780, 'core': 1781, 'reiterated': 1782, 'profound': 1783, 'attachment': 1784, 'cornerstone': 1785, 'nuclear': 1786, 'submarines': 1787, 'eventually': 1788, 'natos': 1789, 'disposal': 1790, 'european': 1791, 'waters': 1792, 'solemnly': 1793, 'repeated': 1794, 'union': 1795, 'stand': 1796, 'setback': 1797, 'affirmation': 1798, 'whole': 1799, 'surveyed': 1800, 'secretarys': 1801, 'greatest': 1802, 'achievement': 1803, 'perhaps': 1804, 'rekindling': 1805, 'realization': 1806, 'eastwest': 1807, 'friction': 1808, 'wherever': 1809, 'around': 1810, 'globe': 1811, 'essence': 1812, 'entirely': 1813, 'different': 1814, 'societies': 1815, 'treated': 1816, 'regard': 1817, 'geographical': 1818, 'distance': 1819, 'lack': 1820, 'apparent': 1821, 'spring': 1822, 'impetus': 1823, 'main': 1824, 'directions': 1825, 'deeper': 1826, 'timely': 1827, 'consultation': 1828, 'within': 1829, 'economic': 1830, 'cooperation': 1831, 'ratified': 1832, 'method': 1833, 'coordinating': 1834, 'underdeveloped': 1835, 'countries': 1836, 'strengthening': 1837, 'conventional': 1838, 'forces': 1839, 'maintenance': 1840, 'deterrent': 1841, 'threshold': 1842, 'alliances': 1843, 'difficult': 1844, 'come': 1845, 'ally': 1846, 'laid': 1847, 'completely': 1848, 'fulfilled': 1849, 'moves': 1850, 'haltingly': 1851, 'geneva': 1852, 'conference': 1853, 'laos': 1854, 'erupts': 1855, 'optimism': 1856, 'communists': 1857, 'docile': 1858, 'table': 1859, 'military': 1860, 'ground': 1861, 'explain': 1862, 'mainly': 1863, 'interested': 1864, 'setting': 1865, 'international': 1866, 'inspection': 1867, 'prevent': 1868, 'communist': 1869, 'attacks': 1870, 'neighboring': 1871, 'thailand': 1872, 'south': 1873, 'viet': 1874, 'nam': 1875, 'count': 1876, 'neutral': 1877, 'attending': 1878, 'hopes': 1879, 'lao': 1880, 'dominated': 1881, 'acceptable': 1882, 'possibility': 1883, 'modified': 1884, 'inclination': 1885, 'facto': 1886, 'ceasefire': 1887, 'insist': 1888, 'verification': 1889, 'control': 1890, 'participating': 1891, 'modifications': 1892, 'compelled': 1893, 'excuses': 1894, 'chain': 1895, 'errors': 1896, 'spokesmen': 1897, 'reforms': 1898, 'critical': 1899, 'moving': 1900, 'confrontations': 1901, 'showing': 1902, 'gain': 1903, 'free': 1904, 'world': 1905, 'arises': 1906, 'dealing': 1907, 'aggression': 1908, 'vicepresident': 1909, 'richard': 1910, 'nixon': 1911, 'detroit': 1912, 'firmer': 1913, 'tougher': 1914, 'feels': 1915, 'tendency': 1916, 'conciliatory': 1917, 'restrained': 1918, 'gallup': 1919, 'understates': 1920, 'situation': 1921, 'hardly': 1922, 'restrain': 1923, 'raising': 1924, 'power': 1925, 'amateurish': 1926, 'monumental': 1927, 'blunders': 1928, 'cuba': 1929, 'correspondent': 1930, 'constantly': 1931, 'score': 1932, 'reply': 1933, 'country': 1934, 'politics': 1935, 'wisdom': 1936, 'thruston': 1937, 'morton': 1938, 'kentucky': 1939, 'responsible': 1940, 'outcome': 1941, 'coalition': 1942, 'susceptible': 1943, 'domination': 1944, 'assailed': 1945, 'direction': 1946, 'harvard': 1947, 'boston': 1948, 'brandeis': 1949, 'educators': 1950, 'detente': 1951, 'pleads': 1952, 'invasion': 1953, 'exile': 1954, 'groups': 1955, 'recommends': 1956, 'detach': 1957, 'castro': 1958, 'regime': 1959, 'bloc': 1960, 'diplomatic': 1961, 'resumption': 1962, 'trade': 1963, 'concentrate': 1964, 'constructive': 1965, 'efforts': 1966, 'latin': 1967, 'america': 1968, 'conditions': 1969, 'totalitarian': 1970, 'nationalism': 1971, 'feeds': 1972, 'intervention': 1973, 'specific': 1974, 'provocation': 1975, 'clearly': 1976, 'shipped': 1977, 'tolerated': 1978, 'cuban': 1979, 'fiasco': 1980, 'victories': 1981, 'observer': 1982, 'blended': 1983, 'respected': 1984, 'opinions': 1985, 'voiced': 1986, 'professors': 1987, 'revamped': 1988, 'early': 1989, 'kremlin': 1990, 'channels': 1991, 'disclosed': 1992, 'react': 1993, 'eisenhower': 1994, 'formative': 1995, 'period': 1996, 'strenuous': 1997, 'remove': 1998, 'pin': 1999, 'pricking': 2000, 'ban': 2001, 'negotiations': 2002, 'reviewed': 2003, 'changed': 2004, 'thus': 2005, 'far': 2006, 'response': 2007, 'emphasis': 2008, 'encourage': 2009, 'reform': 2010, 'recipient': 2011, 'looked': 2012, 'show': 2013, 'determination': 2014, 'sailing': 2015, 'naval': 2016, 'fleet': 2017, 'southeast': 2018, 'asian': 2019, 'useless': 2020, 'gesture': 2021, 'freeze': 2022, 'aided': 2023, 'pathet': 2024, 'faster': 2025, 'rate': 2026, 'territory': 2027, 'exposed': 2028, 'huge': 2029, 'buildup': 2030, 'acclaimed': 2031, 'performing': 2032, 'great': 2033, 'asia': 2034, 'seato': 2035, 'steamed': 2036, 'prepared': 2037, 'contingency': 2038, 'coping': 2039, 'losses': 2040, 'want': 2041, 'risk': 2042, 'allout': 2043, 'war': 2044, 'disagreed': 2045, 'complication': 2046, 'concluded': 2047, 'suited': 2048, 'unlike': 2049, 'determined': 2050, 'neighbors': 2051, 'favor': 2052, 'neutralized': 2053, 'prowestern': 2054, 'helped': 2055, 'revolt': 2056, 'souvanna': 2057, 'phouma': 2058, 'neutralist': 2059, 'appear': 2060, 'spark': 2061, 'fighting': 2062, 'spirit': 2063, 'royal': 2064, 'certainly': 2065, 'energy': 2066, 'displayed': 2067, 'hilt': 2068, 'ideas': 2069, 'prince': 2070, 'trusting': 2071, 'gradually': 2072, 'relinquish': 2073, 'factor': 2074, 'fulbright': 2075, 'arkansas': 2076, 'erred': 2077, 'half': 2078, 'encouraging': 2079, 'removal': 2080, 'extraordinary': 2081, 'check': 2082, 'rapid': 2083, 'growth': 2084, 'juvenile': 2085, 'delinquency': 2086, 'deeply': 2087, 'vitality': 2088, 'nation': 2089, 'important': 2090, 'assertion': 2091, 'establishing': 2092, 'crime': 2093, 'supported': 2094, 'assisted': 2095, 'advisory': 2096, 'recognized': 2097, 'enactment': 2098, 'specified': 2099, 'combating': 2100, 'disturbing': 2101, 'trend': 2102, 'offenses': 2103, 'multiply': 2104, 'labor': 2105, 'coordinate': 2106, 'assist': 2107, 'communities': 2108, 'cope': 2109, 'simultaneously': 2110, 'david': 2111, 'hackett': 2112, 'youth': 2113, 'sense': 2114, 'urgency': 2115, 'stems': 2116, 'arrests': 2117, 'doubled': 2118, 'offenders': 2119, 'larceny': 2120, 'providence': 2121, 'organize': 2122, 'civil': 2123, 'setup': 2124, 'appointing': 2125, 'fulltime': 2126, 'raymond': 2127, 'h': 2128, 'hawksley': 2129, 'cd': 2130, 'anyone': 2131, 'else': 2132, 'locally': 2133, 'outline': 2134, 'earliest': 2135, 'parttime': 2136, 'noting': 2137, 'handed': 2138, 'responsibility': 2139, 'salary': 2140, 'expressed': 2141, 'opinion': 2142, 'hire': 2143, 'basis': 2144, 'defray': 2145, 'believed': 2146, 'residents': 2147, 'job': 2148, 'men': 2149, 'laughlin': 2150, 'headquarters': 2151, 'pertinent': 2152, 'centralized': 2153, 'advantage': 2154, 'eligible': 2155, 'apply': 2156, 'financial': 2157, 'equipment': 2158, 'procurement': 2159, 'radios': 2160, 'sirens': 2161, 'rescue': 2162, 'trucks': 2163, 'vehicle': 2164, 'central': 2165, 'station': 2166, 'assign': 2167, 'riverside': 2168, 'section': 2169, 'rumford': 2170, 'speaking': 2171, 'status': 2172, 'bet': 2173, 'hundred': 2174, 'know': 2175, 'enemy': 2176, 'narragansett': 2177, 'grounds': 2178, 'point': 2179, 'drivein': 2180, 'theater': 2181, 'seekonk': 2182, 'knowing': 2183, 'assemble': 2184, 'air': 2185, 'vital': 2186, 'frequently': 2187, 'regular': 2188, 'intervals': 2189, 'fails': 2190, 'consider': 2191, 'call': 2192, 'september': 2193, 'developed': 2194, 'things': 2195, 'classes': 2196, 'drifts': 2197, 'level': 2198, 'examine': 2199, 'revisions': 2200, 'notte': 2201, 'name': 2202, 'move': 2203, 'form': 2204, 'letter': 2205, 'miss': 2206, 'mary': 2207, 'deputy': 2208, 'clerk': 2209, 'falls': 2210, 'copy': 2211, 'released': 2212, 'responding': 2213, 'urges': 2214, 'complete': 2215, 'eye': 2216, 'perform': 2217, 'review': 2218, 'atty': 2219, 'gen': 2220, 'joseph': 2221, 'nugent': 2222, 'views': 2223, 'appoint': 2224, 'nugents': 2225, 'expect': 2226, 'religious': 2227, 'specialinterest': 2228, 'affected': 2229, 'wrote': 2230, 'continuous': 2231, 'confronts': 2232, 'enforcement': 2233, 'officers': 2234, 'regulating': 2235, 'advised': 2236, 'shirking': 2237, 'activity': 2238, 'across': 2239, 'statutes': 2240, 'bay': 2241, 'dating': 2242, 'instances': 2243, 'colonial': 2244, 'times': 2245, 'severely': 2246, 'limit': 2247, 'types': 2248, 'merchandise': 2249, 'sold': 2250, 'sabbath': 2251, 'concern': 2252, 'especially': 2253, 'foods': 2254, 'placed': 2255, 'list': 2256, 'neighborhood': 2257, 'grocery': 2258, 'variety': 2259, 'stores': 2260, 'chance': 2261, 'compete': 2262, 'supermarkets': 2263, 'councils': 2264, 'small': 2265, 'shops': 2266, 'retained': 2267, 'livelihood': 2268, 'thousands': 2269, 'declares': 2270, 'licenses': 2271, 'factory': 2272, 'outlets': 2273, 'operate': 2274, 'contended': 2275, 'shopping': 2276, 'liberals': 2277, 'conservatives': 2278, 'parties': 2279, 'reama': 2280, 'nationally': 2281, 'known': 2282, 'labormanagement': 2283, 'expert': 2284, 'rotary': 2285, 'club': 2286, 'luncheon': 2287, 'sheratonbiltmore': 2288, 'hotel': 2289, 'type': 2290, 'enterprise': 2291, 'regrouping': 2292, 'average': 2293, 'voter': 2294, 'pull': 2295, 'lever': 2296, 'confessing': 2297, 'member': 2298, 'socialist': 2299, 'machinist': 2300, 'toolmaker': 2301, 'fellow': 2302, 'grooming': 2303, 'steered': 2304, 'utilities': 2305, 'pooling': 2306, 'resources': 2307, 'gaining': 2308, 'victory': 2309, 'original': 2310, 'retired': 2311, 'vice': 2312, 'screw': 2313, 'gross': 2314, 'product': 2315, 'neither': 2316, 'favors': 2317, 'wage': 2318, 'increases': 2319, 'manufacturers': 2320, 'caught': 2321, 'profit': 2322, 'squeeze': 2323, 'conditioned': 2324, 'turned': 2325, 'philosophy': 2326, 'dividing': 2327, 'really': 2328, 'engaged': 2329, 'industrial': 2330, 'counseling': 2331, 'bearing': 2332, 'johnston': 2333, 'presented': 2334, 'town': 2335, 'obtaining': 2336, 'charter': 2337, 'martinelli': 2338, 'transferred': 2339, 'hand': 2340, 'suggestion': 2341, 'fortin': 2342, 'sr': 2343, 'governs': 2344, 'referred': 2345, 'canvassers': 2346, 'happens': 2347, 'explained': 2348, 'assure': 2349, 'scheduling': 2350, 'completes': 2351, 'difference': 2352, 'arose': 2353, 'bourcier': 2354, 'solicitor': 2355, 'exact': 2356, 'handled': 2357, 'justices': 2358, 'favoring': 2359, 'assured': 2360, 'correct': 2361, 'strategy': 2362, 'movement': 2363, 'undoubtedly': 2364, 'comes': 2365, 'inspiring': 2366, 'think': 2367, 'hope': 2368, 'spearhead': 2369, 'surprised': 2370, 'running': 2371, 'nonpartisan': 2372, 'posts': 2373, 'goal': 2374, 'awareness': 2375, 'timetable': 2376, 'followed': 2377, 'started': 2378, 'towns': 2379, 'insurgent': 2380, 'model': 2381, 'municipal': 2382, 'misunderstanding': 2383, 'meaning': 2384, 'cited': 2385, 'false': 2386, 'pretenses': 2387, 'signers': 2388, 'affixed': 2389, 'consent': 2390, 'provision': 2391, 'included': 2392, 'sanitary': 2393, 'sewer': 2394, 'ordinance': 2395, 'motorists': 2396, 'plead': 2397, 'guilty': 2398, 'minor': 2399, 'traffic': 2400, 'fines': 2401, 'mondays': 2402, 'sanantonio': 2403, 'michael': 2404, 'abatuno': 2405, 'draft': 2406, 'authorized': 2407, 'adopt': 2408, 'nothing': 2409, 'sixth': 2410, 'disposition': 2411, 'hesitated': 2412, 'prosecute': 2413, 'heavy': 2414, 'simplest': 2415, 'offense': 2416, 'mitchell': 2417, 'walter': 2418, 'rbergen': 2419, 'value': 2420, 'using': 2421, 'remark': 2422, 'campaigning': 2423, 'carcass': 2424, 'republicanism': 2425, 'dumont': 2426, 'rwarren': 2427, 'spoke': 2428, 'park': 2429, 'controversial': 2430, 'westfield': 2431, 'cocktail': 2432, 'scotch': 2433, 'plains': 2434, 'greeted': 2435, 'chorus': 2436, 'boos': 2437, 'women': 2438, 'trenton': 2439, 'forum': 2440, 'federation': 2441, 'womens': 2442, 'clubs': 2443, 'intention': 2444, 'stopped': 2445, 'beating': 2446, 'lifeblood': 2447, 'congealed': 2448, 'hes': 2449, 'gone': 2450, 'sell': 2451, 'tattered': 2452, 'remains': 2453, 'love': 2454, 'considered': 2455, 'mediocre': 2456, 'fall': 2457, 'common': 2458, 'decency': 2459, 'proud': 2460, 'adminstration': 2461, 'closeness': 2462, 'dead': 2463, 'regrets': 2464, 'regretted': 2465, 'wrong': 2466, 'inject': 2467, 'waged': 2468, 'issues': 2469, 'rearguing': 2470, 'respond': 2471, 'either': 2472, 'applause': 2473, 'merit': 2474, 'open': 2475, 'launched': 2476, 'continuance': 2477, 'passenger': 2478, 'proper': 2479, 'uses': 2480, 'surplus': 2481, 'jersey': 2482, 'attractive': 2483, 'industry': 2484, 'decries': 2485, 'joblessness': 2486, 'decried': 2487, 'unemployment': 2488, 'meyner': 2489, 'republicancontrolled': 2490, 'share': 2491, 'blame': 2492, 'plainfield': 2493, 'mack': 2494, 'truck': 2495, 'plant': 2496, 'income': 2497, 'unhappy': 2498, 'minutes': 2499, 'saved': 2500, 'barbs': 2501, 'centralization': 2502, 'looks': 2503, 'transportation': 2504, 'crises': 2505, 'saying': 2506, 'ways': 2507, 'motor': 2508, 'vehicles': 2509, 'challenge': 2510, 'stands': 2511, 'defends': 2512, 'ike': 2513, 'resent': 2514, 'reference': 2515, 'discredited': 2516, 'insult': 2517, 'twice': 2518, 'overwhelmingly': 2519, 'symbol': 2520, 'peaceloving': 2521, 'intentions': 2522, 'understand': 2523, 'seeking': 2524, 'position': 2525, 'life': 2526, 'demonstrate': 2527, 'judgment': 2528, 'bad': 2529, 'taste': 2530, 'vicious': 2531, 'origin': 2532, 'desire': 2533, 'try': 2534, 'condemning': 2535, 'stature': 2536, 'rebound': 2537, 'discredit': 2538, 'sees': 2539, 'ahead': 2540, 'sandman': 2541, 'rcape': 2542, 'nomination': 2543, 'addressing': 2544, 'newark': 2545, 'essex': 2546, 'leaders': 2547, 'managers': 2548, 'gathering': 2549, 'indicate': 2550, 'chosen': 2551, 'partys': 2552, 'nominee': 2553, 'majority': 2554, 'announcement': 2555, 'clifford': 2556, 'spend': 2557, 'giveaway': 2558, 'desperate': 2559, 'prop': 2560, 'sagging': 2561, 'proven': 2562, 'answer': 2563, 'jerseys': 2564, 'witnessed': 2565, 'image': 2566, 'witnessing': 2567, 'transfer': 2568, 'glow': 2569, 'candidacy': 2570, 'harriet': 2571, 'copeland': 2572, 'greenfield': 2573, 'woodland': 2574, 'ave': 2575, 'committeewoman': 2576, 'supervisor': 2577, 'weldon': 2578, 'sheets': 2579, 'paper': 2580, 'ballots': 2581, 'represents': 2582, 'necessary': 2583, 'democracy': 2584, 'lip': 2585, 'financing': 2586, 'purchase': 2587, 'machines': 2588, 'repay': 2589, 'exclusive': 2590, 'january': 2591, 'mandatory': 2592, 'impinging': 2593, 'basically': 2594, 'distasteful': 2595, 'results': 2596, 'transcended': 2597, 'sheeran': 2598, 'orange': 2599, 'edward': 2600, 'roos': 2601, 'safety': 2602, 'commissioner': 2603, 'fbi': 2604, 'organizations': 2605, 'freeholder': 2606, 'macdonald': 2607, 'vacancy': 2608, 'neil': 2609, 'duffy': 2610, 'appeals': 2611, 'experience': 2612, 'shown': 2613, 'filled': 2614, 'preferably': 2615, 'jim': 2616, 'fits': 2617, 'description': 2618, 'seidel': 2619, 'warden': 2620, 'conservation': 2621, 'citation': 2622, 'salvatore': 2623, 'bontempo': 2624, 'credits': 2625, 'supervision': 2626, 'reduction': 2627, 'forest': 2628, 'fires': 2629, 'division': 2630, 'graduation': 2631, 'michigan': 2632, 'forestry': 2633, 'private': 2634, 'lumber': 2635, 'october': 2636, 'firefighting': 2637, 'techniques': 2638, 'plowing': 2639, 'established': 2640, 'tractor': 2641, 'plows': 2642, 'units': 2643, 'expanded': 2644, 'modernized': 2645, 'briefing': 2646, 'wardens': 2647, 'training': 2648, 'credited': 2649, 'cooperative': 2650, 'cross': 2651, 'debut': 2652, 'bid': 2653, 'pledge': 2654, 'corner': 2655, 'nearly': 2656, 'puddingstone': 2657, 'inn': 2658, 'youll': 2659, 'youre': 2660, 'glad': 2661, 'democrats': 2662, 'resolve': 2663, 'expedient': 2664, 'tripping': 2665, 'feet': 2666, 'popular': 2667, 'slogans': 2668, 'win': 2669, 'liberal': 2670, 'planned': 2671, 'forward': 2672, 'looking': 2673, 'honest': 2674, 'talk': 2675, 'mouth': 2676, 'truth': 2677, 'elect': 2678, 'signs': 2679, 'feeble': 2680, 'shall': 2681, 'partner': 2682, 'courageous': 2683, 'attraction': 2684, 'stop': 2685, 'piracy': 2686, 'southern': 2687, 'keep': 2688, 'bloodstream': 2689, 'clean': 2690, 'hoodlums': 2691, 'infiltrating': 2692, 'calling': 2693, 'lives': 2694, 'breathes': 2695, 'representative': 2696, 'springboard': 2697, 'meyners': 2698, 'green': 2699, 'acres': 2700, 'tracts': 2701, 'land': 2702, 'onrush': 2703, 'underwrite': 2704, 'alloted': 2705, 'municipalities': 2706, 'conquer': 2707, 'space': 2708, 'conserve': 2709, 'pointing': 2710, 'rapidly': 2711, 'changing': 2712, 'unless': 2713, 'preserve': 2714, 'comment': 2715, 'misconstrued': 2716, 'sympathetic': 2717, 'explicit': 2718, 'bring': 2719, 'dynamic': 2720, 'afraid': 2721, 'tangle': 2722, 'fifteen': 2723, 'retiring': 2724, 'voluntarily': 2725, 'honored': 2726, 'colleagues': 2727, 'whose': 2728, 'fouryear': 2729, 'terms': 2730, 'expire': 2731, 'carved': 2732, 'wooden': 2733, 'elephants': 2734, 'ivory': 2735, 'tusks': 2736, 'remember': 2737, 'retirements': 2738, 'leaving': 2739, 'presentation': 2740, 'geraldine': 2741, 'thompson': 2742, 'stepping': 2743, 'adoption': 2744, 'suffrage': 2745, 'resentment': 2746, 'welled': 2747, 'wagner': 2748, 'paul': 2749, 'screvane': 2750, 'abraham': 2751, 'beame': 2752, 'mates': 2753, 'antiorganization': 2754, 'opportunity': 2755, 'internal': 2756, 'regarded': 2757, 'bigger': 2758, 'trying': 2759, 'induce': 2760, 'controller': 2761, 'arthur': 2762, 'levitt': 2763, 'brooklyn': 2764, 'mayoral': 2765, 'contend': 2766, 'file': 2767, 'view': 2768, 'lastminute': 2769, 'proposing': 2770, 'ticket': 2771, 'emphasize': 2772, 'weakness': 2773, 'performance': 2774, 'rival': 2775, 'slate': 2776, 'buckley': 2777, 'bronx': 2778, 'sharkey': 2779, 'visits': 2780, 'usual': 2781, 'touch': 2782, 'carmine': 2783, 'g': 2784, 'sapio': 2785, 'manhattan': 2786, 'publicly': 2787, 'believing': 2788, 'replaced': 2789, 'visited': 2790, 'discussion': 2791, 'key': 2792, 'acceptance': 2793, 'choices': 2794, 'struggle': 2795, 'talks': 2796, 'assent': 2797, 'dropping': 2798, 'gerosa': 2799, 'seems': 2800, 'assumed': 2801, 'pick': 2802, 'gerosas': 2803, 'successor': 2804, 'declined': 2805, 'interviews': 2806, 'reporters': 2807, 'confirm': 2808, 'deny': 2809, 'queens': 2810, 'replace': 2811, 'abe': 2812, 'stark': 2813, 'incumbent': 2814, 'irish': 2815, 'feis': 2816, 'hunter': 2817, 'campus': 2818, 'published': 2819, 'yesterdays': 2820, 'announce': 2821, 'definite': 2822, 'june': 2823, 'wave': 2824, 'corruption': 2825, 'tangible': 2826, 'feeling': 2827, 'revulsion': 2828, 'taxi': 2829, 'driver': 2830, 'visitor': 2831, 'remarks': 2832, 'politicians': 2833, 'scientist': 2834, 'writes': 2835, 'alienated': 2836, 'influence': 2837, 'corrupt': 2838, 'selfish': 2839, 'beyond': 2840, 'secret': 2841, 'conspiracy': 2842, 'object': 2843, 'plunder': 2844, 'widely': 2845, 'identified': 2846, 'locale': 2847, 'edwin': 2848, 'oconnors': 2849, 'novel': 2850, 'hurrah': 2851, 'reasons': 2852, 'spotlight': 2853, 'succession': 2854, 'publicized': 2855, 'scandals': 2856, 'aroused': 2857, 'graft': 2858, 'works': 2859, 'investigations': 2860, 'attracted': 2861, 'ethical': 2862, 'reader': 2863, 'newspapers': 2864, 'escape': 2865, 'petty': 2866, 'chicanery': 2867, 'worse': 2868, 'norm': 2869, 'episode': 2870, 'accused': 2871, 'beach': 2872, 'waterfront': 2873, 'sharply': 2874, 'contrasting': 2875, 'forecasts': 2876, 'southernrepublican': 2877, 'administrations': 2878, 'jockeying': 2879, 'aidtoeducation': 2880, 'uncertain': 2881, 'panels': 2882, 'depends': 2883, 'trimble': 2884, 'democrat': 2885, 'siding': 2886, 'rayburns': 2887, 'hopeful': 2888, 'encounter': 2889, 'sometime': 2890, 'provides': 2891, 'fortyyear': 2892, 'mortgages': 2893, 'low': 2894, 'downpayments': 2895, 'moderateincome': 2896, 'families': 2897, 'slums': 2898, 'colleges': 2899, 'dormitories': 2900, 'appears': 2901, 'temporarily': 2902, 'stalled': 2903, 'northern': 2904, 'usually': 2905, 'balking': 2906, 'delaney': 2907, 'thomas': 2908, 'oneill': 2909, 'quick': 2910, 'progress': 2911, 'amending': 2912, 'longterm': 2913, 'loans': 2914, 'parochial': 2915, 'privateschool': 2916, 'languages': 2917, 'mathematics': 2918, 'publicschool': 2919, 'clears': 2920, 'peace': 2921, 'assigned': 2922, 'agencies': 2923, 'carried': 2924, 'submitted': 2925, 'universities': 2926, 'twelve': 2927, 'contractnegotiation': 2928, 'stage': 2929, 'gordon': 2930, 'boyce': 2931, 'interview': 2932, 'middle': 2933, 'confusion': 2934, 'goals': 2935, 'happen': 2936, 'churchmen': 2937, 'example': 2938, 'month': 2939, 'ghana': 2940, 'missionary': 2941, 'discovered': 2942, 'protested': 2943, 'owner': 2944, 'u': 2945, 'pays': 2946, 'overseas': 2947, 'explains': 2948, 'dont': 2949, 'shrugged': 2950, 'remarked': 2951, 'classical': 2952, 'churchstate': 2953, 'separation': 2954, 'sargent': 2955, 'shriver': 2956, 'forswears': 2957, 'proselytizing': 2958, 'proposes': 2959, 'moscow': 2960, 'gay': 2961, 'sukarno': 2962, 'indonesia': 2963, 'premier': 2964, 'khrushchev': 2965, 'pulled': 2966, 'beaming': 2967, 'look': 2968, 'jesting': 2969, 'expansive': 2970, 'successful': 2971, 'banker': 2972, 'twenty': 2973, 'expanding': 2974, 'uncommitted': 2975, 'allocated': 2976, 'western': 2977, 'estimates': 2978, 'biggest': 2979, 'beginning': 2980, 'technicians': 2981, 'n': 2982, 'experts': 2983, 'countrys': 2984, 'professional': 2985, 'amid': 2986, 'intensified': 2987, 'role': 2988, 'puts': 2989, 'premium': 2990, 'strength': 2991, 'jobs': 2992, 'india': 2993, 'inhabitants': 2994, 'filling': 2995, 'secretariat': 2996, 'panel': 2997, 'completed': 2998, 'eighteen': 2999, 'due': 3000, 'administrative': 3001, 'budgetary': 3002, 'understood': 3003, 'ninetynine': 3004, 'officer': 3005, 'economist': 3006, 'start': 3007, 'cutoff': 3008, 'forming': 3009, 'unite': 3010, 'warridden': 3011, 'kingdom': 3012, 'decision': 3013, 'zurich': 3014, 'boun': 3015, 'oum': 3016, 'neutralists': 3017, 'souphanouvong': 3018, 'procommunist': 3019, 'latter': 3020, 'halfbrothers': 3021, 'joint': 3022, 'welcomed': 3023, 'delegations': 3024, 'nineteenth': 3025, 'plenary': 3026, 'fourteennation': 3027, 'agreement': 3028, 'princes': 3029, 'ease': 3030, 'task': 3031, 'diplomats': 3032, 'conceded': 3033, 'overly': 3034, 'optimistic': 3035, 'tactics': 3036, 'averell': 3037, 'harriman': 3038, 'malcolm': 3039, 'britain': 3040, 'maurice': 3041, 'couve': 3042, 'murville': 3043, 'frances': 3044, 'minister': 3045, 'canadas': 3046, 'external': 3047, 'round': 3048, 'consultations': 3049, 'pace': 3050, 'slowed': 3051, 'princess': 3052, 'moune': 3053, 'phoumas': 3054, 'twohour': 3055, 'cordial': 3056, 'laotians': 3057, 'sixpoint': 3058, 'agenda': 3059, 'reached': 3060, 'principles': 3061, 'guide': 3062, 'factors': 3063, 'search': 3064, 'pfaff': 3065, 'promotion': 3066, 'manager': 3067, 'timespicayune': 3068, 'publishing': 3069, 'company': 3070, 'saturday': 3071, 'tims': 3072, 'succeeds': 3073, 'burke': 3074, 'commercial': 3075, 'artist': 3076, 'advertising': 3077, 'native': 3078, 'orleans': 3079, 'elementary': 3080, 'fortier': 3081, 'soule': 3082, 'december': 3083, 'belleville': 3084, 'merchandising': 3085, 'wholesale': 3086, 'audrey': 3087, 'knecht': 3088, 'karol': 3089, 'reside': 3090, 'miles': 3091, 'bleachertype': 3092, 'seats': 3093, 'erected': 3094, 'pennsylvania': 3095, 'avenue': 3096, 'inaugural': 3097, 'parade': 3098, 'assuming': 3099, 'weather': 3100, 'halfway': 3101, 'decent': 3102, 'hundreds': 3103, 'thoroughfare': 3104, 'dwight': 3105, 'leave': 3106, 'oathtaking': 3107, 'ceremonies': 3108, 'ride': 3109, 'historic': 3110, 'ceremonial': 3111, 'impressive': 3112, 'street': 3113, 'columbia': 3114, 'standpoint': 3115, 'viewpoint': 3116, 'approach': 3117, 'buildings': 3118, 'shrines': 3119, 'monuments': 3120, 'course': 3121, 'famous': 3122, 'easy': 3123, 'begins': 3124, 'block': 3125, 'sevenstories': 3126, 'chapters': 3127, 'recorded': 3128, 'thousand': 3129, 'watch': 3130, 'suffragettes': 3131, 'square': 3132, 'marching': 3133, 'soldiers': 3134, 'returning': 3135, 'archives': 3136, 'valuable': 3137, 'records': 3138, 'located': 3139, 'edgar': 3140, 'hoover': 3141, 'presides': 3142, 'car': 3143, 'tracks': 3144, 'center': 3145, 'powered': 3146, 'spectators': 3147, 'occupying': 3148, 'vantage': 3149, 'bordering': 3150, 'lafayette': 3151, 'opposite': 3152, 'statues': 3153, 'andrew': 3154, 'hero': 3155, 'viewing': 3156, 'branches': 3157, 'academies': 3158, 'include': 3159, 'representations': 3160, 'respective': 3161, 'johnson': 3162, 'admission': 3163, 'headed': 3164, 'marines': 3165, 'navy': 3166, 'guard': 3167, 'reserve': 3168, 'puerto': 3169, 'rico': 3170, 'virgin': 3171, 'islands': 3172, 'guam': 3173, 'samoa': 3174, 'trust': 3175, 'territories': 3176, 'canal': 3177, 'zone': 3178, 'governmental': 3179, 'developments': 3180, 'mississippi': 3181, 'observing': 3182, 'scene': 3183, 'script': 3184, 'gazing': 3185, 'largely': 3186, 'unpredictability': 3187, 'operates': 3188, 'helm': 3189, 'ross': 3190, 'barnett': 3191, 'surrounded': 3192, 'keeps': 3193, 'foes': 3194, 'guessing': 3195, 'friends': 3196, 'consequently': 3197, 'scramble': 3198, 'predict': 3199, 'settle': 3200, 'iron': 3201, 'rough': 3202, 'edges': 3203, 'builtin': 3204, 'headache': 3205, 'steady': 3206, 'stream': 3207, 'jobseekers': 3208, 'commitments': 3209, 'eightyear': 3210, 'quest': 3211, 'decide': 3212, 'throw': 3213, 'nobody': 3214, 'lawmakers': 3215, 'enjoy': 3216, 'reenactment': 3217, 'strange': 3218, 'honeymoon': 3219, 'doesnt': 3220, 'decade': 3221, 'odds': 3222, 'restless': 3223, 'companionship': 3224, 'diem': 3225, 'agitating': 3226, 'withstand': 3227, 'sensitive': 3228, 'cutting': 3229, 'seat': 3230, 'eyes': 3231, 'focused': 3232, 'delta': 3233, 'congressman': 3234, 'smith': 3235, 'redistricting': 3236, 'longstanding': 3237, 'mississippis': 3238, 'crossroads': 3239, 'split': 3240, 'badly': 3241, 'equally': 3242, 'divided': 3243, 'camps': 3244, 'loyalists': 3245, 'independents': 3246, 'currently': 3247, 'wreck': 3248, 'clouded': 3249, 'titular': 3250, 'reestablish': 3251, 'loyalist': 3252, 'ranks': 3253, 'bypass': 3254, 'functionary': 3255, 'patronage': 3256, 'normally': 3257, 'flow': 3258, 'solidarity': 3259, 'picture': 3260, 'sens': 3261, 'eastland': 3262, 'stennis': 3263, 'remained': 3264, 'loyal': 3265, 'probable': 3266, 'stripped': 3267, 'flows': 3268, 'baton': 3269, 'rouge': 3270, 'jimmie': 3271, 'theme': 3272, 'harmony': 3273, 'severe': 3274, 'stresses': 3275, 'segregation': 3276, 'troublesome': 3277, 'vexing': 3278, 'finances': 3279, 'transition': 3280, 'hike': 3281, 'revenues': 3282, 'dedicated': 3283, 'tardiness': 3284, 'dedication': 3285, 'suspect': 3286, 'related': 3287, 'directly': 3288, 'shortage': 3289, 'cash': 3290, 'weary': 3291, 'indeed': 3292, 'curious': 3293, 'contributing': 3294, 'defeat': 3295, 'grantinaid': 3296, 'effectiveness': 3297, 'clearing': 3298, 'inconsistencies': 3299, 'play': 3300, 'determining': 3301, 'muster': 3302, 'reconvenes': 3303, 'normalcy': 3304, 'hands': 3305, 'integration': 3306, 'terminate': 3307, 'toss': 3308, 'towel': 3309, 'anyway': 3310, 'frustrated': 3311, 'sofar': 3312, 'losing': 3313, 'token': 3314, 'sort': 3315, 'politicos': 3316, 'acknowledge': 3317, 'convey': 3318, 'notion': 3319, 'though': 3320, 'ineffectual': 3321, 'continued': 3322, 'extra': 3323, 'unlikely': 3324, 'conclusion': 3325, 'purposes': 3326, 'perfect': 3327, 'consonance': 3328, 'acute': 3329, 'interesting': 3330, 'dilemma': 3331, 'forbids': 3332, 'introduction': 3333, 'expenses': 3334, 'inflate': 3335, 'constant': 3336, 'stab': 3337, 'raiser': 3338, 'prospect': 3339, 'spending': 3340, 'unpleasant': 3341, 'avoid': 3342, 'alternatives': 3343, 'blocked': 3344, 'trim': 3345, 'arouse': 3346, 'squeezed': 3347, 'trims': 3348, 'exert': 3349, 'receptive': 3350, 'confronting': 3351, 'tried': 3352, 'economize': 3353, 'revive': 3354, 'allegations': 3355, 'followers': 3356, 'affiliations': 3357, 'imprudently': 3358, 'housecleaning': 3359, 'depending': 3360, 'combat': 3361, 'alexander': 3362, 'hemphill': 3363, 'bids': 3364, 'frankford': 3365, 'elevated': 3366, 'rigged': 3367, 'contracting': 3368, 'citys': 3369, 'loss': 3370, 'ranged': 3371, 'shortcuts': 3372, 'unnoticed': 3373, 'steel': 3374, 'erection': 3375, 'contracted': 3376, 'impossibly': 3377, 'legitimate': 3378, 'competing': 3379, 'contractors': 3380, 'controllers': 3381, 'rigging': 3382, 'disclosures': 3383, 'sued': 3384, 'covering': 3385, 'contract': 3386, 'philadelphia': 3387, 'investigating': 3388, 'played': 3389, 'reviewing': 3390, 'signature': 3391, 'harold': 3392, 'varani': 3393, 'architecture': 3394, 'engineering': 3395, 'appeared': 3396, 'vouchers': 3397, 'certifying': 3398, 'fired': 3399, 'charges': 3400, 'accepting': 3401, 'contractor': 3402, 'managing': 3403, 'donald': 3404, 'cooperate': 3405, 'sharp': 3406, 'disagreement': 3407, 'sue': 3408, 'recovery': 3409, 'berger': 3410, 'morning': 3411, 'ptc': 3412, 'bankrupt': 3413, 'consolidated': 3414, 'industries': 3415, 'inc': 3416, 'reorganization': 3417, 'bankruptcy': 3418, 'directors': 3419, 'draw': 3420, 'crumlish': 3421, 'intervenes': 3422, 'pleas': 3423, 'bonding': 3424, 'travelers': 3425, 'indemnity': 3426, 'continental': 3427, 'casualty': 3428, 'bergers': 3429, 'intervened': 3430, 'preliminary': 3431, 'filing': 3432, 'claim': 3433, 'violated': 3434, 'violations': 3435, 'involve': 3436, 'expansion': 3437, 'joints': 3438, 'overhauling': 3439, 'repaired': 3440, 'wide': 3441, 'repairs': 3442, 'belanger': 3443, 'sons': 3444, 'cambridge': 3445, 'wont': 3446, 'headline': 3447, 'hooked': 3448, 'douglas': 3449, 'pratt': 3450, 'transit': 3451, 'samuel': 3452, 'goodis': 3453, 'objected': 3454, 'occupancy': 3455, 'rates': 3456, 'hotels': 3457, 'percent': 3458, 'objection': 3459, 'rooms': 3460, 'testifies': 3461, 'testimony': 3462, 'raise': 3463, 'rooming': 3464, 'houses': 3465, 'multifamily': 3466, 'dwellings': 3467, 'renewal': 3468, 'single': 3469, 'account': 3470, 'accomodations': 3471, 'apartment': 3472, 'leonard': 3473, 'kaplan': 3474, 'builders': 3475, 'behalf': 3476, 'dog': 3477, 'drew': 3478, 'councilwoman': 3479, 'virginia': 3480, 'knauer': 3481, 'formerly': 3482, 'pedigreed': 3483, 'dogs': 3484, 'males': 3485, 'females': 3486, 'flat': 3487, 'replies': 3488, 'owners': 3489, 'penalized': 3490, 'animal': 3491, 'leary': 3492, 'spends': 3493, 'annually': 3494, 'regulate': 3495, 'collects': 3496, 'spca': 3497, 'catchers': 3498, 'bites': 3499, 'backs': 3500, 'mcconnell': 3501, 'indorsed': 3502, 'adequately': 3503, 'compensated': 3504, 'schedule': 3505, 'inspections': 3506, 'barnet': 3507, 'lieberman': 3508, 'eugene': 3509, 'gillis': 3510, 'norristown': 3511, 'julian': 3512, 'barnard': 3513, 'montgomery': 3514, 'horace': 3515, 'davenport': 3516, 'widow': 3517, 'killed': 3518, 'barnards': 3519, 'hitrun': 3520, 'dannehower': 3521, 'pleaded': 3522, 'manslaughter': 3523, 'fined': 3524, 'warren': 3525, 'k': 3526, 'hess': 3527, 'probation': 3528, 'drive': 3529, 'driving': 3530, 'sentence': 3531, 'pronounced': 3532, 'victim': 3533, 'accident': 3534, 'lee': 3535, 'stansbery': 3536, 'reprimanded': 3537, 'violating': 3538, 'agreements': 3539, 'redevelopers': 3540, 'redevelopment': 3541, 'eastwick': 3542, 'hazards': 3543, 'pedestrians': 3544, 'corp': 3545, 'acre': 3546, 'tract': 3547, 'bounded': 3548, 'dicks': 3549, 'parks': 3550, 'designated': 3551, 'authoritys': 3552, 'feature': 3553, 'row': 3554, 'garden': 3555, 'apartments': 3556, 'churches': 3557, 'clusters': 3558, 'corporation': 3559, 'formed': 3560, 'reynolds': 3561, 'metal': 3562, 'builder': 3563, 'second': 3564, 'developing': 3565, 'constantinos': 3566, 'doxiadis': 3567, 'greece': 3568, 'planner': 3569, 'sectors': 3570, 'barred': 3571, 'vehicular': 3572, 'landscaped': 3573, 'walkways': 3574, 'esplanade': 3575, 'entire': 3576, 'twoandahalfmile': 3577, 'length': 3578, 'eliminates': 3579, 'grovers': 3580, 'ran': 3581, 'pedestrian': 3582, 'bridges': 3583, 'kansas': 3584, 'mo': 3585, 'upi': 3586, 'fighters': 3587, 'severly': 3588, 'injured': 3589, 'bomb': 3590, 'tore': 3591, 'battalion': 3592, 'stanton': 3593, 'gladden': 3594, 'figure': 3595, 'representation': 3596, 'teamsters': 3597, 'suffered': 3598, 'multiple': 3599, 'fractures': 3600, 'ankles': 3601, 'baptist': 3602, 'memorial': 3603, 'ignition': 3604, 'sets': 3605, 'blast': 3606, 'driveway': 3607, 'id': 3608, 'flash': 3609, 'lying': 3610, 'gladdens': 3611, 'younger': 3612, 'boy': 3613, 'knocked': 3614, 'bed': 3615, 'wall': 3616, 'hood': 3617, 'flies': 3618, 'flying': 3619, 'roof': 3620, 'front': 3621, 'wheel': 3622, 'landed': 3623, 'away': 3624, 'laboratory': 3625, 'explosive': 3626, 'device': 3627, 'containing': 3628, 'tnt': 3629, 'nitroglycerine': 3630, 'starter': 3631, 'target': 3632, 'threatening': 3633, 'torn': 3634, 'dissension': 3635, 'outspoken': 3636, 'critic': 3637, 'unions': 3638, 'began': 3639, 'organizing': 3640, 'firemen': 3641, 'reward': 3642, 'bombing': 3643, 'associations': 3644, 'kas': 3645, 'guards': 3646, 'mining': 3647, 'shiflett': 3648, 'secretarytreasurer': 3649, 'active': 3650, 'ankara': 3651, 'turkey': 3652, 'oct': 3653, 'ap': 3654, 'turkish': 3655, 'bowed': 3656, 'emergency': 3657, 'cemal': 3658, 'gursel': 3659, 'contested': 3660, 'indecisive': 3661, 'bargaining': 3662, 'threat': 3663, 'coup': 3664, 'detat': 3665, 'bypassing': 3666, 'junta': 3667, 'overthrow': 3668, 'adnan': 3669, 'menderes': 3670, 'cedvet': 3671, 'sunay': 3672, 'deadline': 3673, 'join': 3674, 'threatened': 3675, 'failed': 3676, 'protocol': 3677, 'agreeing': 3678, 'demanded': 3679, 'pledges': 3680, 'pardoned': 3681, 'satisfied': 3682, 'stated': 3683, 'solution': 3684, 'created': 3685, 'vincent': 3686, 'ierulli': 3687, 'temporary': 3688, 'desmond': 3689, 'connall': 3690, 'practicing': 3691, 'portland': 3692, 'graduate': 3693, 'northwestern': 3694, 'father': 3695, 'helping': 3696, 'structure': 3697, 'aiding': 3698, 'economically': 3699, 'multnomah': 3700, 'paths': 3701, 'identical': 3702, 'congenial': 3703, 'adding': 3704, 'develop': 3705, 'society': 3706, 'ritiuality': 3707, 'loyalty': 3708, 'patience': 3709, 'insuring': 3710, 'detriment': 3711, 'germany': 3712, 'rebel': 3713, 'century': 3714, 'doors': 3715, 'gives': 3716, 'peoples': 3717, 'compare': 3718, 'reason': 3719, 'fear': 3720, 'extraordinarily': 3721, 'absorb': 3722, 'exported': 3723, 'goods': 3724, 'products': 3725, 'total': 3726, 'towards': 3727, 'portlands': 3728, 'advice': 3729, 'coordination': 3730, 'plea': 3731, 'ralph': 3732, 'molvar': 3733, 'sw': 3734, 'maplecrest': 3735, 'thought': 3736, 'cooperating': 3737, 'mears': 3738, 'strictly': 3739, 'melvin': 3740, 'barnes': 3741, 'waiting': 3742, 'sure': 3743, 'whatever': 3744, 'fruitful': 3745, 'los': 3746, 'angeles': 3747, 'send': 3748, 'disaster': 3749, 'evacuate': 3750, 'everybody': 3751, 'voice': 3752, 'reiterating': 3753, 'please': 3754, 'faith': 3755, 'somebody': 3756, 'everyone': 3757, 'rush': 3758, 'evacuation': 3759, 'lots': 3760, 'realistic': 3761, 'jack': 3762, 'lowes': 3763, 'instructed': 3764, 'salem': 3765, 'statewide': 3766, 'mothers': 3767, 'greeting': 3768, 'mark': 3769, 'hatfield': 3770, 'reception': 3771, 'noon': 3772, 'emerald': 3773, 'empire': 3774, 'kiwanis': 3775, 'speak': 3776, 'willamette': 3777, 'swearing': 3778, 'bryson': 3779, 'circuit': 3780, 'washingtonoregon': 3781, 'game': 3782, 'beaverton': 3783, 'examined': 3784, 'blueprints': 3785, 'specifications': 3786, 'workshop': 3787, 'masonic': 3788, 'temple': 3789, 'aplate': 3790, 'dinner': 3791, 'honoring': 3792, 'organized': 3793, 'pm': 3794, 'roosevelt': 3795, 'blaine': 3796, 'whipple': 3797, 'oregon': 3798, 'speakers': 3799, 'fundraising': 3800, 'edith': 3801, 'al': 3802, 'ullman': 3803, 'norman': 3804, 'nilsen': 3805, 'terry': 3806, 'schrunk': 3807, 'oak': 3808, 'grove': 3809, 'lodge': 3810, 'dec': 3811, 'salter': 3812, 'seeks': 3813, 'huffman': 3814, 'fiveyear': 3815, 'brod': 3816, 'barbara': 3817, 'njust': 3818, 'bubenik': 3819, 'vacated': 3820, 'hugh': 3821, 'stout': 3822, 'twoyear': 3823, 'culbertson': 3824, 'steeves': 3825, 'piersee': 3826, 'wm': 3827, 'sexton': 3828, 'theodore': 3829, 'heitschmidt': 3830, 'stronger': 3831, 'beliefs': 3832, 'grasp': 3833, 'delegates': 3834, 'assemblies': 3835, 'god': 3836, 'coliseum': 3837, 'strengthen': 3838, 'denominations': 3839, 'modern': 3840, 'trends': 3841, 'bible': 3842, 'belief': 3843, 'dependence': 3844, 'rev': 3845, 'zimmerman': 3846, 'bulwark': 3847, 'fundamentalism': 3848, 'compromise': 3849, 'truths': 3850, 'editing': 3851, 'clarification': 3852, 'denomination': 3853, 'reads': 3854, 'scriptures': 3855, 'testament': 3856, 'verbally': 3857, 'inspired': 3858, 'revelation': 3859, 'infallible': 3860, 'authoritative': 3861, 'conduct': 3862, 'emphasizes': 3863, 'diety': 3864, 'lord': 3865, 'jesus': 3866, 'christ': 3867, 'sinless': 3868, 'substitutionary': 3869, 'bodily': 3870, 'resurrection': 3871, 'exaltation': 3872, 'super': 3873, 'consecutive': 3874, 'springfield': 3875, 'nominating': 3876, 'forthcoming': 3877, 'breakthrough': 3878, 'opening': 3879, 'brandt': 3880, 'missions': 3881, 'stressed': 3882, 'surveys': 3883, 'contact': 3884, 'loses': 3885, 'talking': 3886, 'upwards': 3887, 'babies': 3888, 'born': 3889, 'immigrant': 3890, 'light': 3891, 'illinois': 3892, 'england': 3893, 'vision': 3894, 'accomplish': 3895, 'necessitate': 3896, 'meets': 3897, 'churchs': 3898, 'ability': 3899, 'capsule': 3900, 'includes': 3901, 'engaging': 3902, 'mature': 3903, 'pioneer': 3904, 'strategic': 3905, 'centers': 3906, 'surrounding': 3907, 'pastors': 3908, 'volunteers': 3909, 'laymen': 3910, 'lending': 3911, 'arranging': 3912, 'ministerial': 3913, 'graduates': 3914, 'apprentices': 3915, 'wellestablished': 3916, 'dist': 3917, 'powell': 3918, 'motions': 3919, 'fraud': 3920, 'denials': 3921, 'dismissal': 3922, 'mistrial': 3923, 'acquittal': 3924, 'striking': 3925, 'verdict': 3926, 'denying': 3927, 'trials': 3928, 'upheld': 3929, 'conspirators': 3930, 'schwab': 3931, 'defendant': 3932, 'philip': 3933, 'weinstein': 3934, 'linking': 3935, 'proof': 3936, 'weinsteins': 3937, 'mails': 3938, 'defraud': 3939, 'burbank': 3940, 'conpired': 3941, 'deferred': 3942, 'miami': 3943, 'fla': 3944, 'orioles': 3945, 'distinction': 3946, 'winless': 3947, 'majorleague': 3948, 'dropped': 3949, 'straight': 3950, 'exhibition': 3951, 'athletics': 3952, 'indications': 3953, 'late': 3954, 'birds': 3955, 'draught': 3956, 'coasted': 3957, 'siebern': 3958, 'hits': 3959, 'homer': 3960, 'frames': 3961, 'fisher': 3962, 'righthander': 3963, 'oriole': 3964, 'pennant': 3965, 'scoreless': 3966, 'yielding': 3967, 'dick': 3968, 'hyde': 3969, 'submarineball': 3970, 'hurler': 3971, 'entered': 3972, 'contest': 3973, 'batters': 3974, 'existed': 3975, 'deadlock': 3976, 'tworun': 3977, 'solo': 3978, 'tuttle': 3979, 'runs': 3980, 'eighth': 3981, 'ninth': 3982, 'fifth': 3983, 'throws': 3984, 'wild': 3985, 'marv': 3986, 'throneberry': 3987, 'stole': 3988, 'fanned': 3989, 'catcher': 3990, 'nab': 3991, 'dirt': 3992, 'heywood': 3993, 'sullivan': 3994, 'singled': 3995, 'proved': 3996, 'winning': 3997, 'rookie': 3998, 'southpaw': 3999, 'stepanovich': 4000, 'relieved': 4001, 'tally': 4002, 'baseman': 4003, 'howser': 4004, 'pitch': 4005, 'ciprianis': 4006, 'shortstop': 4007, 'jerry': 4008, 'adairs': 4009, 'glove': 4010, 'performed': 4011, 'plate': 4012, 'powderpuff': 4013, 'fashion': 4014, 'blows': 4015, 'offerings': 4016, 'pitchers': 4017, 'doubles': 4018, 'brooks': 4019, 'robinson': 4020, 'pair': 4021, 'breeding': 4022, 'hartman': 4023, 'kunkel': 4024, 'bob': 4025, 'ed': 4026, 'keegan': 4027, 'mound': 4028, 'chores': 4029, 'palm': 4030, 'stadium': 4031, 'fourth': 4032, 'purchased': 4033, 'milwaukee': 4034, 'braves': 4035, 'threeinning': 4036, 'appearance': 4037, 'merited': 4038, 'triumph': 4039, 'footinch': 4040, 'pounder': 4041, 'safeties': 4042, 'escaping': 4043, 'double': 4044, 'fence': 4045, 'deep': 4046, 'whitey': 4047, 'herzog': 4048, 'fielded': 4049, 'possibly': 4050, 'strongest': 4051, 'balls': 4052, 'pinchhitters': 4053, 'pete': 4054, 'failing': 4055, 'bunt': 4056, 'popped': 4057, 'grass': 4058, 'short': 4059, 'batting': 4060, 'adair': 4061, 'fouling': 4062, 'pitches': 4063, 'buddy': 4064, 'barker': 4065, 'bounced': 4066, 'lumpe': 4067, 'hourandminute': 4068, 'inning': 4069, 'moved': 4070, 'russ': 4071, 'snyders': 4072, 'crossed': 4073, 'kunkels': 4074, 'flock': 4075, 'tallies': 4076, 'jackie': 4077, 'hole': 4078, 'errs': 4079, 'gentile': 4080, 'beat': 4081, 'grabbed': 4082, 'ball': 4083, 'threw': 4084, 'throneberrys': 4085, 'error': 4086, 'slammed': 4087, 'runners': 4088, 'stretch': 4089, 'blow': 4090, 'triple': 4091, 'andy': 4092, 'rundown': 4093, 'scoring': 4094, 'batter': 4095, 'romped': 4096, 'blasted': 4097, 'hydes': 4098, 'scoreboard': 4099, 'singles': 4100, 'slowbouncing': 4101, 'hit': 4102, 'rapped': 4103, 'fast': 4104, 'tuttles': 4105, 'foot': 4106, 'break': 4107, 'streak': 4108, 'champion': 4109, 'yankees': 4110, 'flavor': 4111, 'baltimores': 4112, 'florida': 4113, 'grapefruit': 4114, 'news': 4115, 'ripened': 4116, 'ron': 4117, 'hansen': 4118, 'armys': 4119, 'belated': 4120, 'slugged': 4121, 'homers': 4122, 'drove': 4123, 'freshman': 4124, 'squad': 4125, 'players': 4126, 'yearold': 4127, 'rookieoftheyear': 4128, 'flew': 4129, 'baltimore': 4130, 'signed': 4131, 'spectator': 4132, 'tonights': 4133, 'pounds': 4134, 'lighter': 4135, 'inch': 4136, 'checked': 4137, 'reporting': 4138, 'weight': 4139, 'melt': 4140, 'breaks': 4141, 'camp': 4142, 'hence': 4143, 'inducted': 4144, 'knox': 4145, 'ky': 4146, 'hansens': 4147, 'physically': 4148, 'carrying': 4149, 'improved': 4150, 'fielding': 4151, 'rangy': 4152, 'albany': 4153, 'cal': 4154, 'surprise': 4155, 'slugging': 4156, 'sensation': 4157, 'defensive': 4158, 'whiz': 4159, 'hitters': 4160, 'engage': 4161, 'workout': 4162, 'prior': 4163, 'twogame': 4164, 'skinny': 4165, 'brown': 4166, 'hoyt': 4167, 'wilhelm': 4168, 'flocks': 4169, 'knuckleball': 4170, 'specialists': 4171, 'slated': 4172, 'champions': 4173, 'tomorrows': 4174, 'duren': 4175, 'sheldon': 4176, 'ryne': 4177, 'roland': 4178, 'posted': 4179, 'yanks': 4180, 'auburn': 4181, 'ny': 4182, 'farm': 4183, 'classd': 4184, 'yorkpennsylvania': 4185, 'twentyoneyearold': 4186, 'milt': 4187, 'pappas': 4188, 'walker': 4189, 'bombers': 4190, 'art': 4191, 'ditmar': 4192, 'sundays': 4193, 'houk': 4194, 'casey': 4195, 'stengel': 4196, 'yankee': 4197, 'petersburg': 4198, 'dimaggio': 4199, 'crowds': 4200, 'games': 4201, 'famed': 4202, 'clipper': 4203, 'assisting': 4204, 'coach': 4205, 'pitcher': 4206, 'steve': 4207, 'completing': 4208, 'hitch': 4209, 'accelerated': 4210, 'wintertime': 4211, 'enlisted': 4212, 'bulky': 4213, 'springtraining': 4214, 'contingent': 4215, 'richards': 4216, 'coaches': 4217, 'streamlined': 4218, 'workable': 4219, 'bird': 4220, 'sacker': 4221, 'bat': 4222, 'thirdinning': 4223, 'leftcenterfield': 4224, 'celebrate': 4225, 'robinsons': 4226, 'pretty': 4227, 'connie': 4228, 'unfortunately': 4229, 'brookss': 4230, 'teammates': 4231, 'festive': 4232, 'expired': 4233, 'sevenhit': 4234, 'pitching': 4235, 'hurlers': 4236, 'arrived': 4237, 'nightfall': 4238, 'macphail': 4239, 'iglehart': 4240, 'dunn': 4241, 'flight': 4242, 'delayed': 4243, 'boarding': 4244, 'ramp': 4245, 'inflicted': 4246, 'damage': 4247, 'wing': 4248, 'plane': 4249, 'exoriole': 4250, 'clint': 4251, 'courtney': 4252, 'catching': 4253, 'leagues': 4254, 'shouldda': 4255, 'tokyo': 4256, 'scrapiron': 4257, 'wed': 4258, 'someplace': 4259, 'bowie': 4260, 'md': 4261, 'jrs': 4262, 'fresh': 4263, 'filly': 4264, 'downed': 4265, 'promising': 4266, 'colts': 4267, 'patricks': 4268, 'purse': 4269, 'seventh': 4270, 'toying': 4271, 'stages': 4272, 'jockey': 4273, 'grimm': 4274, 'furlongs': 4275, 'races': 4276, 'forbess': 4277, 'paget': 4278, 'substantial': 4279, 'lead': 4280, 'tired': 4281, 'nearing': 4282, 'wire': 4283, 'save': 4284, 'glen': 4285, 'hallowells': 4286, 'milties': 4287, 'bright': 4288, 'sun': 4289, 'brisk': 4290, 'condition': 4291, 'patty': 4292, 'celebrants': 4293, 'wellprepared': 4294, 'stewards': 4295, 'apprentice': 4296, 'verrone': 4297, 'suspended': 4298, 'ten': 4299, 'crowding': 4300, 'horses': 4301, 'crossing': 4302, 'culmone': 4303, 'gets': 4304, 'mating': 4305, 'self': 4306, 'rosy': 4307, 'fingered': 4308, 'allowance': 4309, 'claiming': 4310, 'cleveland': 4311, 'kerr': 4312, 'swiftstriding': 4313, 'jamaican': 4314, 'yard': 4315, 'knights': 4316, 'columbus': 4317, 'purdues': 4318, 'dave': 4319, 'mills': 4320, 'duel': 4321, 'clocking': 4322, 'wiped': 4323, 'millss': 4324, 'quartermile': 4325, 'king': 4326, 'yards': 4327, 'mal': 4328, 'whitfield': 4329, 'thirds': 4330, 'straightaway': 4331, 'turn': 4332, 'timed': 4333, 'twentyfirst': 4334, 'indoor': 4335, 'season': 4336, 'thrill': 4337, 'slender': 4338, 'bespectacled': 4339, 'woman': 4340, 'broke': 4341, 'oneweekold': 4342, 'halfmile': 4343, 'grace': 4344, 'butcher': 4345, 'nearby': 4346, 'chardon': 4347, 'housewife': 4348, 'finished': 4349, 'snapped': 4350, 'tenths': 4351, 'helen': 4352, 'shipley': 4353, 'wellsley': 4354, 'aau': 4355, 'ohio': 4356, 'francisco': 4357, 'bobby': 4358, 'sylvania': 4359, 'ga': 4360, 'relief': 4361, 'quarterback': 4362, 'ers': 4363, 'undergo': 4364, 'knee': 4365, 'franklin': 4366, 'swelling': 4367, 'consult': 4368, 'physician': 4369, 'tony': 4370, 'kubek': 4371, 'eleventh': 4372, 'donated': 4373, 'unearned': 4374, 'chicago': 4375, 'sox': 4376, 'halfback': 4377, 'teams': 4378, 'plays': 4379, 'eldon': 4380, 'moritz': 4381, 'southwest': 4382, 'clock': 4383, 'kick': 4384, 'nose': 4385, 'hip': 4386, 'pads': 4387, 'longhorn': 4388, 'favored': 4389, 'cotton': 4390, 'bowl': 4391, 'thats': 4392, 'kicked': 4393, 'tries': 4394, 'string': 4395, 'conversions': 4396, 'astray': 4397, 'slaughter': 4398, 'roster': 4399, 'lettered': 4400, 'darrell': 4401, 'placekicker': 4402, 'pound': 4403, 'stamford': 4404, 'placekicking': 4405, 'bothered': 4406, 'muscle': 4407, 'thigh': 4408, 'kicking': 4409, 'leg': 4410, 'barely': 4411, 'playing': 4412, 'anson': 4413, 'playoff': 4414, 'hampered': 4415, 'injury': 4416, 'missed': 4417, 'ailing': 4418, 'statistical': 4419, 'net': 4420, 'punted': 4421, 'scholastically': 4422, 'ineligible': 4423, 'timing': 4424, 'theres': 4425, 'ive': 4426, 'seem': 4427, 'practice': 4428, 'helps': 4429, 'golf': 4430, 'swing': 4431, 'kicks': 4432, 'kinda': 4433, 'longhorns': 4434, 'scored': 4435, 'yardage': 4436, 'completions': 4437, 'attempts': 4438, 'tailback': 4439, 'saxton': 4440, 'surpassed': 4441, 'rushing': 4442, 'brilliant': 4443, 'sophomore': 4444, 'netted': 4445, 'secondhalf': 4446, 'kickoff': 4447, 'gained': 4448, 'uncorked': 4449, 'touchdown': 4450, 'wingback': 4451, 'insists': 4452, 'hell': 4453, 'conferences': 4454, 'prevailed': 4455, 'smu': 4456, 'coaching': 4457, 'rice': 4458, 'mustangs': 4459, 'happy': 4460, 'meek': 4461, 'academy': 4462, 'kids': 4463, 'stayed': 4464, 'weve': 4465, 'richey': 4466, 'cudmore': 4467, 'particular': 4468, 'gratification': 4469, 'performances': 4470, 'nelson': 4471, 'billy': 4472, 'gannon': 4473, 'magnificent': 4474, 'interference': 4475, 'stops': 4476, 'fumble': 4477, 'fullback': 4478, 'nick': 4479, 'arshinkoff': 4480, 'loose': 4481, 'contributed': 4482, 'falcons': 4483, 'aerial': 4484, 'thrusts': 4485, 'fourthdown': 4486, 'screen': 4487, 'mustang': 4488, 'incomplete': 4489, 'gannons': 4490, 'spotted': 4491, 'isaacson': 4492, 'crucified': 4493, 'nailed': 4494, 'mcnaughton': 4495, 'intercepted': 4496, 'lay': 4497, 'waited': 4498, 'mike': 4499, 'kelsey': 4500, 'doubtful': 4501, 'blind': 4502, 'definitely': 4503, 'ligament': 4504, 'injuring': 4505, 'opener': 4506, 'maryland': 4507, 'lot': 4508, 'film': 4509, 'reserves': 4510, 'scrimmaged': 4511, 'scrimmage': 4512, 'taper': 4513, 'owls': 4514, 'huddle': 4515, 'hearsay': 4516, 'techs': 4517, 'sweatsuits': 4518, 'drill': 4519, 'lubbock': 4520, 'tackle': 4521, 'stafford': 4522, 'undergoing': 4523, 'treatment': 4524, 'raiders': 4525, 'baylor': 4526, 'rain': 4527, 'mud': 4528, 'gene': 4529, 'raesz': 4530, 'lsu': 4531, 'nichols': 4532, 'idleness': 4533, 'ankle': 4534, 'aggies': 4535, 'myers': 4536, 'hargett': 4537, 'shaken': 4538, 'tech': 4539, 'trinity': 4540, 'bud': 4541, 'priddy': 4542, 'slowlymending': 4543, 'sprained': 4544, 'tcus': 4545, 'denver': 4546, 'broncos': 4547, 'buffalo': 4548, 'hank': 4549, 'strams': 4550, 'preseason': 4551, 'reckonings': 4552, 'buster': 4553, 'ramsey': 4554, 'collectors': 4555, 'quarterbacks': 4556, 'productive': 4557, 'exnational': 4558, 'leaguers': 4559, 'rabb': 4560, 'louisiana': 4561, 'upset': 4562, 'oilers': 4563, 'defending': 4564, 'exclaimed': 4565, 'stram': 4566, 'mutter': 4567, 'splendid': 4568, 'whip': 4569, 'dangerous': 4570, 'broncs': 4571, 'fullbacking': 4572, 'star': 4573, 'spikes': 4574, 'interior': 4575, 'linebackers': 4576, 'exceptionally': 4577, 'movies': 4578, 'davidson': 4579, 'throwing': 4580, 'passes': 4581, 'bang': 4582, 'touchdowns': 4583, 'strikes': 4584, 'tactic': 4585, 'controlling': 4586, 'giving': 4587, 'abner': 4588, 'haynes': 4589, 'flashy': 4590, 'ballcarriers': 4591, 'delivered': 4592, 'comforting': 4593, 'denvers': 4594, 'carmichael': 4595, 'jarred': 4596, 'grayson': 4597, 'speedy': 4598, 'claimed': 4599, 'resulted': 4600, 'quipping': 4601, 'book': 4602, 'dent': 4603, 'statistics': 4604, 'spree': 4605, 'swc': 4606, 'tosses': 4607, 'tough': 4608, 'tcu': 4609, 'bulge': 4610, 'loop': 4611, 'leads': 4612, 'pergame': 4613, 'averages': 4614, 'baylors': 4615, 'idle': 4616, 'unofficial': 4617, 'checks': 4618, 'liveliness': 4619, 'baseballs': 4620, 'ordered': 4621, 'tests': 4622, 'nischwitz': 4623, 'pinpoint': 4624, 'bears': 4625, 'indianapolis': 4626, 'husky': 4627, 'lefthander': 4628, 'command': 4629, 'onthescene': 4630, 'countless': 4631, 'viewers': 4632, 'grizzlies': 4633, 'louisville': 4634, 'pack': 4635, 'walked': 4636, 'charley': 4637, 'hinton': 4638, 'innings': 4639, 'unusual': 4640, 'characteristic': 4641, 'lagged': 4642, 'mcauliffe': 4643, 'cracked': 4644, 'lefty': 4645, 'rudolph': 4646, 'paschal': 4647, 'gruonded': 4648, 'jay': 4649, 'cooke': 4650, 'mcdaniel': 4651, 'alusik': 4652, 'porter': 4653, 'bases': 4654, 'werts': 4655, 'smash': 4656, 'putout': 4657, 'leftfield': 4658, 'rightfield': 4659, 'phil': 4660, 'shartzers': 4661, 'hitter': 4662, 'indians': 4663, 'bunched': 4664, 'chuck': 4665, 'tripled': 4666, 'cliff': 4667, 'dan': 4668, 'pavletich': 4669, 'gaines': 4670, 'infield': 4671, 'roller': 4672, 'accounted': 4673, 'alusiks': 4674, 'outfield': 4675, 'wert': 4676, 'hammered': 4677, 'clicked': 4678, 'chico': 4679, 'ruiz': 4680, 'spectacular': 4681, 'grounder': 4682, 'showed': 4683, 'arm': 4684, 'bingles': 4685, 'bobbles': 4686, 'tribes': 4687, 'seasons': 4688, 'obvious': 4689, 'refocusing': 4690, 'lights': 4691, 'flooded': 4692, 'dark': 4693, 'dobbs': 4694, 'organ': 4695, 'exotic': 4696, 'dancer': 4697, 'patti': 4698, 'waggin': 4699, 'wyman': 4700, 'tsitouris': 4701, 'oclock': 4702, 'donnelly': 4703, 'kenny': 4704, 'lane': 4705, 'muskegon': 4706, 'mich': 4707, 'worlds': 4708, 'ranked': 4709, 'lightweight': 4710, 'rip': 4711, 'randall': 4712, 'paulminneapolis': 4713, 'gardners': 4714, 'eluded': 4715, 'diving': 4716, 'minnie': 4717, 'minoso': 4718, 'lemon': 4719, 'minnesota': 4720, 'twins': 4721, 'liner': 4722, 'fans': 4723, 'batted': 4724, 'turk': 4725, 'lown': 4726, 'tagged': 4727, 'ray': 4728, 'moore': 4729, 'reno': 4730, 'bertoia': 4731, 'chopper': 4732, 'lenny': 4733, 'greens': 4734, 'pop': 4735, 'fly': 4736, 'roy': 4737, 'sievers': 4738, 'camilo': 4739, 'carreon': 4740, 'sacrifice': 4741, 'landis': 4742, 'harmon': 4743, 'killebrew': 4744, 'bottom': 4745, 'walking': 4746, 'allison': 4747, 'aboard': 4748, 'smiths': 4749, 'carreons': 4750, 'allisons': 4751, 'runscoring': 4752, 'baser': 4753, 'solid': 4754, 'ogden': 4755, 'utah': 4756, 'outfielder': 4757, 'jensen': 4758, 'baseball': 4759, 'newsman': 4760, 'reflexes': 4761, 'sudden': 4762, 'walkout': 4763, 'atbats': 4764, 'train': 4765, 'anybody': 4766, 'newsmen': 4767, 'trip': 4768, 'nev': 4769, 'olympic': 4770, 'zoe': 4771, 'ann': 4772, 'olsen': 4773, 'awaited': 4774, 'heading': 4775, 'speculating': 4776, 'hurting': 4777, 'bostons': 4778, 'chances': 4779, 'pacific': 4780, 'streamliner': 4781, 'sports': 4782, 'writer': 4783, 'ensign': 4784, 'ritchie': 4785, 'standard': 4786, 'examiner': 4787, 'compartment': 4788, 'conductor': 4789, 'mad': 4790, 'magazine': 4791, 'cold': 4792, 'liston': 4793, 'doublecrosser': 4794, 'anything': 4795, 'keyhole': 4796, 'traveler': 4797, 'quoted': 4798, 'anymore': 4799, 'suddenly': 4800, 'grip': 4801, 'masses': 4802, 'pops': 4803, 'heroics': 4804, 'tongues': 4805, 'wagging': 4806, 'spahn': 4807, 'nohit': 4808, 'masterpiece': 4809, 'giants': 4810, 'willie': 4811, 'mays': 4812, 'retaliating': 4813, 'recordtying': 4814, 'remarkable': 4815, 'feats': 4816, 'embossed': 4817, 'rightfully': 4818, 'pastime': 4819, 'cherished': 4820, 'achievements': 4821, 'elderly': 4822, 'spahns': 4823, 'hitless': 4824, 'hearts': 4825, 'stimulant': 4826, 'guys': 4827, 'scoreyear': 4828, 'milestone': 4829, 'rookies': 4830, 'sighed': 4831, 'topgrade': 4832, 'leaguer': 4833, 'waved': 4834, 'laurels': 4835, 'surely': 4836, 'belonging': 4837, 'alltime': 4838, 'lefthanders': 4839, 'carl': 4840, 'hubbell': 4841, 'herb': 4842, 'pennock': 4843, 'nehf': 4844, 'vernon': 4845, 'gomez': 4846, 'et': 4847, 'gentlemanly': 4848, 'player': 4849, 'beardown': 4850, 'meaningless': 4851, 'spahnie': 4852, 'enos': 4853, 'guy': 4854, 'clubhouse': 4855, 'reaches': 4856, 'sluggers': 4857, 'walloped': 4858, 'span': 4859, 'incidentally': 4860, 'lowe': 4861, 'gil': 4862, 'hodges': 4863, 'trick': 4864, 'brooklyns': 4865, 'ebbetts': 4866, 'delahanty': 4867, 'klein': 4868, 'phillies': 4869, 'adcock': 4870, 'lou': 4871, 'gehrig': 4872, 'pat': 4873, 'seerey': 4874, 'rocky': 4875, 'colavito': 4876, 'willies': 4877, 'revived': 4878, 'argument': 4879, 'merits': 4880, 'mickey': 4881, 'mantle': 4882, 'boils': 4883, 'fan': 4884, 'anti': 4885, 'proyankee': 4886, 'ace': 4887, 'lifetime': 4888, 'mickeys': 4889, 'anemic': 4890, 'windy': 4891, 'candlestick': 4892, 'milwaukees': 4893, 'forever': 4894, 'mystery': 4895, 'hitting': 4896, 'distressing': 4897, 'slump': 4898, 'denverarea': 4899, 'tv': 4900, 'privileged': 4901, 'arrangement': 4902, 'howsam': 4903, 'blacked': 4904, 'blackout': 4905, 'televised': 4906, 'rulers': 4907, 'helpless': 4908, 'cbs': 4909, 'network': 4910, 'abide': 4911, 'nbc': 4912, 'afternoons': 4913, 'arise': 4914, 'irritable': 4915, 'harm': 4916, 'purposely': 4917, 'dissatisfaction': 4918, 'howsams': 4919, 'video': 4920, 'terminated': 4921, 'cincinnati': 4922, 'powerful': 4923, 'romp': 4924, 'outclassed': 4925, 'crushing': 4926, 'reds': 4927, 'humiliating': 4928, 'barrage': 4929, 'loosely': 4930, 'finale': 4931, 'yogi': 4932, 'berra': 4933, 'injuries': 4934, 'champs': 4935, 'mounted': 4936, 'johnny': 4937, 'blanchard': 4938, 'mantles': 4939, 'replacement': 4940, 'routed': 4941, 'loser': 4942, 'joey': 4943, 'hector': 4944, 'lopez': 4945, 'subbing': 4946, 'smashed': 4947, 'applaud': 4948, 'bleachers': 4949, 'momentarily': 4950, 'trailing': 4951, 'fizzled': 4952, 'edwards': 4953, 'fouled': 4954, 'wally': 4955, 'slashed': 4956, 'daley': 4957, 'bucky': 4958, 'boymanager': 4959, 'eddie': 4960, 'dyer': 4961, 'cardinals': 4962, 'accomplished': 4963, 'feat': 4964, 'skorich': 4965, 'eagles': 4966, 'threeyear': 4967, 'buck': 4968, 'shaw': 4969, 'retain': 4970, 'shaws': 4971, 'charlie': 4972, 'gauer': 4973, 'ends': 4974, 'selection': 4975, 'logical': 4976, 'van': 4977, 'brocklin': 4978, 'permission': 4979, 'vikings': 4980, 'newest': 4981, 'entry': 4982, 'refused': 4983, 'reconsider': 4984, 'depended': 4985, 'brocklins': 4986, 'aerials': 4987, 'advocate': 4988, 'balanced': 4989, 'lineman': 4990, 'jock': 4991, 'sutherland': 4992, 'pittsburgh': 4993, 'steelers': 4994, 'quit': 4995, 'catholic': 4996, 'rensselaer': 4997, 'polytechnic': 4998, 'troy': 4999, 'rejoining': 5000, 'packers': 5001, 'auspiciously': 5002, 'ceremony': 5003, 'richardson': 5004, 'dilworth': 5005, 'championship': 5006, 'engrossed': 5007, 'silver': 5008, 'cufflinks': 5009, 'shaped': 5010, 'award': 5011, 'shea': 5012, 'awards': 5013, 'nights': 5014, 'thirtyeighth': 5015, 'chapter': 5016, 'writers': 5017, 'waldorfastoria': 5018, 'wagners': 5019, 'dais': 5020, 'graham': 5021, 'journalamerican': 5022, 'columnist': 5023, 'mazeroski': 5024, 'pirates': 5025, 'ben': 5026, 'epstein': 5027, 'babe': 5028, 'ruth': 5029, 'outstanding': 5030, 'meritorious': 5031, 'slocum': 5032, 'sid': 5033, 'mercer': 5034, 'follows': 5035, 'lampoon': 5036, 'personalities': 5037, 'skit': 5038, 'dance': 5039, 'song': 5040, 'prominent': 5041, 'background': 5042, 'imminent': 5043, 'farley': 5044, 'bernard': 5045, 'gimbel': 5046, 'blume': 5047, 'relentlessly': 5048, 'departure': 5049, 'dodgers': 5050, 'california': 5051, 'barriers': 5052, 'disappointments': 5053, 'convince': 5054, 'branch': 5055, 'rickeys': 5056, 'formation': 5057, 'franchise': 5058, 'majors': 5059, 'flushing': 5060, 'shipman': 5061, 'payson': 5062, 'bigleague': 5063, 'meadow': 5064, 'lease': 5065, 'ford': 5066, 'frick': 5067, 'sheas': 5068, 'prominently': 5069, 'nori': 5070, 'sands': 5071, 'kathy': 5072, 'patricia': 5073, 'switching': 5074, 'georgetown': 5075, 'owned': 5076, 'ted': 5077, 'roger': 5078, 'maris': 5079, 'winner': 5080, 'mostvaluableplayer': 5081, 'hamey': 5082, 'arnold': 5083, 'palmer': 5084, 'snead': 5085, 'metropolitan': 5086, 'golfs': 5087, 'moneywinner': 5088, 'saluted': 5089, 'cup': 5090, 'matches': 5091, 'dublin': 5092, 'deane': 5093, 'beman': 5094, 'amateur': 5095, 'gardner': 5096, 'titleholder': 5097, 'gold': 5098, 'tee': 5099, 'sponsorship': 5100, 'charity': 5101, 'tournaments': 5102, 'horton': 5103, 'golfers': 5104, 'hogan': 5105, 'trophy': 5106, 'comeback': 5107, 'stuart': 5108, 'symington': 5109, 'missouri': 5110, 'golden': 5111, 'blazing': 5112, 'prize': 5113, 'heralded': 5114, 'sportsman': 5115, 'illustrated': 5116, 'rochester': 5117, 'athlete': 5118, 'diamondstudded': 5119, 'hickok': 5120, 'belt': 5121, 'achieved': 5122, 'endeared': 5123, 'duffer': 5124, 'flubbed': 5125, 'monstrous': 5126, 'par': 5127, 'human': 5128, 'brooding': 5129, 'incompetents': 5130, 'meditating': 5131, 'abandonment': 5132, 'sport': 5133, 'frustrations': 5134, 'despair': 5135, 'paragon': 5136, 'perfection': 5137, 'commit': 5138, 'sacrilege': 5139, 'selfsacrifice': 5140, 'yen': 5141, 'downtrodden': 5142, 'motivated': 5143, 'victimized': 5144, 'respects': 5145, 'aggravates': 5146, 'golfer': 5147, 'shooting': 5148, 'delivering': 5149, 'crusher': 5150, 'boomed': 5151, 'pixies': 5152, 'zombies': 5153, 'banshees': 5154, 'wailed': 5155, 'margin': 5156, 'narrow': 5157, 'fairway': 5158, 'majestic': 5159, 'arc': 5160, 'outofbounds': 5161, 'slice': 5162, 'sliced': 5163, 'bounds': 5164, 'overcorrected': 5165, 'ruefully': 5166, 'wayward': 5167, 'shots': 5168, 'strokes': 5169, 'wound': 5170, 'dozen': 5171, 'nice': 5172, 'perturbed': 5173, 'duffers': 5174, 'easily': 5175, 'heartening': 5176, 'fell': 5177, 'evil': 5178, 'heyday': 5179, 'idol': 5180, 'hackers': 5181, 'ainsley': 5182, 'secondary': 5183, 'chisholm': 5184, 'drank': 5185, 'lunch': 5186, 'rockstrewn': 5187, 'gully': 5188, 'stickler': 5189, 'excavation': 5190, 'thirteen': 5191, 'nae': 5192, 'ye': 5193, 'countin': 5194, 'echoes': 5195, 'palmers': 5196, 'honestly': 5197, 'loophole': 5198, 'knows': 5199, 'code': 5200, 'thoroughly': 5201, 'handy': 5202, 'brook': 5203, 'flowed': 5204, 'floated': 5205, 'downstream': 5206, 'picked': 5207, 'potato': 5208, 'playable': 5209, 'lie': 5210, 'dey': 5211, 'naturally': 5212, 'alongside': 5213, 'spot': 5214, 'confessed': 5215, 'grin': 5216, 'happened': 5217, 'nicer': 5218, 'intensity': 5219, 'inherent': 5220, 'humor': 5221, 'relieves': 5222, 'strain': 5223, 'nerves': 5224, 'jangling': 5225, 'banjo': 5226, 'strings': 5227, 'fiercest': 5228, 'competitors': 5229, 'bull': 5230, 'headon': 5231, 'twelfth': 5232, 'yarder': 5233, 'arnolds': 5234, 'burrowed': 5235, 'bunker': 5236, 'guarding': 5237, 'embankment': 5238, 'soft': 5239, 'spongy': 5240, 'rains': 5241, 'thereby': 5242, 'bringing': 5243, 'lies': 5244, 'provisional': 5245, 'embedded': 5246, 'golfing': 5247, 'fathers': 5248, 'stroke': 5249, 'tournament': 5250, 'godlike': 5251, 'creature': 5252, 'supply': 5253, 'minneapolis': 5254, 'fourteen': 5255, 'warwick': 5256, 'footballs': 5257, 'hall': 5258, 'fame': 5259, 'amendments': 5260, 'fourteenteam': 5261, 'homeandhome': 5262, 'lengthening': 5263, 'rozelle': 5264, 'therefore': 5265, 'earlyseason': 5266, 'dates': 5267, 'heed': 5268, 'mauch': 5269, 'misled': 5270, 'slower': 5271, 'outclass': 5272, 'vinegar': 5273, 'bend': 5274, 'mizell': 5275, 'shantz': 5276, 'breaking': 5277, 'redbirds': 5278, 'solly': 5279, 'hemus': 5280, 'switch': 5281, 'gibson': 5282, 'ernie': 5283, 'broglio': 5284, 'broglios': 5285, 'wonlost': 5286, 'earnedrun': 5287, 'disheartening': 5288, 'collapse': 5289, 'eager': 5290, 'assignment': 5291, 'thursdays': 5292, 'larry': 5293, 'cubs': 5294, 'harvey': 5295, 'haddix': 5296, 'flu': 5297, 'cardinal': 5298, 'boyer': 5299, 'busch': 5300, 'suffering': 5301, 'stiff': 5302, 'neck': 5303, 'pirate': 5304, 'danny': 5305, 'murtaugh': 5306, 'hadnt': 5307, 'vern': 5308, 'wednesdays': 5309, 'nieman': 5310, 'lineup': 5311, 'lengthy': 5312, 'stan': 5313, 'musial': 5314, 'anniversary': 5315, 'fivehome': 5316, 'sore': 5317, 'taussig': 5318, 'lindy': 5319, 'groove': 5320, 'bucks': 5321, 'bucs': 5322, 'bats': 5323, 'quieted': 5324, 'recession': 5325, 'imposing': 5326, 'smoky': 5327, 'burgess': 5328, 'gino': 5329, 'cimoli': 5330, 'virdon': 5331, 'clemente': 5332, 'groat': 5333, 'hoak': 5334, 'skinner': 5335, 'hal': 5336, 'dragging': 5337, 'unhappiest': 5338, 'sit': 5339, 'friend': 5340, 'beaten': 5341, 'isnt': 5342, 'blasting': 5343, 'jumped': 5344, 'ending': 5345, 'twoseason': 5346, 'falloff': 5347, 'soso': 5348, 'finishing': 5349, 'cards': 5350, 'triumphs': 5351, 'tumbled': 5352, 'recovering': 5353, 'runaway': 5354, 'dodger': 5355, 'ninegame': 5356, 'overcame': 5357, 'worst': 5358, 'comparable': 5359, 'yorks': 5360, 'battling': 5361, 'billikens': 5362, 'tipoff': 5363, 'dealt': 5364, 'lavish': 5365, 'words': 5366, 'benington': 5367, 'mankowski': 5368, 'hartweger': 5369, 'kieffer': 5370, 'bevo': 5371, 'nordmann': 5372, 'conversation': 5373, 'respect': 5374, 'pepping': 5375, 'supposed': 5376, 'halftime': 5377, 'worry': 5378, 'em': 5379, 'trio': 5380, 'shared': 5381, 'mostvaluable': 5382, 'honors': 5383, 'broeg': 5384, 'editor': 5385, 'postdispatch': 5386, 'commended': 5387, 'clutch': 5388, 'allround': 5389, 'excellent': 5390, 'ballhawking': 5391, 'bradley': 5392, 'recalled': 5393, 'doubted': 5394, 'faults': 5395, 'admired': 5396, 'gordons': 5397, 'husband': 5398, 'thank': 5399, 'coachs': 5400, 'letting': 5401, 'burnes': 5402, 'globedemocrat': 5403, 'congratulated': 5404, 'shape': 5405, 'healed': 5406, 'louiss': 5407, 'inscription': 5408, 'contribution': 5409, 'billiken': 5410, 'lettermen': 5411, 'compiled': 5412, 'runnerup': 5413, 'invitation': 5414, 'hambric': 5415, 'donnell': 5416, 'reid': 5417, 'luechtefeld': 5418, 'latinovich': 5419, 'notre': 5420, 'dame': 5421, 'overcome': 5422, 'anywhere': 5423, 'scherer': 5424, 'pitched': 5425, 'crystal': 5426, 'defeats': 5427, 'tie': 5428, 'trips': 5429, 'len': 5430, 'boehmer': 5431, 'ligget': 5432, 'busy': 5433, 'doubleheader': 5434, 'quincy': 5435, 'contented': 5436, 'cows': 5437, 'milk': 5438, 'shouldnt': 5439, 'talents': 5440, 'harder': 5441, 'successfully': 5442, 'careers': 5443, 'expectations': 5444, 'meant': 5445, 'knock': 5446, 'agree': 5447, 'theyve': 5448, 'heights': 5449, 'bullnecked': 5450, 'blond': 5451, 'switchhitter': 5452, 'sensational': 5453, 'triplecrown': 5454, 'rbis': 5455, 'slugger': 5456, 'terror': 5457, 'ultimate': 5458, 'belted': 5459, 'happier': 5460, 'behaving': 5461, 'theyre': 5462, 'peaks': 5463, 'professionals': 5464, 'spelled': 5465, 'correctly': 5466, 'fifteenth': 5467, 'differently': 5468, 'rare': 5469, 'possessing': 5470, 'enabled': 5471, 'reserving': 5472, 'resented': 5473, 'stengels': 5474, 'push': 5475, 'prod': 5476, 'thrilling': 5477, 'possessive': 5478, 'inherited': 5479, 'rizzuto': 5480, 'class': 5481, 'joplin': 5482, 'body': 5483, 'beautiful': 5484, 'ol': 5485, 'homerun': 5486, 'bunter': 5487, 'baserunner': 5488, 'preached': 5489, 'kid': 5490, 'bubble': 5491, 'gum': 5492, 'sow': 5493, 'oats': 5494, 'inheriting': 5495, 'sights': 5496, 'broadway': 5497, 'quietly': 5498, 'bestowed': 5499, 'pun': 5500, 'intended': 5501, 'continues': 5502, 'spread': 5503, 'thin': 5504, 'inviting': 5505, 'wrigley': 5506, 'glamorous': 5507, 'ruths': 5508, 'alvin': 5509, 'commies': 5510, 'wonderful': 5511, 'walloping': 5512, 'leo': 5513, 'durocher': 5514, 'taught': 5515, 'grassgreen': 5516, 'rushed': 5517, 'polo': 5518, 'romantic': 5519, 'concerns': 5520, 'joan': 5521, 'monroe': 5522, 'armour': 5523, 'wendell': 5524, 'lake': 5525, 'brother': 5526, 'hampton': 5527, 'brides': 5528, 'marriage': 5529, 'bridegrooms': 5530, 'barrett': 5531, 'wendells': 5532, 'winter': 5533, 'holiday': 5534, 'sarasota': 5535, 'occasion': 5536, 'arrive': 5537, 'kirkland': 5538, 'christmas': 5539, 'holidays': 5540, 'peter': 5541, 'westminster': 5542, 'measles': 5543, 'sister': 5544, 'missoula': 5545, 'mont': 5546, 'baby': 5547, 'mother': 5548, 'camilla': 5549, 'alsop': 5550, 'bride': 5551, 'wedding': 5552, 'bulletins': 5553, 'sims': 5554, 'cancer': 5555, 'foundation': 5556, 'opera': 5557, 'turandot': 5558, 'birgit': 5559, 'nilsson': 5560, 'starred': 5561, 'housed': 5562, 'mccormick': 5563, 'exciting': 5564, 'evening': 5565, 'adds': 5566, 'boards': 5567, 'belafonte': 5568, 'offbeat': 5569, 'sulcer': 5570, 'winnetka': 5571, 'publicity': 5572, 'recently': 5573, 'frederick': 5574, 'hamm': 5575, 'bruce': 5576, 'parichy': 5577, 'bernadines': 5578, 'vero': 5579, 'beadles': 5580, 'stevens': 5581, 'kenilworth': 5582, 'niece': 5583, 'uncles': 5584, 'aunts': 5585, 'butlers': 5586, 'robertsons': 5587, 'q': 5588, 'porters': 5589, 'bridal': 5590, 'stevenses': 5591, 'fete': 5592, 'lawn': 5593, 'tennis': 5594, 'buffet': 5595, 'supper': 5596, 'bus': 5597, 'kramers': 5598, 'loud': 5599, 'huzzahs': 5600, 'artistic': 5601, 'success': 5602, 'presbyterianst': 5603, 'lukes': 5604, 'ringing': 5605, 'ears': 5606, 'tieken': 5607, 'geraghty': 5608, 'earn': 5609, 'acclaim': 5610, 'entertainment': 5611, 'summers': 5612, 'embassies': 5613, 'bushes': 5614, 'oriental': 5615, 'talent': 5616, 'cultural': 5617, 'activities': 5618, 'instance': 5619, 'djakarta': 5620, 'dancers': 5621, 'whirling': 5622, 'dervishes': 5623, 'damascus': 5624, 'obstacle': 5625, 'geraghtys': 5626, 'globegirdling': 5627, 'smoothed': 5628, 'syria': 5629, 'separated': 5630, 'egypt': 5631, 'arab': 5632, 'visa': 5633, 'honolulu': 5634, 'japan': 5635, 'hong': 5636, 'kong': 5637, 'manila': 5638, 'pakistan': 5639, 'beirut': 5640, 'rome': 5641, 'london': 5642, 'youngest': 5643, 'molly': 5644, 'bows': 5645, 'passavant': 5646, 'debutante': 5647, 'cotillion': 5648, 'gown': 5649, 'fitted': 5650, 'invitations': 5651, 'addressed': 5652, 'mollys': 5653, 'arts': 5654, 'folk': 5655, 'festival': 5656, 'singers': 5657, 'chicagos': 5658, 'sing': 5659, 'songs': 5660, 'balkan': 5661, 'byron': 5662, 'harveys': 5663, 'racquet': 5664, 'abra': 5665, 'prentices': 5666, 'casino': 5667, 'burkes': 5668, 'lambert': 5669, 'italian': 5670, 'studying': 5671, 'florence': 5672, 'aldo': 5673, 'rostagno': 5674, 'guglielmo': 5675, 'rostagnos': 5676, 'europe': 5677, 'kankakee': 5678, 'telling': 5679, 'engagement': 5680, 'halls': 5681, 'girl': 5682, 'fiance': 5683, 'translates': 5684, 'farewell': 5685, 'sethness': 5686, 'consul': 5687, 'giacomo': 5688, 'profili': 5689, 'canceled': 5690, 'surgery': 5691, 'odell': 5692, 'clinton': 5693, 'holabird': 5694, 'boothby': 5695, 'actress': 5696, 'maureen': 5697, 'osullivan': 5698, 'costumes': 5699, 'affaire': 5700, 'towne': 5701, 'bal': 5702, 'masque': 5703, 'germania': 5704, 'crabapple': 5705, 'trees': 5706, 'streets': 5707, 'lyon': 5708, 'winchell': 5709, 'ratatattatty': 5710, 'wheeled': 5711, 'trains': 5712, 'en': 5713, 'phoenix': 5714, 'ariz': 5715, 'rancho': 5716, 'portable': 5717, 'typewriter': 5718, 'ws': 5719, 'hinted': 5720, 'aint': 5721, 'sunny': 5722, 'ainsworth': 5723, 'exmrs': 5724, 'tommy': 5725, 'manville': 5726, 'arvey': 5727, 'playboyshowbiz': 5728, 'promotional': 5729, 'shes': 5730, 'fallout': 5731, 'shelters': 5732, 'beer': 5733, 'stein': 5734, 'pubs': 5735, 'ethics': 5736, 'morals': 5737, 'comic': 5738, 'gary': 5739, 'lucille': 5740, 'scoop': 5741, 'jane': 5742, 'russell': 5743, 'singing': 5744, 'appearances': 5745, 'russells': 5746, 'skylark': 5747, 'debuting': 5748, 'drury': 5749, 'sellout': 5750, 'cry': 5751, 'warbling': 5752, 'pain': 5753, 'medicos': 5754, 'injection': 5755, 'inflamed': 5756, 'nerve': 5757, 'simonelli': 5758, 'universalinternational': 5759, 'studio': 5760, 'exec': 5761, 'makes': 5762, 'column': 5763, 'bulletind': 5764, 'rosemary': 5765, 'strafaci': 5766, 'mag': 5767, 'handsome': 5768, 'favorite': 5769, 'hollywoods': 5770, 'glamor': 5771, 'gals': 5772, 'simon': 5773, 'leukemia': 5774, 'stricken': 5775, 'lowdown': 5776, 'phonies': 5777, 'phones': 5778, 'solicit': 5779, 'dannys': 5780, 'jude': 5781, 'memphis': 5782, 'staging': 5783, 'entertain': 5784, 'underprivileged': 5785, 'mail': 5786, 'contribs': 5787, 'box': 5788, 'solicits': 5789, 'dough': 5790, 'olivia': 5791, 'havilland': 5792, 'garson': 5793, 'kanin': 5794, 'shell': 5795, 'gotham': 5796, 'gorgeous': 5797, 'doris': 5798, 'producerhubby': 5799, 'marty': 5800, 'melcher': 5801, 'tour': 5802, 'ui': 5803, 'rackmil': 5804, 'carnegie': 5805, 'toast': 5806, 'movie': 5807, 'exhibitors': 5808, 'itll': 5809, 'screenings': 5810, 'lover': 5811, 'flower': 5812, 'drum': 5813, 'whee': 5814, 'lovely': 5815, 'thrush': 5816, 'annamorena': 5817, 'biz': 5818, 'touches': 5819, 'hubby': 5820, 'lenobels': 5821, 'fur': 5822, 'typical': 5823, 'mink': 5824, 'freddie': 5825, 'wacker': 5826, 'frau': 5827, 'jana': 5828, 'mason': 5829, 'exsinger': 5830, 'wackers': 5831, 'goodness': 5832, 'sake': 5833, 'emcee': 5834, 'herbert': 5835, 'nixons': 5836, 'slogan': 5837, 'knight': 5838, 'generously': 5839, 'buy': 5840, 'candy': 5841, 'brain': 5842, 'worthiest': 5843, 'charities': 5844, 'darlin': 5845, 'dazzler': 5846, 'paree': 5847, 'genevieve': 5848, 'trager': 5849, 'showman': 5850, 'boss': 5851, 'holders': 5852, 'stock': 5853, 'jump': 5854, 'packs': 5855, 'nobodys': 5856, 'mentioned': 5857, 'mets': 5858, 'baseballight': 5859, 'wear': 5860, 'uniform': 5861, 'bernie': 5862, 'kriss': 5863, 'bayonet': 5864, 'clashes': 5865, 'berlins': 5866, 'brandenburg': 5867, 'gate': 5868, 'sentry': 5869, 'jotted': 5870, 'dept': 5871, 'khrush': 5872, 'confident': 5873, 'contaminating': 5874, 'earths': 5875, 'via': 5876, 'megaton': 5877, 'bombs': 5878, 'peasants': 5879, 'albert': 5880, 'luthuli': 5881, 'awarded': 5882, 'nobel': 5883, 'african': 5884, 'struggles': 5885, 'collect': 5886, 'hmpf': 5887, 'frothier': 5888, 'weissmuller': 5889, 'tarzan': 5890, 'telephoned': 5891, 'muttered': 5892, 'glib': 5893, 'garrulous': 5894, 'everywhere': 5895, 'sidled': 5896, 'guttural': 5897, 'frightening': 5898, 'yodel': 5899, 'roles': 5900, 'dolce': 5901, 'vita': 5902, 'dynamite': 5903, 'flicker': 5904, 'opens': 5905, 'masterful': 5906, 'veecks': 5907, 'dynamo': 5908, 'medics': 5909, 'rest': 5910, 'swim': 5911, 'doings': 5912, 'tribune': 5913, 'tells': 5914, 'misses': 5915, 'ticker': 5916, 'jean': 5917, 'fardullis': 5918, 'angel': 5919, 'import': 5920, 'crazy': 5921, 'twist': 5922, 'theyll': 5923, 'lessons': 5924, 'pronto': 5925, 'cheer': 5926, 'francis': 5927, 'lorenz': 5928, 'probate': 5929, 'suggestions': 5930, 'deposit': 5931, 'boxes': 5932, 'dies': 5933, 'closed': 5934, 'gods': 5935, 'gala': 5936, 'music': 5937, 'dancing': 5938, 'furnished': 5939, 'uhles': 5940, 'orchestra': 5941, 'guests': 5942, 'suites': 5943, 'patio': 5944, 'genial': 5945, 'nightly': 5946, 'hackstaff': 5947, 'luette': 5948, 'bowman': 5949, 'celebrates': 5950, 'birthday': 5951, 'chase': 5952, 'sheila': 5953, 'mercy': 5954, 'grandparents': 5955, 'mullenax': 5956, 'kittredge': 5957, 'mcintosh': 5958, 'buell': 5959, 'santa': 5960, 'calif': 5961, 'vroman': 5962, 'manzanola': 5963, 'plaza': 5964, 'merrill': 5965, 'shoup': 5966, 'colorado': 5967, 'palace': 5968, 'brig': 5969, 'mcdermott': 5970, 'black': 5971, 'piero': 5972, 'luise': 5973, 'emilio': 5974, 'bassi': 5975, 'bassis': 5976, 'stag': 5977, 'precede': 5978, 'cocktails': 5979, 'dining': 5980, 'betsy': 5981, 'parker': 5982, 'eastern': 5983, 'bldg': 5984, 'juniors': 5985, 'staged': 5986, 'neusteters': 5987, 'preceded': 5988, 'teter': 5989, 'mead': 5990, 'decorations': 5991, 'stanley': 5992, 'wright': 5993, 'pate': 5994, 'milton': 5995, 'bernet': 5996, 'rollie': 5997, 'bradford': 5998, 'butler': 5999, 'carr': 6000, 'campbell': 6001, 'carruthers': 6002, 'cris': 6003, 'dobbins': 6004, 'glass': 6005, 'alfred': 6006, 'hicks': 6007, 'magarrell': 6008, 'willett': 6009, 'myron': 6010, 'neusteter': 6011, 'sudier': 6012, 'welborn': 6013, 'dc': 6014, 'kira': 6015, 'rl': 6016, 'rickenbaugh': 6017, 'eo': 6018, 'scarsdale': 6019, 'cheery': 6020, 'smile': 6021, 'compassionate': 6022, 'practical': 6023, 'downtoearth': 6024, 'qualities': 6025, 'esther': 6026, 'marr': 6027, 'asset': 6028, 'salvation': 6029, 'larimer': 6030, 'pert': 6031, 'grayhaired': 6032, 'civilian': 6033, 'covers': 6034, 'tasks': 6035, 'mom': 6036, 'link': 6037, 'bridge': 6038, 'alcoholics': 6039, 'parolees': 6040, 'pressing': 6041, 'written': 6042, 'plenty': 6043, 'schedules': 6044, 'solved': 6045, 'marrs': 6046, 'welcome': 6047, 'mat': 6048, 'skid': 6049, 'decides': 6050, 'wants': 6051, 'steaming': 6052, 'coffee': 6053, 'awaiting': 6054, 'chat': 6055, 'informally': 6056, 'presents': 6057, 'withdrawn': 6058, 'relearns': 6059, 'mingle': 6060, 'denverite': 6061, 'bum': 6062, 'tickets': 6063, 'beggar': 6064, 'sporting': 6065, 'concerts': 6066, 'cookies': 6067, 'sweets': 6068, 'sugar': 6069, 'watching': 6070, 'parole': 6071, 'readjust': 6072, 'midjune': 6073, 'vacation': 6074, 'forth': 6075, 'vast': 6076, 'allamerican': 6077, 'safari': 6078, 'motelkeepers': 6079, 'bleak': 6080, 'abroad': 6081, 'suitcases': 6082, 'magic': 6083, 'ah': 6084, 'simple': 6085, 'reared': 6086, 'grandma': 6087, 'summertime': 6088, 'onslaught': 6089, 'journey': 6090, 'tucson': 6091, 'influx': 6092, 'testify': 6093, 'motels': 6094, 'comfort': 6095, 'stations': 6096, 'scots': 6097, 'heather': 6098, 'wagons': 6099, 'roadside': 6100, 'restaurants': 6101, 'souvenir': 6102, 'snake': 6103, 'braced': 6104, 'boasting': 6105, 'offers': 6106, 'vacationing': 6107, 'beauty': 6108, 'farflung': 6109, 'overnight': 6110, 'accommodations': 6111, 'maybe': 6112, 'motelkeeping': 6113, 'tastes': 6114, 'peculiarities': 6115, 'shamrock': 6116, 'motel': 6117, 'advertises': 6118, 'vented': 6119, 'heat': 6120, 'carpeted': 6121, 'storm': 6122, 'cellar': 6123, 'pools': 6124, 'innumerable': 6125, 'boast': 6126, 'swimming': 6127, 'hospitable': 6128, 'poised': 6129, 'brink': 6130, 'adults': 6131, 'tourists': 6132, 'accommodated': 6133, 'village': 6134, 'marvel': 6135, 'luxury': 6136, 'fastgrossing': 6137, 'boxwood': 6138, 'winchester': 6139, 'va': 6140, 'accidentally': 6141, 'suite': 6142, 'elegant': 6143, 'walltowall': 6144, 'carpeting': 6145, 'furniture': 6146, 'pink': 6147, 'satin': 6148, 'brocade': 6149, 'chairs': 6150, 'tile': 6151, 'bath': 6152, 'towels': 6153, 'proprietor': 6154, 'tab': 6155, 'ants': 6156, 'pressedpaper': 6157, 'oxnard': 6158, 'judith': 6159, 'ellen': 6160, 'munger': 6161, 'methodist': 6162, 'ferris': 6163, 'coronado': 6164, 'bridegroom': 6165, 'baines': 6166, 'monica': 6167, 'ucla': 6168, 'perkins': 6169, 'theology': 6170, 'officiated': 6171, 'attendants': 6172, 'sandra': 6173, 'branum': 6174, 'mcroberts': 6175, 'sequoia': 6176, 'baker': 6177, 'elvis': 6178, 'chapel': 6179, 'presbyterian': 6180, 'rhodes': 6181, 'semmes': 6182, 'kappa': 6183, 'gamma': 6184, 'mortar': 6185, 'alton': 6186, 'shreveport': 6187, 'cater': 6188, 'parmer': 6189, 'alpha': 6190, 'tau': 6191, 'omega': 6192, 'sigma': 6193, 'pi': 6194, 'grahamstown': 6195, 'fellowship': 6196, 'freeman': 6197, 'pabor': 6198, 'wore': 6199, 'courtlength': 6200, 'organdy': 6201, 'bateau': 6202, 'neckline': 6203, 'princesse': 6204, 'skirt': 6205, 'accented': 6206, 'lace': 6207, 'appliques': 6208, 'veil': 6209, 'crown': 6210, 'gardenias': 6211, 'stephanotis': 6212, 'baird': 6213, 'maid': 6214, 'bridesmaids': 6215, 'dawson': 6216, 'hinsdale': 6217, 'reeder': 6218, 'cecil': 6219, 'hartford': 6220, 'conn': 6221, 'groomsmen': 6222, 'carter': 6223, 'conrad': 6224, 'mceachern': 6225, 'ken': 6226, 'neumann': 6227, 'seated': 6228, 'mayfair': 6229, 'newlyweds': 6230, 'corpus': 6231, 'christi': 6232, 'shirley': 6233, 'meredith': 6234, 'arlington': 6235, 'fitzhugh': 6236, 'hardy': 6237, 'floresville': 6238, 'beam': 6239, 'featuring': 6240, 'flared': 6241, 'jacket': 6242, 'headdress': 6243, 'orchids': 6244, 'glenda': 6245, 'kay': 6246, 'sisters': 6247, 'lewelleyn': 6248, 'angelo': 6249, 'lovelace': 6250, 'cedric': 6251, 'burgher': 6252, 'christian': 6253, 'pampa': 6254, 'marcile': 6255, 'marie': 6256, 'glison': 6257, 'earl': 6258, 'loving': 6259, 'gaston': 6260, 'ervin': 6261, 'womans': 6262, 'studies': 6263, 'gayety': 6264, 'thrift': 6265, 'shop': 6266, 'philmont': 6267, 'reputation': 6268, 'fun': 6269, 'promises': 6270, 'tradition': 6271, 'grinsfelder': 6272, 'food': 6273, 'colorful': 6274, 'hospitality': 6275, 'exactly': 6276, 'prospects': 6277, 'hats': 6278, 'excitement': 6279, 'basin': 6280, 'festivities': 6281, 'jazz': 6282, 'combo': 6283, 'lester': 6284, 'lanins': 6285, 'louchheim': 6286, 'phase': 6287, 'globetrotter': 6288, 'luck': 6289, 'rs': 6290, 'oysters': 6291, 'specialties': 6292, 'chef': 6293, 'scenic': 6294, 'effects': 6295, 'flowers': 6296, 'reproductions': 6297, 'grillwork': 6298, 'cohen': 6299, 'hollander': 6300, 'display': 6301, 'brothers': 6302, 'bundle': 6303, 'clothing': 6304, 'household': 6305, 'bricabrac': 6306, 'shelves': 6307, 'walnut': 6308, 'convenience': 6309, 'throughout': 6310, 'suburbs': 6311, 'deposited': 6312, 'bundles': 6313, 'dinners': 6314, 'bernhard': 6315, 'blumenthal': 6316, 'fundraisers': 6317, 'jewish': 6318, 'competence': 6319, 'totals': 6320, 'feminine': 6321, 'husbands': 6322, 'glazer': 6323, 'mens': 6324, 'staffing': 6325, 'kapnek': 6326, 'newburger': 6327, 'hostesses': 6328, 'loeb': 6329, 'arrangements': 6330, 'lichtenstein': 6331, 'rose': 6332, 'secretarial': 6333, 'duties': 6334, 'aides': 6335, 'lewis': 6336, 'kaufnabb': 6337, 'weinberg': 6338, 'allan': 6339, 'goodman': 6340, 'stone': 6341, 'quell': 6342, 'admittance': 6343, 'besides': 6344, 'davids': 6345, 'prefair': 6346, 'dessert': 6347, 'spurdle': 6348, 'moody': 6349, 'wilkinson': 6350, 'ethel': 6351, 'coles': 6352, 'lacy': 6353, 'harcourt': 6354, 'moller': 6355, 'zeising': 6356, 'kilhour': 6357, 'cauffman': 6358, 'baringer': 6359, 'clyde': 6360, 'newman': 6361, 'natalie': 6362, 'collett': 6363, 'newbold': 6364, 'commentator': 6365, 'models': 6366, 'meyle': 6367, 'harrity': 6368, 'kloman': 6369, 'wolcott': 6370, 'wheeler': 6371, 'boyd': 6372, 'putt': 6373, 'col': 6374, 'clifton': 6375, 'lisle': 6376, 'troop': 6377, 'decades': 6378, 'honorary': 6379, 'invites': 6380, 'campingout': 6381, 'yearround': 6382, 'subzero': 6383, 'temperatures': 6384, 'cotty': 6385, 'felske': 6386, 'smythe': 6387, 'posters': 6388, 'arrange': 6389, 'exhibit': 6390, 'sale': 6391, 'paintings': 6392, 'sculpture': 6393, 'preview': 6394, 'sponsors': 6395, 'artists': 6396, 'proceeds': 6397, 'levels': 6398, 'monte': 6399, 'tyson': 6400, 'delaware': 6401, 'valley': 6402, 'marc': 6403, 'shoettle': 6404, 'shahn': 6405, 'nicholas': 6406, 'marsicano': 6407, 'loen': 6408, 'avery': 6409, 'portrait': 6410, 'wins': 6411, 'door': 6412, 'originated': 6413, 'wissahickon': 6414, 'continuing': 6415, 'fundraiser': 6416, 'jerome': 6417, 'blum': 6418, 'meyer': 6419, 'schultz': 6420, 'cochairmen': 6421, 'chairmen': 6422, 'malmud': 6423, 'fernberger': 6424, 'cushman': 6425, 'berton': 6426, 'korman': 6427, 'rosen': 6428, 'jacques': 6429, 'zinman': 6430, 'evelyn': 6431, 'kamens': 6432, 'langsdorf': 6433, 'liss': 6434, 'blumberg': 6435, 'oscar': 6436, 'bregman': 6437, 'kershbaum': 6438, 'sabol': 6439, 'volney': 6440, 'ludwick': 6441, 'evans': 6442, 'kimbolton': 6443, 'rockhall': 6444, 'app': 6445, 'voorhees': 6446, 'anderson': 6447, 'entertained': 6448, 'coulson': 6449, 'fairless': 6450, 'hills': 6451, 'soninlaw': 6452, 'glennon': 6453, 'brigantine': 6454, 'janssen': 6455, 'lynn': 6456, 'marella': 6457, 'orcutt': 6458, 'drexel': 6459, 'eileen': 6460, 'heinze': 6461, 'entertaining': 6462, 'lehner': 6463, 'vienna': 6464, 'ingo': 6465, 'dussa': 6466, 'dusseldorf': 6467, 'bietnar': 6468, 'haaek': 6469, 'brelin': 6470, 'hoaps': 6471, 'delray': 6472, 'anne': 6473, 'clearwater': 6474, 'cmdr': 6475, 'taylor': 6476, 'usn': 6477, 'greenwich': 6478, 'easter': 6479, 'latters': 6480, 'walbridge': 6481, 'deforest': 6482, 'emmert': 6483, 'newtown': 6484, 'ashman': 6485, 'pa': 6486, 'merner': 6487, 'bermuda': 6488, 'godwin': 6489, 'vieth': 6490, 'susan': 6491, 'nell': 6492, 'celebrated': 6493, 'february': 6494, 'graduated': 6495, 'louise': 6496, 'mcgehee': 6497, 'wellesley': 6498, 'stella': 6499, 'hayward': 6500, 'tulane': 6501, 'epsilon': 6502, 'fraternity': 6503, 'majesties': 6504, 'queen': 6505, 'carnival': 6506, 'comus': 6507, 'jointly': 6508, 'shrove': 6509, 'ballroom': 6510, 'downtown': 6511, 'rex': 6512, 'hosts': 6513, 'walkers': 6514, 'mcconnells': 6515, 'lady': 6516, 'feted': 6517, 'hostess': 6518, 'socola': 6519, 'waveland': 6520, 'vieux': 6521, 'carre': 6522, 'restaurant': 6523, 'richmond': 6524, 'honoree': 6525, 'dane': 6526, 'katherine': 6527, 'vickery': 6528, 'attends': 6529, 'sweet': 6530, 'briar': 6531, 'rejoin': 6532, 'pl': 6533, 'achaeans': 6534, 'masquerade': 6535, 'margaret': 6536, 'pierson': 6537, 'muncipal': 6538, 'auditorium': 6539, 'ladies': 6540, 'clayton': 6541, 'nairne': 6542, 'eleanor': 6543, 'eustis': 6544, 'irwin': 6545, 'leatherman': 6546, 'robinsonville': 6547, 'helene': 6548, 'rowley': 6549, 'ablaze': 6550, 'array': 6551, 'chic': 6552, 'ballgowns': 6553, 'worn': 6554, 'maskers': 6555, 'dances': 6556, 'chose': 6557, 'slim': 6558, 'tomatored': 6559, 'jordan': 6560, 'taffeta': 6561, 'frock': 6562, 'fringed': 6563, 'tiers': 6564, 'crimson': 6565, 'silk': 6566, 'slippers': 6567, 'maids': 6568, 'greenish': 6569, 'fenwick': 6570, 'ashes': 6571, 'roses': 6572, 'slipper': 6573, 'feringa': 6574, 'eggshell': 6575, 'filmy': 6576, 'dress': 6577, 'decolletage': 6578, 'trimmed': 6579, 'edging': 6580, 'tulle': 6581, 'reilys': 6582, 'olivegreen': 6583, 'embroidered': 6584, 'bodice': 6585, 'threads': 6586, 'sequins': 6587, 'beads': 6588, 'cuts': 6589, 'layoffs': 6590, 'simpson': 6591, 'railroads': 6592, 'drastic': 6593, 'decline': 6594, 'freight': 6595, 'loading': 6596, 'principally': 6597, 'necessitated': 6598, 'regrettable': 6599, 'affect': 6600, 'employees': 6601, 'supervisors': 6602, 'furlough': 6603, 'wages': 6604, 'furloughed': 6605, 'thug': 6606, 'struck': 6607, 'cab': 6608, 'robbing': 6609, 'mount': 6610, 'wiley': 6611, 'robbery': 6612, 'attempted': 6613, 'bandit': 6614, 'assailant': 6615, 'automatic': 6616, 'verstandig': 6617, 'store': 6618, 'aiken': 6619, 'negroes': 6620, 'assaulted': 6621, 'register': 6622, 'choking': 6623, 'burned': 6624, 'seriously': 6625, 'damaged': 6626, 'oneroom': 6627, 'arundel': 6628, 'darnell': 6629, 'somerville': 6630, 'arrival': 6631, 'annapolis': 6632, 'burns': 6633, 'seconddegree': 6634, 'occurred': 6635, 'mile': 6636, 'severna': 6637, 'recording': 6638, 'mechanically': 6639, 'jenkins': 6640, 'ellwood': 6641, 'longtime': 6642, 'cites': 6643, 'discrepancies': 6644, 'contained': 6645, 'memory': 6646, 'jenkinss': 6647, 'hate': 6648, 'write': 6649, 'machine': 6650, 'permanent': 6651, 'pullen': 6652, 'zoning': 6653, 'bodies': 6654, 'suits': 6655, 'misunderstandings': 6656, 'notes': 6657, 'bertorelli': 6658, 'ambulance': 6659, 'partially': 6660, 'paralyzed': 6661, 'parked': 6662, 'summoned': 6663, 'piraro': 6664, 'deficiencies': 6665, 'snow': 6666, 'corrected': 6667, 'councilman': 6668, 'schaefer': 6669, 'salting': 6670, 'crews': 6671, 'dispatched': 6672, 'storms': 6673, 'longer': 6674, 'werner': 6675, 'conceding': 6676, 'improvements': 6677, 'slowly': 6678, 'snowfall': 6679, 'halting': 6680, 'operations': 6681, 'manual': 6682, 'laborers': 6683, 'resumed': 6684, 'parking': 6685, 'banned': 6686, 'tires': 6687, 'chains': 6688, 'overlooked': 6689, 'merchants': 6690, 'survive': 6691, 'recounting': 6692, 'observations': 6693, 'clearance': 6694, 'inefficient': 6695, 'supplies': 6696, 'poorly': 6697, 'trained': 6698, 'plow': 6699, 'blades': 6700, 'layer': 6701, 'freezes': 6702, 'murdered': 6703, 'chesapeake': 6704, 'bayfront': 6705, 'detention': 6706, 'victims': 6707, 'malone': 6708, 'dresbach': 6709, 'rifle': 6710, 'capt': 6711, 'elmer': 6712, 'hagner': 6713, 'detectives': 6714, 'benjamin': 6715, 'michaelson': 6716, 'remanding': 6717, 'jurist': 6718, 'story': 6719, 'brick': 6720, 'manor': 6721, 'dresbachs': 6722, 'firstfloor': 6723, 'bedroom': 6724, 'kitchen': 6725, 'shootings': 6726, 'driven': 6727, 'broadcast': 6728, 'trooper': 6729, 'grzesiak': 6730, 'edgewater': 6731, 'tawes': 6732, 'lloyd': 6733, 'simpkins': 6734, 'marylands': 6735, 'finan': 6736, 'ferdinand': 6737, 'sybert': 6738, 'judgeship': 6739, 'swearingin': 6740, 'somerset': 6741, 'resident': 6742, 'countian': 6743, 'universitys': 6744, 'outset': 6745, 'guiding': 6746, 'spirits': 6747, 'totaled': 6748, 'compared': 6749, 'dodge': 6750, 'nonresidential': 6751, 'cumulative': 6752, 'amounted': 6753, 'corresponding': 6754, 'tenmonth': 6755, 'consists': 6756, 'shelter': 6757, 'market': 6758, 'enjoyed': 6759, 'availability': 6760, 'mortgage': 6761, 'prosperity': 6762, 'consumer': 6763, 'encouraged': 6764, 'apartmentbuilding': 6765, 'vary': 6766, 'choosing': 6767, 'pantas': 6768, 'hardware': 6769, 'manufacturing': 6770, 'seekers': 6771, 'maintaining': 6772, 'troublefree': 6773, 'longlife': 6774, 'quality': 6775, 'components': 6776, 'increasingly': 6777, 'predicted': 6778, 'sixtyseven': 6779, 'harbor': 6780, 'cherry': 6781, 'ultimately': 6782, 'comprise': 6783, 'twostory': 6784, 'threestory': 6785, 'structures': 6786, 'terrace': 6787, 'entrance': 6788, 'stairs': 6789, 'balconies': 6790, 'masonry': 6791, 'heating': 6792, 'gasfired': 6793, 'warm': 6794, 'johnsmanville': 6795, 'secrets': 6796, 'britains': 6797, 'submarine': 6798, 'dreadnought': 6799, 'implication': 6800, 'navys': 6801, 'stillbuilding': 6802, 'sub': 6803, 'londonbased': 6804, 'spy': 6805, 'ring': 6806, 'agents': 6807, 'testified': 6808, 'built': 6809, 'designs': 6810, 'supplied': 6811, 'killer': 6812, 'subs': 6813, 'hull': 6814, 'patterned': 6815, 'nautilus': 6816, 'derived': 6817, 'reactor': 6818, 'skipjack': 6819, 'bow': 6820, 'british': 6821, 'gee': 6822, 'devoted': 6823, 'houghton': 6824, 'divorced': 6825, 'whisking': 6826, 'strongrooms': 6827, 'lonsdale': 6828, 'presumed': 6829, 'russian': 6830, 'canadian': 6831, 'passport': 6832, 'arrested': 6833, 'roll': 6834, 'candid': 6835, 'camera': 6836, 'antisubmarine': 6837, 'wrapping': 6838, 'flashed': 6839, 'shadowy': 6840, 'kroger': 6841, 'bookseller': 6842, 'joyce': 6843, 'krogers': 6844, 'lola': 6845, 'suburban': 6846, 'cottage': 6847, 'transmitter': 6848, 'buried': 6849, 'dots': 6850, 'marks': 6851, 'dot': 6852, 'magnification': 6853, 'drawing': 6854, 'page': 6855, 'manuscript': 6856, 'innocent': 6857, 'bail': 6858, 'dunlop': 6859, 'sorely': 6860, 'widowed': 6861, 'maiden': 6862, 'aunt': 6863, 'bedridden': 6864, 'uncle': 6865, 'refuses': 6866, 'magistrate': 6867, 'kjp': 6868, 'baraclough': 6869, 'bailey': 6870, 'klaus': 6871, 'fuchs': 6872, 'naturalized': 6873, 'german': 6874, 'russia': 6875, 'sentenced': 6876, 'altered': 6877, 'behavior': 6878, 'promptly': 6879, 'currency': 6880, 'mervin': 6881, 'griffithjones': 6882, 'generals': 6883, 'asserted': 6884, 'paymaster': 6885, 'selling': 6886, 'highest': 6887, 'undersea': 6888, 'grimly': 6889, 'adviser': 6890, 'underwater': 6891, 'warfare': 6892, 'symonds': 6893, 'drawings': 6894, 'ship': 6895, 'reproduced': 6896, 'undeveloped': 6897, 'vic': 6898, 'potential': 6899, 'cleared': 6900, 'watched': 6901, 'broken': 6902, 'untold': 6903, 'lawyers': 6904, 'clients': 6905, 'reveal': 6906, 'designing': 6907, 'nowhere': 6908, 'sharing': 6909, 'blabbed': 6910, 'propelling': 6911, 'machinery': 6912, 'design': 6913, 'generation': 6914, 'advanced': 6915, 'skipjacks': 6916, 'august': 6917, 'teardrop': 6918, 'potent': 6919, 'polaris': 6920, 'missile': 6921, 'atom': 6922, 'cooled': 6923, 'reactors': 6924, 'westinghouse': 6925, 'electric': 6926, 'steam': 6927, 'turbines': 6928, 'greatly': 6929, 'complexity': 6930, 'propeller': 6931, 'albacore': 6932, 'fastest': 6933, 'reputedly': 6934, 'outrun': 6935, 'destroyers': 6936, 'refueling': 6937, 'hunterkiller': 6938, 'ships': 6939, 'gear': 6940, 'torpedoes': 6941, 'gees': 6942, 'detector': 6943, 'asdic': 6944, 'detecting': 6945, 'detail': 6946, 'radiomen': 6947, 'nabbed': 6948, 'signals': 6949, 'wavelengths': 6950, 'codes': 6951, 'hidden': 6952, 'cigaret': 6953, 'lighters': 6954, 'lonsdales': 6955, 'fastened': 6956, 'lid': 6957, 'oddly': 6958, 'indictment': 6959, 'narcotics': 6960, 'rumor': 6961, 'malice': 6962, 'enmity': 6963, 'perry': 6964, 'cooperman': 6965, 'teller': 6966, 'indictments': 6967, 'narcotic': 6968, 'sokol': 6969, 'peddlers': 6970, 'racket': 6971, 'posed': 6972, 'addicts': 6973, 'sometimes': 6974, 'rivalries': 6975, 'aiming': 6976, 'criminals': 6977, 'jealousies': 6978, 'grievances': 6979, 'creditable': 6980, 'mentions': 6981, 'compensations': 6982, 'nominated': 6983, 'tree': 6984, 'medal': 6985, 'comments': 6986, 'connelly': 6987, 'heroin': 6988, 'convicted': 6989, 'peddler': 6990, 'otis': 6991, 'sears': 6992, 'indiana': 6993, 'av': 6994, 'witness': 6995, 'moses': 6996, 'winston': 6997, 'mardis': 6998, 'agent': 6999, 'bondsman': 7000, 'adjourned': 7001, 'jeremiah': 7002, 'pullings': 7003, 'jessy': 7004, 'maroy': 7005, 'indicted': 7006, 'buaford': 7007, 'stewart': 7008, 'cta': 7009, 'robbed': 7010, 'youths': 7011, 'physicians': 7012, 'eyebrow': 7013, 'bag': 7014, 'paycheck': 7015, 'morgan': 7016, 'wabash': 7017, 'boarded': 7018, 'bound': 7019, 'express': 7020, 'dunbar': 7021, 'skylarking': 7022, 'accosted': 7023, 'ensued': 7024, 'fled': 7025, 'blanche': 7026, 'dunkel': 7027, 'reformatory': 7028, 'murder': 7029, 'lang': 7030, 'appealed': 7031, 'pardon': 7032, 'bookwalter': 7033, 'carpentier': 7034, 'stratton': 7035, 'commuted': 7036, 'slaying': 7037, 'relationship': 7038, 'wealthy': 7039, 'evanston': 7040, 'forbidden': 7041, 'icy': 7042, 'wilmette': 7043, 'stickney': 7044, 'reckless': 7045, 'corcoran': 7046, 'salesman': 7047, 'pleezing': 7048, 'brokerage': 7049, 'simms': 7050, 'pursuit': 7051, 'speeding': 7052, 'jenks': 7053, 'skidded': 7054, 'sped': 7055, 'spun': 7056, 'prairie': 7057, 'johns': 7058, 'pohl': 7059, 'bludgeon': 7060, 'anna': 7061, 'hengesbach': 7062, 'visible': 7063, 'emotion': 7064, 'cell': 7065, 'courtappointed': 7066, 'stepson': 7067, 'vindicated': 7068, 'reach': 7069, 'cloud': 7070, 'neighbor': 7071, 'pleased': 7072, 'suspicion': 7073, 'removed': 7074, 'elses': 7075, 'misfortune': 7076, 'rebuild': 7077, 'settled': 7078, 'grandfather': 7079, 'westphalia': 7080, 'ledge': 7081, 'barn': 7082, 'release': 7083, 'arson': 7084, 'killing': 7085, 'confession': 7086, 'retracted': 7087, 'fred': 7088, 'sentencing': 7089, 'motion': 7090, 'locked': 7091, 'deliberation': 7092, 'canvassed': 7093, 'foreman': 7094, 'olive': 7095, 'heideman': 7096, 'elsie': 7097, 'pohls': 7098, 'valid': 7099, 'definition': 7100, 'packed': 7101, 'sterling': 7102, 'township': 7103, 'surviving': 7104, 'died': 7105, 'aftermath': 7106, 'homeowners': 7107, 'hardhit': 7108, 'kowalski': 7109, 'viceroy': 7110, 'holy': 7111, 'bottled': 7112, 'pankowski': 7113, 'adjoining': 7114, 'suburb': 7115, 'funeral': 7116, 'christine': 7117, 'annes': 7118, 'mt': 7119, 'olivet': 7120, 'cemetery': 7121, 'rested': 7122, 'caskets': 7123, 'lyle': 7124, 'elliott': 7125, 'fueled': 7126, 'stove': 7127, 'grandmothers': 7128, 'upstairs': 7129, 'candle': 7130, 'cornell': 7131, 'fumes': 7132, 'ignited': 7133, 'girls': 7134, 'lacked': 7135, 'electricity': 7136, 'christines': 7137, 'twin': 7138, 'darlene': 7139, 'escaped': 7140, 'vicky': 7141, 'roofer': 7142, 'seldom': 7143, 'arrears': 7144, 'splitlevel': 7145, 'tragedy': 7146, 'sidney': 7147, 'serra': 7148, 'supplying': 7149, 'meals': 7150, 'kowalskis': 7151, 'sisterinlaw': 7152, 'pall': 7153, 'mall': 7154, 'collected': 7155, 'tareytown': 7156, 'announcing': 7157, 'doortodoor': 7158, 'subdivision': 7159, 'canvass': 7160, 'northeast': 7161, 'dequindre': 7162, 'mailed': 7163, 'fuhrmann': 7164, 'pohly': 7165, 'collection': 7166, 'revealed': 7167, 'yteen': 7168, 'surpluses': 7169, 'fuhrmanns': 7170, 'furhmanns': 7171, 'faculty': 7172, 'spontaneous': 7173, 'fondness': 7174, 'sympathy': 7175, 'expresses': 7176, 'spoken': 7177, 'properly': 7178, 'alert': 7179, 'patrol': 7180, 'conviction': 7181, 'youthful': 7182, 'motorist': 7183, 'kimmell': 7184, 'mcclellan': 7185, 'sisk': 7186, 'vernor': 7187, 'grader': 7188, 'scripps': 7189, 'belvidere': 7190, 'kercheval': 7191, 'belatedly': 7192, 'crosswalk': 7193, 'safely': 7194, 'approaching': 7195, 'narrowly': 7196, 'commandeering': 7197, 'pursued': 7198, 'fleeing': 7199, 'sarkees': 7200, 'murphy': 7201, 'nodriving': 7202, 'correction': 7203, 'showdown': 7204, 'vientiane': 7205, 'laotian': 7206, 'offensive': 7207, 'truce': 7208, 'reconvened': 7209, 'delhi': 7210, 'verify': 7211, 'tiao': 7212, 'sopsaisana': 7213, 'thinking': 7214, 'troops': 7215, 'worsens': 7216, 'fullfledged': 7217, 'note': 7218, 'ambassador': 7219, 'winthrop': 7220, 'describing': 7221, 'appeal': 7222, 'vietnamese': 7223, 'thakhek': 7224, 'southerncentral': 7225, 'confirmation': 7226, 'massive': 7227, 'assaults': 7228, 'sources': 7229, 'exaggerated': 7230, 'havana': 7231, 'cubans': 7232, 'executed': 7233, 'firing': 7234, 'squads': 7235, 'tribunals': 7236, 'decreeing': 7237, 'captured': 7238, 'suspected': 7239, 'collaborators': 7240, 'mcnair': 7241, 'executions': 7242, 'dawn': 7243, 'revolutionary': 7244, 'tribunal': 7245, 'pinar': 7246, 'del': 7247, 'rio': 7248, 'plot': 7249, 'seattle': 7250, 'exmarine': 7251, 'businessman': 7252, 'condemned': 7253, 'smuggling': 7254, 'rebels': 7255, 'commander': 7256, 'legion': 7257, 'disbanded': 7258, 'fidel': 7259, 'castros': 7260, 'andersons': 7261, 'seized': 7262, 'boatload': 7263, 'rifles': 7264, 'roundup': 7265, 'raymont': 7266, 'berrellez': 7267, 'associated': 7268, 'swept': 7269, 'dragnet': 7270, 'converted': 7271, 'makeshift': 7272, 'jails': 7273, 'roman': 7274, 'priests': 7275, 'concentration': 7276, 'siberia': 7277, 'prisoners': 7278, 'kegham': 7279, 'pseudynom': 7280, 'bucharest': 7281, 'armenian': 7282, 'arf': 7283, 'emory': 7284, 'trustees': 7285, 'bylaws': 7286, 'taxing': 7287, 'roadblock': 7288, 'taxexempt': 7289, 'institutions': 7290, 'segregated': 7291, 'standards': 7292, 'institution': 7293, 'grade': 7294, 'taxexemption': 7295, 'privileges': 7296, 'conforms': 7297, 'aforementioned': 7298, 'statutory': 7299, 'provisions': 7300, 'obstacles': 7301, 'desegregation': 7302, 'intend': 7303, 'exempt': 7304, 'criteria': 7305, 'endowments': 7306, 'colored': 7307, 'integrated': 7308, 'challenged': 7309, 'affiliated': 7310, 'newspaper': 7311, 'commitment': 7312, 'excellence': 7313, 'paramount': 7314, 'generous': 7315, 'recognize': 7316, 'obligation': 7317, 'promote': 7318, 'creed': 7319, 'insofar': 7320, 'governing': 7321, 'documents': 7322, 'applications': 7323, 'prospective': 7324, 'irrespective': 7325, 'corporate': 7326, 'existence': 7327, 'derives': 7328, 'jeopardizing': 7329, 'desiring': 7330, 'intellectual': 7331, 'moral': 7332, 'fulfillment': 7333, 'riding': 7334, 'slid': 7335, 'pole': 7336, 'waddell': 7337, 'ne': 7338, 'knoll': 7339, 'cir': 7340, 'hammons': 7341, 'evidently': 7342, 'rainslick': 7343, 'occupants': 7344, 'willard': 7345, 'olvey': 7346, 'ponce': 7347, 'leon': 7348, 'coleman': 7349, 'se': 7350, 'lacerations': 7351, 'bruises': 7352, 'renewed': 7353, 'picketing': 7354, 'standins': 7355, 'firstrun': 7356, 'theaters': 7357, 'identically': 7358, 'worded': 7359, 'contacted': 7360, 'coahr': 7361, 'eve': 7362, 'operators': 7363, 'likelihood': 7364, 'threeday': 7365, 'sporadic': 7366, 'negotiate': 7367, 'fridays': 7368, 'inability': 7369, 'indifference': 7370, 'integrate': 7371, 'pledged': 7372, 'nonviolent': 7373, 'extensive': 7374, 'presence': 7375, 'picket': 7376, 'profits': 7377, 'uptown': 7378, 'buckhead': 7379, 'killingsworth': 7380, 'venable': 7381, 'kililngsworth': 7382, 'cafeteria': 7383, 'pittsboro': 7384, 'survivors': 7385, 'bessie': 7386, 'bloom': 7387, 'gettysburg': 7388, 'marietta': 7389, 'nw': 7390, 'painter': 7391, 'oakland': 7392, 'blanchards': 7393, 'hearn': 7394, 'officiating': 7395, 'emma': 7396, 'odom': 7397, 'fergeson': 7398, 'tenn': 7399, 'daughters': 7400, 'stoll': 7401, 'nancy': 7402, 'greenville': 7403, 'sc': 7404, 'wansley': 7405, 'wallace': 7406, 'wilmington': 7407, 'nc': 7408, 'rock': 7409, 'assaulting': 7410, 'subdue': 7411, 'patrolmen': 7412, 'crawford': 7413, 'ronald': 7414, 'nakoma': 7415, 'monthold': 7416, 'ripped': 7417, 'latch': 7418, 'scratching': 7419, 'melee': 7420, 'scratches': 7421, 'violent': 7422, 'attacked': 7423, 'subdued': 7424, 'uniforms': 7425, 'counts': 7426, 'assault': 7427, 'battery': 7428, 'resisting': 7429, 'disturbance': 7430, 'cursing': 7431, 'desk': 7432, 'guest': 7433, 'disability': 7434, 'entries': 7435, 'ranging': 7436, 'transfers': 7437, 'employments': 7438, 'pensions': 7439, 'wistfully': 7440, 'tribute': 7441, 'intensifying': 7442, 'ant': 7443, 'eradication': 7444, 'fastspreading': 7445, 'pest': 7446, 'troup': 7447, 'pierce': 7448, 'bryan': 7449, 'bulloch': 7450, 'treat': 7451, 'infested': 7452, 'blasingame': 7453, 'entomologist': 7454, 'lowflying': 7455, 'planes': 7456, 'granulartype': 7457, 'chemical': 7458, 'heptachlor': 7459, 'bibb': 7460, 'treating': 7461, 'macon': 7462, 'bleckley': 7463, 'tift': 7464, 'turner': 7465, 'infest': 7466, 'approximately': 7467, 'attacking': 7468, 'crops': 7469, 'wildlife': 7470, 'livestock': 7471, 'menace': 7472, 'humans': 7473, 'allergic': 7474, 'venom': 7475, 'northbound': 7476, 'expressway': 7477, 'survey': 7478, 'computers': 7479, 'cameras': 7480, 'engineers': 7481, 'congestion': 7482, 'suggest': 7483, 'intersection': 7484, 'daylight': 7485, 'cain': 7486, 'piedmont': 7487, 'junction': 7488, 'northwest': 7489, 'expressways': 7490, 'crashes': 7491, 'fiery': 7492, 'crash': 7493, 'snellville': 7494, 'claude': 7495, 'maynor': 7496, 'calvary': 7497, 'troopers': 7498, 'path': 7499, 'bursts': 7500, 'flames': 7501, 'auto': 7502, 'overturned': 7503, 'skidding': 7504, 'tractortrailer': 7505, 'burst': 7506, 'bester': 7507, 'hammett': 7508, 'rte': 7509, 'lawrenceville': 7510, 'herrington': 7511, 'flaming': 7512, 'unusually': 7513, 'category': 7514, 'allotment': 7515, 'budgeted': 7516, 'slackening': 7517, 'oks': 7518, 'pact': 7519, 'newlyappointed': 7520, 'webster': 7521, 'river': 7522, 'ennis': 7523, 'keizer': 7524, 'consultant': 7525, 'data': 7526, 'processing': 7527, 'considerable': 7528, 'converting': 7529, 'electronic': 7530, 'magnetic': 7531, 'tape': 7532, 'renew': 7533, 'adapting': 7534, 'juras': 7535, 'fields': 7536, 'unique': 7537, 'handicapped': 7538, 'emphasized': 7539, 'employ': 7540, 'fulfill': 7541, 'handles': 7542, 'literally': 7543, 'wheels': 7544, 'directing': 7545, 'answerable': 7546, 'mans': 7547, 'conversion': 7548, 'familiarity': 7549, 'defend': 7550, 'peck': 7551, 'moment': 7552, 'arguments': 7553, 'commissions': 7554, 'vicechairman': 7555, 'patterson': 7556, 'crippling': 7557, 'weaknesses': 7558, 'communications': 7559, 'objective': 7560, 'create': 7561, 'robber': 7562, 'huntley': 7563, 'lavaughn': 7564, 'getaway': 7565, 'woodyard': 7566, 'bros': 7567, 'burnside': 7568, 'mcneil': 7569, 'hillsdale': 7570, 'holdup': 7571, 'detective': 7572, 'murray': 7573, 'logan': 7574, 'culminates': 7575, 'robberies': 7576, 'papers': 7577, 'elaine': 7578, 'schuyler': 7579, 'bess': 7580, 'kaiser': 7581, 'bicycleauto': 7582, 'collision': 7583, 'gateway': 7584, 'forsyth': 7585, 'brett': 7586, 'riverview': 7587, 'abbey': 7588, 'logging': 7589, 'macwhyte': 7590, 'alice': 7591, 'wash': 7592, 'horstman': 7593, 'lucy': 7594, 'beatrice': 7595, 'kiefferm': 7596, 'grandchildren': 7597, 'dalles': 7598, 'decertify': 7599, 'retail': 7600, 'clerks': 7601, 'aflcio': 7602, 'collective': 7603, 'nlrb': 7604, 'potentially': 7605, 'theatrical': 7606, 'producer': 7607, 'band': 7608, 'collapsed': 7609, 'blvd': 7610, 'functions': 7611, 'booked': 7612, 'collaborated': 7613, 'entertainers': 7614, 'jimmy': 7615, 'durante': 7616, 'silvers': 7617, 'piece': 7618, 'profession': 7619, 'af': 7620, 'scottish': 7621, 'rite': 7622, 'kader': 7623, 'shrine': 7624, 'elks': 7625, 'voiture': 7626, 'musicians': 7627, 'nevah': 7628, 'sholom': 7629, 'congregation': 7630, 'tearle': 7631, 'dorenzo': 7632, 'birdie': 7633, 'gevurtz': 7634, 'aaron': 7635, 'cohn': 7636, 'holman': 7637, 'interment': 7638, 'neveh': 7639, 'zebek': 7640, 'omitted': 7641, 'judged': 7642, 'competition': 7643, 'tim': 7644, 'larson': 7645, 'wilson': 7646, 'spicenice': 7647, 'guided': 7648, 'topranking': 7649, 'ja': 7650, 'scolatti': 7651, 'counseled': 7652, 'georgiapacific': 7653, 'firstplace': 7654, 'regional': 7655, 'pocketsize': 7656, 'barbecue': 7657, 'spices': 7658, 'stockholders': 7659, 'dividend': 7660, 'investment': 7661, 'youngsters': 7662, 'teenagers': 7663, 'guidance': 7664, 'fullscale': 7665, 'businesses': 7666, 'culmination': 7667, 'participants': 7668, 'adult': 7669, 'advisors': 7670, 'drawn': 7671, 'distributed': 7672, 'gp': 7673, 'breuer': 7674, 'stephenson': 7675, 'nevada': 7676, 'ct': 7677, 'kathleen': 7678, 'jefferson': 7679, 'reifenrath': 7680, 'madison': 7681, 'wegener': 7682, 'karen': 7683, 'kolb': 7684, 'shelby': 7685, 'carlson': 7686, 'hillsboro': 7687, 'countys': 7688, 'ffa': 7689, 'horsemanship': 7690, 'clown': 7691, 'shows': 7692, 'attendance': 7693, 'fiveday': 7694, 'skies': 7695, 'attract': 7696, 'fairgoers': 7697, 'wick': 7698, 'walters': 7699, 'allcounty': 7700, 'quartet': 7701, 'twirler': 7702, 'nuttall': 7703, 'reedville': 7704, 'finalists': 7705, 'janet': 7706, 'jossy': 7707, 'sheep': 7708, 'ribbons': 7709, 'stephanie': 7710, 'zurcher': 7711, 'phyllis': 7712, 'carol': 7713, 'lorlyn': 7714, 'exhibited': 7715, 'hog': 7716, 'traxel': 7717, 'hutchins': 7718, 'swine': 7719, 'showmanship': 7720, 'blues': 7721, 'pumpkin': 7722, 'rabbit': 7723, 'poultry': 7724, 'judging': 7725, 'nyberg': 7726, 'tualatin': 7727, 'batchelder': 7728, 'tigard': 7729, 'eggs': 7730, 'wacklin': 7731, 'sherwood': 7732, 'male': 7733, 'female': 7734, 'haase': 7735, 'corneilus': 7736, 'entrant': 7737, 'championships': 7738, 'cedar': 7739, 'mill': 7740, 'cooked': 7741, 'millie': 7742, 'jansen': 7743, 'verboort': 7744, 'jody': 7745, 'jaross': 7746, 'borland': 7747, 'economics': 7748, 'demonstration': 7749, 'filbert': 7750, 'assessors': 7751, 'assessments': 7752, 'centredale': 7753, 'grenier': 7754, 'assessment': 7755, 'properties': 7756, 'quarterly': 7757, 'pezza': 7758, 'shoulder': 7759, 'pains': 7760, 'collided': 7761, 'giorgio': 7762, 'desoto': 7763, 'onto': 7764, 'slightly': 7765, 'disimone': 7766, 'uninjured': 7767, 'thieves': 7768, 'ransacked': 7769, 'cranston': 7770, 'furs': 7771, 'jewels': 7772, 'coins': 7773, 'stephen': 7774, 'kochanek': 7775, 'theft': 7776, 'intruders': 7777, 'coat': 7778, 'persian': 7779, 'lamb': 7780, 'french': 7781, 'valued': 7782, 'rings': 7783, 'earrings': 7784, 'diamond': 7785, 'kochaneks': 7786, 'nunes': 7787, 'investigated': 7788, 'drawers': 7789, 'cabinets': 7790, 'bedrooms': 7791, 'sewing': 7792, 'stoppage': 7793, 'eddy': 7794, 'elm': 7795, 'dumping': 7796, 'raw': 7797, 'sewage': 7798, 'acid': 7799, 'jewelry': 7800, 'plants': 7801, 'flowing': 7802, 'tide': 7803, 'twofamily': 7804, 'deed': 7805, 'cochran': 7806, 'bought': 7807, 'rental': 7808, 'pawtuckets': 7809, 'garbage': 7810, 'rubbish': 7811, 'picketed': 7812, 'incinerator': 7813, 'strike': 7814, 'rotelli': 7815, 'companys': 7816, 'collections': 7817, 'hired': 7818, 'sydney': 7819, 'smithfield': 7820, 'beverly': 7821, 'circle': 7822, 'satisfactory': 7823, 'fatima': 7824, 'woonasquatucket': 7825, 'fractured': 7826, 'ribs': 7827, 'chest': 7828, 'stones': 7829, 'brushed': 7830, 'alva': 7831, 'vernava': 7832, 'maple': 7833, 'tearing': 7834, 'rear': 7835, 'bumper': 7836, 'denting': 7837, 'fender': 7838, 'impact': 7839, 'fruit': 7840, 'audiovisual': 7841, 'democraticendorsed': 7842, 'acted': 7843, 'improperly': 7844, 'nolan': 7845, 'walsh': 7846, 'tougas': 7847, 'finding': 7848, 'superintendents': 7849, 'suitable': 7850, 'vermeersch': 7851, 'rosella': 7852, 'lovett': 7853, 'damages': 7854, 'atwells': 7855, 'interstate': 7856, 'valuation': 7857, 'onestory': 7858, 'saul': 7859, 'hodosh': 7860, 'represented': 7861, 'santas': 7862, 'lieutenants': 7863, 'journalbulletin': 7864, 'claus': 7865, 'convenient': 7866, 'journalbulletins': 7867, 'acknowledged': 7868, 'quota': 7869, 'scores': 7870, 'remembered': 7871, 'contributors': 7872, 'pennies': 7873, 'nickels': 7874, 'dimes': 7875, 'quarters': 7876, 'parrillo': 7877, 'fletcher': 7878, 'hunting': 7879, 'shotgun': 7880, 'discharged': 7881, 'heel': 7882, 'hose': 7883, 'thornton': 7884, 'companion': 7885, 'simmonsville': 7886, 'oliver': 7887, 'alterations': 7888, 'beds': 7889, 'sorrentino': 7890, 'founder': 7891, 'uncas': 7892, 'mfg': 7893, 'cavaliere': 7894, 'italy': 7895, 'decoration': 7896, 'trichieri': 7897, 'celebrating': 7898, 'bestowal': 7899, 'aurora': 7900, 'newportbased': 7901, 'destroyer': 7902, 'escort': 7903, 'kretchmer': 7904, 'newport': 7905, 'afloat': 7906, 'ashore': 7907, 'rescued': 7908, 'crew': 7909, 'trawler': 7910, 'drifting': 7911, 'raft': 7912, 'sinking': 7913, 'stopping': 7914, 'greenock': 7915, 'scotland': 7916, 'liberty': 7917, 'rendered': 7918, 'birmingham': 7919, 'perjury': 7920, 'rider': 7921, 'burning': 7922, 'complaint': 7923, 'juror': 7924, 'ku': 7925, 'klux': 7926, 'klan': 7927, 'membership': 7928, 'farmer': 7929, 'hartselle': 7930, 'anniston': 7931, 'interfering': 7932, 'growing': 7933, 'mobs': 7934, 'greyhound': 7935, 'riders': 7936, 'freed': 7937, 'wrongdoing': 7938, 'incident': 7939, 'hobart': 7940, 'grooms': 7941, 'jurytampering': 7942, 'expressing': 7943, 'excused': 7944, 'masked': 7945, 'lenient': 7946, 'alternate': 7947, 'formal': 7948, 'incidents': 7949, 'connections': 7950, 'kkk': 7951, 'imprisonment': 7952, 'nyu': 7953, 'mcn': 7954, 'hester': 7955, 'sciences': 7956, 'carroll': 7957, 'newsom': 7958, 'prenticehall': 7959, 'princeton': 7960, 'nj': 7961, 'asilomar': 7962, 'spraying': 7963, 'endangering': 7964, 'buchheister': 7965, 'audubon': 7966, 'handing': 7967, 'loaded': 7968, 'convention': 7969, 'controls': 7970, 'borer': 7971, 'plague': 7972, 'wrecked': 7973, 'cane': 7974, 'crop': 7975, 'mistakes': 7976, 'wyoming': 7977, 'pride': 7978, 'scientific': 7979, 'experiments': 7980, 'farmers': 7981, 'forgetting': 7982, 'efficient': 7983, 'enemies': 7984, 'insects': 7985, 'rodents': 7986, 'rid': 7987, 'occasionally': 7988, 'grapes': 7989, 'blueberries': 7990, 'urging': 7991, 'restrictions': 7992, 'wilderness': 7993, 'seashore': 7994, 'reyes': 7995, 'preservation': 7996, 'wetlands': 7997, 'breed': 7998, 'pesticides': 7999, 'pollution': 8000, 'ratification': 8001, 'halt': 8002, 'sea': 8003, 'oil': 8004, 'reed': 8005, 'rogers': 8006, 'da': 8007, 'fonta': 8008, 'sanctuary': 8009, 'marin': 8010, 'officially': 8011, 'livermore': 8012, 'tidelands': 8013, 'greenwood': 8014, 'olney': 8015, 'kentfield': 8016, 'inviolate': 8017, 'animals': 8018, 'seventeen': 8019, 'willy': 8020, 'fiedler': 8021, 'climbed': 8022, 'cockpit': 8023, 'installed': 8024, 'rocketbomb': 8025, 'attached': 8026, 'underbelly': 8027, 'heinkel': 8028, 'bomber': 8029, 'rolled': 8030, 'runway': 8031, 'earth': 8032, 'alive': 8033, 'pulse': 8034, 'jet': 8035, 'airstrip': 8036, 'quietspoken': 8037, 'middleaged': 8038, 'aeronautical': 8039, 'engineer': 8040, 'lockheeds': 8041, 'missiles': 8042, 'sunnyvale': 8043, 'sat': 8044, 'pilots': 8045, 'crashed': 8046, 'hitlers': 8047, 'supersecret': 8048, 'reichenberg': 8049, 'unknown': 8050, 'rocketbombs': 8051, 'manned': 8052, 'warhead': 8053, 'shipping': 8054, 'stave': 8055, 'fiedlers': 8056, 'cubic': 8057, 'rockets': 8058, 'mechanism': 8059, 'altitude': 8060, 'signaled': 8061, 'roaring': 8062, 'pulsejet': 8063, 'engine': 8064, 'streaked': 8065, 'beneath': 8066, 'pilot': 8067, 'rocket': 8068, 'faint': 8069, 'speck': 8070, 'hurtling': 8071, 'sky': 8072, 'incredible': 8073, 'mph': 8074, 'beautifully': 8075, 'valve': 8076, 'adjust': 8077, 'fuel': 8078, 'strip': 8079, 'steering': 8080, 'controlled': 8081, 'tail': 8082, 'surfaces': 8083, 'wings': 8084, 'equipped': 8085, 'ailerons': 8086, 'bolted': 8087, 'fuselage': 8088, 'managed': 8089, 'maneuver': 8090, 'landing': 8091, 'banked': 8092, 'airfield': 8093, 'moments': 8094, 'skimmed': 8095, 'streamer': 8096, 'dust': 8097, 'flights': 8098, 'steer': 8099, 'suicide': 8100, 'dive': 8101, 'waterline': 8102, 'crack': 8103, 'halted': 8104, 'lockheed': 8105, 'spare': 8106, 'gliders': 8107, 'slow': 8108, 'serene': 8109, 'challenging': 8110, 'di': 8111, 'massimo': 8112, 'celebration': 8113, 'scampini': 8114, 'arata': 8115, 'casassa': 8116, 'molinari': 8117, 'elios': 8118, 'anderlini': 8119, 'attilio': 8120, 'beronio': 8121, 'bianco': 8122, 'frederic': 8123, 'campagnoli': 8124, 'cervetto': 8125, 'armond': 8126, 'martini': 8127, 'duhagon': 8128, 'figone': 8129, 'mana': 8130, 'moscone': 8131, 'calude': 8132, 'perasso': 8133, 'petrini': 8134, 'ratto': 8135, 'reilly': 8136, 'schweitzer': 8137, 'worldfamous': 8138, 'theologian': 8139, 'endorsed': 8140, 'disarmament': 8141, 'quaker': 8142, 'newer': 8143, 'weapons': 8144, 'otherwise': 8145, 'dread': 8146, 'imply': 8147, 'grisly': 8148, 'abolish': 8149, 'obligated': 8150, 'aware': 8151, 'ghastly': 8152, 'stupidity': 8153, 'jolt': 8154, 'complacency': 8155, 'operator': 8156, 'janitors': 8157, 'shore': 8158, 'acquaintance': 8159, 'syndicate': 8160, 'glimco': 8161, 'gangland': 8162, 'buddies': 8163, 'mob': 8164, 'racketeer': 8165, 'gang': 8166, 'gambling': 8167, 'chiefs': 8168, 'gus': 8169, 'alex': 8170, 'caesar': 8171, 'divarco': 8172, 'monk': 8173, 'allegretti': 8174, 'hoodlum': 8175, 'arger': 8176, 'steins': 8177, 'janitor': 8178, 'stevedore': 8179, 'pier': 8180, 'probing': 8181, 'prosecutors': 8182, 'attempting': 8183, 'connect': 8184, 'gangsters': 8185, 'tracing': 8186, 'scrutiny': 8187, 'payments': 8188, 'workmen': 8189, 'factories': 8190, 'leavitt': 8191, 'kedzie': 8192, 'dominic': 8193, 'senese': 8194, 'teamster': 8195, 'cousin': 8196, 'accardo': 8197, 'onetime': 8198, 'pesce': 8199, 'deodorant': 8200, 'sanitation': 8201, 'supervise': 8202, 'leavitts': 8203, 'warehousemans': 8204, 'salesmans': 8205, 'bottling': 8206, 'closely': 8207, 'repaid': 8208, 'glimcos': 8209, 'drivers': 8210, 'radiation': 8211, 'micromicrocurie': 8212, 'meter': 8213, 'detonation': 8214, 'radioactive': 8215, 'occur': 8216, 'curtis': 8217, 'huff': 8218, 'suppressed': 8219, 'warrant': 8220, 'charging': 8221, 'embezzling': 8222, 'undetermined': 8223, 'dearborn': 8224, 'lien': 8225, 'huffs': 8226, 'antone': 8227, 'gregorio': 8228, 'embezzlement': 8229, 'satisfaction': 8230, 'mechanics': 8231, 'liens': 8232, 'lucrative': 8233, 'lists': 8234, 'blaber': 8235, 'cashed': 8236, 'card': 8237, 'bonn': 8238, 'greek': 8239, 'nazi': 8240, 'persecution': 8241, 'hottest': 8242, 'shares': 8243, 'dallasheadquartered': 8244, 'allotting': 8245, 'explaining': 8246, 'investors': 8247, 'counted': 8248, 'lucky': 8249, 'trading': 8250, 'underwriting': 8251, 'overthecounter': 8252, 'eppler': 8253, 'guerin': 8254, 'underwriter': 8255, 'circulating': 8256, 'inquiries': 8257, 'reams': 8258, 'wanting': 8259, 'reserved': 8260, 'cable': 8261, 'switzerland': 8262, 'somehow': 8263, 'offering': 8264, 'subscribe': 8265, 'translated': 8266, 'egt': 8267, 'swiss': 8268, 'underwriters': 8269, 'qualify': 8270, 'regularly': 8271, 'combination': 8272, 'boiling': 8273, 'upward': 8274, 'kinds': 8275, 'priced': 8276, 'roughly': 8277, 'earnings': 8278, 'yield': 8279, 'chip': 8280, 'fancy': 8281, 'lately': 8282, 'frito': 8283, 'runups': 8284, 'priceearnings': 8285, 'runup': 8286, 'resistant': 8287, 'ratios': 8288, 'todays': 8289, 'depression': 8290, 'remain': 8291, 'executives': 8292, 'abilities': 8293, 'competitive': 8294, 'survival': 8295, 'fittest': 8296, 'reaching': 8297, 'realizing': 8298, 'secondechelon': 8299, 'mergers': 8300, 'mortons': 8301, 'corn': 8302, 'chipos': 8303, 'turns': 8304, 'avid': 8305, 'buyers': 8306, 'worldwide': 8307, 'gin': 8308, 'maintain': 8309, 'manufacturer': 8310, 'coincidence': 8311, 'ginners': 8312, 'ginning': 8313, 'weighs': 8314, 'tons': 8315, 'proximity': 8316, 'safe': 8317, 'assumption': 8318, 'percentage': 8319, 'gins': 8320, 'contain': 8321, 'occupied': 8322, 'grown': 8323, 'driers': 8324, 'cleaners': 8325, 'dallasbased': 8326, 'smaller': 8327, 'prattville': 8328, 'sells': 8329, 'cottongrowing': 8330, 'hardwickeetter': 8331, 'domestic': 8332, 'southeastern': 8333, 'centennial': 8334, 'export': 8335, 'presently': 8336, 'employs': 8337, 'lummus': 8338, 'moss': 8339, 'gordin': 8340, 'lint': 8341, 'cleaner': 8342, 'cleaning': 8343, 'seed': 8344, 'heaters': 8345, 'maker': 8346, 'boil': 8347, 'extraction': 8348, 'mechanical': 8349, 'harvesting': 8350, 'drying': 8351, 'hinckley': 8352, 'overhead': 8353, 'burr': 8354, 'extractors': 8355, 'separators': 8356, 'piping': 8357, 'saws': 8358, 'stacy': 8359, 'belting': 8360, 'bearings': 8361, 'etc': 8362, 'sizable': 8363, 'segment': 8364, 'slight': 8365, 'doldrums': 8366, 'characterized': 8367, 'registrations': 8368, 'februarys': 8369, 'quartertoquarter': 8370, 'comparison': 8371, 'quarter': 8372, 'yeartoyear': 8373, 'pickup': 8374, 'dealers': 8375, 'apriljune': 8376, 'prompt': 8377, 'makers': 8378, 'production': 8379, 'compacts': 8380, 'grab': 8381, 'larger': 8382, 'lowerpriced': 8383, 'buick': 8384, 'chrysler': 8385, 'mercury': 8386, 'gains': 8387, 'banquet': 8388, 'sheratondallas': 8389, 'winds': 8390, 'distributive': 8391, 'marketing': 8392, 'salesmanship': 8393, 'supplement': 8394, 'classroom': 8395, 'instruction': 8396, 'seniors': 8397, 'gerald': 8398, 'owens': 8399, 'isodine': 8400, 'pharmical': 8401, 'trigg': 8402, 'arrington': 8403, 'kaminsky': 8404, 'adams': 8405, 'janice': 8406, 'whitney': 8407, 'fil': 8408, 'terral': 8409, 'adamson': 8410, 'tommie': 8411, 'paschall': 8412, 'crozier': 8413, 'paulah': 8414, 'kestner': 8415, 'hillcrest': 8416, 'hayes': 8417, 'shay': 8418, 'satterfield': 8419, 'cluck': 8420, 'deloris': 8421, 'carrel': 8422, 'carty': 8423, 'edna': 8424, 'eaton': 8425, 'neal': 8426, 'mclauchlin': 8427, 'rylie': 8428, 'seagoville': 8429, 'wolverton': 8430, 'sharon': 8431, 'flanagan': 8432, 'samuels': 8433, 'hammond': 8434, 'ronnie': 8435, 'carolyn': 8436, 'bert': 8437, 'sunset': 8438, 'potter': 8439, 'woodrow': 8440, 'complex': 8441, 'sweeping': 8442, 'fringe': 8443, 'caron': 8444, 'stallard': 8445, 'gather': 8446, 'momentum': 8447, 'lift': 8448, 'peak': 8449, 'autumn': 8450, 'beryl': 8451, 'sprinkel': 8452, 'closing': 8453, 'assn': 8454, 'draper': 8455, 'palo': 8456, 'alto': 8457, 'venture': 8458, 'gaither': 8459, 'gauntlet': 8460, 'communism': 8461, 'bluntly': 8462, 'appropriations': 8463, 'pan': 8464, 'conferees': 8465, 'improvement': 8466, 'cyclical': 8467, 'pattern': 8468, 'abrupt': 8469, 'thesis': 8470, 'refuted': 8471, 'neostagnationist': 8472, 'declaring': 8473, 'pessimism': 8474, 'questionable': 8475, 'abortive': 8476, 'lesson': 8477, 'probability': 8478, 'cautioned': 8479, 'excessive': 8480, 'stimulation': 8481, 'moderate': 8482, 'inflation': 8483, 'aggressively': 8484, 'tighten': 8485, 'monetary': 8486, 'phases': 8487, 'upturn': 8488, 'unsatisfactory': 8489, 'inappropriate': 8490, 'retrenching': 8491, 'resulting': 8492, 'sacrifices': 8493, 'dangers': 8494, 'threaten': 8495, 'justify': 8496, 'heritage': 8497, 'clay': 8498, 'blackmail': 8499, 'sooner': 8500, 'liable': 8501, 'situations': 8502, 'hemisphere': 8503, 'erasing': 8504, 'analysts': 8505, 'continuation': 8506, 'sank': 8507, 'hopedfor': 8508, 'dow': 8509, 'standing': 8510, 'sidelines': 8511, 'pivotal': 8512, 'routine': 8513, 'snapback': 8514, 'streeters': 8515, 'accompanied': 8516, 'orders': 8517, 'durable': 8518, 'treasury': 8519, 'dillon': 8520, 'whopping': 8521, 'paving': 8522, 'lower': 8523, 'traded': 8524, 'highs': 8525, 'lows': 8526, 'comparatively': 8527, 'dull': 8528, 'dipped': 8529, 'envisioned': 8530, 'peterson': 8531, 'bell': 8532, 'howell': 8533, 'belong': 8534, 'industrialist': 8535, 'creative': 8536, 'unconventional': 8537, 'creations': 8538, 'expenditures': 8539, 'marketed': 8540, 'logjam': 8541, 'obviously': 8542, 'geometrically': 8543, 'tend': 8544, 'equalizers': 8545, 'fairly': 8546, 'fail': 8547, 'shortterm': 8548, 'dares': 8549, 'japanese': 8550, 'knowhow': 8551, 'allautomatic': 8552, 'exchange': 8553, 'phelan': 8554, 'stockholder': 8555, 'securities': 8556, 'debentures': 8557, 'gulfs': 8558, 'holdings': 8559, 'surrender': 8560, 'convertible': 8561, 'consisted': 8562, 'subordinated': 8563, 'dwindled': 8564, 'teleprompter': 8565, 'foil': 8566, 'fairchild': 8567, 'kawecki': 8568, 'diversified': 8569, 'dividends': 8570, 'custodian': 8571, 'fundamental': 8572, 'televisionelectronics': 8573, 'programmed': 8574, 'irate': 8575, 'shareholders': 8576, 'complaining': 8577, 'squared': 8578, 'shareholder': 8579, 'finds': 8580, 'mistake': 8581, 'doyle': 8582, 'undertake': 8583, 'selects': 8584, 'queries': 8585, 'farreaching': 8586, 'alter': 8587, 'movements': 8588, 'satisfactorily': 8589, 'foreseeable': 8590, 'perlman': 8591, 'merge': 8592, 'os': 8593, 'weaken': 8594, 'consolidation': 8595, 'precarious': 8596, 'tuohy': 8597, 'crossexamination': 8598, 'icc': 8599, 'rebuffed': 8600, 'threeway': 8601, 'ob': 8602, 'hemispheres': 8603, 'borrowing': 8604, 'tuesdays': 8605, 'weekly': 8606, 'outlook': 8607, 'polled': 8608, 'onethird': 8609, 'resistance': 8610, 'buying': 8611, 'renting': 8612, 'narrowed': 8613, 'saturation': 8614, 'presumably': 8615, 'nonfarm': 8616, 'discrepancy': 8617, 'invited': 8618, 'businessmen': 8619, 'elburn': 8620, 'dealer': 8621, 'houtz': 8622, 'tilts': 8623, 'battered': 8624, 'chair': 8625, 'pickers': 8626, 'ehlers': 8627, 'competitor': 8628, 'experiencing': 8629, 'climbing': 8630, 'paradoxically': 8631, 'slash': 8632, 'output': 8633, 'acreage': 8634, 'lowest': 8635, 'fertilizer': 8636, 'yields': 8637, 'dense': 8638, 'efficiently': 8639, 'supports': 8640, 'pushing': 8641, 'averaging': 8642, 'keeler': 8643, 'harvester': 8644, 'lag': 8645, 'sections': 8646, 'upswing': 8647, 'droughtseared': 8648, 'notable': 8649, 'exceptions': 8650, 'uptrend': 8651, 'extends': 8652, 'yardstick': 8653, 'tractors': 8654, 'implements': 8655, 'gasoline': 8656, 'appliances': 8657, 'chemicals': 8658, 'haggling': 8659, 'arent': 8660, 'conscious': 8661, 'sioux': 8662, 'iowa': 8663, 'picker': 8664, 'affects': 8665, 'shipments': 8666, 'masseyferguson': 8667, 'ltd': 8668, 'toronto': 8669, 'staiger': 8670, 'inventories': 8671, 'steppedup': 8672, 'shortages': 8673, 'merritt': 8674, 'demanding': 8675, 'delivery': 8676, 'trailed': 8677, 'yearearlier': 8678, 'feed': 8679, 'grain': 8680, 'cutback': 8681, 'planted': 8682, 'chiefly': 8683, 'forecast': 8684, 'economists': 8685, 'subsidies': 8686, 'incentive': 8687, 'receipts': 8688, 'marketings': 8689, 'index': 8690, 'midseptember': 8691, 'midjuly': 8692, 'depletion': 8693, 'mid': 8694, 'pipe': 8695, 'mined': 8696, 'figuring': 8697, 'taxable': 8698, 'deducted': 8699, 'percentages': 8700, 'materials': 8701, 'producers': 8702, 'assets': 8703, 'adjourning': 8704, 'softened': 8705, 'rulings': 8706, 'prioryear': 8707, 'returns': 8708, 'claymining': 8709, 'allows': 8710, 'mineral': 8711, 'signing': 8712, 'charitable': 8713, 'deductions': 8714, 'irs': 8715, 'furnish': 8716, 'particulars': 8717, 'substantiation': 8718, 'suspects': 8719, 'donor': 8720, 'material': 8721, 'revenuers': 8722, 'deduction': 8723, 'deductibility': 8724, 'realty': 8725, 'owed': 8726, 'disposed': 8727, 'liquidation': 8728, 'disallowed': 8729, 'invoking': 8730, 'bars': 8731, 'incurred': 8732, 'taxfreedom': 8733, 'stemmed': 8734, 'liquidations': 8735, 'challenges': 8736, 'creating': 8737, 'termination': 8738, 'cadet': 8739, 'taxed': 8740, 'entirety': 8741, 'taxpayer': 8742, 'pad': 8743, 'invoices': 8744, 'kickbacks': 8745, 'commenting': 8746, 'province': 8747, 'morality': 8748, 'transaction': 8749, 'kerosene': 8750, 'boats': 8751, 'railing': 8752, 'vessel': 8753, 'householdtype': 8754, 'hiring': 8755, 'taxaided': 8756, 'spouse': 8757, 'entitled': 8758, 'distributions': 8759, 'coverage': 8760, 'taxfree': 8761, 'frequent': 8762, 'pitfall': 8763, 'warn': 8764, 'declare': 8765, 'discriminatory': 8766, 'upshots': 8767, 'briefs': 8768, 'imposition': 8769, 'applied': 8770, 'whollyowned': 8771, 'subsidiary': 8772, 'divulging': 8773, 'identity': 8774, 'parent': 8775, 'computed': 8776, 'nonprofit': 8777, 'realized': 8778, 'entities': 8779, 'edged': 8780, 'seasonally': 8781, 'adjusted': 8782, 'chart': 8783, 'seasonal': 8784, 'adjustment': 8785, 'preeaster': 8786, 'inclined': 8787, 'surge': 8788, 'steep': 8789, 'greer': 8790, 'tasteful': 8791, 'sophisticated': 8792, 'neimanmarcus': 8793, 'titianhaired': 8794, 'personification': 8795, 'exposition': 8796, 'ferdinando': 8797, 'sarmi': 8798, 'creator': 8799, 'fashions': 8800, 'rolnick': 8801, 'byerrolnick': 8802, 'hat': 8803, 'designer': 8804, 'wragge': 8805, 'casuals': 8806, 'vivier': 8807, 'dior': 8808, 'shoes': 8809, 'france': 8810, 'toes': 8811, 'lowered': 8812, 'heels': 8813, 'revolutionized': 8814, 'shoe': 8815, 'ebony': 8816, 'plaques': 8817, 'luncheons': 8818, 'marcus': 8819, 'beneficiary': 8820, 'showings': 8821, 'crippled': 8822, 'cerebral': 8823, 'palsy': 8824, 'loves': 8825, 'clothes': 8826, 'carefully': 8827, 'prefers': 8828, 'timeless': 8829, 'deserts': 8830, 'simply': 8831, 'fogelson': 8832, 'commuting': 8833, 'belair': 8834, 'ranch': 8835, 'pecos': 8836, 'mexico': 8837, 'wardrobe': 8838, 'mobile': 8839, 'shake': 8840, 'wrinkle': 8841, 'designers': 8842, 'pictures': 8843, 'norell': 8844, 'likes': 8845, 'classic': 8846, 'chemise': 8847, 'irene': 8848, 'longbodied': 8849, 'silhouette': 8850, 'femininity': 8851, 'charm': 8852, 'ceil': 8853, 'balenciaga': 8854, 'struggling': 8855, 'reminisces': 8856, 'drama': 8857, 'simplicity': 8858, 'appreciate': 8859, 'lively': 8860, 'glowing': 8861, 'pinks': 8862, 'scotchirishscandinavian': 8863, 'descent': 8864, 'ireland': 8865, 'orkney': 8866, 'isles': 8867, 'postgraduate': 8868, 'grenoble': 8869, 'repertory': 8870, 'starring': 8871, 'arrow': 8872, 'noel': 8873, 'coward': 8874, 'motionpicture': 8875, 'goodbye': 8876, 'chips': 8877, 'random': 8878, 'harvest': 8879, 'madame': 8880, 'curie': 8881, 'prejudice': 8882, 'forsythe': 8883, 'saga': 8884, 'miniver': 8885, 'portrayal': 8886, 'sunrise': 8887, 'campobello': 8888, 'auntie': 8889, 'mame': 8890, 'brassbounds': 8891, 'camille': 8892, 'tussards': 8893, 'waxworks': 8894, 'kiowa': 8895, 'tribe': 8896, 'colonel': 8897, 'adept': 8898, 'skeet': 8899, 'trout': 8900, 'fishing': 8901, 'afrocuban': 8902, 'archaeology': 8903, 'serves': 8904, 'symphony': 8905, 'museum': 8906, 'tuberculosis': 8907, 'oilmanrancher': 8908, 'supporters': 8909, 'patrons': 8910, 'vivid': 8911, 'colony': 8912, 'flourishes': 8913, 'gander': 8914, 'coeds': 8915, 'ogled': 8916, 'dutifully': 8917, 'gravy': 8918, 'smus': 8919, 'craven': 8920, 'womentrodden': 8921, 'apt': 8922, 'wrangler': 8923, 'buys': 8924, 'groceries': 8925, 'moans': 8926, 'dishes': 8927, 'snacks': 8928, 'cafeterias': 8929, 'mcelvaney': 8930, 'athletes': 8931, 'tables': 8932, 'ruggedly': 8933, 'pester': 8934, 'hockaday': 8935, 'charming': 8936, 'spice': 8937, 'chow': 8938, 'mastodons': 8939, 'meat': 8940, 'potatoes': 8941, 'gogogo': 8942, 'fat': 8943, 'hides': 8944, 'mayonnaise': 8945, 'stomachs': 8946, 'jumpy': 8947, 'physical': 8948, 'duress': 8949, 'bans': 8950, 'flavored': 8951, 'condiments': 8952, 'plates': 8953, 'hamburger': 8954, 'hotdogs': 8955, 'steak': 8956, 'pizza': 8957, 'broccoli': 8958, 'cauliflower': 8959, 'stoked': 8960, 'truman': 8961, 'cabot': 8962, 'morocco': 8963, 'clement': 8964, 'atlee': 8965, 'shiny': 8966, 'characters': 8967, 'tibetan': 8968, 'monks': 8969, 'saffron': 8970, 'robes': 8971, 'chicken': 8972, 'cadillac': 8973, 'ounce': 8974, 'breast': 8975, 'salt': 8976, 'pepper': 8977, 'dip': 8978, 'melted': 8979, 'butter': 8980, 'flour': 8981, 'baking': 8982, 'bake': 8983, 'lightly': 8984, 'warmed': 8985, 'cream': 8986, 'seasoned': 8987, 'onion': 8988, 'juice': 8989, 'breasts': 8990, 'onehalf': 8991, 'saute': 8992, 'mushrooms': 8993, 'canned': 8994, 'sprinkle': 8995, 'slowbaked': 8996, 'ham': 8997, 'seedless': 8998, 'pontiac': 8999, 'contemporary': 9000, 'danish': 9001, 'straightline': 9002, 'sculptured': 9003, 'facets': 9004, 'warmth': 9005, 'dignity': 9006, 'utter': 9007, 'livability': 9008, 'avant': 9009, 'garde': 9010, 'indication': 9011, 'boxy': 9012, 'correlated': 9013, 'sangerharris': 9014, 'woods': 9015, 'assembled': 9016, 'perennian': 9017, 'lasting': 9018, 'truly': 9019, 'avoids': 9020, 'monotony': 9021, 'pieces': 9022, 'wormy': 9023, 'chestnut': 9024, 'pecan': 9025, 'varieties': 9026, 'burl': 9027, 'handwoven': 9028, 'philippine': 9029, 'ceramic': 9030, 'tiles': 9031, 'marble': 9032, 'texture': 9033, 'permanence': 9034, 'tiled': 9035, 'floors': 9036, 'paneled': 9037, 'walls': 9038, 'windows': 9039, 'outdoors': 9040, 'customdesign': 9041, 'composite': 9042, 'titches': 9043, 'decorating': 9044, 'variation': 9045, 'rounded': 9046, 'decorative': 9047, 'insets': 9048, 'softening': 9049, 'arches': 9050, 'tops': 9051, 'inlaid': 9052, 'macassar': 9053, 'acacia': 9054, 'highlegged': 9055, 'easytoreach': 9056, 'snack': 9057, 'tucked': 9058, 'recessed': 9059, 'arched': 9060, 'decorate': 9061, 'functional': 9062, 'chests': 9063, 'dressers': 9064, 'canted': 9065, 'headboard': 9066, 'heavier': 9067, 'styling': 9068, 'doorfronted': 9069, 'poster': 9070, 'mirror': 9071, 'eastman': 9072, 'chromspun': 9073, 'fabrics': 9074, 'magenta': 9075, 'tones': 9076, 'predominating': 9077, 'shades': 9078, 'scotchgard': 9079, 'finish': 9080, 'resist': 9081, 'soil': 9082, 'wrinkles': 9083, 'rooted': 9084, 'forms': 9085, 'wearing': 9086, 'label': 9087, 'drexels': 9088, 'spiderleg': 9089, 'pedestal': 9090, 'lustrous': 9091, 'seethrough': 9092, 'combines': 9093, 'nostalgic': 9094, 'ladder': 9095, 'shoji': 9096, 'reflecting': 9097, 'substance': 9098, 'maturity': 9099, 'handscreened': 9100, 'wood': 9101, 'tall': 9102, 'bookcases': 9103, 'mellow': 9104, 'bronzygreengold': 9105, 'gleam': 9106, 'copper': 9107, 'handcrafted': 9108, 'accessories': 9109, 'reiterate': 9110, 'carpet': 9111, 'wool': 9112, 'pile': 9113, 'vagabonds': 9114, 'saledo': 9115, 'airconditioned': 9116, 'stagecoach': 9117, 'dignitaries': 9118, 'trail': 9119, 'gettogether': 9120, 'pool': 9121, 'ginghams': 9122, 'calico': 9123, 'attire': 9124, 'stetsons': 9125, 'vests': 9126, 'yellow': 9127, 'bluebonnets': 9128, 'silhouettes': 9129, 'sunbonnet': 9130, 'abell': 9131, 'messrs': 9132, 'mmes': 9133, 'mckee': 9134, 'mcelyee': 9135, 'fanning': 9136, 'roquemore': 9137, 'darrow': 9138, 'travel': 9139, 'comprised': 9140, 'funloving': 9141, 'couples': 9142, 'motto': 9143, 'somewhere': 9144, 'climaxed': 9145, 'chartered': 9146, 'las': 9147, 'vegas': 9148, 'jamaica': 9149, 'buses': 9150, 'wells': 9151, 'kerrville': 9152, 'railway': 9153, 'vicinity': 9154, 'schmalzried': 9155, 'yearbook': 9156, 'scrapbook': 9157, 'cookie': 9158, 'caramel': 9159, 'chocolate': 9160, 'frosting': 9161, 'pillsbury': 9162, 'bakeoff': 9163, 'reese': 9164, 'hilton': 9165, 'bakeoffs': 9166, 'finals': 9167, 'clara': 9168, 'hawaiian': 9169, 'rich': 9170, 'yeast': 9171, 'bread': 9172, 'coconut': 9173, 'vanilla': 9174, 'glaze': 9175, 'wellsville': 9176, 'baked': 9177, 'dreamed': 9178, 'recipe': 9179, 'liked': 9180, 'photographing': 9181, 'finalist': 9182, 'bolker': 9183, 'chandler': 9184, 'heads': 9185, 'welton': 9186, 'becket': 9187, 'architect': 9188, 'slides': 9189, 'renderings': 9190, 'threebuilding': 9191, 'foliage': 9192, 'matched': 9193, 'reservations': 9194, 'cott': 9195, 'niven': 9196, 'bricker': 9197, 'stetson': 9198, 'drs': 9199, 'robbins': 9200, 'lafe': 9201, 'ludwig': 9202, 'leroy': 9203, 'watson': 9204, 'wilshire': 9205, 'originating': 9206, 'midwest': 9207, 'passengers': 9208, 'practiced': 9209, 'examiners': 9210, 'violin': 9211, 'ilona': 9212, 'schmidlseeberg': 9213, 'tiny': 9214, 'hungarian': 9215, 'fritz': 9216, 'kreisler': 9217, 'concert': 9218, 'linen': 9219, 'needles': 9220, 'yarn': 9221, 'budapest': 9222, 'tapestries': 9223, 'continents': 9224, 'uprisings': 9225, 'tapestry': 9226, 'logistical': 9227, 'rainy': 9228, 'raincoats': 9229, 'fingerpaint': 9230, 'grammar': 9231, 'gloriana': 9232, 'entails': 9233, 'grow': 9234, 'hardship': 9235, 'pilgrimage': 9236, 'streetcar': 9237, 'werent': 9238, 'ocean': 9239, 'dismal': 9240, 'theyd': 9241, 'rides': 9242, 'logic': 9243, 'impeccable': 9244, 'fool': 9245, 'capable': 9246, 'legs': 9247, 'walks': 9248, 'crackpots': 9249, 'notices': 9250, 'hord': 9251, 'edition': 9252, 'subtitled': 9253, 'mornings': 9254, 'postman': 9255, 'publisher': 9256, 'updated': 9257, 'compact': 9258, 'everchanging': 9259, 'numbers': 9260, 'addresses': 9261, 'residences': 9262, 'marriages': 9263, 'stars': 9264, 'denote': 9265, 'cooper': 9266, 'coopers': 9267, 'worrell': 9268, 'ghormley': 9269, 'pen': 9270, 'tudor': 9271, 'carla': 9272, 'craig': 9273, 'mcfarland': 9274, 'joanne': 9275, 'curry': 9276, 'ellsworth': 9277, 'currys': 9278, 'hartley': 9279, 'gregg': 9280, 'valerie': 9281, 'mcalister': 9282, 'duque': 9283, 'elizabeth': 9284, 'browning': 9285, 'brownings': 9286, 'cynthia': 9287, 'ludlow': 9288, 'todd': 9289, 'huntington': 9290, 'huntingtons': 9291, 'pasadena': 9292, 'listings': 9293, 'haskins': 9294, 'judy': 9295, 'mcalester': 9296, 'pfau': 9297, 'pauleys': 9298, 'chantilly': 9299, 'arden': 9300, 'moulton': 9301, 'moultons': 9302, 'windsor': 9303, 'beesemyers': 9304, 'connecticut': 9305, 'residing': 9306, 'raoul': 9307, 'esnards': 9308, 'exchanged': 9309, 'residence': 9310, 'hazard': 9311, 'laguna': 9312, 'wangemans': 9313, 'ransom': 9314, 'chases': 9315, 'oxford': 9316, 'eng': 9317, 'olerichs': 9318, 'aderholds': 9319, 'henri': 9320, 'chapelles': 9321, 'berteros': 9322, 'egerton': 9323, 'crispin': 9324, 'armisteads': 9325, 'lockies': 9326, 'anthony': 9327, 'longinotti': 9328, 'newcomers': 9329, 'carbones': 9330, 'panama': 9331, 'geddes': 9332, 'macgregors': 9333, 'althaus': 9334, 'heres': 9335, 'childs': 9336, 'execute': 9337, 'puppets': 9338, 'lamp': 9339, 'puppet': 9340, 'flexible': 9341, 'lamps': 9342, 'delight': 9343, 'accent': 9344, 'wired': 9345, 'height': 9346, 'socket': 9347, 'inches': 9348, 'tube': 9349, 'inverted': 9350, 'hang': 9351, 'pulling': 9352, 'manipulate': 9353, 'suspend': 9354, 'fixture': 9355, 'tying': 9356, 'desired': 9357, 'resting': 9358, 'accord': 9359, 'whims': 9360, 'shade': 9361, 'adequate': 9362, 'sufficiently': 9363, 'disharmony': 9364, 'playtime': 9365, 'reminiscent': 9366, 'circus': 9367, 'merrygoround': 9368, 'scalloped': 9369, 'edge': 9370, 'appealing': 9371, 'americas': 9372, 'decorators': 9373, 'shrewd': 9374, 'cabinetmakers': 9375, 'era': 9376, 'appreciated': 9377, 'antiques': 9378, 'lurked': 9379, 'utilitarian': 9380, 'tricked': 9381, 'nondescript': 9382, 'supposedly': 9383, 'knocks': 9384, 'relegated': 9385, 'parlor': 9386, 'homemakers': 9387, 'decorator': 9388, 'leland': 9389, 'alden': 9390, 'housewives': 9391, 'craftsmen': 9392, 'innate': 9393, 'eighteenth': 9394, 'escapes': 9395, 'bonanza': 9396, 'versatile': 9397, 'kings': 9398, 'outfit': 9399, 'specializing': 9400, 'skits': 9401, 'vocals': 9402, 'comedy': 9403, 'instrumentals': 9404, 'distinctly': 9405, 'displaying': 9406, 'spotlights': 9407, 'ciciulla': 9408, 'flanked': 9409, 'grossman': 9410, 'drums': 9411, 'guitar': 9412, 'batch': 9413, 'instruments': 9414, 'tuba': 9415, 'tambourine': 9416, 'augment': 9417, 'imagination': 9418, 'props': 9419, 'crazywonderful': 9420, 'nonsense': 9421, 'classed': 9422, 'pure': 9423, 'slapstick': 9424, 'rated': 9425, 'nightclubs': 9426, 'chalk': 9427, 'lets': 9428, 'noise': 9429, 'stick': 9430, 'bartha': 9431, 'oceania': 9432, 'lounge': 9433, 'cumbancheros': 9434, 'flip': 9435, 'phillips': 9436, 'fireside': 9437, 'lasalle': 9438, 'jolly': 9439, 'accordion': 9440, 'refer': 9441, 'freida': 9442, 'bahia': 9443, 'cabana': 9444, 'sir': 9445, 'judson': 9446, 'brings': 9447, 'calypso': 9448, 'capers': 9449, 'leighton': 9450, 'springing': 9451, 'ringsiders': 9452, 'rum': 9453, 'galt': 9454, 'skip': 9455, 'hovarter': 9456, 'renolake': 9457, 'tahoe': 9458, 'rusty': 9459, 'marskmen': 9460, 'tune': 9461, 'toppers': 9462, 'fike': 9463, 'exschoolteacher': 9464, 'pursuing': 9465, 'rhythm': 9466, 'reminiscence': 9467, 'repartee': 9468, 'sidemen': 9469, 'smoother': 9470, 'substantially': 9471, 'format': 9472, 'kemm': 9473, 'piano': 9474, 'wes': 9475, 'bass': 9476, 'trumpet': 9477, 'kelly': 9478, 'keyboarding': 9479, 'als': 9480, 'maestros': 9481, 'personality': 9482, 'rapport': 9483, 'skips': 9484, 'boogie': 9485, 'accompanying': 9486, 'bouncy': 9487, 'frantic': 9488, 'appraisal': 9489, 'cafe': 9490, 'ownership': 9491, 'kissak': 9492, 'bossman': 9493, 'retains': 9494, 'decor': 9495, 'chandeliers': 9496, 'undergone': 9497, 'remodeling': 9498, 'yokel': 9499, 'specialize': 9500, 'steaks': 9501, 'chops': 9502, 'prime': 9503, 'beef': 9504, 'toms': 9505, 'dish': 9506, 'stuffed': 9507, 'shrimp': 9508, 'bandstand': 9509, 'features': 9510, 'decicco': 9511, 'pianist': 9512, 'tictactoe': 9513, 'heilman': 9514, 'hubies': 9515, 'lorain': 9516, 'preclude': 9517, 'reopening': 9518, 'sunman': 9519, 'cornering': 9520, 'lauderdale': 9521, 'vivacious': 9522, 'redhead': 9523, 'debuts': 9524, 'brunches': 9525, 'buffets': 9526, 'mackey': 9527, 'airlines': 9528, 'sunshine': 9529, 'bimini': 9530, 'plotting': 9531, 'monthlong': 9532, 'drinkhouse': 9533, 'pals': 9534, 'reunion': 9535, 'playboy': 9536, 'gould': 9537, 'hasnt': 9538, 'chum': 9539, 'mexican': 9540, 'understandable': 9541, 'youve': 9542, 'sampled': 9543, 'peppery': 9544, 'pualani': 9545, 'randy': 9546, 'avon': 9547, 'searles': 9548, 'papa': 9549, 'gill': 9550, 'bandish': 9551, 'morgart': 9552, 'mouse': 9553, 'trap': 9554, 'moffett': 9555, 'rickshaw': 9556, 'bea': 9557, 'morley': 9558, 'fazio': 9559, 'ohare': 9560, 'michaels': 9561, 'newfoundland': 9562, 'distinguished': 9563, 'placentia': 9564, 'smallwood': 9565, 'productions': 9566, 'le': 9567, 'theatre': 9568, 'dart': 9569, 'du': 9570, 'ballet': 9571, 'carlo': 9572, 'ballets': 9573, 'francesca': 9574, 'rimini': 9575, 'performers': 9576, 'milenoff': 9577, 'coral': 9578, 'gables': 9579, 'ximenezvargas': 9580, 'espagnol': 9581, 'jorge': 9582, 'bolet': 9583, 'bali': 9584, 'library': 9585, 'gretchen': 9586, 'schenk': 9587, 'author': 9588, 'lecturer': 9589, 'whelan': 9590, 'hollywood': 9591, 'discuss': 9592, 'librarianboard': 9593, 'relationships': 9594, 'librarian': 9595, 'workshops': 9596, 'tallahassee': 9597, 'jacksonville': 9598, 'orlando': 9599, 'acquaint': 9600, 'aquinas': 9601, 'subsequent': 9602, 'stranahan': 9603, 'pompano': 9604, 'communisms': 9605, 'doorstep': 9606, 'kern': 9607, 'crusade': 9608, 'brainwashing': 9609, 'anticommunist': 9610, 'convinced': 9611, 'ideological': 9612, 'figured': 9613, 'schoolers': 9614, 'careful': 9615, 'antidote': 9616, 'biblically': 9617, 'christianity': 9618, 'communisn': 9619, 'enthralled': 9620, 'fourhour': 9621, 'lecture': 9622, 'slack': 9623, 'jon': 9624, 'braun': 9625, 'map': 9626, 'abolition': 9627, 'citywide': 9628, 'dade': 9629, 'marking': 9630, 'macwhorter': 9631, 'ter': 9632, 'twiceayear': 9633, 'vows': 9634, 'strive': 9635, 'fundamentals': 9636, 'uphold': 9637, 'lois': 9638, 'rae': 9639, 'pamela': 9640, 'shari': 9641, 'bedtime': 9642, 'prayers': 9643, 'stories': 9644, 'twoyearold': 9645, 'miffed': 9646, 'prayertime': 9647, 'dades': 9648, 'blanton': 9649, 'lutheran': 9650, 'treadwell': 9651, 'worship': 9652, 'nazarene': 9653, 'riviera': 9654, 'pray': 9655, 'participate': 9656, 'henderson': 9657, 'preach': 9658, 'ordained': 9659, 'picnic': 9660, 'preaching': 9661, 'altar': 9662, 'densmore': 9663, 'headmaster': 9664, 'stephens': 9665, 'episcopal': 9666, 'becomes': 9667, 'enrique': 9668, 'jorda': 9669, 'musical': 9670, 'conducting': 9671, 'engagements': 9672, 'symphonys': 9673, 'assignments': 9674, 'sinfonica': 9675, 'siciliana': 9676, 'palermo': 9677, 'cologne': 9678, 'fivemonth': 9679, 'orchestre': 9680, 'philharmonique': 9681, 'bordeau': 9682, 'cecilia': 9683, 'jordas': 9684, 'conductors': 9685, 'renowned': 9686, 'violinists': 9687, 'yehudi': 9688, 'menuhin': 9689, 'isaac': 9690, 'stern': 9691, 'ruggiero': 9692, 'ricci': 9693, 'abel': 9694, 'pianists': 9695, 'fleisher': 9696, 'slenczynka': 9697, 'bishop': 9698, 'leningrad': 9699, 'kirov': 9700, 'finest': 9701, 'petipatschaikowsky': 9702, 'sleeping': 9703, 'incomparably': 9704, 'pleasure': 9705, 'mine': 9706, 'anytime': 9707, 'imperial': 9708, 'vulgar': 9709, 'infantile': 9710, 'reactionary': 9711, 'aspect': 9712, 'persistent': 9713, 'indicates': 9714, 'stultifying': 9715, 'capitalist': 9716, 'boobify': 9717, 'choreography': 9718, 'undistinguished': 9719, 'shapeless': 9720, 'assemblage': 9721, 'selfplagiarisms': 9722, 'totally': 9723, 'kirovs': 9724, 'utterly': 9725, 'captivating': 9726, 'enchantment': 9727, 'numerous': 9728, 'ova': 9729, 'eva': 9730, 'aya': 9731, 'exclusively': 9732, 'winners': 9733, 'contests': 9734, 'omsk': 9735, 'pinsk': 9736, 'stalingr': 9737, 'oops': 9738, 'discover': 9739, 'crowning': 9740, 'virtue': 9741, 'friendliness': 9742, 'frankness': 9743, 'peculiar': 9744, 'ohthepainofit': 9745, 'impoverished': 9746, 'dukes': 9747, 'filial': 9748, 'piety': 9749, 'goldwater': 9750, 'irina': 9751, 'kolpakova': 9752, 'suavity': 9753, 'lightness': 9754, 'sparkle': 9755, 'refinement': 9756, 'incomparable': 9757, 'alla': 9758, 'sizova': 9759, 'delightful': 9760, 'bluebird': 9761, 'yuri': 9762, 'soloviev': 9763, 'wonderfully': 9764, 'virile': 9765, 'acrobatic': 9766, 'poetic': 9767, 'nijinsky': 9768, 'vladilen': 9769, 'semenov': 9770, 'danseur': 9771, 'noble': 9772, 'konstantin': 9773, 'shatilov': 9774, 'character': 9775, 'inna': 9776, 'zubkovskaya': 9777, 'lilac': 9778, 'fairy': 9779, 'cast': 9780, 'virsaladze': 9781, 'spacious': 9782, 'sumptuous': 9783, 'dreams': 9784, 'peasant': 9785, 'courtly': 9786, 'muted': 9787, 'pastellike': 9788, 'style': 9789, 'harmonies': 9790, 'scenery': 9791, 'evegeni': 9792, 'dubovskoi': 9793, 'soloists': 9794, 'solos': 9795, 'concertmaster': 9796, 'lumia': 9797, 'traveling': 9798, 'auspices': 9799, 'chamber': 9800, 'sustaining': 9801, 'tenconcert': 9802, 'erroneously': 9803, 'chronicle': 9804, 'busied': 9805, 'fixing': 9806, 'toys': 9807, 'sponsoring': 9808, 'toy': 9809, 'franciscans': 9810, 'discarded': 9811, 'offduty': 9812, 'firehouses': 9813, 'stonestown': 9814, 'warehouse': 9815, 'listing': 9816, 'sex': 9817, 'ages': 9818, 'cellist': 9819, 'pablo': 9820, 'casals': 9821, 'instrument': 9822, 'charmed': 9823, 'rehearsal': 9824, 'luis': 9825, 'munoz': 9826, 'spanishborn': 9827, 'lend': 9828, 'naughty': 9829, 'stuff': 9830, 'ought': 9831, 'immorality': 9832, 'billed': 9833, 'towering': 9834, 'monument': 9835, 'sins': 9836, 'ancient': 9837, 'threehour': 9838, 'romans': 9839, 'harmless': 9840, 'gray': 9841, 'imagine': 9842, 'naughtier': 9843, 'watchers': 9844, 'bored': 9845, 'senseless': 9846, 'brutality': 9847, 'sadism': 9848, 'adventures': 9849, 'ozzie': 9850, 'decadence': 9851, 'nymphomaniacs': 9852, 'privateeye': 9853, 'actors': 9854, 'unknowns': 9855, 'lex': 9856, 'anita': 9857, 'ekberg': 9858, 'unfamiliar': 9859, 'herridge': 9860, 'seaside': 9861, 'villa': 9862, 'fellini': 9863, 'silent': 9864, 'films': 9865, 'boasted': 9866, 'tease': 9867, 'slip': 9868, 'drunk': 9869, 'knees': 9870, 'pillow': 9871, 'feathers': 9872, 'frigid': 9873, 'silly': 9874, 'fairies': 9875, 'spell': 9876, 'fourletter': 9877, 'begun': 9878, 'swinging': 9879, 'shocker': 9880, 'dud': 9881, 'detract': 9882, 'chronicles': 9883, 'paine': 9884, 'knickerbocker': 9885, 'summed': 9886, 'neatly': 9887, 'enthralling': 9888, 'heartbreaking': 9889, 'unlinked': 9890, 'glories': 9891, 'moderates': 9892, 'literature': 9893, 'poets': 9894, 'ussr': 9895, 'channel': 9896, 'ventilates': 9897, 'kqed': 9898, 'capello': 9899, 'musica': 9900, 'exploring': 9901, 'titled': 9902, 'franciscos': 9903, 'venerable': 9904, 'mandarin': 9905, 'cantonese': 9906, 'chiuchow': 9907, 'tip': 9908, 'language': 9909, 'briskly': 9910, 'austere': 9911, 'racy': 9912, 'cap': 9913, 'leather': 9914, 'expensive': 9915, 'fluid': 9916, 'ha': 9917, 'enriching': 9918, 'debonair': 9919, 'fins': 9920, 'windandwater': 9921, 'oases': 9922, 'gulped': 9923, 'gallons': 9924, 'wiping': 9925, 'headlights': 9926, 'chrome': 9927, 'ok': 9928, 'polished': 9929, 'windshield': 9930, 'stuck': 9931, 'nozzle': 9932, 'tank': 9933, 'gloomily': 9934, 'smallest': 9935, 'mileage': 9936, 'unhappily': 9937, 'clobbers': 9938, 'crunch': 9939, 'die': 9940, 'fairweather': 9941, 'yesteryear': 9942, 'finned': 9943, 'fore': 9944, 'aft': 9945, 'darling': 9946, 'doormen': 9947, 'tipped': 9948, 'caps': 9949, 'politely': 9950, 'tuck': 9951, 'cadillacs': 9952, 'doorman': 9953, 'calm': 9954, 'blood': 9955, 'muchcopied': 9956, 'craftsman': 9957, 'duncan': 9958, 'phyfe': 9959, 'snubbed': 9960, 'furnishings': 9961, 'acquired': 9962, 'sofas': 9963, 'mansions': 9964, 'heirs': 9965, 'descendants': 9966, 'rutherford': 9967, 'tranquility': 9968, 'andover': 9969, 'authenticated': 9970, 'uncommon': 9971, 'acquisition': 9972, 'consisting': 9973, 'sidechairs': 9974, 'armchairs': 9975, 'undertaken': 9976, 'redecoration': 9977, 'jacqueline': 9978, 'secure': 9979, 'miniature': 9980, 'americana': 9981, 'refurbishing': 9982, 'unveiled': 9983, 'rarity': 9984, 'antiquarians': 9985, 'mantlepiece': 9986, 'attributed': 9987, 'mcintyre': 9988, 'woodcarver': 9989, 'competed': 9990, 'mantel': 9991, 'demolished': 9992, 'fireplace': 9993, 'painted': 9994, 'match': 9995, 'paneling': 9996, 'lenygon': 9997, 'lenygons': 9998, 'associates': 9999, 'lehman': 10000, 'mccluskey': 10001, 'jussel': 10002, 'wellknown': 10003, 'transylvania': 10004, 'brevard': 10005, 'greet': 10006, 'cardiac': 10007, 'delighted': 10008, 'welcoming': 10009, 'approached': 10010, 'mansion': 10011, 'spangled': 10012, 'banner': 10013, 'hail': 10014, 'marine': 10015, 'grateful': 10016, 'mounting': 10017, 'shaking': 10018, 'pfohl': 10019, 'whiteclad': 10020, 'dozens': 10021, 'stretching': 10022, 'horizon': 10023, 'englandborn': 10024, 'vermont': 10025, 'duplicated': 10026, 'suntanned': 10027, 'paused': 10028, 'tent': 10029, 'blonde': 10030, 'holbrook': 10031, 'rainier': 10032, 'nuns': 10033, 'sharpe': 10034, 'tag': 10035, 'lemonade': 10036, 'teenage': 10037, 'musicloving': 10038, 'gathered': 10039, 'listening': 10040, 'rapt': 10041, 'liaison': 10042, 'sousa': 10043, 'stripes': 10044, 'letitia': 10045, 'baldrige': 10046, 'correspondence': 10047, 'carolina': 10048, 'gallery': 10049, 'bouton': 10050, 'gallerys': 10051, 'curator': 10052, 'simultaneous': 10053, 'tours': 10054, 'remaining': 10055, 'visitors': 10056, 'rembrandts': 10057, 'selfportrait': 10058, 'sad': 10059, 'noticed': 10060, 'raphaels': 10061, 'alba': 10062, 'madonna': 10063, 'monet': 10064, 'painting': 10065, 'rheims': 10066, 'cathedral': 10067, 'gogh': 10068, 'impressionist': 10069, 'benches': 10070, 'downstairs': 10071, 'lobby': 10072, 'bales': 10073, 'confederacy': 10074, 'aide': 10075, 'sculptures': 10076, 'blueuniformed': 10077, 'renaissance': 10078, 'preferred': 10079, 'boucher': 10080, 'courbet': 10081, 'fra': 10082, 'angelico': 10083, 'impressed': 10084, 'rotunda': 10085, 'fountain': 10086, 'seemingly': 10087, 'remote': 10088, 'collonaded': 10089, 'sphynxes': 10090, 'perched': 10091, 'bustling': 10092, 'masons': 10093, 'pike': 10094, 'highceilinged': 10095, 'eulogized': 10096, 'historian': 10097, 'poet': 10098, 'journalist': 10099, 'soldier': 10100, 'musician': 10101, 'laying': 10102, 'wreath': 10103, 'crypt': 10104, 'biennial': 10105, 'jurisdiction': 10106, 'tomb': 10107, 'washingtonalexandria': 10108, 'alexandria': 10109, 'monotonous': 10110, 'discouraged': 10111, 'chatting': 10112, 'hurt': 10113, 'ignoring': 10114, 'disgusted': 10115, 'miserable': 10116, 'listened': 10117, 'poured': 10118, 'discussing': 10119, 'ugf': 10120, 'nearest': 10121, 'separately': 10122, 'antagonisms': 10123, 'solving': 10124, 'evenings': 10125, 'preceeded': 10126, 'roughhousing': 10127, 'outsiders': 10128, 'blacks': 10129, 'measured': 10130, 'givers': 10131, 'skyline': 10132, 'materialize': 10133, 'rangers': 10134, 'leisurely': 10135, 'colors': 10136, 'haze': 10137, 'crucial': 10138, 'attitude': 10139, 'exchanges': 10140, 'confrontation': 10141, 'inevitable': 10142, 'desirable': 10143, 'realities': 10144, 'decisive': 10145, 'define': 10146, 'implement': 10147, 'nikita': 10148, 'deterioration': 10149, 'heightened': 10150, 'announcements': 10151, 'catastrophe': 10152, 'stakes': 10153, 'encounters': 10154, 'churchill': 10155, 'diplomacy': 10156, 'summit': 10157, 'fulldress': 10158, 'lull': 10159, 'inroads': 10160, 'informal': 10161, 'illusory': 10162, 'denunciation': 10163, 'tended': 10164, 'propaganda': 10165, 'onesided': 10166, 'concessions': 10167, 'negotiation': 10168, 'aims': 10169, 'summitry': 10170, 'preinaugural': 10171, 'intimated': 10172, 'inauguration': 10173, 'confronted': 10174, 'delicate': 10175, 'shifting': 10176, 'smiles': 10177, 'toughness': 10178, 'debates': 10179, 'compel': 10180, 'awakening': 10181, 'shift': 10182, 'weakened': 10183, 'illusion': 10184, 'formulating': 10185, 'khrushchevs': 10186, 'eventual': 10187, 'ideally': 10188, 'concrete': 10189, 'adversary': 10190, 'probe': 10191, 'satisfy': 10192, 'inflexible': 10193, 'sparing': 10194, 'tensions': 10195, 'caution': 10196, 'willingness': 10197, 'reflected': 10198, 'llewellyn': 10199, 'dated': 10200, 'novosibirsk': 10201, 'broad': 10202, 'briefly': 10203, 'intense': 10204, 'inner': 10205, 'advisability': 10206, 'precisely': 10207, 'deteriorating': 10208, 'alarmingly': 10209, 'russians': 10210, 'threeman': 10211, 'directorate': 10212, 'veto': 10213, 'pressures': 10214, 'secretly': 10215, 'testing': 10216, 'troubled': 10217, 'stalemate': 10218, 'unchecked': 10219, 'fatal': 10220, 'china': 10221, 'urgent': 10222, 'tripartite': 10223, 'principle': 10224, 'organs': 10225, 'insistence': 10226, 'initially': 10227, 'dampened': 10228, 'lest': 10229, 'episodes': 10230, 'dangerously': 10231, 'erroneous': 10232, 'wests': 10233, 'blundered': 10234, 'impotency': 10235, 'penetration': 10236, 'warnings': 10237, 'impunity': 10238, 'strengthened': 10239, 'vietnam': 10240, 'overreach': 10241, 'cocky': 10242, 'aggressive': 10243, 'grave': 10244, 'miscalculation': 10245, 'iran': 10246, 'turning': 10247, 'midst': 10248, 'deliberations': 10249, 'embassy': 10250, 'negotiating': 10251, 'vigorous': 10252, 'wellinformed': 10253, 'demonstrated': 10254, 'reactions': 10255, 'disapproval': 10256, 'expectation': 10257, 'salutary': 10258, 'rely': 10259, 'instincts': 10260, 'adversaries': 10261, 'plain': 10262, 'pause': 10263, 'equation': 10264, 'dragged': 10265, 'reluctantly': 10266, 'initiative': 10267, 'conversations': 10268, 'disabuse': 10269, 'notions': 10270, 'disunity': 10271, 'feelings': 10272, 'onus': 10273, 'belongs': 10274, 'interpret': 10275, 'panic': 10276, 'exploit': 10277, 'scope': 10278, 'biologist': 10279, 'mechanisms': 10280, 'adaptation': 10281, 'mollusks': 10282, 'evolutionary': 10283, 'scheme': 10284, 'cancel': 10285, 'biology': 10286, 'aptly': 10287, 'illustrate': 10288, 'accomplishment': 10289, 'brethren': 10290, 'cease': 10291, 'wonder': 10292, 'miracle': 10293, 'centuries': 10294, 'minorities': 10295, 'prone': 10296, 'zeal': 10297, 'generosity': 10298, 'flattering': 10299, 'retrospect': 10300, 'unified': 10301, 'allocation': 10302, 'diocesan': 10303, 'catholics': 10304, 'responded': 10305, 'bishops': 10306, 'owe': 10307, 'resourcefulness': 10308, 'esprit': 10309, 'protective': 10310, 'arithmetical': 10311, 'detachment': 10312, 'achieves': 10313, 'orientation': 10314, 'identification': 10315, 'elsewhere': 10316, 'founded': 10317, 'supernatural': 10318, 'nourished': 10319, 'wellsprings': 10320, 'devotion': 10321, 'satisfying': 10322, 'dimension': 10323, 'uniquely': 10324, 'comradeship': 10325, 'sparks': 10326, 'blunts': 10327, 'goaded': 10328, 'subsidized': 10329, 'parish': 10330, 'staffed': 10331, 'produces': 10332, 'familycommunity': 10333, 'anomalies': 10334, 'wasteful': 10335, 'duplication': 10336, 'pitifully': 10337, 'enrollments': 10338, 'clustered': 10339, 'coeducational': 10340, 'isolated': 10341, 'represent': 10342, 'riot': 10343, 'collegiate': 10344, 'temper': 10345, 'tone': 10346, 'resembled': 10347, 'resembles': 10348, 'preacademic': 10349, 'intramural': 10350, 'qualifications': 10351, 'specialized': 10352, 'brand': 10353, 'participation': 10354, 'decisionmaking': 10355, 'teacheremployee': 10356, 'eg': 10357, 'employee': 10358, 'inapt': 10359, 'outsider': 10360, 'acclimatized': 10361, 'secular': 10362, 'academic': 10363, 'scholar': 10364, 'citizenship': 10365, 'emerges': 10366, 'loath': 10367, 'delegate': 10368, 'inhomogeneous': 10369, 'mortal': 10370, 'varying': 10371, 'temperament': 10372, 'interests': 10373, 'capabilities': 10374, 'select': 10375, 'owns': 10376, 'oftrepeated': 10377, 'phrase': 10378, 'attainment': 10379, 'pictured': 10380, 'paradox': 10381, 'framed': 10382, 'clericallay': 10383, 'partners': 10384, 'grips': 10385, 'recruiting': 10386, 'caliber': 10387, 'spreads': 10388, 'tightly': 10389, 'knit': 10390, 'expressions': 10391, 'lowkey': 10392, 'confirming': 10393, 'stereotype': 10394, 'boycott': 10395, 'declines': 10396, 'gamble': 10397, 'guarantee': 10398, 'tenure': 10399, 'significant': 10400, 'invests': 10401, 'coveted': 10402, 'depreciation': 10403, 'exaggerate': 10404, 'salaries': 10405, 'substitute': 10406, 'intangibles': 10407, 'cause': 10408, 'earning': 10409, 'broadly': 10410, 'intangible': 10411, 'derive': 10412, 'underestimate': 10413, 'laymans': 10414, 'reservoir': 10415, 'idealism': 10416, 'stimulus': 10417, 'communication': 10418, 'actual': 10419, 'dichotomy': 10420, 'ingroup': 10421, 'baneful': 10422, 'envision': 10423, 'definitive': 10424, 'highsounding': 10425, 'titles': 10426, 'faked': 10427, 'competent': 10428, 'versed': 10429, 'technique': 10430, 'preset': 10431, 'conclusions': 10432, 'destroying': 10433, 'familiar': 10434, 'useful': 10435, 'artificial': 10436, 'busywork': 10437, 'ersatz': 10438, 'structured': 10439, 'luncheontable': 10440, 'difficulty': 10441, 'ie': 10442, 'administers': 10443, 'eating': 10444, 'nebraska': 10445, 'antimonopoly': 10446, 'fallacious': 10447, 'argue': 10448, 'restricted': 10449, 'restriction': 10450, 'anatole': 10451, 'equality': 10452, 'forbid': 10453, 'begging': 10454, 'generated': 10455, 'disrepute': 10456, 'fallen': 10457, 'mcclellans': 10458, 'jurisdictional': 10459, 'squabbles': 10460, 'plagued': 10461, 'shocked': 10462, 'stoppages': 10463, 'allegedly': 10464, 'trivial': 10465, 'disputes': 10466, 'sums': 10467, 'equivalent': 10468, 'provoked': 10469, 'indignation': 10470, 'footing': 10471, 'employers': 10472, 'undertakes': 10473, 'aircraft': 10474, 'machinists': 10475, 'attributable': 10476, 'overtime': 10477, 'defective': 10478, 'regulation': 10479, 'unresponsive': 10480, 'abuses': 10481, 'electrical': 10482, 'evoked': 10483, 'antitrust': 10484, 'justified': 10485, 'rationale': 10486, 'inform': 10487, 'undefined': 10488, 'hypocrisy': 10489, 'foolish': 10490, 'heavyelectricalgoods': 10491, 'rig': 10492, 'allocate': 10493, 'pricesetting': 10494, 'multiproduct': 10495, 'marginal': 10496, 'manufacture': 10497, 'accounting': 10498, 'varied': 10499, 'enterprises': 10500, 'flex': 10501, 'muscles': 10502, 'accuse': 10503, 'monopoly': 10504, 'selfrestraint': 10505, 'protection': 10506, 'implicit': 10507, 'wideopen': 10508, 'decree': 10509, 'fellows': 10510, 'tool': 10511, 'theory': 10512, 'govern': 10513, 'enforcers': 10514, 'managements': 10515, 'facts': 10516, 'flood': 10517, 'mea': 10518, 'culpas': 10519, 'scapegoats': 10520, 'thereafter': 10521, 'usefulness': 10522, 'thurman': 10523, 'folklore': 10524, 'capitalism': 10525, 'unconsciously': 10526, 'ideology': 10527, 'uncontrolled': 10528, 'dictatorship': 10529, 'penalties': 10530, 'invoked': 10531, 'pp': 10532, 'empires': 10533, 'fantastic': 10534, 'evaluating': 10535, 'occasional': 10536, 'irrational': 10537, 'nolo': 10538, 'contendere': 10539, 'nominal': 10540, 'untrammeled': 10541, 'sentences': 10542, 'unprecedented': 10543, 'prosecutions': 10544, 'ineptness': 10545, 'fictitious': 10546, 'impersonal': 10547, 'devised': 10548, 'pretends': 10549, 'rational': 10550, 'advocating': 10551, 'impolitic': 10552, 'tafthartley': 10553, 'landrumgriffin': 10554, 'collectivebargaining': 10555, 'palmed': 10556, 'organizers': 10557, 'gigantic': 10558, 'tortured': 10559, 'reasoning': 10560, 'ambition': 10561, 'exercise': 10562, 'squarely': 10563, 'commodities': 10564, 'bags': 10565, 'wheat': 10566, 'unsupported': 10567, 'agricultural': 10568, 'subsidy': 10569, 'reacting': 10570, 'antagonism': 10571, 'imposes': 10572, 'commodity': 10573, 'nineteenthcentury': 10574, 'adam': 10575, 'wealth': 10576, 'parliament': 10577, 'combining': 10578, 'eighteenthcentury': 10579, 'customs': 10580, 'outlawed': 10581, 'monopolies': 10582, 'conspiracies': 10583, 'carpenters': 10584, 'tenhour': 10585, 'denounced': 10586, 'combinations': 10587, 'convert': 10588, 'pious': 10589, 'hypocrisies': 10590, 'vs': 10591, 'savage': 10592, 'officious': 10593, 'improper': 10594, 'regulated': 10595, 'manufactured': 10596, 'article': 10597, 'exist': 10598, 'mechanic': 10599, 'necessity': 10600, 'enacting': 10601, 'monopolistic': 10602, 'measures': 10603, 'aimed': 10604, 'hoffa': 10605, 'amend': 10606, 'norrislaguardia': 10607, 'injunctions': 10608, 'extend': 10609, 'aeronautics': 10610, 'assuring': 10611, 'deemed': 10612, 'exemption': 10613, 'steamship': 10614, 'irrationality': 10615, 'guise': 10616, 'giant': 10617, 'danbury': 10618, 'hatters': 10619, 'loewe': 10620, 'consumers': 10621, 'stating': 10622, 'immunization': 10623, 'interpretation': 10624, 'emasculated': 10625, 'coal': 10626, 'alleging': 10627, 'interfered': 10628, 'interrupt': 10629, 'indirect': 10630, 'threefront': 10631, 'closeddoor': 10632, 'herter': 10633, 'afterward': 10634, 'tennessees': 10635, 'gore': 10636, 'understatement': 10637, 'erupted': 10638, 'fronts': 10639, 'undermining': 10640, 'congo': 10641, 'chaos': 10642, 'offensives': 10643, 'stirred': 10644, 'tanks': 10645, 'artillery': 10646, 'dictator': 10647, 'blunt': 10648, 'consulate': 10649, 'staffs': 10650, 'eleven': 10651, 'foreignpolicy': 10652, 'selfrespect': 10653, 'endure': 10654, 'presidentelect': 10655, 'breakoff': 10656, 'secretarydesignate': 10657, 'rusk': 10658, 'reacted': 10659, 'battalions': 10660, 'invaded': 10661, 'pentagons': 10662, 'precautionary': 10663, 'readiness': 10664, 'carriers': 10665, 'lexington': 10666, 'bennington': 10667, 'swarm': 10668, 'troopships': 10669, 'uss': 10670, 'okinawa': 10671, 'southward': 10672, 'exaggeration': 10673, 'cautious': 10674, 'sorts': 10675, 'coldwar': 10676, 'chaotic': 10677, 'mountainous': 10678, 'indian': 10679, 'battleground': 10680, 'indochina': 10681, 'chinese': 10682, 'predictably': 10683, 'dulles': 10684, 'specimen': 10685, 'appeasement': 10686, 'becoming': 10687, 'calamity': 10688, 'mourn': 10689, 'seize': 10690, 'parading': 10691, 'intrigue': 10692, 'drops': 10693, 'ilyushin': 10694, 'transports': 10695, 'cool': 10696, 'acknowledgment': 10697, 'wars': 10698, 'terribly': 10699, 'ominous': 10700, 'gores': 10701, 'confront': 10702, 'turmoil': 10703, 'sluice': 10704, 'gates': 10705, 'coyly': 10706, 'masquerades': 10707, 'fought': 10708, 'unspoken': 10709, 'menaced': 10710, 'bottleneck': 10711, 'counting': 10712, 'noses': 10713, 'deadly': 10714, 'breaching': 10715, 'conservativeliberal': 10716, 'namely': 10717, 'meyers': 10718, 'colmer': 10719, 'calmer': 10720, 'caucusing': 10721, 'seniority': 10722, 'godliness': 10723, 'dour': 10724, 'gangling': 10725, 'choppy': 10726, 'gait': 10727, 'swung': 10728, 'internationalist': 10729, 'diehard': 10730, 'suspicious': 10731, 'constituents': 10732, 'segregationist': 10733, 'antinegro': 10734, 'farout': 10735, 'democraticsponsored': 10736, 'rayburnjohnson': 10737, 'embarrassing': 10738, 'pretext': 10739, 'colmers': 10740, 'ouster': 10741, 'lukewarm': 10742, 'antikennedy': 10743, 'electors': 10744, 'reprisals': 10745, 'unheard': 10746, 'forgive': 10747, 'prodigal': 10748, 'dixiecrats': 10749, 'unscathed': 10750, 'rebellion': 10751, 'campaigned': 10752, 'anticolmer': 10753, 'reprisal': 10754, 'whites': 10755, 'huddling': 10756, 'tense': 10757, 'southerner': 10758, 'flatly': 10759, 'mister': 10760, 'thereupon': 10761, 'oust': 10762, 'inferior': 10763, 'leaked': 10764, 'missouris': 10765, 'cannon': 10766, 'purple': 10767, 'shouted': 10768, 'smithcolmer': 10769, 'dreadful': 10770, 'excluding': 10771, 'porkbarrel': 10772, 'pork': 10773, 'barrel': 10774, 'vinson': 10775, 'raged': 10776, 'cloakrooms': 10777, 'caucuses': 10778, 'lose': 10779, 'numbered': 10780, 'caucus': 10781, 'smelling': 10782, 'purged': 10783, 'mississippians': 10784, 'maverick': 10785, 'arenas': 10786, 'applying': 10787, 'whiplash': 10788, 'loomed': 10789, 'specter': 10790, 'costlier': 10791, 'southerners': 10792, 'chairmanships': 10793, 'truncated': 10794, 'unworkable': 10795, 'wilbur': 10796, 'deliberately': 10797, 'coolheaded': 10798, 'facesaving': 10799, 'version': 10800, 'liberalconservative': 10801, 'contrast': 10802, 'guerrilla': 10803, 'forma': 10804, 'guides': 10805, 'restrict': 10806, 'legislationdelaying': 10807, 'filibusters': 10808, 'wideranging': 10809, 'bipartisan': 10810, 'minnesotas': 10811, 'hubert': 10812, 'humphrey': 10813, 'leverett': 10814, 'saltonstall': 10815, 'phalanx': 10816, 'traditionally': 10817, 'filibuster': 10818, 'mexicos': 10819, 'senates': 10820, 'notorious': 10821, 'threefifths': 10822, 'hardtoget': 10823, 'upped': 10824, 'ante': 10825, 'cloture': 10826, 'mere': 10827, 'modification': 10828, 'congresses': 10829, 'binding': 10830, 'choke': 10831, 'hopefully': 10832, 'perennial': 10833, 'virtually': 10834, 'convening': 10835, 'presiding': 10836, 'painful': 10837, 'chore': 10838, 'officiate': 10839, 'electoral': 10840, 'declaration': 10841, 'tight': 10842, 'presidency': 10843, 'staunchest': 10844, 'harrowing': 10845, 'lap': 10846, 'nd': 10847, 'pros': 10848, 'gaping': 10849, 'disbelief': 10850, 'licked': 10851, 'bite': 10852, 'midway': 10853, 'holes': 10854, 'augusta': 10855, 'teeth': 10856, 'washed': 10857, 'rainstorm': 10858, 'bogeyed': 10859, 'doublebogeyed': 10860, 'scrambled': 10861, 'mishap': 10862, 'overpar': 10863, 'scorecard': 10864, 'tears': 10865, 'seveniron': 10866, 'strayed': 10867, 'lodged': 10868, 'sand': 10869, 'wedge': 10870, 'slope': 10871, 'afterwards': 10872, 'coe': 10873, 'lastround': 10874, 'hasty': 10875, 'agonizing': 10876, 'graciously': 10877, 'putted': 10878, 'recover': 10879, 'composure': 10880, 'visibly': 10881, 'overshot': 10882, 'putting': 10883, 'beside': 10884, 'stared': 10885, 'amazement': 10886, 'rounds': 10887, 'comfortable': 10888, 'closest': 10889, 'secondplace': 10890, 'lean': 10891, 'leathery': 10892, 'topnotch': 10893, 'jitters': 10894, 'overtake': 10895, 'disappointing': 10896, 'oneoverpar': 10897, 'intact': 10898, 'threeround': 10899, 'deliberate': 10900, 'baltimorean': 10901, 'holed': 10902, 'erratic': 10903, 'washedout': 10904, 'meteorological': 10905, 'footnotes': 10906, 'mano': 10907, 'spontaneously': 10908, 'sight': 10909, 'prestige': 10910, 'pensacola': 10911, 'winnings': 10912, 'paired': 10913, 'threesome': 10914, 'duels': 10915, 'whichever': 10916, 'undisputed': 10917, 'awed': 10918, 'outplayed': 10919, 'instant': 10920, 'rivalry': 10921, 'instantly': 10922, 'drizzly': 10923, 'skiddy': 10924, 'moist': 10925, 'boldly': 10926, 'flagstick': 10927, 'consequences': 10928, 'underpar': 10929, 'rosburg': 10930, 'enormous': 10931, 'horde': 10932, 'unquestionably': 10933, 'essentially': 10934, 'nicklaus': 10935, 'venturi': 10936, 'shaky': 10937, 'accurate': 10938, 'supersensitive': 10939, 'putter': 10940, 'augustas': 10941, 'treacheries': 10942, 'geriatric': 10943, 'cloudless': 10944, 'ugly': 10945, 'focus': 10946, 'destined': 10947, 'scoreboards': 10948, 'twosome': 10949, 'hyndman': 10950, 'conspicuously': 10951, 'contender': 10952, 'pars': 10953, 'tidal': 10954, 'birdied': 10955, 'birdies': 10956, 'bogey': 10957, 'kel': 10958, 'nagle': 10959, 'roar': 10960, 'parklike': 10961, 'landscape': 10962, 'answered': 10963, 'lining': 10964, 'thunderous': 10965, 'unmistakably': 10966, 'grimace': 10967, 'proceeded': 10968, 'sink': 10969, 'footer': 10970, 'vocalization': 10971, 'rolling': 10972, 'intervening': 10973, 'fairways': 10974, 'boldness': 10975, 'gifted': 10976, 'axiomatic': 10977, 'dominate': 10978, 'vehemence': 10979, 'mar': 10980, 'wellplayed': 10981, 'overpowered': 10982, 'obliterated': 10983, 'contemptuous': 10984, 'earnest': 10985, 'aggressiveness': 10986, 'stepped': 10987, 'downhill': 10988, 'dogleg': 10989, 'measuring': 10990, 'pine': 10991, 'separating': 10992, 'punching': 10993, 'settling': 10994, 'fourwood': 10995, 'hoping': 10996, 'bunkered': 10997, 'youd': 10998, 'forget': 10999, 'chipped': 11000, 'switched': 11001, 'degrees': 11002, 'oneiron': 11003, 'threewood': 11004, 'bogeys': 11005, 'drives': 11006, 'sublime': 11007, 'muscular': 11008, 'teammate': 11009, 'awe': 11010, 'gregory': 11011, 'pearson': 11012, 'angels': 11013, 'borders': 11014, 'ridiculous': 11015, 'amiable': 11016, 'ambled': 11017, 'grandslam': 11018, 'borrowed': 11019, 'successive': 11020, 'pinchhitter': 11021, 'grumble': 11022, 'shrinking': 11023, 'knockdown': 11024, 'thinning': 11025, 'peril': 11026, 'endurance': 11027, 'doubly': 11028, 'jeopardy': 11029, 'incorrigible': 11030, 'epicure': 11031, 'herman': 11032, 'thwarted': 11033, 'challenger': 11034, 'amazing': 11035, 'spurt': 11036, 'foxx': 11037, 'greenberg': 11038, 'hack': 11039, 'spurred': 11040, 'zeroed': 11041, 'mariss': 11042, 'paces': 11043, 'mathematically': 11044, 'flourish': 11045, 'ideal': 11046, 'easier': 11047, 'understandably': 11048, 'concede': 11049, 'primarily': 11050, 'quote': 11051, 'mvp': 11052, 'enjoys': 11053, 'seeing': 11054, 'cerv': 11055, 'airconditioning': 11056, 'sleeps': 11057, 'couch': 11058, 'divide': 11059, 'cooking': 11060, 'breakfast': 11061, 'sandwich': 11062, 'oldsmobile': 11063, 'roommates': 11064, 'strikingly': 11065, 'backgrounds': 11066, 'fargo': 11067, 'halfbacks': 11068, 'minors': 11069, 'recalls': 11070, 'wished': 11071, 'extent': 11072, 'alike': 11073, 'hair': 11074, 'weigh': 11075, 'incredibly': 11076, 'overdeveloped': 11077, 'shoulders': 11078, 'purchases': 11079, 'simpsons': 11080, 'classified': 11081, 'opus': 11082, 'millers': 11083, 'tropic': 11084, 'literary': 11085, 'broadened': 11086, 'minds': 11087, 'passages': 11088, 'aloud': 11089, 'reporter': 11090, 'surprising': 11091, 'trait': 11092, 'ballplayer': 11093, 'pleasant': 11094, 'photographers': 11095, 'locker': 11096, 'volunteered': 11097, 'anecdote': 11098, 'darkhaired': 11099, 'berras': 11100, 'stunk': 11101, 'candidly': 11102, 'occasions': 11103, 'shuns': 11104, 'dumb': 11105, 'angry': 11106, 'benched': 11107, 'tulsa': 11108, 'dutch': 11109, 'kerby': 11110, 'farrell': 11111, 'gentlemen': 11112, 'idols': 11113, 'heroes': 11114, 'sportswriter': 11115, 'idolize': 11116, 'exyankee': 11117, 'aching': 11118, 'crushed': 11119, 'vowed': 11120, 'vow': 11121, 'ties': 11122, 'zinc': 11123, 'cents': 11124, 'railroading': 11125, 'headandshoulders': 11126, 'lefthanded': 11127, 'righthanded': 11128, 'possess': 11129, 'stances': 11130, 'dug': 11131, 'fierce': 11132, 'swings': 11133, 'bunters': 11134, 'nineteen': 11135, 'seconds': 11136, 'dash': 11137, 'aparicio': 11138, 'swift': 11139, 'basestealing': 11140, 'daring': 11141, 'fielders': 11142, 'weapon': 11143, 'dullest': 11144, 'inevitably': 11145, 'weaker': 11146, 'appropriately': 11147, 'startling': 11148, 'conspired': 11149, 'grew': 11150, 'disillusioned': 11151, 'disinterested': 11152, 'convair': 11153, 'caroline': 11154, 'winged': 11155, 'actorcrooner': 11156, 'sinatra': 11157, 'pal': 11158, 'cinemactor': 11159, 'lawford': 11160, 'brotherinlaw': 11161, 'entourage': 11162, 'sweater': 11163, 'frankie': 11164, 'capitals': 11165, 'armory': 11166, 'glutted': 11167, 'ella': 11168, 'fitzgerald': 11169, 'australia': 11170, 'cats': 11171, 'ensconced': 11172, 'armorys': 11173, 'ringside': 11174, 'doubtless': 11175, 'couturier': 11176, 'loper': 11177, 'ensembles': 11178, 'spills': 11179, 'stitch': 11180, 'catapulted': 11181, 'commandant': 11182, 'warless': 11183, 'pentagon': 11184, 'leatherneck': 11185, 'accumulation': 11186, 'vines': 11187, 'weeds': 11188, 'moldboard': 11189, 'lifted': 11190, 'hitched': 11191, 'rein': 11192, 'geeing': 11193, 'hawing': 11194, 'tilling': 11195, 'deplored': 11196, 'noncommissioned': 11197, 'belonged': 11198, 'someone': 11199, 'socks': 11200, 'window': 11201, 'maurine': 11202, 'neuberger': 11203, 'brotherly': 11204, 'buss': 11205, 'elder': 11206, 'statesman': 11207, 'adlai': 11208, 'stevenson': 11209, 'ambassadordesignate': 11210, 'greene': 11211, 'swum': 11212, 'cerebrated': 11213, 'hearty': 11214, 'oldest': 11215, 'undergraduate': 11216, 'bobbysox': 11217, 'dreamboat': 11218, 'cacophonist': 11219, 'fabian': 11220, 'forte': 11221, 'tutors': 11222, 'classmates': 11223, 'toneless': 11224, 'lad': 11225, 'decathlon': 11226, 'rafer': 11227, 'gumption': 11228, 'aaus': 11229, 'tapped': 11230, 'cliffhanging': 11231, 'rallies': 11232, 'crowns': 11233, 'tooling': 11234, 'zealand': 11235, 'prix': 11236, 'balding': 11237, 'stirling': 11238, 'smothered': 11239, 'exhaust': 11240, 'selfcrimination': 11241, 'slob': 11242, 'gaudy': 11243, 'racing': 11244, 'ruddy': 11245, 'lazy': 11246, 'frustrating': 11247, 'virtues': 11248, 'eulogizers': 11249, 'ussrs': 11250, 'izvestia': 11251, 'enterprisingly': 11252, 'interviewed': 11253, 'redprone': 11254, 'comedian': 11255, 'chaplin': 11256, 'selfexile': 11257, 'confided': 11258, 'marveled': 11259, 'grandiose': 11260, 'experiment': 11261, 'spooned': 11262, 'impressions': 11263, 'glimpsed': 11264, 'captivated': 11265, 'sly': 11266, 'transatlantic': 11267, 'jetliners': 11268, 'europes': 11269, 'enigma': 11270, 'vaguely': 11271, 'connotes': 11272, 'newrich': 11273, 'eccentricity': 11274, 'ardor': 11275, 'collecting': 11276, 'headlines': 11277, 'firstclass': 11278, 'fabled': 11279, 'philadelphias': 11280, 'legend': 11281, 'fortune': 11282, 'dying': 11283, 'boom': 11284, 'bargain': 11285, 'continent': 11286, 'barr': 11287, 'barge': 11288, 'lavishly': 11289, 'bellboys': 11290, 'cezannes': 11291, 'braques': 11292, 'matisses': 11293, 'legers': 11294, 'picasso': 11295, 'giacometti': 11296, 'klees': 11297, 'hung': 11298, 'burglarproof': 11299, 'trusted': 11300, 'snubbing': 11301, 'basel': 11302, 'ernst': 11303, 'beyeler': 11304, 'arranged': 11305, 'rhinewestphalia': 11306, 'prizes': 11307, 'scarcely': 11308, 'glanced': 11309, 'treasures': 11310, 'speculated': 11311, 'revenge': 11312, 'bare': 11313, 'discriminate': 11314, 'applicant': 11315, 'classrooms': 11316, 'bootle': 11317, 'admit': 11318, 'kindergarten': 11319, 'alabama': 11320, 'hamilton': 11321, 'holmes': 11322, 'charlayne': 11323, 'valedictorian': 11324, 'pretexts': 11325, 'skins': 11326, 'morehouse': 11327, 'journalism': 11328, 'detroits': 11329, 'tentatively': 11330, 'investigators': 11331, 'roommate': 11332, 'lasted': 11333, 'ritual': 11334, 'prostitution': 11335, 'beatnik': 11336, 'teahouse': 11337, 'evasive': 11338, 'lied': 11339, 'desegregated': 11340, 'bootles': 11341, 'plaintiffs': 11342, 'catch': 11343, 'chancellor': 11344, 'kimpton': 11345, 'hunt': 11346, 'gripped': 11347, 'grads': 11348, 'statesmen': 11349, 'conant': 11350, 'pondered': 11351, 'successors': 11352, 'harvards': 11353, 'mcgeorge': 11354, 'bundy': 11355, 'trustee': 11356, 'lure': 11357, 'scholars': 11358, 'happily': 11359, 'caltechs': 11360, 'geneticist': 11361, 'beadle': 11362, 'physiology': 11363, 'discovering': 11364, 'genes': 11365, 'heredity': 11366, 'nineyear': 11367, 'reign': 11368, 'tidying': 11369, 'typhoon': 11370, 'idealist': 11371, 'maynard': 11372, 'wildly': 11373, 'enrollment': 11374, 'endowment': 11375, 'heady': 11376, 'caltech': 11377, 'sixthsense': 11378, 'recruit': 11379, 'excite': 11380, 'researchers': 11381, 'unexpected': 11382, 'speechmaking': 11383, 'avidly': 11384, 'journal': 11385, 'philosopher': 11386, 'finger': 11387, 'leopold': 11388, 'belgians': 11389, 'grabbing': 11390, 'quarreling': 11391, 'historical': 11392, 'boundaries': 11393, 'geography': 11394, 'ethnic': 11395, 'groupings': 11396, 'leopolds': 11397, 'explorers': 11398, 'gunmen': 11399, 'culture': 11400, 'dialects': 11401, 'religions': 11402, 'mohammedanism': 11403, 'paganism': 11404, 'ancestor': 11405, 'animism': 11406, 'ranges': 11407, 'steamily': 11408, 'equatorial': 11409, 'temperate': 11410, 'patients': 11411, 'trampled': 11412, 'disparities': 11413, 'belgian': 11414, 'administered': 11415, 'touched': 11416, 'conscience': 11417, 'commencing': 11418, 'paternalism': 11419, 'unmatched': 11420, 'colonialism': 11421, 'ordinarily': 11422, 'independence': 11423, 'congolese': 11424, 'imagines': 11425, 'infant': 11426, 'tin': 11427, 'cobalt': 11428, 'manganese': 11429, 'uranium': 11430, 'brussels': 11431, 'beneficiaries': 11432, 'cartels': 11433, 'gunther': 11434, 'describes': 11435, 'societe': 11436, 'generale': 11437, 'colossus': 11438, 'envisaged': 11439, 'anaconda': 11440, 'producing': 11441, 'lumped': 11442, 'ruthless': 11443, 'exploited': 11444, 'compassion': 11445, 'instituted': 11446, 'ration': 11447, 'obliged': 11448, 'dole': 11449, 'eat': 11450, 'hungry': 11451, 'puzzle': 11452, 'chatte': 11453, 'chien': 11454, 'indefinite': 11455, 'fearing': 11456, 'elite': 11457, 'unrest': 11458, 'manifestly': 11459, 'unprepared': 11460, 'oversimplification': 11461, 'gale': 11462, 'prepare': 11463, 'colonies': 11464, 'clamoring': 11465, 'unsure': 11466, 'pas': 11467, 'une': 11468, 'goutte': 11469, 'sang': 11470, 'detested': 11471, 'pedagogue': 11472, 'mess': 11473, 'motivations': 11474, 'guiltless': 11475, 'kasavubu': 11476, 'splitting': 11477, 'balkanizing': 11478, 'moise': 11479, 'tshombe': 11480, 'nearbalkanization': 11481, 'federalism': 11482, 'notably': 11483, 'patrice': 11484, 'lumumba': 11485, 'hurry': 11486, 'fragmentation': 11487, 'provincial': 11488, 'provinces': 11489, 'leopoldville': 11490, 'kasai': 11491, 'kivu': 11492, 'katanga': 11493, 'equator': 11494, 'westernstyle': 11495, 'bicameral': 11496, 'universal': 11497, 'wellwishers': 11498, 'assume': 11499, 'respectable': 11500, 'frictions': 11501, 'publique': 11502, 'officered': 11503, 'twentyfour': 11504, 'tribesmen': 11505, 'commenced': 11506, 'wellarmed': 11507, 'cannibalistic': 11508, 'mutiny': 11509, 'rioting': 11510, 'raping': 11511, 'looting': 11512, 'engulfed': 11513, 'civilians': 11514, 'paratroops': 11515, 'mineralrich': 11516, 'seceded': 11517, 'succeeding': 11518, 'blamed': 11519, 'abstaining': 11520, 'vague': 11521, 'withdrawal': 11522, 'secretarygeneral': 11523, 'hammarskjold': 11524, 'preferable': 11525, 'nonwhite': 11526, 'tunisia': 11527, 'guinea': 11528, 'mali': 11529, 'eire': 11530, 'sweden': 11531, 'reluctant': 11532, 'withdraw': 11533, 'obstructed': 11534, 'complicated': 11535, 'uns': 11536, 'initiating': 11537, 'secessionist': 11538, 'kalonji': 11539, 'secede': 11540, 'meddle': 11541, 'dispatching': 11542, 'intervene': 11543, 'openly': 11544, 'threemonth': 11545, 'exasperated': 11546, 'mobutu': 11547, 'flung': 11548, 'redoubled': 11549, 'obstructionist': 11550, 'departed': 11551, 'withdrawing': 11552, 'uniformed': 11553, 'variously': 11554, 'mercenaries': 11555, 'directive': 11556, 'interfere': 11557, 'unify': 11558, 'federalize': 11559, 'balkanize': 11560, 'smoldered': 11561, 'flickered': 11562, 'kidnaped': 11563, 'appropriate': 11564, 'occurrence': 11565, 'resort': 11566, 'eject': 11567, 'lumumbas': 11568, 'reconvention': 11569, 'mccloys': 11570, 'reliance': 11571, 'thorny': 11572, 'bizerte': 11573, 'tunis': 11574, 'imbroglio': 11575, 'quo': 11576, 'mediterranean': 11577, 'tunisian': 11578, 'bahi': 11579, 'ladgham': 11580, 'irreconcilable': 11581, 'habib': 11582, 'bourguiba': 11583, 'picks': 11584, 'uruguay': 11585, 'interamerican': 11586, 'nationalist': 11587, 'chinas': 11588, 'dapper': 11589, 'diminutive': 11590, 'chen': 11591, 'cheng': 11592, 'chiang': 11593, 'kaisheks': 11594, 'emissary': 11595, 'outer': 11596, 'mongolia': 11597, 'woo': 11598, 'peking': 11599, 'abstention': 11600, 'mongolias': 11601, 'conferred': 11602, 'emissaries': 11603, 'guatemala': 11604, 'nepal': 11605, 'goodwill': 11606, 'skyjacked': 11607, 'fourjet': 11608, 'boeing': 11609, 'stopovers': 11610, 'nightcoach': 11611, 'thirtyone': 11612, 'stewardess': 11613, 'aisle': 11614, 'bent': 11615, 'stomach': 11616, 'sick': 11617, 'salvador': 11618, 'desert': 11619, 'carnegey': 11620, 'rickards': 11621, 'hijacked': 11622, 'midflight': 11623, 'peruvian': 11624, 'trimotor': 11625, 'arequipa': 11626, 'cubanamerican': 11627, 'electra': 11628, 'newsweek': 11629, 'guns': 11630, 'radioed': 11631, 'skyjackers': 11632, 'refuel': 11633, 'mccauley': 11634, 'sacramento': 11635, 'recruits': 11636, 'awoke': 11637, 'nap': 11638, 'nut': 11639, 'recruiter': 11640, 'volunteer': 11641, 'hostages': 11642, 'mullen': 11643, 'pfc': 11644, 'augustine': 11645, 'gilman': 11646, 'boxer': 11647, 'immigration': 11648, 'sheriffs': 11649, 'surged': 11650, 'submachine': 11651, 'fuels': 11652, 'consumed': 11653, 'swap': 11654, 'propellerdriven': 11655, 'hijackers': 11656, 'airplane': 11657, 'cubas': 11658, 'steal': 11659, 'embargo': 11660, 'shadows': 11661, 'mountains': 11662, 'pry': 11663, 'baggage': 11664, 'luggage': 11665, 'subsequently': 11666, 'bearden': 11667, 'exconvict': 11668, 'coolidge': 11669, 'cody': 11670, 'highschool': 11671, 'beardens': 11672, 'slug': 11673, 'simmons': 11674, 'ultimatum': 11675, 'takeoff': 11676, 'taxiing': 11677, 'raced': 11678, 'slugs': 11679, 'flattened': 11680, 'silenced': 11681, 'inboard': 11682, 'engines': 11683, 'ambulances': 11684, 'crosby': 11685, 'eased': 11686, 'unarmed': 11687, 'distracted': 11688, 'stewardesses': 11689, 'toni': 11690, 'besset': 11691, 'pocket': 11692, 'nodded': 11693, 'frogmarched': 11694, 'kidnapping': 11695, 'transporting': 11696, 'peddle': 11697, 'precedence': 11698, 'unaccustomed': 11699, 'unanimity': 11700, 'peacetime': 11701, 'requested': 11702, 'holdback': 11703, 'mutterers': 11704, 'labeled': 11705, 'prudently': 11706, 'tacked': 11707, 'longrange': 11708, 'allimportant': 11709, 'foreignaid': 11710, 'stew': 11711, 'mulligatawny': 11712, 'poormouth': 11713, 'lowliest': 11714, 'ceased': 11715, 'enlivened': 11716, 'maine': 11717, 'idaho': 11718, 'menu': 11719, 'drab': 11720, 'smelts': 11721, 'softshell': 11722, 'crabs': 11723, 'bean': 11724, 'soup': 11725, 'dubois': 11726, 'citizenry': 11727, 'ventured': 11728, 'haute': 11729, 'cuisine': 11730, 'peryear': 11731, 'frenchborn': 11732, 'maitre': 11733, 'dhotel': 11734, 'tollroad': 11735, 'turnpikes': 11736, 'toll': 11737, 'payoff': 11738, 'speculative': 11739, 'streams': 11740, 'speculations': 11741, 'investments': 11742, 'tending': 11743, 'poors': 11744, 'slipped': 11745, 'bucked': 11746, 'rises': 11747, 'outnumber': 11748, 'morethanordinary': 11749, 'risen': 11750, 'unmarried': 11751, 'investor': 11752, 'happening': 11753, 'blyth': 11754, 'lags': 11755, 'turnpike': 11756, 'slumped': 11757, 'preceding': 11758, 'successes': 11759, 'tollrate': 11760, 'extensions': 11761, 'tolls': 11762, 'richmondpetersburg': 11763, 'access': 11764, 'illustration': 11765, 'wichita': 11766, 'kans': 11767, 'deficiency': 11768, 'opportunities': 11769, 'skyway': 11770, 'planners': 11771, 'default': 11772, 'defaulted': 11773, 'margins': 11774, 'attracting': 11775, 'breakeven': 11776, 'competitively': 11777, 'luther': 11778, 'toured': 11779, 'italys': 11780, 'fiat': 11781, 'olivetti': 11782, 'typewriters': 11783, 'calculating': 11784, 'cabled': 11785, 'turin': 11786, 'enables': 11787, 'fraction': 11788, 'skilled': 11789, 'earns': 11790, 'infrequent': 11791, 'underwood': 11792, 'underwoods': 11793, 'exports': 11794, 'layout': 11795, 'designconscious': 11796, 'salesconscious': 11797, 'advertisingconscious': 11798, 'inflow': 11799, 'vigor': 11800, 'textiles': 11801, 'imports': 11802, 'textile': 11803, 'textileimporting': 11804, 'textileexporting': 11805, 'industrialized': 11806, 'lessdeveloped': 11807, 'exporting': 11808, 'lowwage': 11809, 'highwage': 11810, 'textileproducing': 11811, 'curbing': 11812, 'limiting': 11813, 'lancashire': 11814, 'capture': 11815, 'loudly': 11816, 'protest': 11817, 'spanish': 11818, 'portuguese': 11819, 'pour': 11820, 'unrestrictedly': 11821, 'pakistanis': 11822, 'chafing': 11823, 'bilateral': 11824, 'quotas': 11825, 'gradual': 11826, 'stabilization': 11827, 'clue': 11828, 'modernization': 11829, 'shrinkage': 11830, 'transferring': 11831, 'feasible': 11832, 'forcing': 11833, 'shrink': 11834, 'whats': 11835, 'handwriting': 11836, 'highestpaid': 11837, 'miners': 11838, 'cheap': 11839, 'steelmakers': 11840, 'mouths': 11841, 'wales': 11842, 'steelmaker': 11843, 'takings': 11844, 'welsh': 11845, 'markets': 11846, 'ton': 11847, 'cheaper': 11848, 'rail': 11849, 'mines': 11850, 'mechanization': 11851, 'seams': 11852, 'attactive': 11853, 'nationalized': 11854, 'twisting': 11855, 'productivity': 11856, 'communistled': 11857, 'unprofitable': 11858, 'borrower': 11859, 'fivecent': 11860, 'fiction': 11861, 'rentals': 11862, 'apologetically': 11863, 'sorry': 11864, 'variations': 11865, 'everpresent': 11866, 'libraries': 11867, 'grist': 11868, 'readers': 11869, 'lovers': 11870, 'nonfiction': 11871, 'clientele': 11872, 'budgets': 11873, 'hopelessly': 11874, 'startlingly': 11875, 'exceed': 11876, 'librarians': 11877, 'richest': 11878, 'plight': 11879, 'proportionately': 11880, 'limitations': 11881, 'bounty': 11882, 'contrasts': 11883, 'density': 11884, 'crosssection': 11885, 'extreme': 11886, 'upper': 11887, 'sparsely': 11888, 'populated': 11889, 'nassau': 11890, 'highdensity': 11891, 'ample': 11892, 'thriving': 11893, 'wary': 11894, 'wellstocked': 11895, 'cherish': 11896, 'joining': 11897, 'radical': 11898, 'autonomy': 11899, 'preserved': 11900, 'maintains': 11901, 'advantages': 11902, 'foresee': 11903, 'distant': 11904, 'coop': 11905, 'requires': 11906, 'volumes': 11907, 'nucleus': 11908, 'develops': 11909, 'thirty': 11910, 'fifty': 11911, 'capita': 11912, 'inclusive': 11913, 'recognizes': 11914, 'broaden': 11915, 'everyday': 11916, 'hempstead': 11917, 'tools': 11918, 'backbone': 11919, 'specialization': 11920, 'microfilm': 11921, 'founding': 11922, 'periodicals': 11923, 'interlibrary': 11924, 'connected': 11925, 'teletype': 11926, 'canvas': 11927, 'psychology': 11928, 'religion': 11929, 'freeport': 11930, 'biography': 11931, 'centered': 11932, 'levittown': 11933, 'hewlettwoodmere': 11934, 'repository': 11935, 'wholly': 11936, 'quartercentury': 11937, 'comprehensive': 11938, 'saves': 11939, 'bulk': 11940, 'discounts': 11941, 'bookkeeping': 11942, 'billing': 11943, 'resource': 11944, 'documentary': 11945, 'catalogue': 11946, 'classics': 11947, 'nanook': 11948, 'emperors': 11949, 'nightingale': 11950, 'balloon': 11951, 'understands': 11952, 'responsibilities': 11953, 'conducts': 11954, 'wellplanned': 11955, 'bookreview': 11956, 'bookselection': 11957, 'sample': 11958, 'copies': 11959, 'evaluate': 11960, 'preschool': 11961, 'grassroots': 11962, 'prepares': 11963, 'displays': 11964, 'booklists': 11965, 'brochures': 11966, 'publishes': 11967, 'newsletter': 11968, 'governed': 11969, 'geographically': 11970, 'bear': 11971, 'borne': 11972, 'multiplying': 11973, 'maligned': 11974, 'coops': 11975, 'citizen': 11976, 'advances': 11977, 'educated': 11978, 'discriminating': 11979, 'slave': 11980, 'spiritual': 11981, 'restraint': 11982, 'grows': 11983, 'translate': 11984, 'inadequacy': 11985, 'vigorously': 11986, 'pupils': 11987, 'render': 11988, 'vitally': 11989, 'richer': 11990, 'fuller': 11991, 'nathan': 11992, 'milstein': 11993, 'wizard': 11994, 'recitals': 11995, 'brahms': 11996, 'concerto': 11997, 'slashing': 11998, 'demonridden': 11999, 'cadenza': 12000, 'melting': 12001, 'pale': 12002, 'violinist': 12003, 'unlocks': 12004, 'incandescent': 12005, 'noblest': 12006, 'eloquent': 12007, 'orchestras': 12008, 'soloist': 12009, 'surpass': 12010, 'superb': 12011, 'hendl': 12012, 'thrust': 12013, 'shredding': 12014, 'glittering': 12015, 'spitting': 12016, 'flounders': 12017, 'sprawl': 12018, 'mysterious': 12019, 'marvelous': 12020, 'alchemy': 12021, 'fusion': 12022, 'dazzling': 12023, 'memorable': 12024, 'schumanns': 12025, 'overture': 12026, 'manfred': 12027, 'orchestral': 12028, 'byronic': 12029, 'hindemiths': 12030, 'joust': 12031, 'weber': 12032, 'tunes': 12033, 'transluscent': 12034, 'textures': 12035, 'buoyant': 12036, 'rhythms': 12037, 'astringent': 12038, 'wit': 12039, 'coarsened': 12040, 'lacks': 12041, 'bayreuth': 12042, 'tannhaeuser': 12043, 'wieland': 12044, 'operas': 12045, 'wolfgang': 12046, 'sawallisch': 12047, 'sawalisch': 12048, 'parsifal': 12049, 'hans': 12050, 'knappertsbusch': 12051, 'meistersinger': 12052, 'cycles': 12053, 'rudolf': 12054, 'kempe': 12055, 'casts': 12056, 'lotte': 12057, 'lehmann': 12058, 'soprano': 12059, 'bumbry': 12060, 'venus': 12061, 'booking': 12062, 'absurdities': 12063, 'bolshoi': 12064, 'barring': 12065, 'breath': 12066, 'leningradkirov': 12067, 'cradle': 12068, 'maryinsky': 12069, 'howl': 12070, 'sol': 12071, 'hurok': 12072, 'booker': 12073, 'considers': 12074, 'weep': 12075, 'marlene': 12076, 'dietrich': 12077, 'notified': 12078, 'shorter': 12079, 'balletomane': 12080, 'juicy': 12081, 'budge': 12082, 'civic': 12083, 'lena': 12084, 'horne': 12085, 'queried': 12086, 'impasse': 12087, 'minus': 12088, 'bookers': 12089, 'cancellation': 12090, 'bookings': 12091, 'reopen': 12092, 'meadows': 12093, 'ellis': 12094, 'cibulas': 12095, 'abstractions': 12096, 'semiabstractions': 12097, 'everett': 12098, 'mcnear': 12099, 'operatic': 12100, 'trades': 12101, 'cushion': 12102, 'leni': 12103, 'bauerecsy': 12104, 'lucia': 12105, 'lammermoor': 12106, 'giovanni': 12107, 'franco': 12108, 'zeffirelli': 12109, 'bates': 12110, 'scribbled': 12111, 'farce': 12112, 'hark': 12113, 'lark': 12114, 'irresponsible': 12115, 'novels': 12116, 'lurking': 12117, 'shenanigans': 12118, 'pages': 12119, 'rugged': 12120, 'eccentrics': 12121, 'devastating': 12122, 'collisions': 12123, 'stockbroker': 12124, 'jerebohm': 12125, 'wily': 12126, 'countryman': 12127, 'larkin': 12128, 'blandly': 12129, 'boisterous': 12130, 'chronicled': 12131, 'comedie': 12132, 'humaine': 12133, 'pinkie': 12134, 'affluence': 12135, 'stirs': 12136, 'longing': 12137, 'atrociously': 12138, 'rustic': 12139, 'simplicities': 12140, 'juniorgrade': 12141, 'castle': 12142, 'shakespeare': 12143, 'pageant': 12144, 'bearded': 12145, 'courtiers': 12146, 'pheasants': 12147, 'shoot': 12148, 'splendor': 12149, 'sorcery': 12150, 'wasteland': 12151, 'impress': 12152, 'eliot': 12153, 'conjures': 12154, 'herds': 12155, 'deer': 12156, 'suggests': 12157, 'embodies': 12158, 'stainedglass': 12159, 'unpremeditated': 12160, 'patinas': 12161, 'planks': 12162, 'dungeon': 12163, 'kitchens': 12164, 'spaciousness': 12165, 'cooks': 12166, 'tabletennis': 12167, 'mendacious': 12168, 'jerebohms': 12169, 'preposterous': 12170, 'manse': 12171, 'immense': 12172, 'glorious': 12173, 'rollsroyce': 12174, 'vegetable': 12175, 'patch': 12176, 'flyer': 12177, 'capitalgains': 12178, 'ventures': 12179, 'saddled': 12180, 'foxs': 12181, 'larkins': 12182, 'piccadilly': 12183, 'havoc': 12184, 'oneupmanship': 12185, 'sides': 12186, 'persuaded': 12187, 'restock': 12188, 'tangled': 12189, 'poaches': 12190, 'nourishment': 12191, 'callers': 12192, 'brigadier': 12193, 'kiplings': 12194, 'tales': 12195, 'potting': 12196, 'deck': 12197, 'quart': 12198, 'sustenance': 12199, 'dines': 12200, 'relish': 12201, 'odd': 12202, 'ironic': 12203, 'miguel': 12204, 'cervantes': 12205, 'quixote': 12206, 'spectacle': 12207, 'fiftyfifth': 12208, 'sixtyeighth': 12209, 'playhouses': 12210, 'visualization': 12211, 'illustrious': 12212, 'escapades': 12213, 'tragicomic': 12214, 'knighterrant': 12215, 'squire': 12216, 'sancho': 12217, 'panza': 12218, 'seventeenthcentury': 12219, 'spain': 12220, 'abbreviated': 12221, 'rendering': 12222, 'satire': 12223, 'chivalry': 12224, 'affectingly': 12225, 'nikolai': 12226, 'cherkasov': 12227, 'actor': 12228, 'heroic': 12229, 'nevsky': 12230, 'terrible': 12231, 'performs': 12232, 'lanky': 12233, 'nobility': 12234, 'surface': 12235, 'absurdity': 12236, 'poignant': 12237, 'addlebrained': 12238, 'selfappointed': 12239, 'armor': 12240, 'museums': 12241, 'chivalrous': 12242, 'knighterrantry': 12243, 'joke': 12244, 'gaunt': 12245, 'gracious': 12246, 'soberly': 12247, 'sincerely': 12248, 'cynics': 12249, 'hypocrites': 12250, 'rogues': 12251, 'caricature': 12252, 'treats': 12253, 'deepeyed': 12254, 'bony': 12255, 'crackpot': 12256, 'affection': 12257, 'grigory': 12258, 'kozintsev': 12259, 'tempo': 12260, 'studiously': 12261, 'shining': 12262, 'brightly': 12263, 'gravely': 12264, 'impious': 12265, 'complexities': 12266, 'abetted': 12267, 'stilted': 12268, 'excellently': 12269, 'dubbed': 12270, 'dialogue': 12271, 'voices': 12272, 'richness': 12273, 'roughness': 12274, 'conform': 12275, 'subtleties': 12276, 'helpfully': 12277, 'conveyed': 12278, 'artistry': 12279, 'tolubeyev': 12280, 'comedians': 12281, 'grotesque': 12282, 'broader': 12283, 'comically': 12284, 'firmness': 12285, 'oftentimes': 12286, 'courage': 12287, 'buffoons': 12288, 'concludes': 12289, 'facetiously': 12290, 'wearisome': 12291, 'poignancy': 12292, 'thenceforth': 12293, 'windmill': 12294, 'deathbed': 12295, 'wonderfulness': 12296, 'finely': 12297, 'costumed': 12298, 'magnificently': 12299, 'photographed': 12300, 'tenminute': 12301, 'haunts': 12302, 'medium': 12303, 'uneasy': 12304, 'relaxed': 12305, 'unfortunate': 12306, 'chicagostyle': 12307, 'trimmings': 12308, 'portentous': 12309, 'hypothesis': 12310, 'nbctv': 12311, 'slotted': 12312, 'pont': 12313, 'necessarily': 12314, 'pleasing': 12315, 'timex': 12316, 'allstar': 12317, 'styles': 12318, 'lionel': 12319, 'hamptons': 12320, 'freewheeling': 12321, 'dixieland': 12322, 'interaction': 12323, 'hearer': 12324, 'crosbys': 12325, 'breathing': 12326, 'sensible': 12327, 'rudderless': 12328, 'luminaries': 12329, 'periods': 12330, 'closeups': 12331, 'considerately': 12332, 'ensemble': 12333, 'faulted': 12334, 'inperson': 12335, 'teagarden': 12336, 'krupa': 12337, 'pee': 12338, 'wee': 12339, 'cyr': 12340, 'lil': 12341, 'armstrong': 12342, 'blossom': 12343, 'seeley': 12344, 'buff': 12345, 'furthermore': 12346, 'garry': 12347, 'host': 12348, 'scripts': 12349, 'blend': 12350, 'samples': 12351, 'zoomed': 12352, 'closeup': 12353, 'poles': 12354, 'reinforced': 12355, 'teens': 12356, 'cleverly': 12357, 'memorabilia': 12358, 'interruption': 12359, 'auxiliary': 12360, 'clip': 12361, 'bix': 12362, 'beiderbecke': 12363, 'trumpeter': 12364, 'prolonged': 12365, 'wink': 12366, 'blotted': 12367, 'glimpse': 12368, 'similarly': 12369, 'presenting': 12370, 'photographs': 12371, 'perusal': 12372, 'inquisitive': 12373, 'newcomer': 12374, 'bygone': 12375, 'showcase': 12376, 'notquiteperfect': 12377, 'networks': 12378, 'essays': 12379, 'donizettis': 12380, 'salvos': 12381, 'cheers': 12382, 'ovation': 12383, 'curtain': 12384, 'composer': 12385, 'disconcerting': 12386, 'sung': 12387, 'waxed': 12388, 'applausehappy': 12389, 'operagoers': 12390, 'musicianship': 12391, 'uncomfortable': 12392, 'stylization': 12393, 'emerged': 12394, 'trill': 12395, 'topped': 12396, 'sextet': 12397, 'brilliantly': 12398, 'ecstasy': 12399, 'unfolding': 12400, 'girlish': 12401, 'coloratura': 12402, 'immersed': 12403, 'outburst': 12404, 'breathless': 12405, 'silence': 12406, 'mastery': 12407, 'sopranos': 12408, 'superbly': 12409, 'disciplined': 12410, 'nervousness': 12411, 'blemishes': 12412, 'fullness': 12413, 'vocal': 12414, 'technically': 12415, 'fascinating': 12416, 'aurally': 12417, 'spellbinding': 12418, 'dramatically': 12419, 'scenes': 12420, 'silvio': 12421, 'varviso': 12422, 'injected': 12423, 'tucker': 12424, 'edgardo': 12425, 'bel': 12426, 'canto': 12427, 'serviceable': 12428, 'covent': 12429, 'introduce': 12430, 'bellini': 12431, 'tenda': 12432, 'sonambula': 12433, 'pingpong': 12434, 'stereo': 12435, 'bands': 12436, 'interruptions': 12437, 'sundry': 12438, 'realism': 12439, 'disc': 12440, 'londons': 12441, 'jackets': 12442, 'directionality': 12443, 'sounds': 12444, 'mix': 12445, 'depth': 12446, 'farther': 12447, 'placement': 12448, 'distinct': 12449, 'nearer': 12450, 'louder': 12451, 'monaural': 12452, 'directional': 12453, 'microphoning': 12454, 'mixed': 12455, 'instrumental': 12456, 'discs': 12457, 'percussion': 12458, 'percussive': 12459, 'xylophones': 12460, 'castanets': 12461, 'lined': 12462, 'spirited': 12463, 'volley': 12464, 'twenties': 12465, 'memories': 12466, 'keatings': 12467, 'kombo': 12468, 'tingling': 12469, 'moods': 12470, 'recordings': 12471, 'frequencies': 12472, 'bold': 12473, 'brassy': 12474, 'melody': 12475, 'pianos': 12476, 'releases': 12477, 'gratifyingly': 12478, 'resultant': 12479, 'masking': 12480, 'practically': 12481, 'guarantees': 12482, 'enjoyment': 12483, 'potentialities': 12484, 'manage': 12485, 'authentic': 12486, 'authenticity': 12487, 'imprimatur': 12488, 'impeccably': 12489, 'stamp': 12490, 'unimpeachable': 12491, 'studios': 12492, 'cadre': 12493, 'biblical': 12494, 'sketches': 12495, 'interiors': 12496, 'architectural': 12497, 'paraphernalia': 12498, 'complied': 12499, 'alas': 12500, 'storyline': 12501, 'unrealistic': 12502, 'naomi': 12503, 'boaz': 12504, 'meticulously': 12505, 'adherence': 12506, 'involves': 12507, 'intrigues': 12508, 'twists': 12509, 'traced': 12510, 'gospels': 12511, 'murrow': 12512, 'unauthentic': 12513, 'storylines': 12514, 'prides': 12515, 'corners': 12516, 'futureday': 12517, 'gibbon': 12518, 'macaulay': 12519, 'sole': 12520, 'ignorant': 12521, 'civilization': 12522, 'francois': 12523, 'dalbert': 12524, 'hungarianborn': 12525, 'conservatory': 12526, 'jenni': 12527, 'depaul': 12528, 'acoustics': 12529, 'misgauged': 12530, 'jennis': 12531, 'vying': 12532, 'overdriving': 12533, 'overriding': 12534, 'drawback': 12535, 'mozarts': 12536, 'sonata': 12537, 'clattered': 12538, 'noisily': 12539, 'unrelieved': 12540, 'largescale': 12541, 'eschews': 12542, 'vibrato': 12543, 'brahmsian': 12544, 'phrases': 12545, 'directness': 12546, 'bella': 12547, 'fleming': 12548, 'refers': 12549, 'nickname': 12550, 'melodically': 12551, 'sentimental': 12552, 'capricious': 12553, 'clever': 12554, 'ravellike': 12555, 'rehash': 12556, 'wornout': 12557, 'idiom': 12558, 'conjugal': 12559, 'felicity': 12560, 'smack': 12561, 'dohnanyi': 12562, 'hubay': 12563, 'paganini': 12564, 'virtuoso': 12565, 'fireworks': 12566, 'sleeve': 12567, 'lyric': 12568, 'sarasate': 12569, 'saintsaens': 12570, 'xydis': 12571, 'philharmonic': 12572, 'lewisohn': 12573, 'greekborn': 12574, 'recital': 12575, 'affinity': 12576, 'keyboard': 12577, 'assurance': 12578, 'commands': 12579, 'virtuosity': 12580, 'listeners': 12581, 'composers': 12582, 'rachmaninoff': 12583, 'op': 12584, 'deepsounding': 12585, 'filagree': 12586, 'treble': 12587, 'kabalevsky': 12588, 'preludes': 12589, 'songful': 12590, 'prokofieff': 12591, 'romanticism': 12592, 'bravura': 12593, 'mendelssohns': 12594, 'serieuses': 12595, 'nicely': 12596, 'haydns': 12597, 'unfailingly': 12598, 'chopins': 12599, 'lapse': 12600, 'marred': 12601, 'deepest': 12602, 'poorest': 12603, 'publication': 12604, 'marshal': 12605, 'viscount': 12606, 'weighted': 12607, 'technicalities': 12608, 'abridged': 12609, 'countermoves': 12610, 'stress': 12611, 'burma': 12612, 'disastrous': 12613, 'retreat': 12614, 'illprepared': 12615, 'illequipped': 12616, 'outmaneuvered': 12617, 'outfought': 12618, 'outgeneraled': 12619, 'gurkhas': 12620, 'africans': 12621, 'bitterly': 12622, 'battles': 12623, 'jungles': 12624, 'rivers': 12625, 'campaigns': 12626, 'forgotten': 12627, 'priorities': 12628, 'burmese': 12629, 'wellwritten': 12630, 'amusing': 12631, 'anecdotes': 12632, 'praises': 12633, 'tireless': 12634, 'selfcritical': 12635, 'remaking': 12636, 'narrative': 12637, 'unending': 12638, 'myriad': 12639, 'remnants': 12640, 'discipline': 12641, 'morale': 12642, 'enlightening': 12643, 'rations': 12644, 'accordingly': 12645, 'noncombatant': 12646, 'brass': 12647, 'hygiene': 12648, 'preventive': 12649, 'nurses': 12650, 'scanty': 12651, 'logistics': 12652, 'transport': 12653, 'airdrops': 12654, 'airstrips': 12655, 'barges': 12656, 'provocative': 12657, 'bolder': 12658, 'commanders': 12659, 'marched': 12660, 'till': 12661, 'brave': 12662, 'careless': 12663, 'encumbered': 12664, 'doubts': 12665, 'humanitarian': 12666, 'sentiment': 12667, 'mutilation': 12668, 'uncomplainingly': 12669, 'thrown': 12670, 'bunch': 12671, 'buckaroos': 12672, 'choir': 12673, 'loped': 12674, 'corralling': 12675, 'highminded': 12676, 'choirs': 12677, 'geroge': 12678, 'bragg': 12679, 'twentysix': 12680, 'baroque': 12681, 'madrigals': 12682, 'motets': 12683, 'excerpts': 12684, 'pergolesis': 12685, 'stabat': 12686, 'mater': 12687, 'britten': 12688, 'carols': 12689, 'wellbalanced': 12690, 'untrained': 12691, 'unsettled': 12692, 'shrillness': 12693, 'earsplitting': 12694, 'waver': 12695, 'bleat': 12696, 'prodigies': 12697, 'tempos': 12698, 'accompaniments': 12699, 'istvan': 12700, 'szelenyi': 12701, 'stylish': 12702, 'dixon': 12703, 'motet': 12704, 'enchantingly': 12705, 'schockler': 12706, 'stomped': 12707, 'chanted': 12708, 'irresistible': 12709, 'cowboy': 12710, 'costume': 12711, 'polish': 12712, 'mazowsze': 12713, 'region': 12714, 'poland': 12715, 'threeweek': 12716, 'ingratiating': 12717, 'funny': 12718, 'highspirited': 12719, 'communicative': 12720, 'nonstop': 12721, 'admirable': 12722, 'continuity': 12723, 'pauses': 12724, 'gleaned': 12725, 'mira': 12726, 'ziminskasygietynska': 12727, 'selectively': 12728, 'choreographed': 12729, 'altogether': 12730, 'professionally': 12731, 'intimate': 12732, 'exuberant': 12733, 'flirtatious': 12734, 'identifiable': 12735, 'stunning': 12736, 'krakowiak': 12737, 'closes': 12738, 'mazurka': 12739, 'witold': 12740, 'zapala': 12741, 'moniuszkos': 12742, 'strasny': 12743, 'dwor': 12744, 'enchanting': 12745, 'polonaise': 12746, 'tatras': 12747, 'onstage': 12748, 'ebullient': 12749, 'theatrebythesea': 12750, 'matunuck': 12751, 'brooke': 12752, 'settings': 12753, 'kerrs': 12754, 'witty': 12755, 'daisies': 12756, 'stamped': 12757, 'cartoonist': 12758, 'arty': 12759, 'specialty': 12760, 'adopts': 12761, 'fledgling': 12762, 'hires': 12763, 'heros': 12764, 'sweetheartsecretary': 12765, 'heffernan': 12766, 'edgy': 12767, 'headintheclouds': 12768, 'flawless': 12769, 'hedison': 12770, 'providences': 12771, 'centuryfox': 12772, 'dizzy': 12773, 'youngster': 12774, 'playmate': 12775, 'coletta': 12776, 'audiences': 12777, 'playhouse': 12778, 'epitaph': 12779, 'osborne': 12780, 'creighton': 12781, 'angriest': 12782, 'chap': 12783, 'embittered': 12784, 'jam': 12785, 'scoundrel': 12786, 'fingertips': 12787, 'cliches': 12788, 'eroded': 12789, 'irritations': 12790, 'souls': 12791, 'enters': 12792, 'unsuccessful': 12793, 'playwright': 12794, 'exists': 12795, 'lingers': 12796, 'shells': 12797, 'overcomes': 12798, 'sheer': 12799, 'lesser': 12800, 'awfully': 12801, 'talky': 12802, 'groom': 12803, 'blaze': 12804, 'impassioned': 12805, 'proficient': 12806, 'laura': 12807, 'intensely': 12808, 'vibrant': 12809, 'shriek': 12810, 'explode': 12811, 'lawless': 12812, 'belligerent': 12813, 'spider': 12814, 'destructive': 12815, 'scratchy': 12816, 'hildy': 12817, 'weissman': 12818, 'projection': 12819, 'wheres': 12820, 'lyrics': 12821, 'loesser': 12822, 'christopher': 12823, 'hewett': 12824, 'conlow': 12825, 'matlowsky': 12826, 'amy': 12827, 'shelley': 12828, 'berman': 12829, 'invented': 12830, 'tantalizingly': 12831, 'rousing': 12832, 'sifted': 12833, 'ambling': 12834, 'chords': 12835, 'whispering': 12836, 'bermans': 12837, 'outdo': 12838, 'bolger': 12839, 'hamming': 12840, 'charleys': 12841, 'applauding': 12842, 'evocations': 12843, 'voluminous': 12844, 'gowns': 12845, 'ashmolean': 12846, 'sultry': 12847, 'brazilian': 12848, 'fantasia': 12849, 'monologist': 12850, 'sparrowsize': 12851, 'sparkling': 12852, 'cheerful': 12853, 'suitably': 12854, 'perky': 12855, 'melisande': 12856, 'congdon': 12857, 'positively': 12858, 'knills': 12859, 'tahses': 12860, 'fiorello': 12861, 'veterans': 12862, 'weidman': 12863, 'abbott': 12864, 'bock': 12865, 'harnick': 12866, 'gennaro': 12867, 'lighting': 12868, 'eckart': 12869, 'pulitzer': 12870, 'repeat': 12871, 'bounce': 12872, 'chorines': 12873, 'evoke': 12874, 'lance': 12875, 'resemblance': 12876, 'laguardia': 12877, 'bosley': 12878, 'amazed': 12879, 'progressed': 12880, 'rudy': 12881, 'distraught': 12882, 'chieftain': 12883, 'lipson': 12884, 'faithful': 12885, 'shirleys': 12886, 'sincerity': 12887, 'abiding': 12888, 'hurrying': 12889, 'charlotte': 12890, 'jen': 12891, 'thea': 12892, 'zeme': 12893, 'dora': 12894, 'verve': 12895, 'floyd': 12896, 'cop': 12897, 'promoted': 12898, 'novelties': 12899, 'fugual': 12900, 'poker': 12901, 'splendidly': 12902, 'tuneful': 12903, 'wardheelers': 12904, 'clarity': 12905, 'floyds': 12906, 'penthouse': 12907, 'frolic': 12908, 'hackneyed': 12909, 'routines': 12910, 'choreographic': 12911, 'eras': 12912, 'laguardias': 12913, 'multilingual': 12914, 'folkdance': 12915, 'tahse': 12916, 'stager': 12917, 'touring': 12918, 'roadshow': 12919, 'minimum': 12920, 'obtrusiveness': 12921, 'wondered': 12922, 'shifted': 12923, 'distraction': 12924, 'hereabouts': 12925, 'loews': 12926, 'mgm': 12927, 'pasternak': 12928, 'levin': 12929, 'screenplay': 12930, 'upright': 12931, 'yalies': 12932, 'virtual': 12933, 'rapists': 12934, 'suppose': 12935, 'disqualify': 12936, 'objectivity': 12937, 'hasten': 12938, 'collegians': 12939, 'commonly': 12940, 'vexes': 12941, 'answers': 12942, 'reasonably': 12943, 'healthily': 12944, 'guess': 12945, 'reassuring': 12946, 'profess': 12947, 'refreshing': 12948, 'whipping': 12949, 'hilariously': 12950, 'impromptu': 12951, 'plunge': 12952, 'nightclub': 12953, 'mermaid': 12954, 'dolores': 12955, 'hart': 12956, 'believable': 12957, 'paula': 12958, 'prentiss': 12959, 'unstilted': 12960, 'hutton': 12961, 'gorshin': 12962, 'yvette': 12963, 'mimieux': 12964, 'despoilers': 12965, 'fracases': 12966, 'biting': 12967, 'remembers': 12968, 'springtime': 12969, 'evident': 12970, 'openminded': 12971, 'sensibility': 12972, 'quicksilver': 12973, 'intelligence': 12974, 'gallantry': 12975, 'editorship': 12976, 'kronenberger': 12977, 'hardwick': 12978, 'admirably': 12979, 'jamess': 12980, 'genius': 12981, 'felicities': 12982, 'criticism': 12983, 'henrys': 12984, 'subtly': 12985, 'elegantly': 12986, 'intricate': 12987, 'castles': 12988, 'trenchant': 12989, 'forthright': 12990, 'warmly': 12991, 'grownup': 12992, 'penned': 12993, 'unpatronizing': 12994, 'philosophic': 12995, 'magnanimity': 12996, 'honesty': 12997, 'whiteheads': 12998, 'adorable': 12999, 'speaks': 13000, 'friendship': 13001, 'joy': 13002, 'aridity': 13003, 'passionate': 13004, 'dogmatism': 13005, 'differing': 13006, 'opprobrium': 13007, 'wellmeaning': 13008, 'simpler': 13009, 'colleague': 13010, 'josiah': 13011, 'royce': 13012, 'differed': 13013, 'radically': 13014, 'converse': 13015, 'importantly': 13016, 'santayana': 13017, 'santayanas': 13018, 'reject': 13019, 'platonism': 13020, 'squealed': 13021, 'imperturbable': 13022, 'fronting': 13023, 'universe': 13024, 'diverse': 13025, 'belaboring': 13026, 'jocular': 13027, 'seriousness': 13028, 'thinker': 13029, 'hint': 13030, 'prophet': 13031, 'polemics': 13032, 'recriminations': 13033, 'polemic': 13034, 'singly': 13035, 'impersonally': 13036, 'truer': 13037, 'displace': 13038, 'thurber': 13039, 'numbering': 13040, 'schoolboy': 13041, 'primitiveeclogue': 13042, 'akin': 13043, 'graffiti': 13044, 'scratched': 13045, 'cave': 13046, 'yorker': 13047, 'comprises': 13048, 'unstrung': 13049, 'necklace': 13050, 'thread': 13051, 'cunningly': 13052, 'inserted': 13053, 'spine': 13054, 'unifying': 13055, 'sadly': 13056, 'wordgames': 13057, 'insomniacs': 13058, 'hospitalized': 13059, 'ps': 13060, 'palindromes': 13061, 'paraphrases': 13062, 'parodies': 13063, 'tyranny': 13064, 'trivia': 13065, 'arbitrary': 13066, 'alphabetical': 13067, 'slumber': 13068, 'vistas': 13069, 'hairshirt': 13070, 'asceticism': 13071, 'scholarly': 13072, 'monographs': 13073, 'countrymen': 13074, 'earmuffs': 13075, 'dream': 13076, 'vocabularianism': 13077, 'thurbers': 13078, 'curative': 13079, 'potions': 13080, 'metaphor': 13081, 'malapropism': 13082, 'gobbledygook': 13083, 'burlesque': 13084, 'paean': 13085, 'herald': 13086, 'exaggerating': 13087, 'ballyhooey': 13088, 'kooks': 13089, 'crumble': 13090, 'amusingly': 13091, 'sneaky': 13092, 'announcers': 13093, 'homogenize': 13094, 'radiotv': 13095, 'commercials': 13096, 'veritable': 13097, 'waking': 13098, 'semiserious': 13099, 'document': 13100, 'noteworthy': 13101, 'keenly': 13102, 'littleknown': 13103, 'wister': 13104, 'virginian': 13105, 'gazer': 13106, 'superimposed': 13107, 'shadings': 13108, 'penetrating': 13109, 'mildly': 13110, 'epigrammatic': 13111, 'utterance': 13112, 'quotation': 13113, 'glean': 13114, 'nectareous': 13115, 'essences': 13116, 'midsummer': 13117, 'bangsashes': 13118, 'banged': 13119, 'sash': 13120, 'leaped': 13121, 'sleep': 13122, 'reassuringly': 13123, 'indebted': 13124, 'artistically': 13125, 'surrealist': 13126, 'dali': 13127, 'conceived': 13128, 'abdomen': 13129, 'viscera': 13130, 'mistaken': 13131, 'protoplasmic': 13132, 'penandink': 13133, 'favorites': 13134, 'unimpaired': 13135, 'unaffected': 13136, 'humanness': 13137, 'concluding': 13138, 'paragraph': 13139, 'puzzler': 13140, 'craft': 13141, 'exposing': 13142, 'shams': 13143, 'selfdeceptions': 13144, 'fifties': 13145, 'blimp': 13146, 'tuc': 13147, 'acquainted': 13148, 'robe': 13149, 'thirties': 13150, 'nazis': 13151, 'lightning': 13152, 'inhuman': 13153, 'shortcomings': 13154, 'corrosion': 13155, 'wield': 13156, 'hitler': 13157, 'piecemeal': 13158, 'nightmarish': 13159, 'selfconfident': 13160, 'jovian': 13161, 'stupidities': 13162, 'outrage': 13163, 'confucius': 13164, 'lunchtime': 13165, 'rarely': 13166, 'capably': 13167, 'sardonic': 13168, 'clouds': 13169, 'wrath': 13170, 'eden': 13171, 'relented': 13172, 'stalins': 13173, 'churchills': 13174, 'hillary': 13175, 'tensing': 13176, 'everest': 13177, 'quemoy': 13178, 'matsu': 13179, 'anger': 13180, 'accolade': 13181, 'cartoons': 13182, 'foibles': 13183, 'insubstantial': 13184, 'puny': 13185, 'tyrannical': 13186, 'caricaturist': 13187, 'weak': 13188, 'mortals': 13189, 'vices': 13190, 'moderately': 13191, 'captions': 13192, 'tart': 13193, 'epigrams': 13194, 'fox': 13195, 'slicker': 13196, 'lebensraum': 13197, 'specialist': 13198, 'catfish': 13199, 'allegory': 13200, 'burmans': 13201, 'arrives': 13202, 'wharf': 13203, 'rat': 13204, 'despots': 13205, 'builds': 13206, 'gullible': 13207, 'doc': 13208, 'raccoon': 13209, 'vegetarian': 13210, 'eagle': 13211, 'posing': 13212, 'fiftycent': 13213, 'populace': 13214, 'rats': 13215, 'aggrieved': 13216, 'extermination': 13217, 'bullies': 13218, 'invariably': 13219, 'territorial': 13220, 'hillyer': 13221, 'fable': 13222, 'burman': 13223, 'decadent': 13224, 'themes': 13225, 'laureate': 13226, 'momentous': 13227, 'fables': 13228, 'dialect': 13229, 'joel': 13230, 'remus': 13231, 'kennans': 13232, 'tsarism': 13233, 'scrupulous': 13234, 'characterization': 13235, 'lectures': 13236, 'reliable': 13237, 'readable': 13238, 'possesses': 13239, 'uncommonly': 13240, 'importance': 13241, 'topical': 13242, 'kennan': 13243, 'somber': 13244, 'appraisals': 13245, 'revolutions': 13246, 'pessimistic': 13247, 'mitigating': 13248, 'circumstance': 13249, 'recalling': 13250, 'rejects': 13251, 'sweepingly': 13252, 'disloyal': 13253, 'appeasing': 13254, 'stalin': 13255, 'persisted': 13256, 'yalta': 13257, 'alger': 13258, 'hiss': 13259, 'dexter': 13260, 'implicated': 13261, 'architects': 13262, 'morgenthau': 13263, 'policed': 13264, 'possessed': 13265, 'inexperience': 13266, 'childish': 13267, 'unconditional': 13268, 'settlements': 13269, 'treason': 13270, 'dashed': 13271, 'ills': 13272, 'unshakeable': 13273, 'achieving': 13274, 'objectives': 13275, 'destruction': 13276, 'enemys': 13277, 'disadvantages': 13278, 'complications': 13279, 'recognizing': 13280, 'negotiated': 13281, 'shocking': 13282, 'antinazi': 13283, 'eliminated': 13284, 'vain': 13285, 'bitterness': 13286, 'inexcusable': 13287, 'ignorance': 13288, 'purges': 13289, 'baltic': 13290, 'roosevelts': 13291, 'puerile': 13292, 'persuasive': 13293, 'fdr': 13294, 'preconceptions': 13295, 'wistful': 13296, 'sketch': 13297, 'glancing': 13298, 'instalments': 13299, 'revolution': 13300, 'tsar': 13301, 'seizure': 13302, 'bolsheviks': 13303, 'warped': 13304, 'obsession': 13305, 'defeating': 13306, 'justly': 13307, 'conceivable': 13308, 'grossly': 13309, 'precise': 13310, 'debunking': 13311, 'plebian': 13312, 'dictators': 13313, 'exemplify': 13314, 'authors': 13315, 'characterizations': 13316, 'plebeian': 13317, 'crimes': 13318, 'crowned': 13319, 'autocrats': 13320, 'criminality': 13321, 'limits': 13322, 'pity': 13323, 'collaborator': 13324, 'subjugation': 13325, 'oppression': 13326, 'moustache': 13327, 'truant': 13328, 'lock': 13329, 'forehead': 13330, 'tirades': 13331, 'sulky': 13332, 'silences': 13333, 'orations': 13334, 'stare': 13335, 'prejudices': 13336, 'cynicism': 13337, 'amorality': 13338, 'endowed': 13339, 'dissimulation': 13340, 'resolute': 13341, 'rouse': 13342, 'fever': 13343, 'wartime': 13344, 'jagged': 13345, 'potsdam': 13346, 'stance': 13347, 'senses': 13348, 'misplacements': 13349, 'baffling': 13350, 'riddle': 13351, 'authorship': 13352, 'yugoslavia': 13353, 'portray': 13354, 'prescribe': 13355, 'sovietwestern': 13356, 'firstrate': 13357, 'narrator': 13358, 'lightened': 13359, 'flashes': 13360, 'donnybrook': 13361, 'fistfighting': 13362, 'romancing': 13363, 'mcenroes': 13364, 'walshs': 13365, 'superlative': 13366, 'tale': 13367, 'enright': 13368, 'innesfree': 13369, 'roe': 13370, 'danaher': 13371, 'bullying': 13372, 'fists': 13373, 'enrights': 13374, 'courting': 13375, 'mettlesome': 13376, 'impeded': 13377, 'marries': 13378, 'scraps': 13379, 'ensure': 13380, 'matchmaker': 13381, 'mikeen': 13382, 'flynn': 13383, 'foy': 13384, 'talented': 13385, 'softshoe': 13386, 'improviser': 13387, 'limbs': 13388, 'torso': 13389, 'immensely': 13390, 'matchmaking': 13391, 'incidental': 13392, 'ear': 13393, 'matrimony': 13394, 'lund': 13395, 'impersonates': 13396, 'graced': 13397, 'exprize': 13398, 'fighter': 13399, 'fagan': 13400, 'sings': 13401, 'mettle': 13402, 'exhibits': 13403, 'dross': 13404, 'unlamented': 13405, 'biddies': 13406, 'carney': 13407, 'sibly': 13408, 'bowan': 13409, 'shelf': 13410, 'malevolence': 13411, 'bosco': 13412, 'roars': 13413, 'sneers': 13414, 'intimidate': 13415, 'brigadoon': 13416, 'ballads': 13417, 'threatens': 13418, 'linger': 13419, 'catchy': 13420, 'sez': 13421, 'nordstrom': 13422, 'toomey': 13423, 'touching': 13424, 'authentically': 13425, 'cloth': 13426, 'sweaters': 13427, 'limber': 13428, 'lasses': 13429, 'whirl': 13430, 'glide': 13431, 'quickstep': 13432, 'kilts': 13433, 'stimulating': 13434, 'rouben': 13435, 'terarutunian': 13436, 'scrim': 13437, 'cole': 13438, 'theatergoers': 13439, 'permanently': 13440, 'lovable': 13441, 'breathe': 13442, 'joyously': 13443, 'joshua': 13444, 'fanny': 13445, 'heartwarming': 13446, 'marcel': 13447, 'pagnols': 13448, 'marseilles': 13449, 'perilous': 13450, 'raimu': 13451, 'askance': 13452, 'uncertainty': 13453, 'resolved': 13454, 'englishdialogue': 13455, 'pagnol': 13456, 'partial': 13457, 'digging': 13458, 'fifteenminute': 13459, 'subscribers': 13460, 'forego': 13461, 'pleasures': 13462, 'paray': 13463, 'rounding': 13464, 'stint': 13465, 'collaboration': 13466, 'beethoven': 13467, 'lucid': 13468, 'sounding': 13469, 'ponderous': 13470, 'sprinted': 13471, 'evenly': 13472, 'franck': 13473, 'symphonic': 13474, 'poem': 13475, 'psyche': 13476, 'lush': 13477, 'sweetsounding': 13478, 'fortunate': 13479, 'chromatic': 13480, 'cloying': 13481, 'resisted': 13482, 'temptation': 13483, 'overemphasize': 13484, 'melodic': 13485, 'whine': 13486, 'hysterical': 13487, 'accuracy': 13488, 'zadel': 13489, 'skolovsky': 13490, 'skolovskys': 13491, 'tonally': 13492, 'nonsentimental': 13493, 'ultraefficient': 13494, 'technician': 13495, 'boot': 13496, 'weakest': 13497, 'tends': 13498, 'colorless': 13499, 'attributes': 13500, 'nonromantic': 13501, 'tonal': 13502, 'nuance': 13503, 'deserved': 13504, 'lopatnikoffs': 13505, 'salute': 13506, 'workmanlike': 13507, 'methodical': 13508, 'featureless': 13509, 'gioconda': 13510, 'ponchielli': 13511, 'creaks': 13512, 'decaying': 13513, 'prehistoric': 13514, 'sloppy': 13515, 'goodies': 13516, 'barnaba': 13517, 'wicked': 13518, 'deeds': 13519, 'anselmo': 13520, 'colzani': 13521, 'villain': 13522, 'legato': 13523, 'smoothness': 13524, 'oily': 13525, 'regina': 13526, 'resnik': 13527, 'cesare': 13528, 'siepi': 13529, 'alvise': 13530, 'passion': 13531, 'consummate': 13532, 'mignon': 13533, 'cieca': 13534, 'enzo': 13535, 'holdovers': 13536, 'fausto': 13537, 'cleva': 13538, 'pit': 13539, 'melodious': 13540, 'saith': 13541, 'madrigaling': 13542, 'deller': 13543, 'consort': 13544, 'imagined': 13545, 'vanguard': 13546, 'album': 13547, 'madrigal': 13548, 'masterpieces': 13549, 'bg': 13550, 'bgs': 13551, 'examples': 13552, 'chansons': 13553, 'impulses': 13554, 'sixteenth': 13555, 'basso': 13556, 'continuo': 13557, 'sonatas': 13558, 'elizabethan': 13559, 'traditions': 13560, 'cromwellian': 13561, 'interregnum': 13562, 'choruses': 13563, 'catches': 13564, 'glees': 13565, 'flourished': 13566, 'obliterate': 13567, 'traces': 13568, 'latterday': 13569, 'revivals': 13570, 'troupe': 13571, 'tomkins': 13572, 'purity': 13573, 'jannequins': 13574, 'equivalents': 13575, 'tarantara': 13576, 'rumtumtum': 13577, 'boomboomboom': 13578, 'picturesque': 13579, 'jannequin': 13580, 'lassus': 13581, 'sensual': 13582, 'marenzio': 13583, 'monteverdi': 13584, 'gesualdo': 13585, 'superficial': 13586, 'musicality': 13587, 'infectious': 13588, 'looksee': 13589, 'chronologically': 13590, 'texts': 13591, 'translations': 13592, 'elegance': 13593, 'characteristics': 13594, 'abstract': 13595, 'dancelike': 13596, 'couperin': 13597, 'rameau': 13598, 'nonmusical': 13599, 'keen': 13600, 'bam': 13601, 'editions': 13602, 'boite': 13603, 'musique': 13604, 'outoftheway': 13605, 'occupies': 13606, 'sonates': 13607, 'royaux': 13608, 'occupy': 13609, 'disks': 13610, 'ld': 13611, 'workmanship': 13612, 'gemlike': 13613, 'nos': 13614, 'concertos': 13615, 'francaise': 13616, 'sultane': 13617, 'lastree': 13618, 'limperiale': 13619, 'elaborately': 13620, 'lesserknown': 13621, 'contemporaries': 13622, 'disk': 13623, 'siecle': 13624, 'jeanmarie': 13625, 'leclair': 13626, 'bodin': 13627, 'beismortier': 13628, 'corrette': 13629, 'mondonville': 13630, 'rococo': 13631, 'steinkerque': 13632, 'brevity': 13633, 'refined': 13634, 'shakes': 13635, 'corelli': 13636, 'midcentury': 13637, 'elegances': 13638, 'fashionable': 13639, 'instrumentalists': 13640, 'rameaus': 13641, 'sextuor': 13642, 'lorchestre': 13643, 'chambre': 13644, 'menet': 13645, 'harpsichord': 13646, 'inexplicable': 13647, 'evocative': 13648, 'maitres': 13649, 'allemands': 13650, 'des': 13651, 'siecles': 13652, 'contains': 13653, 'pachelbel': 13654, 'buxtehude': 13655, 'rosenmueller': 13656, 'telemann': 13657, 'sylvie': 13658, 'spycket': 13659, 'bach': 13660, 'anton': 13661, 'haydn': 13662, 'giuseppe': 13663, 'sammartini': 13664, 'comenico': 13665, 'dragonetti': 13666, 'janitsch': 13667, 'anabel': 13668, 'brieff': 13669, 'flutist': 13670, 'josef': 13671, 'marx': 13672, 'oboist': 13673, 'harpsichordist': 13674, 'vacuous': 13675, 'twentiethcentury': 13676, 'accustomed': 13677, 'dissonances': 13678, 'boulez': 13679, 'tiresome': 13680, 'variable': 13681, 'proving': 13682, 'ellie': 13683, 'mao': 13684, 'baritone': 13685, 'folksongs': 13686, 'mi': 13687, 'duets': 13688, 'contrary': 13689, 'mendelssohn': 13690, 'dvorak': 13691, 'canteloube': 13692, 'copland': 13693, 'pleasingly': 13694, 'neglected': 13695, 'essentials': 13696, 'chabriers': 13697, 'oneact': 13698, 'operetta': 13699, 'fragile': 13700, 'precious': 13701, 'uneducated': 13702, 'newlywed': 13703, 'gontran': 13704, 'boismassif': 13705, 'chabrier': 13706, 'librettists': 13707, 'chuckle': 13708, 'rationalist': 13709, 'salon': 13710, 'neoclassicism': 13711, 'cleverness': 13712, 'wry': 13713, 'bawdy': 13714, 'mawkish': 13715, 'tread': 13716, 'extremes': 13717, 'arlene': 13718, 'saunders': 13719, 'inexperienced': 13720, 'benita': 13721, 'valente': 13722, 'parella': 13723, 'tutor': 13724, 'tutoring': 13725, 'darius': 13726, 'milhaud': 13727, 'sailor': 13728, 'libretto': 13729, 'cocteau': 13730, 'guignol': 13731, 'unrecognized': 13732, 'milhauds': 13733, 'churns': 13734, 'ditties': 13735, 'lumbering': 13736, 'satiric': 13737, 'orchestration': 13738, 'thinner': 13739, 'observation': 13740, 'flattered': 13741, 'chubby': 13742, 'plump': 13743, 'cares': 13744, 'attentive': 13745, 'applauded': 13746, 'chord': 13747, 'blessed': 13748, 'wayout': 13749, 'compositions': 13750, 'progressive': 13751, 'jazzmen': 13752, 'smiling': 13753, 'wander': 13754, 'puttin': 13755, 'ritz': 13756, 'rainbow': 13757, 'showmen': 13758, 'evidences': 13759, 'pique': 13760, 'underway': 13761, 'mort': 13762, 'lindseys': 13763, 'wedged': 13764, 'shortskirted': 13765, 'flapped': 13766, 'bouffant': 13767, 'coiffure': 13768, 'fortunately': 13769, 'combed': 13770, 'breeze': 13771, 'blowing': 13772, 'encroaching': 13773, 'photographer': 13774, 'dared': 13775, 'throne': 13776, 'unbidden': 13777, 'unsheathe': 13778, 'mm': 13779, 'lenses': 13780, 'contretemps': 13781, 'mixers': 13782, 'overheard': 13783, 'rescuing': 13784, 'windblown': 13785, 'trundling': 13786, 'microphones': 13787, 'horribly': 13788, 'overarranged': 13789, 'shine': 13790, 'shatteringly': 13791, 'partisan': 13792, 'picayune': 13793, 'striving': 13794, 'haunches': 13795, 'cried': 13796, 'rewarded': 13797, 'rockabye': 13798, 'crying': 13799, 'encores': 13800, 'throng': 13801, 'departing': 13802, 'nigh': 13803, 'deprived': 13804, 'symbolic': 13805, 'peals': 13806, 'thunder': 13807, 'mulligans': 13808, 'aggregation': 13809, 'basie': 13810, 'infected': 13811, 'meaningful': 13812, 'aggregations': 13813, 'delicacy': 13814, 'sax': 13815, 'ballad': 13816, 'brookmeyers': 13817, 'djangos': 13818, 'subtle': 13819, 'admire': 13820, 'carrots': 13821, 'mulligan': 13822, 'blakey': 13823, 'messengers': 13824, 'generate': 13825, 'vein': 13826, 'glimpses': 13827, 'sarah': 13828, 'vaughan': 13829, 'timid': 13830, 'wet': 13831, 'mellowed': 13832, 'wine': 13833, 'spate': 13834, 'vocalists': 13835, 'budieshein': 13836, 'warner': 13837, 'stack': 13838, 'wasted': 13839, 'unenviable': 13840, 'flux': 13841, 'prevents': 13842, 'latecomers': 13843, 'accompanists': 13844, 'minns': 13845, 'seminar': 13846, 'evolution': 13847, 'julie': 13848, 'vocalist': 13849, 'oldies': 13850, 'hardhearted': 13851, 'hannah': 13852, 'vamp': 13853, 'frosted': 13854, 'cake': 13855, 'getzs': 13856, 'baubles': 13857, 'bangles': 13858, 'ballards': 13859, 'getz': 13860, 'categorize': 13861, 'scintillating': 13862, 'improvisations': 13863, 'restating': 13864, 'improvising': 13865, 'sticking': 13866, 'shearing': 13867, 'vibes': 13868, 'shearings': 13869, 'bongo': 13870, 'drummer': 13871, 'mambo': 13872, 'casual': 13873, 'easygoing': 13874, 'newports': 13875, 'relaxing': 13876, 'narrated': 13877, 'hendricks': 13878, 'monterey': 13879, 'hourlong': 13880, 'ferguson': 13881, 'roots': 13882, 'slaves': 13883, 'indies': 13884, 'primitive': 13885, 'preachersinger': 13886, 'gospelsinger': 13887, 'auctioneers': 13888, 'fieldhands': 13889, 'lullaby': 13890, 'additions': 13891, 'drumming': 13892, 'batterie': 13893, 'demonstrating': 13894, 'rhythmic': 13895, 'babatunde': 13896, 'olatunji': 13897, 'konga': 13898, 'resounding': 13899, 'slapping': 13900, 'sensations': 13901, 'pony': 13902, 'poindexter': 13903, 'witherspoon': 13904, 'singer': 13905, 'isaacs': 13906, 'schuberts': 13907, 'rca': 13908, 'emil': 13909, 'gilels': 13910, 'expansiveness': 13911, 'projected': 13912, 'chorale': 13913, 'shanties': 13914, 'ensue': 13915, 'chantey': 13916, 'chanter': 13917, 'shanty': 13918, 'cabin': 13919, 'frenchcanadian': 13920, 'chantier': 13921, 'meanings': 13922, 'boatyard': 13923, 'agreeable': 13924, 'ettore': 13925, 'bastianini': 13926, 'premiere': 13927, 'repetition': 13928, 'alwin': 13929, 'nikolais': 13930, 'hultberg': 13931, 'visage': 13932, 'beckons': 13933, 'lions': 13934, 'conceiving': 13935, 'executing': 13936, 'arresting': 13937, 'instructive': 13938, 'catalogues': 13939, 'moderndance': 13940, 'calisthenics': 13941, 'realm': 13942, 'transposed': 13943, 'organic': 13944, 'consciously': 13945, 'anticipate': 13946, 'automation': 13947, 'mindful': 13948, 'esthetics': 13949, 'slavish': 13950, 'accents': 13951, 'phrasings': 13952, 'contours': 13953, 'deals': 13954, 'satirical': 13955, 'spoof': 13956, 'mores': 13957, 'tamirisdaniel': 13958, 'nagrin': 13959, 'tamiris': 13960, 'nagrins': 13961, 'indeterminate': 13962, 'sprightly': 13963, 'imaginative': 13964, 'diversions': 13965, 'toccata': 13966, 'refreshingly': 13967, 'underplayed': 13968, 'rocknroll': 13969, 'idiosyncrasies': 13970, 'observed': 13971, 'anybodys': 13972, 'laugh': 13973, 'diverting': 13974, 'bother': 13975, 'menacing': 13976, 'tetrameron': 13977, 'marion': 13978, 'cliburn': 13979, 'sevenconcert': 13980, 'cycle': 13981, 'twentyfive': 13982, 'repeating': 13983, 'toobin': 13984, 'lincoln': 13985, 'subscription': 13986, 'westchester': 13987, 'triumphant': 13988, 'tchaikovsky': 13989, 'emperor': 13990, 'sonorities': 13991, 'introspective': 13992, 'filigree': 13993, 'laced': 13994, 'rondo': 13995, 'chopin': 13996, 'nocturne': 13997, 'wallenstein': 13998, 'accompanist': 13999, 'leonore': 14000, 'responsively': 14001, 'lyrical': 14002, 'hallmarks': 14003, 'igor': 14004, 'oistrakh': 14005, 'contribute': 14006, 'casually': 14007, 'constructed': 14008, 'musicals': 14009, 'gershwins': 14010, 'static': 14011, 'crush': 14012, 'retrieved': 14013, 'treasure': 14014, 'rodgers': 14015, 'melodies': 14016, 'deserve': 14017, 'obscurity': 14018, 'bagley': 14019, 'mcwhinney': 14020, 'disappeared': 14021, 'delightfully': 14022, 'revisited': 14023, 'spruce': 14024, 'gems': 14025, 'impudent': 14026, 'garrick': 14027, 'gaieties': 14028, 'dorothy': 14029, 'loudons': 14030, 'raucous': 14031, 'attractions': 14032, 'roxy': 14033, 'incisive': 14034, 'delivers': 14035, 'topdrawer': 14036, 'blush': 14037, 'quintet': 14038, 'accompaniment': 14039, 'arrivals': 14040, 'victor': 14041, 'loc': 14042, 'lso': 14043, 'inventive': 14044, 'elicited': 14045, 'plaintive': 14046, 'earnestness': 14047, 'loessers': 14048, 'vallee': 14049, 'parody': 14050, 'anthems': 14051, 'whisked': 14052, 'expressive': 14053, 'yip': 14054, 'consistent': 14055, 'lyricist': 14056, 'lyriist': 14057, 'honey': 14058, 'israel': 14059, 'sparkles': 14060, 'resourceful': 14061, 'fullbodied': 14062, 'weede': 14063, 'mimi': 14064, 'benzell': 14065, 'rall': 14066, 'hermans': 14067, 'lilting': 14068, 'picon': 14069, 'tunefulness': 14070, 'idioms': 14071, 'content': 14072, 'sail': 14073, 'wao': 14074, 'swao': 14075, 'cruise': 14076, 'cowards': 14077, 'pleasantly': 14078, 'cuttoafamiliarpattern': 14079, 'stritch': 14080, 'persuasively': 14081, 'huskiness': 14082, 'belts': 14083, 'cranes': 14084, 'blockbuster': 14085, 'artkino': 14086, 'cameo': 14087, 'gorky': 14088, 'middlesized': 14089, 'pictorial': 14090, 'genuinely': 14091, 'conquerors': 14092, 'compassionately': 14093, 'peers': 14094, 'smitten': 14095, 'conflicts': 14096, 'hinges': 14097, 'romance': 14098, 'tenderly': 14099, 'tediously': 14100, 'rivets': 14101, 'viewer': 14102, 'recall': 14103, 'titanic': 14104, 'marital': 14105, 'discord': 14106, 'dilettante': 14107, 'yakov': 14108, 'segals': 14109, 'stirringly': 14110, 'crouching': 14111, 'silently': 14112, 'scan': 14113, 'highup': 14114, 'germans': 14115, 'straggle': 14116, 'dotting': 14117, 'cobblestone': 14118, 'gavin': 14119, 'maxwell': 14120, 'haunting': 14121, 'otter': 14122, 'highlands': 14123, 'raine': 14124, 'mystic': 14125, 'conveys': 14126, 'camusfearna': 14127, 'longvanished': 14128, 'seavillage': 14129, 'isle': 14130, 'skye': 14131, 'fjords': 14132, 'singlelane': 14133, 'stags': 14134, 'greylag': 14135, 'geese': 14136, 'swans': 14137, 'dolphins': 14138, 'porpoises': 14139, 'recounts': 14140, 'furnishing': 14141, 'empty': 14142, 'beachdrift': 14143, 'mijbil': 14144, 'travelled': 14145, 'maxwells': 14146, 'species': 14147, 'tigris': 14148, 'marshes': 14149, 'extravagant': 14150, 'compliment': 14151, 'catalogued': 14152, 'frightened': 14153, 'iraq': 14154, 'curled': 14155, 'tap': 14156, 'affectionate': 14157, 'mij': 14158, 'habits': 14159, 'nip': 14160, 'lobes': 14161, 'unsuspecting': 14162, 'needlesharp': 14163, 'systematically': 14164, 'ransack': 14165, 'marbles': 14166, 'invent': 14167, 'curiosity': 14168, 'elan': 14169, 'explored': 14170, 'burn': 14171, 'stranding': 14172, 'seventyfoot': 14173, 'idyll': 14174, 'discovery': 14175, 'charted': 14176, 'selfdiscovery': 14177, 'solitude': 14178, 'loneliness': 14179, 'beings': 14180, 'exhilarating': 14181, 'sharpening': 14182, 'interdependence': 14183, 'obscure': 14184, 'implicitly': 14185, 'mijbils': 14186, 'orb': 14187, 'revolved': 14188, 'imponderable': 14189, 'behaved': 14190, 'mixture': 14191, 'irritation': 14192, 'endless': 14193, 'fealty': 14194, 'pickaxe': 14195, 'manages': 14196, 'idal': 14197, 'rollicking': 14198, 'traveller': 14199, 'zoologist': 14200, 'recorder': 14201, 'forceful': 14202, 'unabashed': 14203, 'reviewer': 14204, 'widened': 14205, 'enchant': 14206, 'contradict': 14207, 'repeats': 14208, 'accurately': 14209, 'continually': 14210, 'reinterpreted': 14211, 'wellreceived': 14212, 'reminds': 14213, 'insensitive': 14214, 'subservient': 14215, 'dare': 14216, 'interpreting': 14217, 'approaches': 14218, 'revival': 14219, 'attracts': 14220, 'experimenters': 14221, 'molieres': 14222, 'reinterpret': 14223, 'comedies': 14224, 'grief': 14225, 'consequence': 14226, 'racines': 14227, 'phedre': 14228, 'wives': 14229, 'thrusting': 14230, 'excessively': 14231, 'stately': 14232, 'defended': 14233, 'poetry': 14234, 'hostile': 14235, 'interpreted': 14236, 'ludicrous': 14237, 'tragic': 14238, 'moliere': 14239, 'jouvet': 14240, 'humanize': 14241, 'clowns': 14242, 'fernand': 14243, 'ledoux': 14244, 'dissimilar': 14245, 'arnolphe': 14246, 'wifetobe': 14247, 'influential': 14248, 'wisely': 14249, 'tartuffe': 14250, 'hypocrite': 14251, 'benefactors': 14252, 'sincere': 14253, 'zealot': 14254, 'buffoon': 14255, 'historians': 14256, 'seigner': 14257, 'deluded': 14258, 'benefactor': 14259, 'observes': 14260, 'coarse': 14261, 'gestures': 14262, 'lustful': 14263, 'stares': 14264, 'bespeak': 14265, 'sensuality': 14266, 'heavenward': 14267, 'glances': 14268, 'perfunctory': 14269, 'reflect': 14270, 'impersonation': 14271, 'draws': 14272, 'laughs': 14273, 'shifts': 14274, 'transformation': 14275, 'goodnatured': 14276, 'stupid': 14277, 'embodiment': 14278, 'meanness': 14279, 'slyness': 14280, 'rebut': 14281, 'lifecontracts': 14282, 'staying': 14283, 'busiest': 14284, 'bourgeois': 14285, 'gentleman': 14286, 'imaginary': 14287, 'invalid': 14288, 'tricks': 14289, 'scapin': 14290, 'hirsch': 14291, 'innovation': 14292, 'trickster': 14293, 'servant': 14294, 'plots': 14295, 'courtship': 14296, 'hirschs': 14297, 'healthy': 14298, 'energetic': 14299, 'revelling': 14300, 'agility': 14301, 'superiority': 14302, 'toughs': 14303, 'nononsense': 14304, 'django': 14305, 'reinhardt': 14306, 'illfated': 14307, 'gypsy': 14308, 'conclusively': 14309, 'guitarist': 14310, 'flea': 14311, 'baptiste': 14312, 'belgium': 14313, 'fingers': 14314, 'asleep': 14315, 'cigarette': 14316, 'havent': 14317, 'rcavictors': 14318, 'djangology': 14319, 'stephane': 14320, 'grappelly': 14321, 'grappely': 14322, 'honeysuckle': 14323, 'bricktop': 14324, 'menilmontant': 14325, 'ory': 14326, 'trombonist': 14327, 'anchor': 14328, 'horn': 14329, 'blown': 14330, 'tworecord': 14331, 'alcorn': 14332, 'clarinet': 14333, 'haywood': 14334, 'wellman': 14335, 'braud': 14336, 'rag': 14337, 'onestep': 14338, 'bourbon': 14339, 'toot': 14340, 'tootsie': 14341, 'oh': 14342, 'ramble': 14343, 'beale': 14344, 'eh': 14345, 'bas': 14346, 'indigo': 14347, 'bugle': 14348, 'oldtime': 14349, 'mischa': 14350, 'elman': 14351, 'musicmaking': 14352, 'faze': 14353, 'truthfully': 14354, 'syrupy': 14355, 'mannered': 14356, 'crestons': 14357, 'schumans': 14358, 'triptych': 14359, 'wallingford': 14360, 'riegger': 14361, 'romanza': 14362, 'creston': 14363, 'purely': 14364, 'potboiler': 14365, 'hesitation': 14366, 'nondissonant': 14367, 'schuman': 14368, 'billings': 14369, 'woodwind': 14370, 'potboilers': 14371, 'unstuffy': 14372, 'outofdoors': 14373, 'uptodate': 14374, 'alfredo': 14375, 'antonini': 14376, 'diet': 14377, 'undergoes': 14378, 'insemination': 14379, 'wishes': 14380, 'heroine': 14381, 'adultery': 14382, 'apollo': 14383, 'conclude': 14384, 'superfluous': 14385, 'artless': 14386, 'lowbudget': 14387, 'invite': 14388, 'censorial': 14389, 'huskyvoiced': 14390, 'longsuffering': 14391, 'misguided': 14392, 'neurotic': 14393, 'sterile': 14394, 'jealous': 14395, 'argues': 14396, 'sues': 14397, 'labeling': 14398, 'adulterous': 14399, 'glumly': 14400, 'lurid': 14401, 'chaffey': 14402, 'basil': 14403, 'unsympathetic': 14404, 'diffring': 14405, 'bystander': 14406, 'protracted': 14407, 'credibility': 14408, 'leaves': 14409, 'unresolved': 14410, 'miscellanies': 14411, 'presentations': 14412, 'fortyfive': 14413, 'alexandre': 14414, 'livshitz': 14415, 'taras': 14416, 'bulba': 14417, 'diehards': 14418, 'manifest': 14419, 'descending': 14420, 'excerpt': 14421, 'gogols': 14422, 'ukrainian': 14423, 'folktale': 14424, 'bo': 14425, 'fenster': 14426, 'solovievsedoi': 14427, 'danced': 14428, 'thirtyfive': 14429, 'lusty': 14430, 'gregarious': 14431, 'cavorting': 14432, 'madmen': 14433, 'oleg': 14434, 'sokolov': 14435, 'alexei': 14436, 'zhitkov': 14437, 'lev': 14438, 'korneyev': 14439, 'halfhour': 14440, 'petipaminkus': 14441, 'bayaderka': 14442, 'petipa': 14443, 'lovelorn': 14444, 'searches': 14445, 'twentyeight': 14446, 'fitting': 14447, 'adagio': 14448, 'loveliness': 14449, 'ballerina': 14450, 'olga': 14451, 'moiseyeva': 14452, 'miracles': 14453, 'ludmilla': 14454, 'alexeyeva': 14455, 'korneyeva': 14456, 'gabrielle': 14457, 'komleva': 14458, 'exquisite': 14459, 'accomplishments': 14460, 'sergei': 14461, 'vikulov': 14462, 'lone': 14463, 'unequal': 14464, 'nutcracker': 14465, 'stunningly': 14466, 'sokolev': 14467, 'galina': 14468, 'kekisheva': 14469, 'adagios': 14470, 'veils': 14471, 'esthetic': 14472, 'acrobacy': 14473, 'osipenko': 14474, 'chernishev': 14475, 'kornevey': 14476, 'cinq': 14477, 'gossiping': 14478, 'stirring': 14479, 'deux': 14480, 'xenia': 14481, 'terstepanova': 14482, 'pavlovsky': 14483, 'fokines': 14484, 'cygne': 14485, 'vadim': 14486, 'kalentiev': 14487, 'fretting': 14488, 'frolicking': 14489, 'yearned': 14490, 'quadrennial': 14491, 'alternately': 14492, 'ingroups': 14493, 'quantities': 14494, 'daytoday': 14495, 'humiliatingly': 14496, 'astonishingly': 14497, 'warmedover': 14498, 'eyewitness': 14499, 'novelist': 14500, 'zest': 14501, 'sensitivity': 14502, 'emotional': 14503, 'crisply': 14504, 'prose': 14505, 'continuously': 14506, 'engrossing': 14507, 'switches': 14508, 'consideration': 14509, 'hopefuls': 14510, 'lyndon': 14511, 'rockefeller': 14512, 'chronological': 14513, 'conventions': 14514, 'bosses': 14515, 'zealous': 14516, 'insiders': 14517, 'distrust': 14518, 'clarified': 14519, 'mismanaged': 14520, 'skillful': 14521, 'politician': 14522, 'toplevel': 14523, 'regions': 14524, 'indecision': 14525, 'broody': 14526, 'stretches': 14527, 'introspection': 14528, 'trusts': 14529, 'solitary': 14530, 'seeker': 14531, 'pathetic': 14532, 'eagerness': 14533, 'identify': 14534, 'landon': 14535, 'mastered': 14536, 'dignified': 14537, 'neglect': 14538, 'cultivate': 14539, 'admires': 14540, 'profoundly': 14541, 'portrayed': 14542, 'fatigue': 14543, 'nervous': 14544, 'subordinates': 14545, 'root': 14546, 'whos': 14547, 'straw': 14548, 'platforms': 14549, 'chooses': 14550, 'nostalgia': 14551, 'lily': 14552, 'pons': 14553, 'celebrities': 14554, 'rewards': 14555, 'rainbowhued': 14556, 'chide': 14557, 'keys': 14558, 'encountered': 14559, 'fairness': 14560, 'stylist': 14561, 'vocalism': 14562, 'breathtaking': 14563, 'meyerbeers': 14564, 'shadow': 14565, 'beloved': 14566, 'besmirch': 14567, 'marches': 14568, 'inexorably': 14569, 'verreau': 14570, 'shakily': 14571, 'whiteness': 14572, 'vanished': 14573, 'bizets': 14574, 'carmen': 14575, 'intelligently': 14576, 'outdistancing': 14577, 'strides': 14578, 'minority': 14579, 'listener': 14580, 'mushrooming': 14581, 'fm': 14582, 'phenomenon': 14583, 'broadcasting': 14584, 'partly': 14585, 'advertised': 14586, 'negroappeal': 14587, 'advertisers': 14588, 'salesmen': 14589, 'programing': 14590, 'betterremembered': 14591, 'attitudes': 14592, 'upgrade': 14593, 'futhermore': 14594, 'spur': 14595, 'census': 14596, 'underscored': 14597, 'wlib': 14598, 'boasts': 14599, 'wwrls': 14600, 'cruising': 14601, 'predominately': 14602, 'neighborhoods': 14603, 'reminder': 14604, 'roundtheclock': 14605, 'wwrl': 14606, 'expose': 14607, 'deceit': 14608, 'halfdozen': 14609, 'keystone': 14610, 'catering': 14611, 'rhythmandblues': 14612, 'gospel': 14613, 'generalappeal': 14614, 'quotes': 14615, 'mclendon': 14616, 'mclendonebony': 14617, 'degrading': 14618, 'shy': 14619, 'hooting': 14620, 'hollering': 14621, 'sociological': 14622, 'eloquently': 14623, 'ksan': 14624, 'ambitions': 14625, 'desires': 14626, 'urbanized': 14627, 'assimilation': 14628, 'sloan': 14629, 'values': 14630, 'farr': 14631, 'sloans': 14632, 'portraits': 14633, 'chronology': 14634, 'prints': 14635, 'illustrations': 14636, 'manners': 14637, 'influenced': 14638, 'pigments': 14639, 'superseded': 14640, 'brighter': 14641, 'palette': 14642, 'solidity': 14643, 'brush': 14644, 'yielded': 14645, 'hatching': 14646, 'genres': 14647, 'nudes': 14648, 'manysided': 14649, 'supplements': 14650, 'syndication': 14651, 'roam': 14652, 'mcsorleys': 14653, 'saloon': 14654, 'breezy': 14655, 'clotheslines': 14656, 'roofs': 14657, 'rooftop': 14658, 'canvases': 14659, 'bracing': 14660, 'flapping': 14661, 'landscapes': 14662, 'vista': 14663, 'gloucester': 14664, 'compelling': 14665, 'bleeker': 14666, 'typically': 14667, 'multifigure': 14668, 'vivified': 14669, 'ash': 14670, 'foraging': 14671, 'ashcan': 14672, 'sojourn': 14673, 'koshare': 14674, 'extrovert': 14675, 'supplementing': 14676, 'diaries': 14677, 'revelatory': 14678, 'enable': 14679, 'forgeries': 14680, 'interpretations': 14681, 'riefling': 14682, 'penetrated': 14683, 'readings': 14684, 'fussy': 14685, 'presumptuous': 14686, 'fluently': 14687, 'logically': 14688, 'abundance': 14689, 'dynamically': 14690, 'arpeggios': 14691, 'quasirecitative': 14692, 'inwardly': 14693, 'kindly': 14694, 'insight': 14695, 'disarming': 14696, 'bagatelles': 14697, 'herr': 14698, 'interpreter': 14699, 'unobtrusive': 14700, 'volker': 14701, 'wangenheim': 14702, 'bonns': 14703, 'stadtisches': 14704, 'orchester': 14705, 'flair': 14706, 'podium': 14707, 'shuddering': 14708, 'subjectivity': 14709, 'conjunction': 14710, 'choral': 14711, 'fantasy': 14712, 'headtossing': 14713, 'preoccupation': 14714, 'raggedness': 14715, 'obsequies': 14716, 'richterhaaser': 14717, 'compensatory': 14718, 'plasticity': 14719, 'burgomasters': 14720, 'intermission': 14721, 'sweepings': 14722, 'gesangverein': 14723, 'rhenish': 14724, 'compositional': 14725, 'categories': 14726, 'rundfunksinfonieorchester': 14727, 'rundfunkchor': 14728, 'goldfilled': 14729, 'missa': 14730, 'solemnis': 14731, 'tray': 14732, 'tortoise': 14733, 'inexact': 14734, 'cosmologists': 14735, 'scientists': 14736, 'cosmic': 14737, 'mysteries': 14738, 'astronomy': 14739, 'extrapolated': 14740, 'phenomena': 14741, 'cosmology': 14742, 'theories': 14743, 'moderator': 14744, 'bondi': 14745, 'bonnor': 14746, 'lyttleton': 14747, 'theoretical': 14748, 'whitrow': 14749, 'functioned': 14750, 'relativistic': 14751, 'relativity': 14752, 'calculated': 14753, 'galaxies': 14754, 'receding': 14755, 'speeds': 14756, 'thinly': 14757, 'expands': 14758, 'reverse': 14759, 'contraction': 14760, 'billions': 14761, 'whistling': 14762, 'disagrees': 14763, 'expansioncontraction': 14764, 'steadystate': 14765, 'zooming': 14766, 'gaps': 14767, 'hydrogen': 14768, 'contends': 14769, 'protons': 14770, 'electrons': 14771, 'electron': 14772, 'proton': 14773, 'immeasurable': 14774, 'chargeexcess': 14775, 'sphere': 14776, 'atoms': 14777, 'gravitation': 14778, 'fleeting': 14779, 'charts': 14780, 'nonscientist': 14781, 'jargon': 14782, 'persuasion': 14783, 'manmade': 14784, 'satellite': 14785, 'optical': 14786, 'devices': 14787, 'absorption': 14788, 'ultraviolet': 14789, 'rays': 14790, 'hinders': 14791, 'telescope': 14792, 'unclouded': 14793, 'gases': 14794, 'bolstering': 14795, 'solace': 14796, 'accelerating': 14797, 'longsought': 14798, 'peer': 14799, 'alien': 14800, 'rationally': 14801, 'defensible': 14802, 'explanations': 14803, 'cosmos': 14804, 'defy': 14805, 'brandnew': 14806, 'trappings': 14807, 'beatie': 14808, 'bryant': 14809, 'jilted': 14810, 'proclaims': 14811, 'emancipation': 14812, 'worthwhile': 14813, 'boorish': 14814, 'happenings': 14815, 'weskers': 14816, 'earthy': 14817, 'citybred': 14818, 'intellectuals': 14819, 'clods': 14820, 'cloddishness': 14821, 'antagonistic': 14822, 'illuminating': 14823, 'aesthetics': 14824, 'wesker': 14825, 'seeming': 14826, 'dwell': 14827, 'doltish': 14828, 'twilight': 14829, 'serfs': 14830, 'dedicates': 14831, 'untidiness': 14832, 'theatergoer': 14833, 'gilded': 14834, 'heap': 14835, 'messy': 14836, 'washing': 14837, 'redundancy': 14838, 'sweetheart': 14839, 'appreciating': 14840, 'dose': 14841, 'socialism': 14842, 'observe': 14843, 'sends': 14844, 'sustained': 14845, 'declamatory': 14846, 'convincing': 14847, 'stubborn': 14848, 'squires': 14849, 'brooked': 14850, 'hifalutin': 14851, 'disrupted': 14852, 'ado': 14853, 'wollman': 14854, 'skating': 14855, 'rink': 14856, 'belvedere': 14857, 'bravely': 14858, 'papp': 14859, 'resourcefully': 14860, 'mingled': 14861, 'shakespeares': 14862, 'enclosure': 14863, 'overflowed': 14864, 'lawns': 14865, 'barbed': 14866, 'sallies': 14867, 'benedick': 14868, 'inured': 14869, 'chuckles': 14870, 'simpleminded': 14871, 'dogberry': 14872, 'verges': 14873, 'responds': 14874, 'jokes': 14875, 'laughter': 14876, 'vivacity': 14877, 'masquers': 14878, 'leonatos': 14879, 'motif': 14880, 'arragon': 14881, 'insipid': 14882, 'claudio': 14883, 'umbrellas': 14884, 'depart': 14885, 'grieving': 14886, 'leonato': 14887, 'friar': 14888, 'loudspeaker': 14889, 'resume': 14890, 'fortified': 14891, 'huddled': 14892, 'raining': 14893, 'nan': 14894, 'nostradamus': 14895, 'foreseen': 14896, 'wept': 14897, 'yea': 14898, 'heavens': 14899, 'weeping': 14900, 'gallant': 14901, 'downpour': 14902, 'preparing': 14903, 'devoting': 14904, 'balcony': 14905, 'trapdoors': 14906, 'villains': 14907, 'attractively': 14908, 'lighthearted': 14909, 'garner': 14910, 'consistency': 14911, 'elisabeth': 14912, 'schwarzkopf': 14913, 'complaints': 14914, 'demurrer': 14915, 'regal': 14916, 'lieder': 14917, 'schubert': 14918, 'strauss': 14919, 'wolf': 14920, 'dramatical': 14921, 'precision': 14922, 'creeping': 14923, 'mannerism': 14924, 'purest': 14925, 'expression': 14926, 'tempted': 14927, 'sin': 14928, 'vanity': 14929, 'misleads': 14930, 'symptoms': 14931, 'unmistakable': 14932, 'coy': 14933, 'melodramatic': 14934, 'gasp': 14935, 'sigh': 14936, 'highlights': 14937, 'garishness': 14938, 'wustman': 14939, 'ideals': 14940, 'frills': 14941, 'enthusiasts': 14942, 'sensibly': 14943, 'situated': 14944, 'additionally': 14945, 'bonus': 14946, 'saturdaynight': 14947, 'ailey': 14948, 'lavallade': 14949, 'aileys': 14950, 'tarastchaikovsky': 14951, 'dollarbritten': 14952, 'divertimento': 14953, 'dollarde': 14954, 'banfield': 14955, 'maria': 14956, 'tallchief': 14957, 'erik': 14958, 'bruhn': 14959, 'showpiece': 14960, 'prowess': 14961, 'handsomely': 14962, 'incisiveness': 14963, 'combatants': 14964, 'sellers': 14965, 'langhorne': 14966, 'shep': 14967, 'shepard': 14968, 'volatile': 14969, 'insinuating': 14970, 'ecstatic': 14971, 'stepladders': 14972, 'laborer': 14973, 'wondrously': 14974, 'seductive': 14975, 'catlike': 14976, 'sinuousness': 14977, 'leaps': 14978, 'lifts': 14979, 'crawls': 14980, 'gentle': 14981, 'supercharged': 14982, 'armchair': 14983, 'preserves': 14984, 'illusions': 14985, 'cynical': 14986, 'sansom': 14987, 'formidably': 14988, 'cultivated': 14989, 'articles': 14990, 'addiction': 14991, 'luxuriance': 14992, 'inherit': 14993, 'sacheverell': 14994, 'sitwell': 14995, 'worthy': 14996, 'pastry': 14997, 'multimillionaire': 14998, 'indigestible': 14999, 'thick': 15000, 'slices': 15001, 'sixteen': 15002, 'magazines': 15003, 'overwritten': 15004, 'labors': 15005, 'extract': 15006, 'refinements': 15007, 'experiences': 15008, 'astound': 15009, 'gracefully': 15010, 'metaphorical': 15011, 'shower': 15012, 'references': 15013, 'contemplative': 15014, 'connoisseur': 15015, 'sniff': 15016, 'reproduce': 15017, 'smells': 15018, 'ignores': 15019, 'guidebook': 15020, 'strives': 15021, 'compounded': 15022, 'visual': 15023, 'savory': 15024, 'norwegian': 15025, 'astonishment': 15026, 'transmit': 15027, 'fiesta': 15028, 'torpetius': 15029, 'persists': 15030, 'tropez': 15031, 'lands': 15032, 'hotter': 15033, 'englishman': 15034, 'delights': 15035, 'bonne': 15036, 'auberge': 15037, 'seacoast': 15038, 'infinite': 15039, 'bernini': 15040, 'tintoretto': 15041, 'coin': 15042, 'neat': 15043, 'spattered': 15044, 'invigoration': 15045, 'tulips': 15046, 'petals': 15047, 'shaggy': 15048, 'spaniels': 15049, 'snowstorm': 15050, 'woodsmoke': 15051, 'lacquered': 15052, 'byzantine': 15053, 'selfconsciousness': 15054, 'aptness': 15055, 'afar': 15056, 'andrea': 15057, 'palladio': 15058, 'environs': 15059, 'vicenza': 15060, 'pedimented': 15061, 'pillared': 15062, 'shed': 15063, 'colonnaded': 15064, 'cedarroofed': 15065, 'traceable': 15066, 'grey': 15067, 'greyskied': 15068, 'stucco': 15069, 'palladian': 15070, 'orbit': 15071, 'rocking': 15072, 'porch': 15073, 'friezes': 15074, 'architectonic': 15075, 'shallower': 15076, 'glitter': 15077, 'mint': 15078, 'julep': 15079, 'columns': 15080, 'framing': 15081, 'velvet': 15082, 'lips': 15083, 'trifle': 15084, 'lamentations': 15085, 'wbai': 15086, 'listenersupported': 15087, 'outlet': 15088, 'frequencymodulation': 15089, 'aural': 15090, 'void': 15091, 'reavey': 15092, 'happiest': 15093, 'reaveys': 15094, 'offbroadway': 15095, 'avantgarde': 15096, 'comprehension': 15097, 'explore': 15098, 'societys': 15099, 'guises': 15100, 'ugliness': 15101, 'aspiration': 15102, 'relentless': 15103, 'discursiveness': 15104, 'overwhelming': 15105, 'stamina': 15106, 'wilt': 15107, 'busily': 15108, 'fulfilling': 15109, 'multitudinous': 15110, 'mankinds': 15111, 'conceivably': 15112, 'reinvigoration': 15113, 'archaism': 15114, 'stravinsky': 15115, 'bleeps': 15116, 'bloops': 15117, 'enterprising': 15118, 'introducing': 15119, 'salient': 15120, 'maze': 15121, 'programed': 15122, 'briefer': 15123, 'melange': 15124, 'toch': 15125, 'karlheinz': 15126, 'stockhausen': 15127, 'yardumian': 15128, 'swedish': 15129, 'karlbirger': 15130, 'blomdahl': 15131, 'commendable': 15132, 'appetite': 15133, 'whetted': 15134, 'alltoobrief': 15135, 'analytical': 15136, 'moiseyev': 15137, 'everybodys': 15138, 'maidens': 15139, 'steadily': 15140, 'yurochka': 15141, 'hardtoplease': 15142, 'comeuppance': 15143, 'polyanka': 15144, 'moldavian': 15145, 'zhok': 15146, 'planting': 15147, 'hilarious': 15148, 'quadrille': 15149, 'kalmuk': 15150, 'juggling': 15151, 'tsvetkov': 15152, 'platter': 15153, 'betrothal': 15154, 'shepherds': 15155, 'azerbaijan': 15156, 'hopping': 15157, 'sweep': 15158, 'canadians': 15159, 'coloring': 15160, 'chile': 15161, 'tasmania': 15162, 'tints': 15163, 'keyed': 15164, 'stabs': 15165, 'bronze': 15166, 'vermilion': 15167, 'flame': 15168, 'frost': 15169, 'freezing': 15170, 'dulls': 15171, 'latesummer': 15172, 'pilgrimages': 15173, 'quebecs': 15174, 'laurentian': 15175, 'maritime': 15176, 'quieter': 15177, 'ontarios': 15178, 'muskoka': 15179, 'haliburton': 15180, 'holding': 15181, 'cavalcades': 15182, 'rockies': 15183, 'groves': 15184, 'aspen': 15185, 'glinting': 15186, 'vermonts': 15187, 'maples': 15188, 'scarlet': 15189, 'hampshire': 15190, 'hardwoods': 15191, 'birches': 15192, 'softer': 15193, 'forests': 15194, 'blanket': 15195, 'berkshires': 15196, 'adirondacks': 15197, 'brightest': 15198, 'routes': 15199, 'saratoga': 15200, 'placid': 15201, 'catskills': 15202, 'midoctober': 15203, 'alleghenies': 15204, 'poconos': 15205, 'renovo': 15206, 'varies': 15207, 'staccato': 15208, 'pastel': 15209, 'gap': 15210, 'appalachians': 15211, 'virginias': 15212, 'shenandoah': 15213, 'smokies': 15214, 'tennessee': 15215, 'wisconsin': 15216, 'wisconsins': 15217, 'vilas': 15218, 'colorama': 15219, 'shawano': 15220, 'portage': 15221, 'mackinac': 15222, 'straits': 15223, 'marquette': 15224, 'mountain': 15225, 'peninsula': 15226, 'arrowhead': 15227, 'patches': 15228, 'ozarks': 15229, 'shawnee': 15230, 'hiawatha': 15231, 'aspencades': 15232, 'panoramas': 15233, 'ouray': 15234, 'rye': 15235, 'salida': 15236, 'steamboat': 15237, 'weeklong': 15238, 'aspencade': 15239, 'ruidoso': 15240, 'alamogordo': 15241, 'cloudcroft': 15242, 'domes': 15243, 'dak': 15244, 'corniest': 15245, 'headlining': 15246, 'stooges': 15247, 'dakota': 15248, 'expedition': 15249, 'schoolhouse': 15250, 'longwood': 15251, 'gardens': 15252, 'kennett': 15253, 'nozzles': 15254, 'jets': 15255, 'peacock': 15256, 'wilted': 15257, 'indoors': 15258, 'greenhouses': 15259, 'mccullers': 15260, 'lessindomitable': 15261, 'soul': 15262, 'gem': 15263, 'bestseller': 15264, 'instinct': 15265, 'storytellers': 15266, 'skill': 15267, 'reaffirm': 15268, 'franny': 15269, 'zooey': 15270, 'conceals': 15271, 'fictional': 15272, 'hurts': 15273, 'eagerly': 15274, 'monsieur': 15275, 'althea': 15276, 'urn': 15277, 'deft': 15278, 'enviable': 15279, 'possessions': 15280, 'weighty': 15281, 'thoughts': 15282, 'virgilia': 15283, 'pitilessly': 15284, 'autobiography': 15285, 'commentary': 15286, 'repressive': 15287, 'uppermiddleclass': 15288, 'retelling': 15289, 'zara': 15290, 'anguished': 15291, 'crane': 15292, 'novelized': 15293, 'rachel': 15294, 'peden': 15295, 'farmwifes': 15296, 'almanac': 15297, 'humorous': 15298, 'hoosier': 15299, 'filipinos': 15300, 'troupes': 15301, 'leningrads': 15302, 'bayanihan': 15303, 'depict': 15304, 'filipino': 15305, 'onenight': 15306, 'harvests': 15307, 'festivals': 15308, 'sonoma': 15309, 'cranberries': 15310, 'bandon': 15311, 'buckwheat': 15312, 'kingwood': 15313, 'iberia': 15314, 'tobacco': 15315, 'mule': 15316, 'benson': 15317, 'boron': 15318, 'mist': 15319, 'niagara': 15320, 'galena': 15321, 'archery': 15322, 'falmouth': 15323, 'anniversaries': 15324, 'staten': 15325, 'mamaroneck': 15326, 'parades': 15327, 'pageants': 15328, 'splurge': 15329, 'shock': 15330, 'horrors': 15331, 'alain': 15332, 'delon': 15333, 'footloose': 15334, 'callas': 15335, 'devotees': 15336, 'cart': 15337, 'druid': 15338, 'twotimed': 15339, 'norma': 15340, 'tender': 15341, 'venomous': 15342, 'pitiful': 15343, 'scala': 15344, 'maestro': 15345, 'tullio': 15346, 'serafin': 15347, 'peabodys': 15348, 'polyunsaturated': 15349, 'dissolving': 15350, 'tasting': 15351, 'pills': 15352, 'hawks': 15353, 'cureall': 15354, 'neuritis': 15355, 'neuralgia': 15356, 'headcold': 15357, 'distress': 15358, 'beriberi': 15359, 'overweight': 15360, 'fungus': 15361, 'mungus': 15362, 'pleasureboat': 15363, 'loveliest': 15364, 'balmy': 15365, 'waterways': 15366, 'capes': 15367, 'yachtsmen': 15368, 'steadier': 15369, 'cooler': 15370, 'fish': 15371, 'hungrier': 15372, 'turbulence': 15373, 'floating': 15374, 'logs': 15375, 'overland': 15376, 'trailers': 15377, 'midwesterners': 15378, 'weekends': 15379, 'flotillas': 15380, 'boatsmen': 15381, 'shores': 15382, 'indomitable': 15383, 'sailors': 15384, 'buoys': 15385, 'frostbite': 15386, 'mapped': 15387, 'boating': 15388, 'scooting': 15389, 'crisp': 15390, 'breezes': 15391, 'harbors': 15392, 'marinas': 15393, 'crowded': 15394, 'docks': 15395, 'ramps': 15396, 'playa': 15397, 'rey': 15398, 'ventura': 15399, 'dana': 15400, 'oceanside': 15401, 'inland': 15402, 'outboard': 15403, 'buzz': 15404, 'sandbars': 15405, 'smallboat': 15406, 'playground': 15407, 'salton': 15408, 'oncedry': 15409, 'sinkhole': 15410, 'salty': 15411, 'racers': 15412, 'shingles': 15413, 'laps': 15414, 'speedboat': 15415, 'gusty': 15416, 'undependable': 15417, 'sailboat': 15418, 'bone': 15419, 'becalmed': 15420, 'regattas': 15421, 'corinthian': 15422, 'yacht': 15423, 'tiburon': 15424, 'launches': 15425, 'hurricane': 15426, 'galvestonport': 15427, 'aransas': 15428, 'isabel': 15429, 'northers': 15430, 'cruisers': 15431, 'freely': 15432, 'poking': 15433, 'jacinto': 15434, 'brazos': 15435, 'tarpon': 15436, 'eastward': 15437, 'barataria': 15438, 'yachters': 15439, 'rigs': 15440, 'waterway': 15441, 'pascagoula': 15442, 'apalachicola': 15443, 'stinkpotters': 15444, 'mckellar': 15445, 'arkabutla': 15446, 'milesquare': 15447, 'pontchartrain': 15448, 'squalls': 15449, 'yearlong': 15450, 'plush': 15451, 'creole': 15452, 'tva': 15453, 'lakes': 15454, 'twisty': 15455, 'shoreline': 15456, 'loops': 15457, 'dam': 15458, 'bruited': 15459, 'erich': 15460, 'remarques': 15461, 'marquis': 15462, 'alfonso': 15463, 'portago': 15464, 'nobleman': 15465, 'mille': 15466, 'miglia': 15467, 'clerfayt': 15468, 'heaven': 15469, 'racedriver': 15470, 'whereas': 15471, 'unformed': 15472, 'aimless': 15473, 'purposeful': 15474, 'grounded': 15475, 'mankind': 15476, 'conception': 15477, 'knifeedge': 15478, 'strict': 15479, 'regimen': 15480, 'sanatorium': 15481, 'precedes': 15482, 'lillian': 15483, 'denouement': 15484, 'remarque': 15485, 'juniorphilosophical': 15486, 'discourse': 15487, 'demure': 15488, 'fetching': 15489, 'lovemaking': 15490, 'countryside': 15491, 'modicum': 15492, 'ramblings': 15493, 'explicitness': 15494, 'relation': 15495, 'reality': 15496, 'reportage': 15497, 'limb': 15498, 'existent': 15499, 'actuarially': 15500, 'insignificant': 15501, 'racedrivers': 15502, 'microcosm': 15503, 'disclaimer': 15504, 'liberties': 15505, 'formalities': 15506, 'casehardened': 15507, 'vendome': 15508, 'sneering': 15509, 'bentleys': 15510, 'rollsroyces': 15511, 'plainest': 15512, 'passive': 15513, 'freudian': 15514, 'deathwish': 15515, 'cliche': 15516, 'whenever': 15517, 'differ': 15518, 'moon': 15519, 'shant': 15520, 'transported': 15521, 'mystical': 15522, 'beast': 15523, 'taruffi': 15524, 'adhesion': 15525, 'twolane': 15526, 'algebraic': 15527, 'formulae': 15528, 'volcano': 15529, 'cone': 15530, 'funneled': 15531, 'briton': 15532, 'virtuosi': 15533, 'ultrafast': 15534, 'roadcircuit': 15535, 'terminology': 15536, 'translation': 15537, 'submariners': 15538, 'machinemasters': 15539, 'mystics': 15540, 'fatalists': 15541, 'leaderless': 15542, 'ably': 15543, 'stalwart': 15544, 'tito': 15545, 'invincible': 15546, 'communize': 15547, 'refusing': 15548, 'sovereignty': 15549, 'montgomerys': 15550, 'christians': 15551, 'believers': 15552, 'pub': 15553, 'disunited': 15554, 'undedicated': 15555, 'alamein': 15556, 'blunderings': 15557, 'mincing': 15558, 'faulty': 15559, 'uncourageous': 15560, 'labour': 15561, 'inward': 15562, 'foe': 15563, 'wartorn': 15564, 'povertystricken': 15565, 'compulsively': 15566, 'quantity': 15567, 'fumbling': 15568, 'stumbling': 15569, 'creates': 15570, 'suspicions': 15571, 'peaceful': 15572, 'coexistence': 15573, 'monty': 15574, 'relied': 15575, 'heretofore': 15576, 'reunited': 15577, 'communistinspired': 15578, 'formosa': 15579, 'politically': 15580, 'drastically': 15581, 'tear': 15582, 'gaulle': 15583, 'tenacity': 15584, 'restoring': 15585, 'whoever': 15586, 'treacherous': 15587, 'envisages': 15588, 'reflection': 15589, 'adapt': 15590, 'inefficiency': 15591, 'morally': 15592, 'surround': 15593, 'thence': 15594, 'cromwell': 15595, 'napoleon': 15596, 'nehru': 15597, 'trace': 15598, 'stirrings': 15599, 'greatness': 15600, 'irrelevant': 15601, 'militarists': 15602, 'militarist': 15603, 'incapacity': 15604, 'rambles': 15605, 'jogs': 15606, 'preventing': 15607, 'courageously': 15608, 'suffers': 15609, 'frontier': 15610, 'mario': 15611, 'lanza': 15612, 'nonpublic': 15613, 'studded': 15614, 'originate': 15615, 'loudest': 15616, 'accommodate': 15617, 'lm': 15618, 'carping': 15619, 'lurk': 15620, 'theatergoing': 15621, 'skindiving': 15622, 'horseplaying': 15623, 'vigilant': 15624, 'averaged': 15625, 'consumption': 15626, 'lbs': 15627, 'gluttons': 15628, 'hen': 15629, 'weightheight': 15630, 'clucks': 15631, 'imperceptible': 15632, 'onetenth': 15633, 'dispose': 15634, 'inconspicuously': 15635, 'onefifth': 15636, 'calories': 15637, 'consume': 15638, 'refrigeration': 15639, 'automated': 15640, 'packaging': 15641, 'conspire': 15642, 'banish': 15643, 'spoilage': 15644, 'wake': 15645, 'divine': 15646, 'fads': 15647, 'fusty': 15648, 'panaceas': 15649, 'spinach': 15650, 'prunes': 15651, 'curds': 15652, 'concentrates': 15653, 'capsules': 15654, 'vitamins': 15655, 'tonics': 15656, 'highprotein': 15657, 'concocted': 15658, 'dried': 15659, 'powdered': 15660, 'cherryflavored': 15661, 'nocal': 15662, 'oz': 15663, 'physiologist': 15664, 'ancel': 15665, 'inventor': 15666, 'bestselling': 15667, 'birchpaneled': 15668, 'physiological': 15669, 'rumble': 15670, 'blocky': 15671, 'greyhaired': 15672, 'directs': 15673, 'ayear': 15674, 'spans': 15675, 'logged': 15676, 'indescribable': 15677, 'digestive': 15678, 'indignities': 15679, 'bantu': 15680, 'contadini': 15681, 'skinfolds': 15682, 'fleshy': 15683, 'neapolitan': 15684, 'metabolism': 15685, 'finnish': 15686, 'woodcutters': 15687, 'analyzed': 15688, 'mealiemeal': 15689, 'eaten': 15690, 'capetown': 15691, 'coloreds': 15692, 'experimented': 15693, 'keyss': 15694, 'findings': 15695, 'milligrams': 15696, 'cholesterol': 15697, 'predicting': 15698, 'electrocardiogram': 15699, 'symptomatic': 15700, 'rejoices': 15701, 'worries': 15702, 'messages': 15703, 'diabetes': 15704, 'artery': 15705, 'disease': 15706, 'ice': 15707, 'calorieheavy': 15708, 'saturated': 15709, 'insidious': 15710, 'arteries': 15711, 'coronary': 15712, 'obesity': 15713, 'malnutrition': 15714, 'scarce': 15715, 'sustain': 15716, 'diseases': 15717, 'scurvy': 15718, 'tropical': 15719, 'sprue': 15720, 'pellagra': 15721, 'rampant': 15722, 'weaned': 15723, 'childhood': 15724, 'kwashiorkor': 15725, 'growthstunting': 15726, 'protein': 15727, 'reddish': 15728, 'bloated': 15729, 'belly': 15730, 'kills': 15731, 'prey': 15732, 'parasites': 15733, 'lingering': 15734, 'wellfed': 15735, 'harrisons': 15736, 'internists': 15737, 'caloric': 15738, 'puritan': 15739, 'flagrant': 15740, 'intemperance': 15741, 'immoral': 15742, 'jolliffe': 15743, 'overburden': 15744, 'chevrolet': 15745, 'premiums': 15746, 'unclear': 15747, 'vulnerable': 15748, 'exertion': 15749, 'hampers': 15750, 'restricts': 15751, 'physiologically': 15752, 'overeat': 15753, 'appestat': 15754, 'adjusts': 15755, 'hypothalamus': 15756, 'temperature': 15757, 'waterbalance': 15758, 'doses': 15759, 'alcohol': 15760, 'narcotizes': 15761, 'enhances': 15762, 'drinker': 15763, 'encephalitis': 15764, 'pituitary': 15765, 'tumor': 15766, 'satiety': 15767, 'frustration': 15768, 'overeating': 15769, 'psychological': 15770, 'compulsion': 15771, 'fostered': 15772, 'insecurity': 15773, 'anxious': 15774, 'nagging': 15775, 'delicacies': 15776, 'withheld': 15777, 'punishment': 15778, 'sedative': 15779, 'fishes': 15780, 'cupboard': 15781, 'hauls': 15782, 'boredom': 15783, 'subconscious': 15784, 'compulsive': 15785, 'eaters': 15786, 'nibblers': 15787, 'gobblers': 15788, 'downright': 15789, 'dismisses': 15790, 'depressants': 15791, 'amphetamines': 15792, 'benzedrine': 15793, 'dexedrine': 15794, 'crutches': 15795, 'objections': 15796, 'metrecal': 15797, 'oatss': 15798, 'calorie': 15799, 'formulas': 15800, 'dieters': 15801, 'minerals': 15802, 'distaste': 15803, 'disgusting': 15804, 'fatalities': 15805, 'deaths': 15806, 'accidents': 15807, 'yellowish': 15808, 'waxy': 15809, 'chemically': 15810, 'crystalline': 15811, 'chole': 15812, 'bile': 15813, 'sterios': 15814, 'cells': 15815, 'brains': 15816, 'ingredient': 15817, 'gallstones': 15818, 'adrenal': 15819, 'hormones': 15820, 'fats': 15821, 'circulatory': 15822, 'liver': 15823, 'fatty': 15824, 'molecules': 15825, 'soluble': 15826, 'insoluble': 15827, 'destroyed': 15828, 'arterial': 15829, 'blockages': 15830, 'culminate': 15831, 'intima': 15832, 'proteins': 15833, 'piles': 15834, 'narrows': 15835, 'irritates': 15836, 'calcium': 15837, 'deposits': 15838, 'slowing': 15839, 'clot': 15840, 'seals': 15841, 'provokes': 15842, 'arterys': 15843, 'infarct': 15844, 'occurs': 15845, 'suffocated': 15846, 'fatally': 15847, 'coronaries': 15848, 'synthesizes': 15849, 'cholesterolrich': 15850, 'materially': 15851, 'netherlands': 15852, 'scandinavia': 15853, 'swedens': 15854, 'haqvin': 15855, 'malmros': 15856, 'coincided': 15857, 'californias': 15858, 'laurance': 15859, 'kinsell': 15860, 'oxidation': 15861, 'stumbled': 15862, 'ahrens': 15863, 'monounsaturated': 15864, 'molecule': 15865, 'hydrogens': 15866, 'exerts': 15867, 'bodybuilder': 15868, 'sonnyboy': 15869, 'barbell': 15870, 'stunt': 15871, 'taunts': 15872, 'schoolmates': 15873, 'hey': 15874, 'lookit': 15875, 'whaddya': 15876, 'gonna': 15877, 'gotta': 15878, 'ego': 15879, 'unkind': 15880, 'courcy': 15881, 'discouraging': 15882, 'urge': 15883, 'admonishing': 15884, 'weights': 15885, 'montreal': 15886, 'bodybuilding': 15887, 'entrusted': 15888, 'professeur': 15889, 'sternocleido': 15890, 'mastoideus': 15891, 'tibialis': 15892, 'anticus': 15893, 'exercises': 15894, 'weider': 15895, 'histories': 15896, 'prizewinning': 15897, 'pupil': 15898, 'physique': 15899, 'gaetan': 15900, 'damours': 15901, 'jeanpaul': 15902, 'senesac': 15903, 'boissoneault': 15904, 'harve': 15905, 'yesiree': 15906, 'weighed': 15907, 'astounding': 15908, 'testimonials': 15909, 'quickwate': 15910, 'superprotein': 15911, 'wonderworking': 15912, 'henris': 15913, 'bodyweight': 15914, 'exercising': 15915, 'skiing': 15916, 'shapely': 15917, 'dissatisfied': 15918, 'symmetrical': 15919, 'widen': 15920, 'gym': 15921, 'tanny': 15922, 'nowfamous': 15923, 'pushpull': 15924, 'superset': 15925, 'sector': 15926, 'opposing': 15927, 'widegrip': 15928, 'straightarm': 15929, 'pullover': 15930, 'widens': 15931, 'ribcage': 15932, 'collartocollar': 15933, 'reevestype': 15934, 'gladiator': 15935, 'pecs': 15936, 'lats': 15937, 'frontal': 15938, 'deltoids': 15939, 'chestbackshoulder': 15940, 'exercised': 15941, 'pumpedup': 15942, 'supersets': 15943, 'fiveminute': 15944, 'dumbbells': 15945, 'elbows': 15946, 'downward': 15947, 'pectorals': 15948, 'width': 15949, 'dumbbell': 15950, 'classically': 15951, 'onedumbbell': 15952, 'bentarm': 15953, 'serratus': 15954, 'affords': 15955, 'pushup': 15956, 'lateral': 15957, 'pectoralribcage': 15958, 'stretcher': 15959, 'apparatus': 15960, 'claudes': 15961, 'prescribed': 15962, 'chestbacklatshoulder': 15963, 'bursting': 15964, 'pectoralfront': 15965, 'deltoid': 15966, 'shaping': 15967, 'incline': 15968, 'flare': 15969, 'causing': 15970, 'steeledged': 15971, 'carvedoutofsolid': 15972, 'terrific': 15973, 'massbuilding': 15974, 'muscleshaping': 15975, 'torsodefining': 15976, 'rarer': 15977, 'herculean': 15978, 'symmetry': 15979, 'hallmark': 15980, 'highset': 15981, 'highrep': 15982, 'workouts': 15983, 'sculptors': 15984, 'chisel': 15985, 'definitionspecialization': 15986, 'bodybuilders': 15987, 'spectacularly': 15988, 'limbo': 15989, 'discovers': 15990, 'reacquainted': 15991, 'lunge': 15992, 'perfectly': 15993, 'thighbone': 15994, 'lengths': 15995, 'thighs': 15996, 'hipline': 15997, 'criterion': 15998, 'unforgettable': 15999, 'facet': 16000, 'uppermost': 16001, 'lifters': 16002, 'squatting': 16003, 'curling': 16004, 'extensor': 16005, 'razorsharp': 16006, 'cables': 16007, 'writhing': 16008, 'skin': 16009, 'contractionextension': 16010, 'improves': 16011, 'squats': 16012, 'flexibility': 16013, 'concentrated': 16014, 'correspond': 16015, 'suitablyloaded': 16016, 'backward': 16017, 'straightening': 16018, 'breather': 16019, 'oneleg': 16020, 'nutshell': 16021, 'balancewise': 16022, 'wobble': 16023, 'weave': 16024, 'lowering': 16025, 'squatstyle': 16026, 'legsplit': 16027, 'enormously': 16028, 'pansies': 16029, 'sizzling': 16030, 'velvety': 16031, 'glaring': 16032, 'gardener': 16033, 'beauties': 16034, 'puzzled': 16035, 'riotous': 16036, 'blooming': 16037, 'pansy': 16038, 'seeds': 16039, 'unimproved': 16040, 'strains': 16041, 'harrowed': 16042, 'compost': 16043, 'brownblack': 16044, 'adequacy': 16045, 'tilth': 16046, 'describe': 16047, 'germinate': 16048, 'lustily': 16049, 'seedbed': 16050, 'coddled': 16051, 'coldest': 16052, 'ventilation': 16053, 'rooting': 16054, 'dig': 16055, 'rake': 16056, 'fog': 16057, 'spray': 16058, 'sowing': 16059, 'protects': 16060, 'sprinkling': 16061, 'porous': 16062, 'mulch': 16063, 'sawdust': 16064, 'hay': 16065, 'thrifty': 16066, 'transplant': 16067, 'oftener': 16068, 'pulverized': 16069, 'phosphate': 16070, 'meal': 16071, 'encourages': 16072, 'plentiful': 16073, 'overfeed': 16074, 'spade': 16075, 'decayed': 16076, 'manure': 16077, 'feedings': 16078, 'diluted': 16079, 'dissolved': 16080, 'seedlings': 16081, 'moisture': 16082, 'heaving': 16083, 'thawing': 16084, 'thaw': 16085, 'bloomed': 16086, 'unheated': 16087, 'greenhouse': 16088, 'zero': 16089, 'stride': 16090, 'budded': 16091, 'strawberries': 16092, 'leggy': 16093, 'tallgrowing': 16094, 'blossoms': 16095, 'pegging': 16096, 'peggeddown': 16097, 'tug': 16098, 'assures': 16099, 'shear': 16100, 'stub': 16101, 'leaf': 16102, 'cutdown': 16103, 'behave': 16104, 'natures': 16105, 'aim': 16106, 'reputable': 16107, 'grower': 16108, 'sickly': 16109, 'cared': 16110, 'prolific': 16111, 'buds': 16112, 'dependable': 16113, 'regularity': 16114, 'solicitude': 16115, 'salad': 16116, 'tomato': 16117, 'healthful': 16118, 'avocado': 16119, 'avocados': 16120, 'tasted': 16121, 'pear': 16122, 'meaty': 16123, 'melonlike': 16124, 'pulp': 16125, 'ripe': 16126, 'bartlett': 16127, 'bland': 16128, 'nutlike': 16129, 'fruits': 16130, 'eatings': 16131, 'anticipation': 16132, 'dormant': 16133, 'refrigerated': 16134, 'packing': 16135, 'cleaned': 16136, 'graded': 16137, 'excelsior': 16138, 'degreesf': 16139, 'lapses': 16140, 'cooling': 16141, 'delays': 16142, 'grovelike': 16143, 'restored': 16144, 'grocers': 16145, 'dyeing': 16146, 'waxing': 16147, 'gassing': 16148, 'ripening': 16149, 'egg': 16150, 'poison': 16151, 'sprays': 16152, 'nutritious': 16153, 'reducer': 16154, 'versatility': 16155, 'poisons': 16156, 'nutritional': 16157, 'nutrients': 16158, 'unsaturated': 16159, 'acids': 16160, 'appreciable': 16161, 'vitamin': 16162, 'thiamin': 16163, 'riboflavin': 16164, 'phosphorus': 16165, 'significantly': 16166, 'diets': 16167, 'dietary': 16168, 'pulsating': 16169, 'vibration': 16170, 'clutches': 16171, 'apprehension': 16172, 'fearsome': 16173, 'ballistic': 16174, 'stealth': 16175, 'merciless': 16176, 'swiftness': 16177, 'terrifying': 16178, 'bewitched': 16179, 'attacker': 16180, 'possession': 16181, 'defenseless': 16182, 'wanton': 16183, 'devastated': 16184, 'selfdestruction': 16185, 'painfully': 16186, 'vulnerability': 16187, 'opponent': 16188, 'appallingly': 16189, 'citytrading': 16190, 'profitable': 16191, 'icbms': 16192, 'capability': 16193, 'attackers': 16194, 'committing': 16195, 'trajectory': 16196, 'location': 16197, 'vessels': 16198, 'gravest': 16199, 'detect': 16200, 'compute': 16201, 'ballistics': 16202, 'instantaneously': 16203, 'icbm': 16204, 'selfprotection': 16205, 'mobility': 16206, 'defenses': 16207, 'perfected': 16208, 'exceedingly': 16209, 'imprecisely': 16210, 'spacecraft': 16211, 'cataclysmic': 16212, 'cinders': 16213, 'longendurance': 16214, 'railmobile': 16215, 'railwaybased': 16216, 'multimegaton': 16217, 'employing': 16218, 'targets': 16219, 'suppress': 16220, 'geographic': 16221, 'degrade': 16222, 'hardened': 16223, 'survivability': 16224, 'minuteman': 16225, 'atlas': 16226, 'titan': 16227, 'airborne': 16228, 'skybolt': 16229, 'devastation': 16230, 'duration': 16231, 'airfields': 16232, 'incapable': 16233, 'doomed': 16234, 'oneshot': 16235, 'bombproof': 16236, 'hangars': 16237, 'runways': 16238, 'disperse': 16239, 'propulsions': 16240, 'thrusttoweight': 16241, 'ratio': 16242, 'verticaltakeoffandlanding': 16243, 'vtol': 16244, 'obsolete': 16245, 'halfhearted': 16246, 'propulsion': 16247, 'hears': 16248, 'analogy': 16249, 'powerplants': 16250, 'vertical': 16251, 'toone': 16252, 'supersonic': 16253, 'weighing': 16254, 'vertically': 16255, 'sac': 16256, 'dispersion': 16257, 'dominance': 16258, 'selective': 16259, 'reconnaissance': 16260, 'disarm': 16261, 'postattack': 16262, 'samos': 16263, 'semiautomatic': 16264, 'preattack': 16265, 'favorably': 16266, 'priceless': 16267, 'infrared': 16268, 'photography': 16269, 'kiloton': 16270, 'psi': 16271, 'overpressure': 16272, 'hardest': 16273, 'onekiloton': 16274, 'hiroshima': 16275, 'nagasaki': 16276, 'sidelooking': 16277, 'radar': 16278, 'taxiways': 16279, 'spite': 16280, 'ardent': 16281, 'elemental': 16282, 'wouldbe': 16283, 'classifiers': 16284, 'quintets': 16285, 'serenade': 16286, 'dual': 16287, 'renditions': 16288, 'dimensions': 16289, 'contrabass': 16290, 'discreetly': 16291, 'dressed': 16292, 'anew': 16293, 'divergent': 16294, 'marathon': 16295, 'longawaited': 16296, 'reissue': 16297, 'schnabelpro': 16298, 'arte': 16299, 'colh': 16300, 'artur': 16301, 'schnabel': 16302, 'schubertbeethovenmozart': 16303, 'performer': 16304, 'versions': 16305, 'curzon': 16306, 'adrian': 16307, 'aeschbacher': 16308, 'babin': 16309, 'sheds': 16310, 'pedagogical': 16311, 'pianistic': 16312, 'traits': 16313, 'schnabelian': 16314, 'differs': 16315, 'schnabels': 16316, 'individuality': 16317, 'structural': 16318, 'vibrancy': 16319, 'impetuous': 16320, 'radiant': 16321, 'humanity': 16322, 'seriousminded': 16323, 'straitlaced': 16324, 'pianism': 16325, 'bristles': 16326, 'markings': 16327, 'superlatives': 16328, 'artes': 16329, 'regret': 16330, 'collaborate': 16331, 'interpretative': 16332, 'indulgent': 16333, 'swoops': 16334, 'pinched': 16335, 'twentyfiveyearold': 16336, 'faded': 16337, 'forellen': 16338, 'imperfect': 16339, 'splicing': 16340, 'curzons': 16341, 'cite': 16342, 'delicious': 16343, 'laendler': 16344, 'viennese': 16345, 'gossamer': 16346, 'shading': 16347, 'finicky': 16348, 'octet': 16349, 'expertise': 16350, 'compliments': 16351, 'johann': 16352, 'krumpp': 16353, 'scrawny': 16354, 'tottering': 16355, 'hilarity': 16356, 'glazerfine': 16357, 'concertdisc': 16358, 'lucidity': 16359, 'fleishers': 16360, 'aeschbachers': 16361, 'decca': 16362, 'locating': 16363, 'hephzibah': 16364, 'menuhinamadeus': 16365, 'babinfestival': 16366, 'unimaginative': 16367, 'baduraskodavienna': 16368, 'konzerthaus': 16369, 'demusschubert': 16370, 'deutsche': 16371, 'grammophon': 16372, 'warmtoned': 16373, 'tensionless': 16374, 'helmut': 16375, 'roloff': 16376, 'sturdy': 16377, 'lastmentioned': 16378, 'telefunken': 16379, 'accorded': 16380, 'bargainpriced': 16381, 'beguiled': 16382, 'magnificence': 16383, 'diminished': 16384, 'everyones': 16385, 'purported': 16386, 'indistinguishable': 16387, 'perspective': 16388, 'milestones': 16389, 'verisimilitude': 16390, 'recreation': 16391, 'caruso': 16392, 'distinctive': 16393, 'karl': 16394, 'mucks': 16395, 'toscanini': 16396, 'concept': 16397, 'fidelity': 16398, 'multiplied': 16399, 'tenfold': 16400, 'disillusioning': 16401, 'clearer': 16402, 'innovations': 16403, 'survived': 16404, 'rehearing': 16405, 'spotting': 16406, 'environments': 16407, 'alteration': 16408, 'distortion': 16409, 'quantitatively': 16410, 'fractional': 16411, 'bits': 16412, 'imitation': 16413, 'scheherazade': 16414, 'easiest': 16415, 'reproduces': 16416, 'steinberg': 16417, 'minimal': 16418, 'obtrudes': 16419, 'consciousness': 16420, 'frequency': 16421, 'peaky': 16422, 'beefedup': 16423, 'aesthetic': 16424, 'maintained': 16425, 'scrapes': 16426, 'clicks': 16427, 'noises': 16428, 'acoustically': 16429, 'reverberation': 16430, 'attain': 16431, 'sonority': 16432, 'intrudes': 16433, 'quasiperformer': 16434, 'timbre': 16435, 'resonance': 16436, 'discounting': 16437, 'faithfully': 16438, 'undertow': 16439, 'pacing': 16440, 'presto': 16441, 'non': 16442, 'assai': 16443, 'scherzo': 16444, 'allegro': 16445, 'spirito': 16446, 'giselle': 16447, 'feyers': 16448, 'foursided': 16449, 'lp': 16450, 'horrid': 16451, 'fascination': 16452, 'charms': 16453, 'naive': 16454, 'vanish': 16455, 'fistoularis': 16456, 'ultravehement': 16457, 'brute': 16458, 'chilly': 16459, 'suave': 16460, 'sentimentality': 16461, 'brilliance': 16462, 'doctored': 16463, 'superhigh': 16464, 'penultimate': 16465, 'wolffs': 16466, 'abridgment': 16467, 'razoredged': 16468, 'monophonic': 16469, 'bigstage': 16470, 'tolerable': 16471, 'defects': 16472, 'sd': 16473, 'kc': 16474, 'fortysix': 16475, 'custom': 16476, 'chmn': 16477, 'qualifying': 16478, 'betsey': 16479, 'ch': 16480, 'noranda': 16481, 'homebred': 16482, 'ceases': 16483, 'sensing': 16484, 'flashbulbs': 16485, 'livid': 16486, 'rage': 16487, 'barcus': 16488, 'thoroughbred': 16489, 'earnestly': 16490, 'forcibly': 16491, 'kennel': 16492, 'steward': 16493, 'relax': 16494, 'individually': 16495, 'thoughtful': 16496, 'hone': 16497, 'handler': 16498, 'announcer': 16499, 'publicaddress': 16500, 'sportsmen': 16501, 'campaigners': 16502, 'betty': 16503, 'holyoke': 16504, 'setter': 16505, 'handlers': 16506, 'assns': 16507, 'brumby': 16508, 'founderoriginator': 16509, 'afghan': 16510, 'blanc': 16511, 'doberman': 16512, 'pinscher': 16513, 'hackmann': 16514, 'dachshund': 16515, 'marcmann': 16516, 'trapp': 16517, 'penna': 16518, 'keeshond': 16519, 'percy': 16520, 'intermediates': 16521, 'overage': 16522, 'suggesting': 16523, 'contestants': 16524, 'intermediate': 16525, 'inception': 16526, 'licensed': 16527, 'akc': 16528, 'airedale': 16529, 'terrier': 16530, 'kerry': 16531, 'donating': 16532, 'trophies': 16533, 'breeds': 16534, 'topeka': 16535, 'kcs': 16536, 'grande': 16537, 'pointer': 16538, 'donate': 16539, 'pointers': 16540, 'danes': 16541, 'kitten': 16542, 'proprieter': 16543, 'accepts': 16544, 'pets': 16545, 'housebroken': 16546, 'obediencetrained': 16547, 'veterinarians': 16548, 'wipe': 16549, 'canine': 16550, 'examination': 16551, 'indifferent': 16552, 'germs': 16553, 'navigable': 16554, 'fishermen': 16555, 'recreational': 16556, 'awash': 16557, 'participated': 16558, 'heaviest': 16559, 'concentrations': 16560, 'coasts': 16561, 'upsurge': 16562, 'markedly': 16563, 'expectedly': 16564, 'coastline': 16565, 'watering': 16566, 'troughs': 16567, 'multipurpose': 16568, 'havens': 16569, 'squaremile': 16570, 'texoma': 16571, 'dammed': 16572, 'thirtytwo': 16573, 'ninety': 16574, 'boat': 16575, 'haul': 16576, 'easytooperate': 16577, 'sleek': 16578, 'inboards': 16579, 'outboards': 16580, 'sailboats': 16581, 'smartly': 16582, 'commonplace': 16583, 'boatmen': 16584, 'anchorage': 16585, 'tedious': 16586, 'trailer': 16587, 'arriving': 16588, 'waterside': 16589, 'hauled': 16590, 'horizons': 16591, 'eightfoot': 16592, 'pram': 16593, 'canoes': 16594, 'camping': 16595, 'houseboats': 16596, 'accommodating': 16597, 'laze': 16598, 'dinghy': 16599, 'pond': 16600, 'plywood': 16601, 'plastic': 16602, 'toilets': 16603, 'galleys': 16604, 'bunks': 16605, 'purchasers': 16606, 'gamut': 16607, 'nautical': 16608, 'onceamonth': 16609, 'sportiest': 16610, 'boatman': 16611, 'encompass': 16612, 'motors': 16613, 'excel': 16614, 'phenomenal': 16615, 'horsepower': 16616, 'wherein': 16617, 'pocketbook': 16618, 'owning': 16619, 'sizeable': 16620, 'tiller': 16621, 'nondealer': 16622, 'launch': 16623, 'automobiles': 16624, 'rating': 16625, 'embryonic': 16626, 'tacit': 16627, 'unduly': 16628, 'terrified': 16629, 'infancy': 16630, 'burdened': 16631, 'aloft': 16632, 'ungoverned': 16633, 'carefree': 16634, 'prohibited': 16635, 'boundary': 16636, 'regulations': 16637, 'ordinances': 16638, 'excuse': 16639, 'industrys': 16640, 'foreseeing': 16641, 'supporting': 16642, 'coordinated': 16643, 'reorganized': 16644, 'naebm': 16645, 'booklets': 16646, 'squadrons': 16647, 'seamanship': 16648, 'piloting': 16649, 'governmentally': 16650, 'establishments': 16651, 'dine': 16652, 'everincreasing': 16653, 'sparked': 16654, 'marina': 16655, 'coined': 16656, 'facility': 16657, 'commercially': 16658, 'dock': 16659, 'yachtel': 16660, 'yachtsman': 16661, 'premises': 16662, 'boatel': 16663, 'pertain': 16664, 'regardless': 16665, 'nomenclature': 16666, 'yachtels': 16667, 'boatels': 16668, 'boatyards': 16669, 'municipally': 16670, 'interlocking': 16671, 'interact': 16672, 'tappets': 16673, 'tappet': 16674, 'lengthwise': 16675, 'locking': 16676, 'angles': 16677, 'prevented': 16678, 'notches': 16679, 'sloping': 16680, 'consist': 16681, 'cams': 16682, 'slide': 16683, 'unlocking': 16684, 'pulls': 16685, 'locks': 16686, 'levers': 16687, 'turnout': 16688, 'turnouts': 16689, 'oncoming': 16690, 'insures': 16691, 'flange': 16692, 'snag': 16693, 'figs': 16694, 'diagram': 16695, 'connecting': 16696, 'wedgeshaped': 16697, 'tracksignal': 16698, 'diagrams': 16699, 'derails': 16700, 'rails': 16701, 'blackedin': 16702, 'blade': 16703, 'lowspeed': 16704, 'signaling': 16705, 'prototype': 16706, 'railroader': 16707, 'larsons': 16708, 'fig': 16709, 'photos': 16710, 'sizes': 16711, 'widths': 16712, 'instructions': 16713, 'sanding': 16714, 'righthand': 16715, 'soldering': 16716, 'angle': 16717, 'sq': 16718, 'spacing': 16719, 'lefthand': 16720, 'compress': 16721, 'solder': 16722, 'parallel': 16723, 'tacksolder': 16724, 'drilled': 16725, 'spacers': 16726, 'horizontally': 16727, 'centerpunch': 16728, 'screws': 16729, 'counterdrill': 16730, 'unsolder': 16731, 'disassemble': 16732, 'soldered': 16733, 'drilling': 16734, 'burrs': 16735, 'contacts': 16736, 'reassemble': 16737, 'roundhead': 16738, 'nuts': 16739, 'align': 16740, 'twisted': 16741, 'spacer': 16742, 'insert': 16743, 'removing': 16744, 'slots': 16745, 'flush': 16746, 'drawfile': 16747, 'slot': 16748, 'chamfer': 16749, 'underside': 16750, 'scribe': 16751, 'diameter': 16752, 'undersize': 16753, 'crosswise': 16754, 'tapered': 16755, 'lifting': 16756, 'progresses': 16757, 'accessible': 16758, 'snugfitting': 16759, 'snug': 16760, 'dogpin': 16761, 'dia': 16762, 'rod': 16763, 'rotating': 16764, 'notch': 16765, 'vshaped': 16766, 'carborundum': 16767, 'mandrel': 16768, 'barrette': 16769, 'triangular': 16770, 'marring': 16771, 'endeavor': 16772, 'sliding': 16773, 'mated': 16774, 'scribing': 16775, 'files': 16776, 'lathe': 16777, 'analyzing': 16778, 'standardizing': 16779, 'communicating': 16780, 'rodding': 16781, 'rotate': 16782, 'axis': 16783, 'rodder': 16784, 'mathematician': 16785, 'remotely': 16786, 'mathematical': 16787, 'numerical': 16788, 'equations': 16789, 'arithmetic': 16790, 'symbols': 16791, 'multiplication': 16792, 'subtraction': 16793, 'separates': 16794, 'subtracted': 16795, 'equals': 16796, 'fractions': 16797, 'decimal': 16798, 'handbooks': 16799, 'simplified': 16800, 'shortening': 16801, 'detrimental': 16802, 'constants': 16803, 'pave': 16804, 'blanks': 16805, 'displacement': 16806, 'boring': 16807, 'stroking': 16808, 'bore': 16809, 'cylinders': 16810, 'piston': 16811, 'onequarter': 16812, 'circles': 16813, 'computing': 16814, 'cylinder': 16815, 'crosssectional': 16816, 'centimeters': 16817, 'cc': 16818, 'chevy': 16819, 'decimals': 16820, 'compression': 16821, 'comparing': 16822, 'combustion': 16823, 'liquid': 16824, 'install': 16825, 'valves': 16826, 'plug': 16827, 'gasket': 16828, 'beaker': 16829, 'overfill': 16830, 'liquids': 16831, 'subtracting': 16832, 'beakers': 16833, 'precaution': 16834, 'gaskets': 16835, 'thickness': 16836, 'thousandths': 16837, 'calculate': 16838, 'calculation': 16839, 'computation': 16840, 'micrometer': 16841, 'pistons': 16842, 'domed': 16843, 'irregularly': 16844, 'irregularity': 16845, 'displaced': 16846, 'readily': 16847, 'axle': 16848, 'tire': 16849, 'simplify': 16850, 'substituted': 16851, 'crankshaft': 16852, 'radius': 16853, 'shaft': 16854, 'inflated': 16855, 'measurement': 16856, 'rpm': 16857, 'raceway': 16858, 'mainlinerhighland': 16859, 'stable': 16860, 'clocked': 16861, 'kroening': 16862, 'wis': 16863, 'railbirds': 16864, 'debonnie': 16865, 'dale': 16866, 'frostdebby': 16867, 'hanover': 16868, 'adioson': 16869, 'kimberly': 16870, 'gal': 16871, 'galophonekimberly': 16872, 'laguerre': 16873, 'tar': 16874, 'heellotus': 16875, 'monel': 16876, 'heelmiracle': 16877, 'conformation': 16878, 'girth': 16879, 'smoothest': 16880, 'colt': 16881, 'yearolds': 16882, 'makings': 16883, 'brood': 16884, 'mare': 16885, 'stardel': 16886, 'pridestarlette': 16887, 'fury': 16888, 'hoot': 16889, 'monfay': 16890, 'caper': 16891, 'moncolumbia': 16892, 'mongoddess': 16893, 'equalled': 16894, 'upstanding': 16895, 'trot': 16896, 'trackdown': 16897, 'torridmighty': 16898, 'emasculation': 16899, 'thrived': 16900, 'thor': 16901, 'adiostrustful': 16902, 'harness': 16903, 'linedriven': 16904, 'hopples': 16905, 'worms': 16906, 'paced': 16907, 'twicearound': 16908, 'gamecock': 16909, 'heelterka': 16910, 'besttempered': 16911, 'harnessed': 16912, 'crupper': 16913, 'blistered': 16914, 'curbs': 16915, 'hustler': 16916, 'dreamtorkin': 16917, 'playful': 16918, 'rascal': 16919, 'gaited': 16920, 'torrid': 16921, 'torridbreeze': 16922, 'strongmade': 16923, 'strongheart': 16924, 'adiosdirect': 16925, 'fairlooking': 16926, 'sorrel': 16927, 'adios': 16928, 'torridadios': 16929, 'masculine': 16930, 'bestgaited': 16931, 'pacers': 16932, 'pacer': 16933, 'frisco': 16934, 'flyercastle': 16935, 'fillies': 16936, 'justine': 16937, 'sampson': 16938, 'hanoverjustitia': 16939, 'dreammiss': 16940, 'hoopla': 16941, 'heelholiday': 16942, 'hoppled': 16943, 'fullsisters': 16944, 'valentine': 16945, 'cerise': 16946, 'underpinning': 16947, 'taraday': 16948, 'grandlooking': 16949, 'dailey': 16950, 'abbedirect': 16951, 'grattan': 16952, 'finelooking': 16953, 'equine': 16954, 'staley': 16955, 'dreamsweetmite': 16956, 'rhythmwily': 16957, 'haughtons': 16958, 'bonnie': 16959, 'abbescotch': 16960, 'hickory': 16961, 'hanovermisty': 16962, 'trotted': 16963, 'pridevenus': 16964, 'harlanhickory': 16965, 'buxton': 16966, 'heelberyl': 16967, 'fabers': 16968, 'faber': 16969, 'hanoverceyway': 16970, 'rodney': 16971, 'rodneyhonor': 16972, 'lastnamed': 16973, 'harlanmarcia': 16974, 'hanoverchalidale': 16975, 'martha': 16976, 'rodneymiss': 16977, 'checkit': 16978, 'hanoversupermarket': 16979, 'rodneythe': 16980, 'charmer': 16981, 'farveltopsy': 16982, 'herring': 16983, 'dreamway': 16984, 'jacky': 16985, 'geneprincess': 16986, 'lorraine': 16987, 'timeolivette': 16988, 'bordner': 16989, 'heelbetty': 16990, 'mahone': 16991, 'hanoversally': 16992, 'whippet': 16993, 'invercalt': 16994, 'floricaninverness': 16995, 'mite': 16996, 'boylady': 16997, 'knightfall': 16998, 'dreamnext': 16999, 'trader': 17000, 'floricanmy': 17001, 'boymarquita': 17002, 'timemynah': 17003, 'iosola': 17004, 'kidisoletta': 17005, 'equines': 17006, 'stalling': 17007, 'threequarters': 17008, 'barefooted': 17009, 'delvin': 17010, 'baffled': 17011, 'hopped': 17012, 'rocked': 17013, 'skipped': 17014, 'classiest': 17015, 'lorena': 17016, 'gallon': 17017, 'gallonloren': 17018, 'prudent': 17019, 'hanoverprecious': 17020, 'hanoverpebble': 17021, 'dreamlusty': 17022, 'catons': 17023, 'butterwyn': 17024, 'victorbutler': 17025, 'wyn': 17026, 'riverboat': 17027, 'dalzellcousin': 17028, 'layton': 17029, 'hanoverlucy': 17030, 'straightened': 17031, 'jordon': 17032, 'adiosrena': 17033, 'hanoverbertie': 17034, 'cathy': 17035, 'heelkaola': 17036, 'karet': 17037, 'armbro': 17038, 'comet': 17039, 'nibble': 17040, 'hanovermauri': 17041, 'flick': 17042, 'nipes': 17043, 'engles': 17044, 'galophoneprissy': 17045, 'rainless': 17046, 'rainfall': 17047, 'demon': 17048, 'blackstone': 17049, 'duke': 17050, 'lullwater': 17051, 'marilyn': 17052, 'chalidale': 17053, 'barry': 17054, 'tiger': 17055, 'lass': 17056, 'dauntless': 17057, 'greentree': 17058, 'budlong': 17059, 'lottie': 17060, 'braden': 17061, 'abbe': 17062, 'hi': 17063, 'tanker': 17064, 'stormy': 17065, 'dundeen': 17066, 'claudias': 17067, 'mocking': 17068, 'trotter': 17069, 'orin': 17070, 'tan': 17071, 'lookout': 17072, 'outdoor': 17073, 'shooter': 17074, 'christmasseason': 17075, 'rack': 17076, 'hints': 17077, 'judgments': 17078, 'handgun': 17079, 'strictest': 17080, 'constitute': 17081, 'deerstalker': 17082, 'armsmaking': 17083, 'concepts': 17084, 'rugers': 17085, 'upsets': 17086, 'highvelocity': 17087, 'quickhandling': 17088, 'fastfiring': 17089, 'timber': 17090, 'velocity': 17091, 'whitetail': 17092, 'ruger': 17093, 'magnum': 17094, 'cartridge': 17095, 'antelope': 17096, 'grassed': 17097, 'carbine': 17098, 'bagged': 17099, 'reedbuck': 17100, 'kob': 17101, 'wart': 17102, 'deadliness': 17103, 'marlin': 17104, 'overunder': 17105, 'defunct': 17106, 'gauge': 17107, 'barrels': 17108, 'inchbarrel': 17109, 'marlins': 17110, 'bullets': 17111, 'sixinch': 17112, 'unaccountably': 17113, 'stray': 17114, 'upsetting': 17115, 'unjacketed': 17116, 'revolver': 17117, 'bullet': 17118, 'jacketed': 17119, 'openingday': 17120, 'hopskipped': 17121, 'rhododendron': 17122, 'thicket': 17123, 'foreleg': 17124, 'sapling': 17125, 'standardweight': 17126, 'compares': 17127, 'scales': 17128, 'imported': 17129, 'trigger': 17130, 'muzzle': 17131, 'fps': 17132, 'hunters': 17133, 'varmint': 17134, 'remington': 17135, 'wesson': 17136, 'topquality': 17137, 'flattest': 17138, 'midrange': 17139, 'edible': 17140, 'squirrel': 17141, 'crow': 17142, 'flurry': 17143, 'intriguing': 17144, 'chambered': 17145, 'rimfires': 17146, 'adapter': 17147, 'sleeves': 17148, 'smallgame': 17149, 'plinking': 17150, 'rimfire': 17151, 'tested': 17152, 'scoped': 17153, 'calibers': 17154, 'brands': 17155, 'boltaction': 17156, 'highpower': 17157, 'fn': 17158, 'betterthanaverage': 17159, 'bores': 17160, 'magnums': 17161, 'shotguntype': 17162, 'rubber': 17163, 'recoil': 17164, 'scopes': 17165, 'centerfire': 17166, 'sako': 17167, 'coltsman': 17168, 'cartridges': 17169, 'sportking': 17170, 'grades': 17171, 'respectively': 17172, 'wellmade': 17173, 'kodiak': 17174, 'autoloader': 17175, 'hammerless': 17176, 'tubular': 17177, 'functioning': 17178, 'mossberg': 17179, 'targo': 17180, 'rifleshotgun': 17181, 'unrifled': 17182, 'rifled': 17183, 'surprisingly': 17184, 'unscrew': 17185, 'smoothbore': 17186, 'shotshells': 17187, 'clays': 17188, 'fastens': 17189, 'sevenshot': 17190, 'repeater': 17191, 'tr': 17192, 'singleshot': 17193, 'wingshooting': 17194, 'pellets': 17195, 'integral': 17196, 'brakes': 17197, 'shortened': 17198, 'deluxe': 17199, 'pump': 17200, 'shortbarrel': 17201, 'saddle': 17202, 'scabbard': 17203, 'featherweight': 17204, 'toptang': 17205, 'slidelock': 17206, 'leveraction': 17207, 'beginners': 17208, 'bets': 17209, 'wondering': 17210, 'ithaca': 17211, 'dropblock': 17212, 'fullsized': 17213, 'bolt': 17214, 'cocked': 17215, 'singlebarrel': 17216, 'tang': 17217, 'pumpaction': 17218, 'scattergun': 17219, 'superposed': 17220, 'beavertail': 17221, 'barrelwide': 17222, 'ventilated': 17223, 'rib': 17224, 'sighting': 17225, 'firearms': 17226, 'finland': 17227, 'valmet': 17228, 'supermatic': 17229, 'optional': 17230, 'fliteking': 17231, 'mossbergs': 17232, 'coupled': 17233, 'handguns': 17234, 'livery': 17235, 'creaking': 17236, 'prospered': 17237, 'horsedom': 17238, 'tallyho': 17239, 'cruz': 17240, 'upland': 17241, 'redwood': 17242, 'orchards': 17243, 'hellforleather': 17244, 'lantern': 17245, 'regulars': 17246, 'trenchermen': 17247, 'complain': 17248, 'tariff': 17249, 'boulder': 17250, 'creek': 17251, 'tiring': 17252, 'halts': 17253, 'contrived': 17254, 'hostler': 17255, 'rode': 17256, 'hamper': 17257, 'filets': 17258, 'smoked': 17259, 'sturgeon': 17260, 'sandwiches': 17261, 'pickled': 17262, 'sangaree': 17263, 'heated': 17264, 'botanists': 17265, 'bulbs': 17266, 'ferns': 17267, 'resin': 17268, 'fir': 17269, 'westerly': 17270, 'franciscan': 17271, 'roamed': 17272, 'incense': 17273, 'fragrance': 17274, 'orphic': 17275, 'pastilles': 17276, 'malabar': 17277, 'botanical': 17278, 'breakfasted': 17279, 'vernons': 17280, 'adjoined': 17281, 'adorned': 17282, 'lithographs': 17283, 'liniments': 17284, 'boots': 17285, 'whiskey': 17286, 'hoods': 17287, 'sarsaparilla': 17288, 'patent': 17289, 'medicines': 17290, 'blacking': 17291, 'chewing': 17292, 'pot': 17293, 'hissing': 17294, 'mannings': 17295, 'draped': 17296, 'snowy': 17297, 'napkins': 17298, 'oyster': 17299, 'roast': 17300, 'fritters': 17301, 'consummately': 17302, 'fond': 17303, 'standby': 17304, 'coachmen': 17305, 'kirkpatrick': 17306, 'antoines': 17307, 'variant': 17308, 'gastronomes': 17309, 'palaces': 17310, 'splash': 17311, 'absinthe': 17312, 'pernod': 17313, 'parsley': 17314, 'underbedding': 17315, 'liqueur': 17316, 'unadorned': 17317, 'herbs': 17318, 'seasoning': 17319, 'inspect': 17320, 'replica': 17321, 'belmont': 17322, 'matchless': 17323, 'whips': 17324, 'shave': 17325, 'frenchpolished': 17326, 'axles': 17327, 'greased': 17328, 'roulette': 17329, 'groomed': 17330, 'gloss': 17331, 'jaw': 17332, 'drag': 17333, 'funerals': 17334, 'fed': 17335, 'kedgeree': 17336, 'flake': 17337, 'cupful': 17338, 'boiled': 17339, 'haddock': 17340, 'minced': 17341, 'hardboiled': 17342, 'buttery': 17343, 'sauce': 17344, 'cayenne': 17345, 'pinch': 17346, 'tablespoonful': 17347, 'fried': 17348, 'anchovy': 17349, 'omelet': 17350, 'ernest': 17351, 'arbogast': 17352, 'grill': 17353, 'piquant': 17354, 'coppery': 17355, 'delawares': 17356, 'fry': 17357, 'rub': 17358, 'celery': 17359, 'teaspoonful': 17360, 'chives': 17361, 'nutmeg': 17362, 'jigger': 17363, 'dry': 17364, 'sherry': 17365, 'stiffens': 17366, 'fortnight': 17367, 'pierpont': 17368, 'restaurateur': 17369, 'nob': 17370, 'magnate': 17371, 'swarmed': 17372, 'amused': 17373, 'moorish': 17374, 'galleries': 17375, 'maelstrom': 17376, 'primacy': 17377, 'rubicund': 17378, 'slashmouthed': 17379, 'winfield': 17380, 'gardenia': 17381, 'maroon': 17382, 'wellington': 17383, 'glistened': 17384, 'currant': 17385, 'jelly': 17386, 'clatter': 17387, 'reins': 17388, 'button': 17389, 'epsom': 17390, 'surtout': 17391, 'curve': 17392, 'cantered': 17393, 'woodside': 17394, 'uplands': 17395, 'maps': 17396, 'inns': 17397, 'suffused': 17398, 'smoke': 17399, 'tilt': 17400, 'lounged': 17401, 'dashboard': 17402, 'indulging': 17403, 'cigar': 17404, 'clump': 17405, 'fork': 17406, 'skytapping': 17407, 'redwoods': 17408, 'furrowed': 17409, 'ripple': 17410, 'bakes': 17411, 'splashes': 17412, 'shoulderhigh': 17413, 'fernery': 17414, 'seersucker': 17415, 'halfwitted': 17416, 'mackintosh': 17417, 'disfavor': 17418, 'ink': 17419, 'denouncing': 17420, 'copious': 17421, 'stables': 17422, 'bins': 17423, 'wrights': 17424, 'amongst': 17425, 'verandas': 17426, 'strewn': 17427, 'rockers': 17428, 'sojourners': 17429, 'seclusion': 17430, 'haunt': 17431, 'ambrose': 17432, 'bierce': 17433, 'acorns': 17434, 'oaks': 17435, 'pigs': 17436, 'sweepstakes': 17437, 'butts': 17438, 'cured': 17439, 'oaklog': 17440, 'esteemed': 17441, 'roasted': 17442, 'devil': 17443, 'saucepan': 17444, 'teaspoonfuls': 17445, 'mustard': 17446, 'mashed': 17447, 'garlic': 17448, 'cloves': 17449, 'peeled': 17450, 'gherkins': 17451, 'lime': 17452, 'simmered': 17453, 'tablespoons': 17454, 'worcestershire': 17455, 'catsup': 17456, 'chutney': 17457, 'walnuts': 17458, 'pint': 17459, 'simmer': 17460, 'kegful': 17461, 'kegs': 17462, 'vineyards': 17463, 'nuisance': 17464, 'sixfoot': 17465, 'fences': 17466, 'panthers': 17467, 'venison': 17468, 'pies': 17469, 'dryness': 17470, 'gunflint': 17471, 'almaden': 17472, 'apple': 17473, 'creeks': 17474, 'brimful': 17475, 'apples': 17476, 'wintry': 17477, 'crackle': 17478, 'dwellers': 17479, 'thereabouts': 17480, 'bakery': 17481, 'oven': 17482, 'billets': 17483, 'pie': 17484, 'waning': 17485, 'ledger': 17486, 'peel': 17487, 'dome': 17488, 'apricot': 17489, 'clove': 17490, 'gently': 17491, 'poach': 17492, 'syrup': 17493, 'pastrylined': 17494, 'tablespoonfuls': 17495, 'gild': 17496, 'yolk': 17497, 'conceive': 17498, 'textbook': 17499, 'skyreaching': 17500, 'smokefilled': 17501, 'artfilled': 17502, 'dramafilled': 17503, 'unbelievable': 17504, 'hawaii': 17505, 'alaska': 17506, 'usa': 17507, 'photographic': 17508, 'photogenic': 17509, 'birthplace': 17510, 'battlefields': 17511, 'villages': 17512, 'peerless': 17513, 'metropolis': 17514, 'verdant': 17515, 'twoday': 17516, 'eyefilling': 17517, 'lancaster': 17518, 'forge': 17519, 'beaches': 17520, 'quaint': 17521, 'townships': 17522, 'whaling': 17523, 'nantucket': 17524, 'sturbridge': 17525, 'completelyrestored': 17526, 'acadia': 17527, 'rockbound': 17528, 'champlain': 17529, 'ethan': 17530, 'adirondack': 17531, 'mts': 17532, 'winooski': 17533, 'whirlwind': 17534, 'sightseeing': 17535, 'ferry': 17536, 'tips': 17537, 'northeastern': 17538, 'locales': 17539, 'modernistic': 17540, 'weekday': 17541, 'tripods': 17542, 'lighthouses': 17543, 'overexpose': 17544, 'lightreflecting': 17545, 'sunlight': 17546, 'encompasses': 17547, 'expanse': 17548, 'contemplation': 17549, 'spectacles': 17550, 'tourist': 17551, 'reenactments': 17552, 'shiloh': 17553, 'vicksburg': 17554, 'fredericksburg': 17555, 'unequalled': 17556, 'cypress': 17557, 'waterski': 17558, 'pose': 17559, 'glassbottom': 17560, 'everglades': 17561, 'photograph': 17562, 'surroundings': 17563, 'fabulous': 17564, 'palmstudded': 17565, 'seaquarium': 17566, 'parrot': 17567, 'jungle': 17568, 'wrought': 17569, 'restoration': 17570, 'williamsburg': 17571, 'jamestown': 17572, 'yorktown': 17573, 'adventure': 17574, 'luray': 17575, 'caverns': 17576, 'lit': 17577, 'photofloodlights': 17578, 'alamo': 17579, 'gorges': 17580, 'valleys': 17581, 'gatlinburg': 17582, 'chattanooga': 17583, 'trademarks': 17584, 'charleston': 17585, 'natchez': 17586, 'charlottesville': 17587, 'monticello': 17588, 'picturing': 17589, 'photo': 17590, 'profusion': 17591, 'flourishing': 17592, 'wooded': 17593, 'exposure': 17594, 'uneven': 17595, 'shafts': 17596, 'filtering': 17597, 'predominantly': 17598, 'longview': 17599, 'scenics': 17600, 'antebellum': 17601, 'tripod': 17602, 'synchronized': 17603, 'linville': 17604, 'miamis': 17605, 'waterskiing': 17606, 'midwestern': 17607, 'cosmopolitan': 17608, 'cityscapes': 17609, 'stroll': 17610, 'unfold': 17611, 'dells': 17612, 'fantastically': 17613, 'rocks': 17614, 'overgrown': 17615, 'fern': 17616, 'stopover': 17617, 'farmlands': 17618, 'strangely': 17619, 'badlands': 17620, 'imageprovoking': 17621, 'deadwood': 17622, 'rushmore': 17623, 'glance': 17624, 'twains': 17625, 'hannibal': 17626, 'landmarks': 17627, 'writings': 17628, 'visualize': 17629, 'huck': 17630, 'finn': 17631, 'hatched': 17632, 'boyish': 17633, 'mischief': 17634, 'vacationland': 17635, 'itasca': 17636, 'mementoes': 17637, 'wyatt': 17638, 'earp': 17639, 'presentday': 17640, 'cowboys': 17641, 'abilene': 17642, 'expresident': 17643, 'cattle': 17644, 'boomtown': 17645, 'mackinack': 17646, 'relives': 17647, 'carriages': 17648, 'autos': 17649, 'forts': 17650, 'travelogue': 17651, 'fillin': 17652, 'memo': 17653, 'sightseers': 17654, 'dioramas': 17655, 'sometimesnecessary': 17656, 'exposures': 17657, 'worldrenowned': 17658, 'elgin': 17659, 'tulip': 17660, 'holland': 17661, 'usga': 17662, 'vacationers': 17663, 'funfilled': 17664, 'derby': 17665, 'synonymous': 17666, 'twoweek': 17667, 'yosemite': 17668, 'zion': 17669, 'bryce': 17670, 'canyon': 17671, 'fanciful': 17672, 'formations': 17673, 'loom': 17674, 'semiarid': 17675, 'colorados': 17676, 'landmark': 17677, 'highpoint': 17678, 'istanbul': 17679, 'haphazard': 17680, 'blocks': 17681, 'disappearing': 17682, 'boulevards': 17683, 'graceful': 17684, 'spires': 17685, 'mosques': 17686, 'panorama': 17687, 'bosphorus': 17688, 'rubbed': 17689, 'bc': 17690, 'byzantium': 17691, 'byzas': 17692, 'ruler': 17693, 'megarians': 17694, 'constantinople': 17695, 'constantine': 17696, 'vestige': 17697, 'turks': 17698, 'patriarch': 17699, 'pope': 17700, 'orthodox': 17701, 'ottoman': 17702, 'moslem': 17703, 'marmara': 17704, 'airways': 17705, 'cumhuriyet': 17706, 'cadesi': 17707, 'taksim': 17708, 'hubs': 17709, 'dolmabahce': 17710, 'liners': 17711, 'galata': 17712, 'empties': 17713, 'sophia': 17714, 'minarets': 17715, 'slenderer': 17716, 'mosque': 17717, 'eminonu': 17718, 'yeni': 17719, 'cami': 17720, 'seventeenth': 17721, 'bazaar': 17722, 'pandellis': 17723, 'pagan': 17724, 'temples': 17725, 'sophias': 17726, 'justinian': 17727, 'grander': 17728, 'solomons': 17729, 'jerusalem': 17730, 'conquered': 17731, 'stubby': 17732, 'sinan': 17733, 'michelangelo': 17734, 'buttresses': 17735, 'mosaics': 17736, 'plastered': 17737, 'moslems': 17738, 'arabic': 17739, 'artemis': 17740, 'ephesus': 17741, 'heliopolis': 17742, 'minber': 17743, 'pulpit': 17744, 'sultans': 17745, 'hippodrome': 17746, 'chariot': 17747, 'waves': 17748, 'crusaders': 17749, 'kaisers': 17750, 'octagonal': 17751, 'sultan': 17752, 'ahmet': 17753, 'obelisk': 17754, 'theodosius': 17755, 'thutmose': 17756, 'lateran': 17757, 'realistically': 17758, 'serpentine': 17759, 'entwined': 17760, 'serpents': 17761, 'delphi': 17762, 'rivalled': 17763, 'retracing': 17764, 'courtyard': 17765, 'cascade': 17766, 'rectangular': 17767, 'muezzin': 17768, 'chant': 17769, 'prayer': 17770, 'carpets': 17771, 'burnt': 17772, 'bayezit': 17773, 'gazinosu': 17774, 'overlooking': 17775, 'arcade': 17776, 'baklava': 17777, 'flaky': 17778, 'redtile': 17779, 'sunken': 17780, 'cistern': 17781, 'rows': 17782, 'pillars': 17783, 'depressing': 17784, 'pagoda': 17785, 'lettering': 17786, 'topkapi': 17787, 'executioners': 17788, 'sword': 17789, 'beheading': 17790, 'towers': 17791, 'prisons': 17792, 'arrowed': 17793, 'veered': 17794, 'chimneys': 17795, 'porcelain': 17796, 'utensils': 17797, 'floorlength': 17798, 'portico': 17799, 'illuminated': 17800, 'manuscripts': 17801, 'cups': 17802, 'diamonds': 17803, 'jewelled': 17804, 'swords': 17805, 'divanlike': 17806, 'thrones': 17807, 'crosslegged': 17808, 'emeralds': 17809, 'pearls': 17810, 'divans': 17811, 'ceiling': 17812, 'squares': 17813, 'floral': 17814, 'coals': 17815, 'grease': 17816, 'basting': 17817, 'sauces': 17818, 'detergent': 17819, 'rinse': 17820, 'barbecued': 17821, 'spit': 17822, 'vegetables': 17823, 'shorten': 17824, 'aluminum': 17825, 'sear': 17826, 'juiciest': 17827, 'puncturing': 17828, 'meats': 17829, 'halves': 17830, 'allot': 17831, 'roasts': 17832, 'thermometer': 17833, 'diagonally': 17834, 'testrun': 17835, 'nonfreezing': 17836, 'refrigerator': 17837, 'drink': 17838, 'desserts': 17839, 'marinade': 17840, 'inexpensive': 17841, 'hibachi': 17842, 'tongs': 17843, 'forks': 17844, 'drips': 17845, 'flares': 17846, 'melamine': 17847, 'bowls': 17848, 'saucers': 17849, 'platters': 17850, 'toughest': 17851, 'unbreakable': 17852, 'dinnerware': 17853, 'patterns': 17854, 'tablecloths': 17855, 'walltex': 17856, 'oilcloth': 17857, 'barbecues': 17858, 'wears': 17859, 'beercooling': 17860, 'refreshments': 17861, 'coolers': 17862, 'hamburgers': 17863, 'frozen': 17864, 'stews': 17865, 'chowders': 17866, 'shish': 17867, 'kebob': 17868, 'lobster': 17869, 'mopping': 17870, 'bernzomatic': 17871, 'allpurpose': 17872, 'mugs': 17873, 'earthenware': 17874, 'chilled': 17875, 'drinks': 17876, 'dressing': 17877, 'joys': 17878, 'feeding': 17879, 'bureaus': 17880, 'buns': 17881, 'relishes': 17882, 'skillet': 17883, 'basket': 17884, 'knives': 17885, 'homeforthenight': 17886, 'franks': 17887, 'sausages': 17888, 'basics': 17889, 'cervelat': 17890, 'salami': 17891, 'mettwurst': 17892, 'bratwurst': 17893, 'bockwurst': 17894, 'knackwurst': 17895, 'bologna': 17896, 'pepperoni': 17897, 'blutwurst': 17898, 'threaded': 17899, 'skewer': 17900, 'mushroom': 17901, 'spiced': 17902, 'feast': 17903, 'frankfurter': 17904, 'feuchtwanger': 17905, 'grilled': 17906, 'gloves': 17907, 'sausagemeat': 17908, 'sized': 17909, 'franksinbuns': 17910, 'skinless': 17911, 'toasted': 17912, 'bonfire': 17913, 'sedately': 17914, 'charcoal': 17915, 'broiled': 17916, 'preparation': 17917, 'juices': 17918, 'permeate': 17919, 'pickle': 17920, 'extras': 17921, 'tangy': 17922, 'chive': 17923, 'cheese': 17924, 'horseradish': 17925, 'marinating': 17926, 'broil': 17927, 'mode': 17928, 'styled': 17929, 'fix': 17930, 'popping': 17931, 'jiffy': 17932, 'chili': 17933, 'tablespoon': 17934, 'teaspoons': 17935, 'ingredients': 17936, 'sayonara': 17937, 'toasting': 17938, 'burners': 17939, 'dipping': 17940, 'tasty': 17941, 'frankfurters': 17942, 'sweetsour': 17943, 'chopped': 17944, 'pineapple': 17945, 'chunks': 17946, 'paprika': 17947, 'spear': 17948, 'broiler': 17949, 'tidbits': 17950, 'paste': 17951, 'fold': 17952, 'backyard': 17953, 'toppings': 17954, 'carne': 17955, 'coney': 17956, 'sauerkraut': 17957, 'kraut': 17958, 'chop': 17959, 'onions': 17960, 'moisten': 17961, 'caraway': 17962, 'ketchup': 17963, 'teaspoon': 17964, 'prick': 17965, 'servings': 17966, 'pretend': 17967, 'crisscross': 17968, 'gashes': 17969, 'drained': 17970, 'rectangle': 17971, 'biscuit': 17972, 'knead': 17973, 'floured': 17974, 'afinch': 17975, 'strips': 17976, 'pinching': 17977, 'seal': 17978, 'patties': 17979, 'grated': 17980, 'pottery': 17981, 'glazing': 17982, 'molds': 17983, 'presses': 17984, 'modeling': 17985, 'stoneware': 17986, 'glazes': 17987, 'onestroke': 17988, 'stains': 17989, 'cones': 17990, 'wellwedged': 17991, 'bubbles': 17992, 'pliable': 17993, 'cracking': 17994, 'wax': 17995, 'mold': 17996, 'cavity': 17997, 'knife': 17998, 'moistening': 17999, 'antique': 18000, 'dampness': 18001, 'cupped': 18002, 'tapping': 18003, 'agitation': 18004, 'plaster': 18005, 'bending': 18006, 'warping': 18007, 'corrections': 18008, 'sticks': 18009, 'pressed': 18010, 'damp': 18011, 'woodgrained': 18012, 'paintbrush': 18013, 'grooves': 18014, 'pinholes': 18015, 'craters': 18016, 'roughened': 18017, 'gripping': 18018, 'bisque': 18019, 'glazed': 18020, 'coats': 18021, 'creekturn': 18022, 'decorated': 18023, 'unfired': 18024, 'yellowgreen': 18025, 'bluegreen': 18026, 'plaque': 18027, 'stained': 18028, 'jacquelyns': 18029, 'stain': 18030, 'opaque': 18031, 'cantaloupe': 18032, 'transparent': 18033, 'undercut': 18034, 'spaced': 18035, 'pencil': 18036, 'eraser': 18037, 'paperweight': 18038, 'personalized': 18039, 'jars': 18040, 'lids': 18041, 'jar': 18042, 'measurements': 18043, 'circumference': 18044, 'circular': 18045, 'bevel': 18046, 'overlap': 18047, 'overlapped': 18048, 'reinforcing': 18049, 'coil': 18050, 'assembling': 18051, 'vent': 18052, 'toner': 18053, 'ware': 18054, 'sponge': 18055, 'matt': 18056, 'sponged': 18057, 'turquoise': 18058, 'rim': 18059, 'beveled': 18060, 'miter': 18061, 'designside': 18062, 'shaker': 18063, 'construct': 18064, 'coils': 18065, 'reinforce': 18066, 'upside': 18067, 'recess': 18068, 'stopper': 18069, 'cork': 18070, 'creamer': 18071, 'overlapping': 18072, 'splice': 18073, 'seam': 18074, 'dowel': 18075, 'container': 18076, 'spout': 18077, 'dampen': 18078, 'outward': 18079, 'omitting': 18080, 'spoon': 18081, 'shakers': 18082, 'vases': 18083, 'candles': 18084, 'napkin': 18085, 'holder': 18086, 'leatherhard': 18087, 'cardboard': 18088, 'breakage': 18089, 'greenware': 18090, 'bottle': 18091, 'strand': 18092, 'underneath': 18093, 'purled': 18094, 'armhole': 18095, 'stitches': 18096, 'markers': 18097, 'sl': 18098, 'marker': 18099, 'needle': 18100, 'backstitching': 18101, 'sew': 18102, 'backstitch': 18103, 'sewn': 18104, 'curved': 18105, 'slanted': 18106, 'underarm': 18107, 'weaving': 18108, 'sock': 18109, 'woven': 18110, 'invisibly': 18111, 'hotei': 18112, 'menfolk': 18113, 'helmsman': 18114, 'amuse': 18115, 'headroom': 18116, 'galley': 18117, 'toilet': 18118, 'roomy': 18119, 'merc': 18120, 'hp': 18121, 'threefoot': 18122, 'runabout': 18123, 'cruiser': 18124, 'fivefoot': 18125, 'skiis': 18126, 'bin': 18127, 'bumpers': 18128, 'sixgallon': 18129, 'longcruise': 18130, 'needless': 18131, 'fiberglas': 18132, 'gator': 18133, 'mooring': 18134, 'hauling': 18135, 'oneinch': 18136, 'mahogany': 18137, 'battens': 18138, 'flathead': 18139, 'silicon': 18140, 'stronghold': 18141, 'nails': 18142, 'nail': 18143, 'bridgewater': 18144, 'extensively': 18145, 'weldwood': 18146, 'resorcinol': 18147, 'glue': 18148, 'thorough': 18149, 'transom': 18150, 'differentcolor': 18151, 'lapped': 18152, 'glued': 18153, 'notching': 18154, 'keelson': 18155, 'chines': 18156, 'halfinch': 18157, 'secured': 18158, 'butted': 18159, 'gussets': 18160, 'notched': 18161, 'bilge': 18162, 'planking': 18163, 'jig': 18164, 'misalignment': 18165, 'progressively': 18166, 'threeinchwide': 18167, 'screwed': 18168, 'resinsaturated': 18169, 'laminated': 18170, 'stem': 18171, 'spliced': 18172, 'threeinch': 18173, 'butt': 18174, 'brace': 18175, 'clamps': 18176, 'narrower': 18177, 'fairing': 18178, 'beveling': 18179, 'twoinch': 18180, 'planer': 18181, 'clamped': 18182, 'bevels': 18183, 'fiveply': 18184, 'inchthick': 18185, 'waste': 18186, 'plank': 18187, 'batten': 18188, 'fastening': 18189, 'homemaster': 18190, 'routojig': 18191, 'bitlike': 18192, 'chatter': 18193, 'saber': 18194, 'trimming': 18195, 'predrilled': 18196, 'fastenings': 18197, 'roughsanded': 18198, 'keel': 18199, 'pigment': 18200, 'mixing': 18201, 'hardener': 18202, 'spreading': 18203, 'paint': 18204, 'harden': 18205, 'sander': 18206, 'feather': 18207, 'centerline': 18208, 'beaching': 18209, 'linden': 18210, 'wellbraced': 18211, 'layers': 18212, 'installing': 18213, 'fasten': 18214, 'flaring': 18215, 'planed': 18216, 'decking': 18217, 'quarterinch': 18218, 'flooring': 18219, 'exterior': 18220, 'firzite': 18221, 'bottoms': 18222, 'floorboards': 18223, 'bulkheads': 18224, 'shatterproof': 18225, 'plexiglas': 18226, 'removable': 18227, 'bunk': 18228, 'hinged': 18229, 'drains': 18230, 'fivegallon': 18231, 'bulkhead': 18232, 'padding': 18233, 'ensolite': 18234, 'nonabsorbent': 18235, 'dimensionally': 18236, 'bonded': 18237, 'cement': 18238, 'egils': 18239, 'hermanovski': 18240, 'panelized': 18241, 'utilizes': 18242, 'recognition': 18243, 'cottages': 18244, 'handyman': 18245, 'utilizing': 18246, 'modular': 18247, 'panelization': 18248, 'scaled': 18249, 'timbers': 18250, 'ingenious': 18251, 'trucked': 18252, 'precut': 18253, 'enclosed': 18254, 'leisure': 18255, 'specify': 18256, 'plumbing': 18257, 'sewers': 18258, 'unfounded': 18259, 'inspector': 18260, 'accessibility': 18261, 'drainage': 18262, 'washouts': 18263, 'swampy': 18264, 'intermittent': 18265, 'informative': 18266, 'prevailing': 18267, 'terrain': 18268, 'foundations': 18269, 'aja': 18270, 'expandable': 18271, 'ajb': 18272, 'carport': 18273, 'partitions': 18274, 'fixtures': 18275, 'wiring': 18276, 'framework': 18277, 'mesh': 18278, 'coated': 18279, 'particle': 18280, 'asbestoscement': 18281, 'obtainable': 18282, 'weatherproof': 18283, 'louvers': 18284, 'doublestrength': 18285, 'mastic': 18286, 'compound': 18287, 'filler': 18288, 'gable': 18289, 'wastage': 18290, 'rustproof': 18291, 'thicknesses': 18292, 'ripping': 18293, 'milling': 18294, 'rabbeting': 18295, 'woodworking': 18296, 'multitude': 18297, 'attachments': 18298, 'spindle': 18299, 'quill': 18300, 'movable': 18301, 'tilted': 18302, 'shank': 18303, 'radial': 18304, 'tilting': 18305, 'horizontal': 18306, 'swivels': 18307, 'leveled': 18308, 'securely': 18309, 'rubdown': 18310, 'oiled': 18311, 'rusting': 18312, 'sealed': 18313, 'lubrication': 18314, 'dusting': 18315, 'manipulation': 18316, 'bolts': 18317, 'pulleys': 18318, 'pliers': 18319, 'unwinding': 18320, 'loosening': 18321, 'clockwise': 18322, 'counterclockwise': 18323, 'foresight': 18324, 'attach': 18325, 'adjusting': 18326, 'stepcone': 18327, 'booklet': 18328, 'jammed': 18329, 'overheating': 18330, 'interchangeable': 18331, 'drills': 18332, 'smoothly': 18333, 'outlining': 18334, 'spurs': 18335, 'sever': 18336, 'fibers': 18337, 'adjustable': 18338, 'cutter': 18339, 'exactsize': 18340, 'reversing': 18341, 'cutters': 18342, 'sided': 18343, 'slowest': 18344, 'nicked': 18345, 'workpiece': 18346, 'scrap': 18347, 'dimensional': 18348, 'hardness': 18349, 'clamping': 18350, 'predetermined': 18351, 'merrimac': 18352, 'sequence': 18353, 'newbury': 18354, 'newburyport': 18355, 'salisbury': 18356, 'petitioned': 18357, 'incorporation': 18358, 'merrimack': 18359, 'honble': 18360, 'jonathan': 18361, 'greenleaf': 18362, 'esquire': 18363, 'newbery': 18364, 'affording': 18365, 'conveyance': 18366, 'travellers': 18367, 'subscribed': 18368, 'commonwealth': 18369, 'praying': 18370, 'incorporating': 18371, 'politic': 18372, 'malden': 18373, 'severally': 18374, 'subscribing': 18375, 'reconsidered': 18376, 'timothy': 18377, 'patented': 18378, 'arch': 18379, 'supervised': 18380, 'coombs': 18381, 'recompense': 18382, 'twopart': 18383, 'yale': 18384, 'travels': 18385, 'newengland': 18386, 'newyork': 18387, 'divisions': 18388, 'sixty': 18389, 'vortex': 18390, 'forty': 18391, 'highwater': 18392, 'pascataqua': 18393, 'breadth': 18394, 'thirtyfour': 18395, 'housebuilding': 18396, 'invention': 18397, 'remind': 18398, 'boxford': 18399, 'apprenticed': 18400, 'spofford': 18401, 'portsmouth': 18402, 'haverhill': 18403, 'roofed': 18404, 'engraving': 18405, 'herewith': 18406, 'abutments': 18407, 'piers': 18408, 'tavern': 18409, 'eccentric': 18410, 'oration': 18411, 'propriety': 18412, 'ciceronian': 18413, 'tongue': 18414, 'cheek': 18415, 'dexters': 18416, 'succumbed': 18417, 'underbracing': 18418, 'suspension': 18419, 'templeman': 18420, 'finley': 18421, 'fayette': 18422, 'advertisement': 18423, 'hereby': 18424, 'patentees': 18425, 'relates': 18426, 'relating': 18427, 'superintend': 18428, 'wagon': 18429, 'oxen': 18430, 'drowned': 18431, 'rebuilt': 18432, 'thirtyfoot': 18433, 'roadway': 18434, 'tygartis': 18435, 'philippi': 18436, 'observance': 18437, 'lander': 18438, 'impersonated': 18439, 'breakneck': 18440, 'declivity': 18441, 'talbotts': 18442, 'kelleys': 18443, 'infantry': 18444, 'swarming': 18445, 'retreating': 18446, 'confederates': 18447, 'floods': 18448, 'armies': 18449, 'fairmont': 18450, 'relic': 18451, 'buggy': 18452, 'parcel': 18453, 'publications': 18454, 'vies': 18455, 'harpers': 18456, 'lemuel': 18457, 'chenoweth': 18458, 'eli': 18459, 'parkersburg': 18460, 'staunton': 18461, 'strengtened': 18462, 'walkway': 18463, 'railhead': 18464, 'grafton': 18465, 'inclement': 18466, 'momentoes': 18467, 'carving': 18468, 'tokens': 18469, 'beams': 18470, 'jonesimboden': 18471, 'raid': 18472, 'burnings': 18473, 'piling': 18474, 'combustibles': 18475, 'reverend': 18476, 'joshual': 18477, 'corder': 18478, 'sympathies': 18479, 'reasoned': 18480, 'confederate': 18481, 'torch': 18482, 'buckhannon': 18483, 'imboden': 18484, 'lanes': 18485, 'dissuade': 18486, 'centering': 18487, 'publicspirited': 18488, 'barbour': 18489, 'rigorous': 18490, 'unrewarding': 18491, 'hydrochemistry': 18492, 'pumppriming': 18493, 'grounding': 18494, 'mailedfistinvelvetglove': 18495, 'finefeathered': 18496, 'lessened': 18497, 'diluting': 18498, 'cling': 18499, 'prompts': 18500, 'solutions': 18501, 'andor': 18502, 'viewpoints': 18503, 'dreaming': 18504, 'shimmering': 18505, 'squashed': 18506, 'tubes': 18507, 'suntan': 18508, 'semiinflated': 18509, 'privacy': 18510, 'annoying': 18511, 'letsmakeyourhouseourclub': 18512, 'outofsight': 18513, 'outofmind': 18514, 'trek': 18515, 'sylvan': 18516, 'wellbeing': 18517, 'grassy': 18518, 'mowed': 18519, 'colder': 18520, 'climes': 18521, 'unglamorous': 18522, 'floe': 18523, 'plasticcovered': 18524, 'behold': 18525, 'junk': 18526, 'flora': 18527, 'fauna': 18528, 'wintering': 18529, 'dictated': 18530, 'restful': 18531, 'greensward': 18532, 'pavement': 18533, 'pertaining': 18534, 'transoceanic': 18535, 'mudsweatandtears': 18536, 'solaced': 18537, 'dips': 18538, 'homecomings': 18539, 'delectation': 18540, 'poolside': 18541, 'gatherings': 18542, 'fantasies': 18543, 'backyards': 18544, 'quadrupled': 18545, 'sharks': 18546, 'poolowners': 18547, 'perpetual': 18548, 'handymen': 18549, 'trunks': 18550, 'impulsive': 18551, 'unsettling': 18552, 'etiquette': 18553, 'obeyed': 18554, 'ratings': 18555, 'subnormal': 18556, 'collusion': 18557, 'foremost': 18558, 'lashes': 18559, 'coerce': 18560, 'telephoning': 18561, 'beforehand': 18562, 'ringers': 18563, 'invitees': 18564, 'potlatches': 18565, 'splashing': 18566, 'chaperoned': 18567, 'gaggle': 18568, 'gabbling': 18569, 'safeguard': 18570, 'lingo': 18571, 'protesting': 18572, 'dunk': 18573, 'sanity': 18574, 'solvency': 18575, 'merchant': 18576, 'inadvertently': 18577, 'freedrink': 18578, 'brutal': 18579, 'swimmers': 18580, 'enjoying': 18581, 'alfresco': 18582, 'famille': 18583, 'usher': 18584, 'strategically': 18585, 'undressing': 18586, 'dripping': 18587, 'bathing': 18588, 'conveniences': 18589, 'lifepreservers': 18590, 'buckleon': 18591, 'kapokfilled': 18592, 'localities': 18593, 'fenced': 18594, 'unfenced': 18595, 'horseplay': 18596, 'inexpert': 18597, 'nonskid': 18598, 'coco': 18599, 'matting': 18600, 'awful': 18601, 'chlorine': 18602, 'rots': 18603, 'gritimpregnated': 18604, 'paints': 18605, 'divers': 18606, 'enjoined': 18607, 'leap': 18608, 'shallow': 18609, 'littlest': 18610, 'bottles': 18611, 'drinking': 18612, 'glasses': 18613, 'plunges': 18614, 'lawsuits': 18615, 'soignee': 18616, 'pristine': 18617, 'ph': 18618, 'vacuuming': 18619, 'bimonthly': 18620, 'housekeeping': 18621, 'hydraulics': 18622, 'slippery': 18623, 'algaecide': 18624, 'dirtcatcher': 18625, 'filter': 18626, 'shut': 18627, 'pins': 18628, 'rust': 18629, 'scrubbing': 18630, 'furbishing': 18631, 'grate': 18632, 'emptied': 18633, 'debris': 18634, 'torrent': 18635, 'pumping': 18636, 'scooping': 18637, 'dramatizes': 18638, 'insect': 18639, 'floodlight': 18640, 'pipes': 18641, 'brushes': 18642, 'poolcare': 18643, 'latitude': 18644, 'conditioning': 18645, 'fha': 18646, 'inclusion': 18647, 'packaged': 18648, 'prefabricated': 18649, 'glassfiber': 18650, 'ducts': 18651, 'addon': 18652, 'squarefoot': 18653, 'installation': 18654, 'concurs': 18655, 'offset': 18656, 'overcooled': 18657, 'thermal': 18658, 'differential': 18659, 'harmed': 18660, 'colds': 18661, 'filtered': 18662, 'allergies': 18663, 'asthma': 18664, 'sinus': 18665, 'humidity': 18666, 'godsend': 18667, 'oppressive': 18668, 'vacuum': 18669, 'loads': 18670, 'reupholstering': 18671, 'redecorating': 18672, 'repainting': 18673, 'mildew': 18674, 'fatigued': 18675, 'daytime': 18676, 'naps': 18677, 'shadedarkened': 18678, 'awake': 18679, 'refreshed': 18680, 'screens': 18681, 'longlived': 18682, 'conditioner': 18683, 'economical': 18684, 'wholehouse': 18685, 'oriented': 18686, 'scratch': 18687, 'ductwork': 18688, 'filters': 18689, 'furnace': 18690, 'blower': 18691, 'conditioners': 18692, 'counterflow': 18693, 'basement': 18694, 'attic': 18695, 'crawlspace': 18696, 'closet': 18697, 'furnaces': 18698, 'garage': 18699, 'insulation': 18700, 'inaccessible': 18701, 'mildwinter': 18702, 'perimeter': 18703, 'diffusers': 18704, 'circulated': 18705, 'radiators': 18706, 'coolingheating': 18707, 'thermostat': 18708, 'knotty': 18709, 'selfcontained': 18710, 'oversize': 18711, 'prefab': 18712, 'dehumidified': 18713, 'rambling': 18714, 'releasing': 18715, 'reverses': 18716, 'extracted': 18717, 'warming': 18718, 'mild': 18719, 'winters': 18720, 'negligible': 18721, 'emergencies': 18722, 'quits': 18723, 'blizzard': 18724, 'makeup': 18725, 'thrower': 18726, 'btu': 18727, 'thumb': 18728, 'btus': 18729, 'inaccurate': 18730, 'compressor': 18731, 'safest': 18732, 'undersized': 18733, 'moneysaving': 18734, 'pare': 18735, 'welldesigned': 18736, 'comfortably': 18737, 'penetrate': 18738, 'overhangs': 18739, 'trellises': 18740, 'awnings': 18741, 'blinds': 18742, 'draperies': 18743, 'obliquely': 18744, 'heatabsorbing': 18745, 'insulated': 18746, 'condensation': 18747, 'heater': 18748, 'insulate': 18749, 'weatherstrip': 18750, 'doubleglaze': 18751, 'extrathick': 18752, 'lightcolored': 18753, 'droves': 18754, 'bathroom': 18755, 'ventilator': 18756, 'drier': 18757, 'pretending': 18758, 'preplanning': 18759, 'topographic': 18760, 'orienting': 18761, 'geological': 18762, 'ownerships': 18763, 'etcetera': 18764, 'helpful': 18765, 'investigator': 18766, 'slum': 18767, 'desolate': 18768, 'potentials': 18769, 'dunes': 18770, 'frontage': 18771, 'vastly': 18772, 'polluted': 18773, 'overlooks': 18774, 'surf': 18775, 'shrubs': 18776, 'cools': 18777, 'nourishes': 18778, 'afforded': 18779, 'stagnant': 18780, 'watershed': 18781, 'unrestricted': 18782, 'flooding': 18783, 'canyons': 18784, 'waterfalls': 18785, 'stocking': 18786, 'flyways': 18787, 'migratory': 18788, 'clams': 18789, 'coastal': 18790, 'shapes': 18791, 'crust': 18792, 'shipwreck': 18793, 'agates': 18794, 'semiprecious': 18795, 'archeological': 18796, 'caves': 18797, 'artifacts': 18798, 'encroachment': 18799, 'preference': 18800, 'fishermans': 18801, 'topography': 18802, 'elevation': 18803, 'slopes': 18804, 'outcrops': 18805, 'topsoil': 18806, 'subsoil': 18807, 'ballfields': 18808, 'grading': 18809, 'irrigation': 18810, 'checking': 18811, 'stumps': 18812, 'cleanup': 18813, 'landscaping': 18814, 'sheltered': 18815, 'useable': 18816, 'serge': 18817, 'sovietskaya': 18818, 'muzyka': 18819, 'sober': 18820, 'personifies': 18821, 'republics': 18822, 'mercurial': 18823, 'pranks': 18824, 'bonheur': 18825, 'socialeconomic': 18826, 'monde': 18827, 'postworld': 18828, 'prokofieffs': 18829, 'composerpianistconductor': 18830, 'welltrained': 18831, 'traditionalists': 18832, 'modernism': 18833, 'neoclassicists': 18834, 'prewar': 18835, 'tongueincheek': 18836, 'thcentury': 18837, 'ascending': 18838, 'koussevitzky': 18839, 'skeptical': 18840, 'skeptics': 18841, 'bloch': 18842, 'foyer': 18843, 'highpitched': 18844, 'mais': 18845, 'mon': 18846, 'dieu': 18847, 'lifelong': 18848, 'unreservedly': 18849, 'broadcastings': 18850, 'oranges': 18851, 'opulent': 18852, 'postwar': 18853, 'extravaganzas': 18854, 'premieres': 18855, 'symphonies': 18856, 'gavottes': 18857, 'aristocracy': 18858, 'migrated': 18859, 'diaghileff': 18860, 'laissezfaire': 18861, 'dadaism': 18862, 'ultramodern': 18863, 'sympathique': 18864, 'bosom': 18865, 'enthusiasms': 18866, 'motherland': 18867, 'salons': 18868, 'mistress': 18869, 'gaiety': 18870, 'abandon': 18871, 'newfound': 18872, 'freedoms': 18873, 'coagulating': 18874, 'crystallizing': 18875, 'conscription': 18876, 'exploded': 18877, 'fascism': 18878, 'outraged': 18879, 'freedomloving': 18880, 'fascist': 18881, 'cringing': 18882, 'submission': 18883, 'holocaust': 18884, 'beset': 18885, 'treaties': 18886, 'ageold': 18887, 'hunger': 18888, 'roving': 18889, 'disciplines': 18890, 'truculent': 18891, 'workman': 18892, 'epoch': 18893, 'fluent': 18894, 'environment': 18895, 'destiny': 18896, 'striven': 18897, 'straightforward': 18898, 'compose': 18899, 'defection': 18900, 'experimentation': 18901, 'traditionalism': 18902, 'credo': 18903, 'torrents': 18904, 'tenderness': 18905, 'affirm': 18906, 'profile': 18907, 'craftsmans': 18908, 'forsakes': 18909, 'instrumentation': 18910, 'slavic': 18911, 'adroit': 18912, 'counterpoint': 18913, 'polytonal': 18914, 'harmonic': 18915, 'modulations': 18916, 'orchestrations': 18917, 'adroitness': 18918, 'evading': 18919, 'heaviness': 18920, 'florid': 18921, 'dramas': 18922, 'cinema': 18923, 'novelty': 18924, 'symptom': 18925, 'instability': 18926, 'experimentalism': 18927, 'traditionalist': 18928, 'dialectics': 18929, 'experimentations': 18930, 'fellowcountryman': 18931, 'fecundity': 18932, 'fruitfulness': 18933, 'forged': 18934, 'cultures': 18935, 'refashion': 18936, 'disparate': 18937, 'compass': 18938, 'swayed': 18939, 'miscalculations': 18940, 'blunder': 18941, 'presuming': 18942, 'transform': 18943, 'inspirations': 18944, 'homogeneity': 18945, 'nationalistic': 18946, 'petruchka': 18947, 'sacre': 18948, 'printemps': 18949, 'les': 18950, 'noces': 18951, 'recapture': 18952, 'predisposed': 18953, 'stravinskys': 18954, 'admirers': 18955, 'terra': 18956, 'firma': 18957, 'postulates': 18958, 'supraexpressionism': 18959, 'neopaganism': 18960, 'neoromanticism': 18961, 'neojazz': 18962, 'neoecclesiasticism': 18963, 'neopopularism': 18964, 'postserialism': 18965, 'patchwork': 18966, 'proclamations': 18967, 'renunciations': 18968, 'shabby': 18969, 'byproducts': 18970, 'protagonist': 18971, 'maladroit': 18972, 'reharmonization': 18973, 'anthem': 18974, 'starspangled': 18975, 'idiomatic': 18976, 'polka': 18977, 'eighty': 18978, 'flitting': 18979, 'nest': 18980, 'searching': 18981, 'unfolded': 18982, 'swiftly': 18983, 'stretched': 18984, 'circumspect': 18985, 'wove': 18986, 'fermentations': 18987, 'twentieth': 18988, 'proclaiming': 18989, 'practising': 18990, 'rigors': 18991, 'fortunes': 18992, 'kinship': 18993, 'watercolorists': 18994, 'cotman': 18995, 'realizes': 18996, 'effortless': 18997, 'distillation': 18998, 'extracting': 18999, 'engraver': 19000, 'expeditions': 19001, 'imparted': 19002, 'ducks': 19003, 'backdrop': 19004, 'exceptional': 19005, 'commends': 19006, 'discerning': 19007, 'engraved': 19008, 'nina': 19009, 'batavia': 19010, 'max': 19011, 'withdrew': 19012, 'independently': 19013, 'chauncey': 19014, 'ryder': 19015, 'watercolor': 19016, 'imitative': 19017, 'recognizable': 19018, 'washes': 19019, 'stylemark': 19020, 'flicks': 19021, 'rigger': 19022, 'lightest': 19023, 'darkest': 19024, 'hesitate': 19025, 'watercolors': 19026, 'suffer': 19027, 'composing': 19028, 'literal': 19029, 'finer': 19030, 'objects': 19031, 'clicking': 19032, 'imparts': 19033, 'spontaneity': 19034, 'crispness': 19035, 'execution': 19036, 'reorder': 19037, 'linear': 19038, 'freehand': 19039, 'thoughtfully': 19040, 'accenting': 19041, 'easel': 19042, 'umbrella': 19043, 'tilttop': 19044, 'unfixed': 19045, 'heavyweight': 19046, 'handmade': 19047, 'selecting': 19048, 'inspecting': 19049, 'flaws': 19050, 'nubbins': 19051, 'cleansing': 19052, 'tissue': 19053, 'mop': 19054, 'soften': 19055, 'absorbency': 19056, 'watercolorist': 19057, 'handblower': 19058, 'sable': 19059, 'bristle': 19060, 'sables': 19061, 'riggers': 19062, 'fitch': 19063, 'shaved': 19064, 'alizarin': 19065, 'sienna': 19066, 'umber': 19067, 'sepia': 19068, 'cerulean': 19069, 'ultramarine': 19070, 'winsor': 19071, 'hookers': 19072, 'cadmium': 19073, 'ochre': 19074, 'paynes': 19075, 'davys': 19076, 'decorativeness': 19077, 'connotation': 19078, 'elaboration': 19079, 'synthesis': 19080, 'inventory': 19081, 'foreground': 19082, 'silhouetted': 19083, 'foiled': 19084, 'progression': 19085, 'halfclosed': 19086, 'generalize': 19087, 'universalize': 19088, 'niche': 19089, 'vicarious': 19090, 'distilled': 19091, 'interpretor': 19092, 'gilbert': 19093, 'zodiacal': 19094, 'pisces': 19095, 'natal': 19096, 'medals': 19097, 'ranger': 19098, 'pennell': 19099, 'blair': 19100, 'chautauqua': 19101, 'rockport': 19102, 'academicianship': 19103, 'memberships': 19104, 'gymnasts': 19105, 'olympics': 19106, 'gymnastics': 19107, 'tumbling': 19108, 'somersault': 19109, 'stunts': 19110, 'headstands': 19111, 'handstands': 19112, 'cartwheels': 19113, 'backbends': 19114, 'flips': 19115, 'gyms': 19116, 'mats': 19117, 'volleyball': 19118, 'gymnast': 19119, 'persistence': 19120, 'gymnastic': 19121, 'europeans': 19122, 'newborn': 19123, 'infants': 19124, 'fitness': 19125, 'anxiety': 19126, 'clumsy': 19127, 'sustains': 19128, 'wellstretched': 19129, 'posture': 19130, 'wedded': 19131, 'bulging': 19132, 'demonstrators': 19133, 'headstand': 19134, 'abdominal': 19135, 'ballerinas': 19136, 'pushups': 19137, 'chinups': 19138, 'chin': 19139, 'dashes': 19140, 'chinning': 19141, 'chinup': 19142, 'climb': 19143, 'fours': 19144, 'falling': 19145, 'pushes': 19146, 'kickup': 19147, 'toe': 19148, 'backbend': 19149, 'acrobatics': 19150, 'supine': 19151, 'palms': 19152, 'handstand': 19153, 'walkover': 19154, 'straighten': 19155, 'lessening': 19156, 'confused': 19157, 'copying': 19158, 'pelvis': 19159, 'beginnings': 19160, 'tumbler': 19161, 'imperative': 19162, 'contributes': 19163, 'electronics': 19164, 'evenutally': 19165, 'concerning': 19166, 'betterment': 19167, 'staggering': 19168, 'possibilities': 19169, 'biomedicine': 19170, 'interrelation': 19171, 'xray': 19172, 'electrocardiograph': 19173, 'diathermy': 19174, 'ultrasonic': 19175, 'massage': 19176, 'contusions': 19177, 'bursitis': 19178, 'closedcircuit': 19179, 'audio': 19180, 'paging': 19181, 'counters': 19182, 'timers': 19183, 'biomedical': 19184, 'laboratories': 19185, 'originates': 19186, 'microscopy': 19187, 'bacteria': 19188, 'microorganisms': 19189, 'microscopic': 19190, 'disrupts': 19191, 'replaces': 19192, 'microscope': 19193, 'colortv': 19194, 'aterman': 19195, 'biophysicist': 19196, 'berkely': 19197, 'zworykin': 19198, 'avenues': 19199, 'xenon': 19200, 'magnified': 19201, 'orthicon': 19202, 'spectrum': 19203, 'quartz': 19204, 'amplified': 19205, 'synchronism': 19206, 'sequenced': 19207, 'onetwentieth': 19208, 'wavelength': 19209, 'leakage': 19210, 'commutatorlike': 19211, 'rotated': 19212, 'synchronous': 19213, 'cps': 19214, 'circuitry': 19215, 'fieldsequential': 19216, 'amplifiers': 19217, 'tricolor': 19218, 'illumination': 19219, 'pioneered': 19220, 'advancing': 19221, 'perfecting': 19222, 'electronically': 19223, 'lobar': 19224, 'respiratory': 19225, 'analyzer': 19226, 'affectionately': 19227, 'monster': 19228, 'carbon': 19229, 'dioxide': 19230, 'nitrogen': 19231, 'lung': 19232, 'inhalation': 19233, 'mouthpiece': 19234, 'treadmill': 19235, 'medically': 19236, 'hitherto': 19237, 'heartmeasuring': 19238, 'heartbeat': 19239, 'aorta': 19240, 'dimensioning': 19241, 'undisturbed': 19242, 'outlines': 19243, 'sonar': 19244, 'transducers': 19245, 'pulsed': 19246, 'meters': 19247, 'msec': 19248, 'traverse': 19249, 'radartype': 19250, 'generator': 19251, 'timedelay': 19252, 'bodytissue': 19253, 'evaluation': 19254, 'spleen': 19255, 'doppler': 19256, 'catheter': 19257, 'thermistor': 19258, 'utilize': 19259, 'transducer': 19260, 'ventricle': 19261, 'outputs': 19262, 'pulsetiming': 19263, 'analogue': 19264, 'computer': 19265, 'multichannel': 19266, 'radiotransmitter': 19267, 'swallowed': 19268, 'receivers': 19269, 'transistor': 19270, 'oscillator': 19271, 'cm': 19272, 'pill': 19273, 'farrar': 19274, 'resonant': 19275, 'capacitor': 19276, 'pressuresensing': 19277, 'antenna': 19278, 'excited': 19279, 'detected': 19280, 'receiver': 19281, 'transmitted': 19282, 'calibrated': 19283, 'gastrointestinal': 19284, 'gratifying': 19285, 'detection': 19286, 'exploration': 19287, 'submerged': 19288, 'pulsing': 19289, 'scanning': 19290, 'communicate': 19291, 'transmission': 19292, 'bones': 19293, 'cartilage': 19294, 'baum': 19295, 'diagnose': 19296, 'retina': 19297, 'blindness': 19298, 'glaucoma': 19299, 'ultrasonically': 19300, 'indicator': 19301, 'sonogram': 19302, 'anatomical': 19303, 'mc': 19304, 'specially': 19305, 'epoxy': 19306, 'lens': 19307, 'diameters': 19308, 'millimeter': 19309, 'integrates': 19310, 'scans': 19311, 'rotation': 19312, 'howry': 19313, 'submerging': 19314, 'tub': 19315, 'insights': 19316, 'reflects': 19317, 'veins': 19318, 'bloodfilled': 19319, 'oersteds': 19320, 'boyhood': 19321, 'attaining': 19322, 'rudkoebing': 19323, 'langeland': 19324, 'southcentral': 19325, 'denmark': 19326, 'soeren': 19327, 'apothecary': 19328, 'educate': 19329, 'anders': 19330, 'wigmaker': 19331, 'oldenburg': 19332, 'curriculum': 19333, 'oldenburgs': 19334, 'exhausted': 19335, 'pastor': 19336, 'surveyor': 19337, 'borrow': 19338, 'stimulate': 19339, 'copenhagen': 19340, 'matriculate': 19341, 'lodging': 19342, 'dormitory': 19343, 'supplemented': 19344, 'economizing': 19345, 'revel': 19346, 'irreparable': 19347, 'onwarddriving': 19348, 'banished': 19349, 'proclaimed': 19350, 'lecturing': 19351, 'essay': 19352, 'pharmacy': 19353, 'alkalis': 19354, 'ferment': 19355, 'divisive': 19356, 'nationalisms': 19357, 'oersted': 19358, 'voltas': 19359, 'voltaic': 19360, 'wanderjahr': 19361, 'philosophers': 19362, 'schelling': 19363, 'fichte': 19364, 'tieck': 19365, 'woburn': 19366, 'elector': 19367, 'bavaria': 19368, 'physicist': 19369, 'ritter': 19370, 'gottingen': 19371, 'galvanism': 19372, 'jena': 19373, 'stormed': 19374, 'fertile': 19375, 'disorganized': 19376, 'remodeled': 19377, 'ritters': 19378, 'institut': 19379, 'francs': 19380, 'discoveries': 19381, 'quixotic': 19382, 'prophecy': 19383, 'celestial': 19384, 'ecliptic': 19385, 'corresponded': 19386, 'leiden': 19387, 'kleist': 19388, 'electrophorus': 19389, 'wilcke': 19390, 'condenser': 19391, 'volta': 19392, 'reckon': 19393, 'experimenting': 19394, 'professorship': 19395, 'ordinarius': 19396, 'prof': 19397, 'manthey': 19398, 'lion': 19399, 'davy': 19400, 'salts': 19401, 'pursue': 19402, 'pharmaceutical': 19403, 'faculties': 19404, 'galvanizing': 19405, 'thoroughness': 19406, 'philosophical': 19407, 'recherches': 19408, 'sur': 19409, 'lidentite': 19410, 'chimiques': 19411, 'electriques': 19412, 'esteem': 19413, 'chemists': 19414, 'magnetism': 19415, 'repulsions': 19416, 'similarity': 19417, 'slightest': 19418, 'galvanic': 19419, 'latent': 19420, 'analogies': 19421, 'proves': 19422, 'bruckmann': 19423, 'coulomb': 19424, 'magnet': 19425, 'intent': 19426, 'dogma': 19427, 'detonating': 19428, 'fuse': 19429, 'undertook': 19430, 'bornholm': 19431, 'lauritz': 19432, 'esmarch': 19433, 'vapor': 19434, 'trough': 19435, 'currents': 19436, 'electromagnetism': 19437, 'electrostatic': 19438, 'magnetized': 19439, 'polarity': 19440, 'beccaria': 19441, 'marum': 19442, 'leyden': 19443, 'transversally': 19444, 'watchspring': 19445, 'romagnosi': 19446, 'causeandeffect': 19447, 'unimpressive': 19448, 'additives': 19449, 'dairy': 19450, 'sanctioned': 19451, 'drug': 19452, 'drugs': 19453, 'veterinary': 19454, 'assumes': 19455, 'processors': 19456, 'parentheses': 19457, 'regulatory': 19458, 'additive': 19459, 'ruminants': 19460, 'oxytetracycline': 19461, 'hydrochloride': 19462, 'terramycin': 19463, 'bacterial': 19464, 'diarrhea': 19465, 'incidence': 19466, 'bloat': 19467, 'abscesses': 19468, 'antiinfective': 19469, 'grams': 19470, 'scours': 19471, 'severity': 19472, 'shipment': 19473, 'onset': 19474, 'disappear': 19475, 'chlortetracycline': 19476, 'aureomycin': 19477, 'reduces': 19478, 'infections': 19479, 'feedlot': 19480, 'pneumonia': 19481, 'rhinotracheitis': 19482, 'vaccination': 19483, 'rot': 19484, 'milligram': 19485, 'anaplasmosis': 19486, 'calves': 19487, 'intake': 19488, 'infection': 19489, 'enterotoxemia': 19490, 'vibrionic': 19491, 'abortion': 19492, 'gram': 19493, 'dynafac': 19494, 'premix': 19495, 'promoting': 19496, 'feeder': 19497, 'consuming': 19498, 'minimizing': 19499, 'lambs': 19500, 'diethylstilbestrol': 19501, 'consumes': 19502, 'creep': 19503, 'fattening': 19504, 'discontinue': 19505, 'medication': 19506, 'hydroxazine': 19507, 'iodinated': 19508, 'casein': 19509, 'elevates': 19510, 'metabolic': 19511, 'cow': 19512, 'butterfat': 19513, 'registry': 19514, 'fungal': 19515, 'enzymes': 19516, 'enzyme': 19517, 'preparations': 19518, 'tags': 19519, 'fermentation': 19520, 'extracts': 19521, 'bacillus': 19522, 'subtilis': 19523, 'apergillus': 19524, 'orzae': 19525, 'niger': 19526, 'flavus': 19527, 'utilization': 19528, 'lowmoisture': 19529, 'beeffeeding': 19530, 'grubs': 19531, 'methyl': 19532, 'polysiloxanes': 19533, 'foamy': 19534, 'hookworm': 19535, 'nodular': 19536, 'reproduction': 19537, 'worm': 19538, 'droppings': 19539, 'phenothiazine': 19540, 'lactating': 19541, 'singledose': 19542, 'procaine': 19543, 'penicillin': 19544, 'legume': 19545, 'pasture': 19546, 'sodium': 19547, 'propionate': 19548, 'acetonemia': 19549, 'ketosis': 19550, 'calving': 19551, 'dysentery': 19552, 'coccidiosis': 19553, 'rumen': 19554, 'stimulates': 19555, 'lactate': 19556, 'promazine': 19557, 'tranquilizer': 19558, 'vaccinating': 19559, 'weaning': 19560, 'slaughtered': 19561, 'fenceline': 19562, 'selfunloading': 19563, 'mechanized': 19564, 'conveyor': 19565, 'elevator': 19566, 'silos': 19567, 'allweather': 19568, 'sixties': 19569, 'yrs': 19570, 'efficiencies': 19571, 'upgraded': 19572, 'manpower': 19573, 'priceconsciousness': 19574, 'intensification': 19575, 'wittingly': 19576, 'unwittingly': 19577, 'distributors': 19578, 'distributor': 19579, 'counter': 19580, 'customer': 19581, 'sophistication': 19582, 'assertions': 19583, 'followthrough': 19584, 'assessed': 19585, 'discretionary': 19586, 'convenienttype': 19587, 'implications': 19588, 'enhance': 19589, 'acquisitions': 19590, 'warehousing': 19591, 'branded': 19592, 'formulated': 19593, 'researching': 19594, 'preselling': 19595, 'headaches': 19596, 'fastgrowing': 19597, 'higherquality': 19598, 'slants': 19599, 'niceties': 19600, 'concentrating': 19601, 'economies': 19602, 'links': 19603, 'scrutinizing': 19604, 'higherpriced': 19605, 'highquality': 19606, 'lowerpaid': 19607, 'mos': 19608, 'accentuated': 19609, 'willynilly': 19610, 'influencing': 19611, 'evaluated': 19612, 'salesbuilding': 19613, 'beats': 19614, 'obsoleting': 19615, 'tuned': 19616, 'shepherd': 19617, 'commercialization': 19618, 'shelved': 19619, 'quantitative': 19620, 'qualitative': 19621, 'qualitatively': 19622, 'geared': 19623, 'outdistanced': 19624, 'hippocket': 19625, 'beverage': 19626, 'shortchanging': 19627, 'yr': 19628, 'wrapped': 19629, 'defining': 19630, 'provoke': 19631, 'politeness': 19632, 'militated': 19633, 'crux': 19634, 'certification': 19635, 'lengthen': 19636, 'catalogs': 19637, 'adhere': 19638, 'curricular': 19639, 'necessities': 19640, 'versus': 19641, 'dictionary': 19642, 'occupational': 19643, 'furnishes': 19644, 'institutional': 19645, 'coverings': 19646, 'determines': 19647, 'schemes': 19648, 'supervises': 19649, 'examining': 19650, 'applicants': 19651, 'supervising': 19652, 'carpentry': 19653, 'exhibitions': 19654, 'extant': 19655, 'synthetic': 19656, 'fairyland': 19657, 'inhibition': 19658, 'dissection': 19659, 'frowned': 19660, 'fabric': 19661, 'educator': 19662, 'qualification': 19663, 'scrutinized': 19664, 'denies': 19665, 'initials': 19666, 'catalog': 19667, 'anomalous': 19668, 'tolerate': 19669, 'shortsighted': 19670, 'molding': 19671, 'institutes': 19672, 'disservice': 19673, 'clauses': 19674, 'admissions': 19675, 'abused': 19676, 'rushes': 19677, 'jackofalltrades': 19678, 'suffice': 19679, 'irresponsibility': 19680, 'confreres': 19681, 'correlation': 19682, 'accreditation': 19683, 'aquisition': 19684, 'ringaroundarosy': 19685, 'shivering': 19686, 'habit': 19687, 'repute': 19688, 'mitigation': 19689, 'offences': 19690, 'granting': 19691, 'assess': 19692, 'absenteeism': 19693, 'turnover': 19694, 'fancier': 19695, 'printing': 19696, 'freebuying': 19697, 'centsperhour': 19698, 'restricting': 19699, 'profitsharing': 19700, 'entitles': 19701, 'employeecontributed': 19702, 'companypaid': 19703, 'midweek': 19704, 'uninterrupted': 19705, 'policing': 19706, 'washup': 19707, 'boiler': 19708, 'hourday': 19709, 'dayweek': 19710, 'minimize': 19711, 'minimized': 19712, 'vending': 19713, 'relying': 19714, 'prepackaged': 19715, 'thirdshift': 19716, 'subcontracting': 19717, 'custodial': 19718, 'inplant': 19719, 'commensurate': 19720, 'audited': 19721, 'weed': 19722, 'delegating': 19723, 'operational': 19724, 'erect': 19725, 'interplant': 19726, 'taxis': 19727, 'intracompany': 19728, 'vacations': 19729, 'shutdown': 19730, 'fillins': 19731, 'unneeded': 19732, 'shutdowns': 19733, 'curtail': 19734, 'costing': 19735, 'disabled': 19736, 'nonproductive': 19737, 'makework': 19738, 'assigning': 19739, 'feepercase': 19740, 'firstaid': 19741, 'rigidly': 19742, 'distinguish': 19743, 'nonjobconnected': 19744, 'indiscriminantly': 19745, 'treatments': 19746, 'revamping': 19747, 'package': 19748, 'hourly': 19749, 'overboard': 19750, 'doityourself': 19751, 'quiz': 19752, 'bafflers': 19753, 'distributes': 19754, 'dietetic': 19755, 'facsimile': 19756, 'checkbook': 19757, 'itemizing': 19758, 'bluecollar': 19759, 'periodically': 19760, 'alerting': 19761, 'onthejob': 19762, 'insured': 19763, 'deductable': 19764, 'beware': 19765, 'openend': 19766, 'dollarandcents': 19767, 'bereavement': 19768, 'deceased': 19769, 'cousins': 19770, 'alleviate': 19771, 'supplemental': 19772, 'dispensers': 19773, 'containers': 19774, 'goodsize': 19775, 'drinkers': 19776, 'deadheads': 19777, 'timeonthejob': 19778, 'anyhow': 19779, 'contributory': 19780, 'noncontributory': 19781, 'retires': 19782, 'absences': 19783, 'illnesses': 19784, 'adopting': 19785, 'inconvenience': 19786, 'thanksgiving': 19787, 'washingtons': 19788, 'startups': 19789, 'absentee': 19790, 'concessionaire': 19791, 'dishwater': 19792, 'rap': 19793, 'widest': 19794, 'replacements': 19795, 'generations': 19796, 'studebaker': 19797, 'ammunition': 19798, 'diligent': 19799, 'loader': 19800, 'slowfiring': 19801, 'autoloaders': 19802, 'smallarms': 19803, 'resourceuse': 19804, 'everexpanding': 19805, 'expendable': 19806, 'sown': 19807, 'reaped': 19808, 'unlimited': 19809, 'gamemanagement': 19810, 'harvested': 19811, 'commissioncontrolled': 19812, 'weeklies': 19813, 'sportsmens': 19814, 'saami': 19815, 'consultants': 19816, 'saamis': 19817, 'initiated': 19818, 'cognizance': 19819, 'assuredly': 19820, 'carryover': 19821, 'oep': 19822, 'proudly': 19823, 'schoolage': 19824, 'teen': 19825, 'jennings': 19826, 'dennis': 19827, 'babylon': 19828, 'thc': 19829, 'appreciations': 19830, 'assists': 19831, 'marksmanship': 19832, 'evergrowing': 19833, 'manhours': 19834, 'benefited': 19835, 'exploding': 19836, 'uniformly': 19837, 'primed': 19838, 'sammy': 19839, 'hatteras': 19840, 'campground': 19841, 'seagulls': 19842, 'bluefish': 19843, 'carolinas': 19844, 'tents': 19845, 'pup': 19846, 'camper': 19847, 'parachutes': 19848, 'sunshades': 19849, 'stoves': 19850, 'lanterns': 19851, 'bedding': 19852, 'windbreaks': 19853, 'campgrounds': 19854, 'milelong': 19855, 'campers': 19856, 'guesses': 19857, 'campsites': 19858, 'harassed': 19859, 'rods': 19860, 'binoculars': 19861, 'migration': 19862, 'expenditure': 19863, 'aaa': 19864, 'splits': 19865, 'resorts': 19866, 'tow': 19867, 'yearning': 19868, 'spaces': 19869, 'comforts': 19870, 'logger': 19871, 'wandering': 19872, 'mattresses': 19873, 'disillusionment': 19874, 'willingly': 19875, 'rebelled': 19876, 'incompetent': 19877, 'publics': 19878, 'astronomically': 19879, 'remedies': 19880, 'managementtrained': 19881, 'assistants': 19882, 'adage': 19883, 'clings': 19884, 'managerial': 19885, 'gage': 19886, 'fights': 19887, 'collar': 19888, 'incomes': 19889, 'overemphasized': 19890, 'statusconscious': 19891, 'contributor': 19892, 'vicepresidents': 19893, 'dualroadup': 19894, 'paragraphs': 19895, 'dualchannel': 19896, 'advancement': 19897, 'mutually': 19898, 'supervisory': 19899, 'individualcontributor': 19900, 'companywide': 19901, 'broadening': 19902, 'ge': 19903, 'turbine': 19904, 'vp': 19905, 'gm': 19906, 'strang': 19907, 'switchgear': 19908, 'classifications': 19909, 'abundantly': 19910, 'quotations': 19911, 'fad': 19912, 'educating': 19913, 'classification': 19914, 'equivalence': 19915, 'nonsupervisory': 19916, 'firstlevel': 19917, 'engineeringmanagement': 19918, 'confined': 19919, 'divisional': 19920, 'advise': 19921, 'asme': 19922, 'aiee': 19923, 'aiche': 19924, 'accountability': 19925, 'formalize': 19926, 'engrg': 19927, 'constitutes': 19928, 'agitate': 19929, 'secretaries': 19930, 'dualladder': 19931, 'technicalladder': 19932, 'longevity': 19933, 'topheavy': 19934, 'highlevel': 19935, 'highsalaried': 19936, 'remuneration': 19937, 'media': 19938, 'publicizing': 19939, 'bulletin': 19940, 'patents': 19941, 'badge': 19942, 'inaugurating': 19943, 'researchstaff': 19944, 'communitys': 19945, 'organizationposition': 19946, 'evaluations': 19947, 'administratively': 19948, 'proportion': 19949, 'participates': 19950, 'dutchess': 19951, 'oakwood': 19952, 'threebedroom': 19953, 'metered': 19954, 'entity': 19955, 'tristate': 19956, 'timen': 19957, 'berkman': 19958, 'kahlercraft': 19959, 'newburgh': 19960, 'fueloil': 19961, 'inquire': 19962, 'editors': 19963, 'schulz': 19964, 'tenants': 19965, 'sloflo': 19966, 'duplicate': 19967, 'timeconsuming': 19968, 'lays': 19969, 'retaining': 19970, 'easement': 19971, 'buries': 19972, 'leases': 19973, 'leased': 19974, 'supplier': 19975, 'twotothree': 19976, 'contingencies': 19977, 'servicing': 19978, 'oilheating': 19979, 'boilerburner': 19980, 'summerwinter': 19981, 'hookups': 19982, 'gallonage': 19983, 'considerations': 19984, 'poughkeepsie': 19985, 'simplifies': 19986, 'crescent': 19987, 'stipulation': 19988, 'xtrucoat': 19989, 'welded': 19990, 'shocks': 19991, 'trucking': 19992, 'tenth': 19993, 'easements': 19994, 'leasing': 19995, 'options': 19996, 'sunning': 19997, 'ditcher': 19998, 'trenches': 19999, 'gargle': 20000, 'rolls': 20001, 'coolant': 20002, 'antifreeze': 20003, 'inhibitors': 20004, 'inhibitor': 20005, 'softest': 20006, 'leaks': 20007, 'hoses': 20008, 'freezeout': 20009, 'plugs': 20010, 'fittings': 20011, 'bugs': 20012, 'radiator': 20013, 'fluids': 20014, 'dowguard': 20015, 'precautions': 20016, 'breakdowns': 20017, 'zooms': 20018, 'thermostats': 20019, 'thermos': 20020, 'insulators': 20021, 'layup': 20022, 'clause': 20023, 'applies': 20024, 'discount': 20025, 'reductions': 20026, 'deductibles': 20027, 'liability': 20028, 'coinciding': 20029, 'plastics': 20030, 'workings': 20031, 'thermoforming': 20032, 'preprinting': 20033, 'reversesurface': 20034, 'escutcheons': 20035, 'medallions': 20036, 'owes': 20037, 'lighttransmitting': 20038, 'transillumination': 20039, 'entrenched': 20040, 'neon': 20041, 'tubing': 20042, 'estimating': 20043, 'aggregate': 20044, 'transparency': 20045, 'translucency': 20046, 'fabrication': 20047, 'byft': 20048, 'lb': 20049, 'durability': 20050, 'mountings': 20051, 'incorporate': 20052, 'pressureformed': 20053, 'molded': 20054, 'predecoration': 20055, 'lowcost': 20056, 'tailormade': 20057, 'smallersize': 20058, 'massproduction': 20059, 'styrene': 20060, 'acrylic': 20061, 'formability': 20062, 'dominates': 20063, 'extruded': 20064, 'ponts': 20065, 'polychemicals': 20066, 'methacrylate': 20067, 'monomer': 20068, 'monocite': 20069, 'sheeting': 20070, 'impervious': 20071, 'resists': 20072, 'chipping': 20073, 'crazing': 20074, 'cellulose': 20075, 'acetate': 20076, 'butyrate': 20077, 'vacuumformed': 20078, 'weathering': 20079, 'duplex': 20080, 'laminate': 20081, 'twocolor': 20082, 'mpl': 20083, 'threedimensional': 20084, 'reproducing': 20085, 'rotationally': 20086, 'vinyl': 20087, 'plastisols': 20088, 'mylar': 20089, 'polyester': 20090, 'overlay': 20091, 'transilluminated': 20092, 'foam': 20093, 'polyethylene': 20094, 'expectancy': 20095, 'incorporates': 20096, 'fabricating': 20097, 'billboards': 20098, 'advancements': 20099, 'billboard': 20100, 'translucent': 20101, 'lighted': 20102, 'lumen': 20103, 'shielded': 20104, 'obstruct': 20105, 'adhesive': 20106, 'outdated': 20107, 'floodlighted': 20108, 'backlighted': 20109, 'cutouts': 20110, 'triangles': 20111, 'revolve': 20112, 'sec': 20113, 'ft': 20114, 'changeable': 20115, 'characterizes': 20116, 'snapin': 20117, 'screened': 20118, 'adaptaplex': 20119, 'weatherresistant': 20120, 'pegs': 20121, 'openings': 20122, 'wafflepattern': 20123, 'thermoformed': 20124, 'brackets': 20125, 'cemented': 20126, 'stainless': 20127, 'corrugated': 20128, 'injectionmolded': 20129, 'installations': 20130, 'formulation': 20131, 'tenite': 20132, 'snuggrip': 20133, 'plastibars': 20134, 'azusa': 20135, 'sprayed': 20136, 'largearea': 20137, 'rightangled': 20138, 'corrugations': 20139, 'twodimensional': 20140, 'luminous': 20141, 'quicker': 20142, 'bathtub': 20143, 'wrestle': 20144, 'doorway': 20145, 'nonbearing': 20146, 'partition': 20147, 'studs': 20148, 'shim': 20149, 'shimming': 20150, 'stud': 20151, 'stair': 20152, 'drywall': 20153, 'schmitt': 20154, 'erects': 20155, 'unload': 20156, 'homebuilders': 20157, 'rethink': 20158, 'buildbetterforless': 20159, 'earthmoving': 20160, 'roadbuilding': 20161, 'lessens': 20162, 'onsite': 20163, 'driveways': 20164, 'builderdealer': 20165, 'shortcutting': 20166, 'teaming': 20167, 'trusses': 20168, 'roofing': 20169, 'markup': 20170, 'cosponsored': 20171, 'teamwork': 20172, 'carrier': 20173, 'singlehanded': 20174, 'newhouse': 20175, 'palletized': 20176, 'unitized': 20177, 'asphalt': 20178, 'hardboard': 20179, 'gypsum': 20180, 'wallboard': 20181, 'sheathing': 20182, 'acoustical': 20183, 'asbestos': 20184, 'materialshandling': 20185, 'homebuilding': 20186, 'nlrda': 20187, 'strap': 20188, 'strapping': 20189, 'carloading': 20190, 'swallow': 20191, 'forklift': 20192, 'widedoor': 20193, 'mbf': 20194, 'mccracken': 20195, 'packets': 20196, 'bdft': 20197, 'looseloaded': 20198, 'unloading': 20199, 'cwt': 20200, 'lbplus': 20201, 'carloads': 20202, 'floatingload': 20203, 'unloaded': 20204, 'waterproof': 20205, 'stored': 20206, 'nrldas': 20207, 'packages': 20208, 'truckdriver': 20209, 'helper': 20210, 'unloads': 20211, 'highpriced': 20212, 'restudy': 20213, 'handiest': 20214, 'stacked': 20215, 'berea': 20216, 'timemotion': 20217, 'nahb': 20218, 'bricklaying': 20219, 'scr': 20220, 'bricklayers': 20221, 'bricks': 20222, 'easytospot': 20223, 'cornerposts': 20224, 'scaffold': 20225, 'handlevel': 20226, 'lendrum': 20227, 'carpenter': 20228, 'threemenandahelper': 20229, 'aminute': 20230, 'pennywise': 20231, 'poundfoolish': 20232, 'swell': 20233, 'smart': 20234, 'anachronism': 20235, 'finisher': 20236, 'happenstance': 20237, 'wantingtobealone': 20238, 'gratefully': 20239, 'piazzas': 20240, 'plazas': 20241, 'forums': 20242, 'byroads': 20243, 'champagne': 20244, 'troyes': 20245, 'ambrosial': 20246, 'sidewalk': 20247, 'rue': 20248, 'paix': 20249, 'dargent': 20250, 'relive': 20251, 'grail': 20252, 'brindisi': 20253, 'untouched': 20254, 'stairways': 20255, 'clinging': 20256, 'storybook': 20257, 'atop': 20258, 'lofty': 20259, 'crags': 20260, 'moors': 20261, 'saracens': 20262, 'gourmets': 20263, 'squat': 20264, 'toosimpletobetrue': 20265, 'diathesis': 20266, 'rent': 20267, 'hertz': 20268, 'avis': 20269, 'autoeurope': 20270, 'nationalcar': 20271, 'dockside': 20272, 'budgetwise': 20273, 'itinerary': 20274, 'feeperday': 20275, 'kilometer': 20276, 'perday': 20277, 'twentyone': 20278, 'wiser': 20279, 'travelling': 20280, 'sedans': 20281, 'supplementary': 20282, 'intracity': 20283, 'racks': 20284, 'ads': 20285, 'fiats': 20286, 'alfa': 20287, 'romeo': 20288, 'giulietta': 20289, 'indulge': 20290, 'luxuries': 20291, 'seating': 20292, 'infinitesimal': 20293, 'nickel': 20294, 'citroen': 20295, 'cv': 20296, 'volkswagens': 20297, 'renaults': 20298, 'simca': 20299, 'beaulieu': 20300, 'reputations': 20301, 'chauffeurdriven': 20302, 'chauffeurs': 20303, 'limousine': 20304, 'peugeot': 20305, 'equalize': 20306, 'driveyourself': 20307, 'englishspeaking': 20308, 'chauffeur': 20309, 'kilometers': 20310, 'distances': 20311, 'skimming': 20312, 'lured': 20313, 'hinterlands': 20314, 'obe': 20315, 'shortrun': 20316, 'analyzes': 20317, 'indicators': 20318, 'periodical': 20319, 'sba': 20320, 'indirectly': 20321, 'cosponsors': 20322, 'sbas': 20323, 'oneday': 20324, 'semiprocessed': 20325, 'adaptable': 20326, 'exploitation': 20327, 'diversification': 20328, 'urgently': 20329, 'identifying': 20330, 'flyers': 20331, 'authorizes': 20332, 'avail': 20333, 'registrants': 20334, 'colo': 20335, 'minn': 20336, 'directory': 20337, 'wholesalers': 20338, 'unavailable': 20339, 'defined': 20340, 'dominant': 20341, 'stipulate': 20342, 'repayment': 20343, 'repayable': 20344, 'installments': 20345, 'annum': 20346, 'unpaid': 20347, 'coordinates': 20348, 'cooperatives': 20349, 'beneficial': 20350, 'provdied': 20351, 'outlined': 20352, 'ome': 20353, 'royalty': 20354, 'certifies': 20355, 'exceeds': 20356, 'nonexistent': 20357, 'systematic': 20358, 'ministries': 20359, 'administer': 20360, 'conditional': 20361, 'adapted': 20362, 'technological': 20363, 'surveying': 20364, 'budgeting': 20365, 'selfhelp': 20366, 'stressing': 20367, 'complement': 20368, 'incentives': 20369, 'remake': 20370, 'devise': 20371, 'mobilizing': 20372, 'equitably': 20373, 'balanceofpayments': 20374, 'nationals': 20375, 'energies': 20376, 'segments': 20377, 'longrun': 20378, 'stability': 20379, 'favoritism': 20380, 'officialdom': 20381, 'elimination': 20382, 'unwarranted': 20383, 'unfriendly': 20384, 'dishonesty': 20385, 'tolerance': 20386, 'diversion': 20387, 'generates': 20388, 'antiamerican': 20389, 'peculiarly': 20390, 'damaging': 20391, 'regimes': 20392, 'tailored': 20393, 'withhold': 20394, 'monolithic': 20395, 'deem': 20396, 'focusing': 20397, 'selfsufficiency': 20398, 'governmenttogovernment': 20399, 'tunnel': 20400, 'selfsustaining': 20401, 'modernity': 20402, 'launching': 20403, 'developmental': 20404, 'slowacting': 20405, 'dams': 20406, 'commence': 20407, 'twofold': 20408, 'threefold': 20409, 'multiyear': 20410, 'interdependent': 20411, 'induced': 20412, 'appraise': 20413, 'mussolinis': 20414, 'tojos': 20415, 'freest': 20416, 'bless': 20417, 'mccormack': 20418, 'tempore': 20419, 'hon': 20420, 'addabbo': 20421, 'admiration': 20422, 'honorable': 20423, 'refrained': 20424, 'highlight': 20425, 'courtesy': 20426, 'workday': 20427, 'vexed': 20428, 'fatherly': 20429, 'tremendously': 20430, 'humbly': 20431, 'humane': 20432, 'unpleasantness': 20433, 'proportions': 20434, 'commemorate': 20435, 'parliamentary': 20436, 'loved': 20437, 'stabilizing': 20438, 'undiminished': 20439, 'humble': 20440, 'succinct': 20441, 'summation': 20442, 'patriot': 20443, 'prodigious': 20444, 'conciliator': 20445, 'aspirations': 20446, 'devotedly': 20447, 'forgot': 20448, 'bonham': 20449, 'instinctual': 20450, 'neglecting': 20451, 'aspire': 20452, 'ironclad': 20453, 'integrity': 20454, 'rancorous': 20455, 'shines': 20456, 'forthrightness': 20457, 'ashamed': 20458, 'combatant': 20459, 'conflicting': 20460, 'invested': 20461, 'spared': 20462, 'speakership': 20463, 'humility': 20464, 'establishes': 20465, 'electrification': 20466, 'monagan': 20467, 'adorn': 20468, 'statute': 20469, 'adversity': 20470, 'shoals': 20471, 'seas': 20472, 'gruff': 20473, 'context': 20474, 'confessor': 20475, 'predecessor': 20476, 'stateowned': 20477, 'automotive': 20478, 'analyses': 20479, 'effecting': 20480, 'appropriating': 20481, 'lieu': 20482, 'assigns': 20483, 'reveals': 20484, 'fortyseven': 20485, 'changeover': 20486, 'itemized': 20487, 'reimbursements': 20488, 'personallyowned': 20489, 'nonitemized': 20490, 'reimburseable': 20491, 'approximate': 20492, 'welladministered': 20493, 'reimbursement': 20494, 'restrictive': 20495, 'audit': 20496, 'wellregulated': 20497, 'advent': 20498, 'dirty': 20499, 'privatelyowned': 20500, 'justifiable': 20501, 'signify': 20502, 'ineffective': 20503, 'problematical': 20504, 'obscured': 20505, 'embraced': 20506, 'rationed': 20507, 'popularly': 20508, 'headquarter': 20509, 'garages': 20510, 'organizationally': 20511, 'newlycreated': 20512, 'costbilling': 20513, 'refine': 20514, 'reassign': 20515, 'excels': 20516, 'compilation': 20517, 'costdata': 20518, 'locations': 20519, 'antiquated': 20520, 'dispersement': 20521, 'bidders': 20522, 'rests': 20523, 'appropriated': 20524, 'costaccounting': 20525, 'solely': 20526, 'discontinued': 20527, 'burdens': 20528, 'upgrading': 20529, 'insufficient': 20530, 'grantsinaid': 20531, 'notwithstanding': 20532, 'revaluation': 20533, 'component': 20534, 'situs': 20535, 'domicile': 20536, 'airplanes': 20537, 'origination': 20538, 'specifies': 20539, 'nonresidents': 20540, 'abode': 20541, 'cancelled': 20542, 'garaged': 20543, 'airpark': 20544, 'middletown': 20545, 'justifiably': 20546, 'rateable': 20547, 'thereof': 20548, 'assessor': 20549, 'nonprofessional': 20550, 'individualistic': 20551, 'variance': 20552, 'assessing': 20553, 'differences': 20554, 'consolidating': 20555, 'centralizing': 20556, 'questionnaire': 20557, 'specifying': 20558, 'tabulate': 20559, 'twentyseven': 20560, 'advantageous': 20561, 'resides': 20562, 'summarize': 20563, 'debated': 20564, 'diligence': 20565, 'barrington': 20566, 'bristol': 20567, 'valuations': 20568, 'fiftytwo': 20569, 'committed': 20570, 'outofstate': 20571, 'expansions': 20572, 'collyer': 20573, 'leesona': 20574, 'speidel': 20575, 'cornelldubilier': 20576, 'photek': 20577, 'textron': 20578, 'foundry': 20579, 'cobb': 20580, 'relocation': 20581, 'securing': 20582, 'expediting': 20583, 'followups': 20584, 'copyrights': 20585, 'cooperates': 20586, 'specifics': 20587, 'availabilities': 20588, 'endorsement': 20589, 'industrialists': 20590, 'locationminded': 20591, 'advertisements': 20592, 'englander': 20593, 'intrastate': 20594, 'mailings': 20595, 'publishers': 20596, 'brazil': 20597, 'soliciting': 20598, 'waterbury': 20599, 'bridgeport': 20600, 'worcester': 20601, 'waltham': 20602, 'followup': 20603, 'offsetting': 20604, 'declining': 20605, 'conclave': 20606, 'preston': 20607, 'kepler': 20608, 'rewarding': 20609, 'mailing': 20610, 'medchemical': 20611, 'symposium': 20612, 'reprints': 20613, 'realtors': 20614, 'instate': 20615, 'brochure': 20616, 'turnkey': 20617, 'statelocal': 20618, 'exhaustive': 20619, 'reorientation': 20620, 'metropolian': 20621, 'functionally': 20622, 'embarked': 20623, 'mapping': 20624, 'origindestination': 20625, 'identifies': 20626, 'kent': 20627, 'submit': 20628, 'audits': 20629, 'comparative': 20630, 'uniformity': 20631, 'arizona': 20632, 'montana': 20633, 'summary': 20634, 'calendars': 20635, 'compliance': 20636, 'ensures': 20637, 'conformance': 20638, 'promotes': 20639, 'strengthens': 20640, 'expend': 20641, 'disbursements': 20642, 'augmenting': 20643, 'facilitates': 20644, 'intertown': 20645, 'comparisons': 20646, 'warrants': 20647, 'installment': 20648, 'intergovernmental': 20649, 'handicap': 20650, 'equalization': 20651, 'disgruntled': 20652, 'taxpaying': 20653, 'lessen': 20654, 'municipalitys': 20655, 'indefinitely': 20656, 'systematized': 20657, 'kingstown': 20658, 'coventry': 20659, 'payable': 20660, 'collectible': 20661, 'glocester': 20662, 'pawtucket': 20663, 'cumberland': 20664, 'woonsocket': 20665, 'twentythree': 20666, 'overcoming': 20667, 'dishearten': 20668, 'proponents': 20669, 'treasuries': 20670, 'interval': 20671, 'formulate': 20672, 'serial': 20673, 'transitional': 20674, 'proclamation': 20675, 'commemorates': 20676, 'commemorated': 20677, 'regiment': 20678, 'commemorating': 20679, 'homestead': 20680, 'plantations': 20681, 'proclaim': 20682, 'advising': 20683, 'whereof': 20684, 'hereunto': 20685, 'sixtyone': 20686, 'eightyfifth': 20687, 'fourteenth': 20688, 'unification': 20689, 'reminding': 20690, 'rededicate': 20691, 'respecting': 20692, 'eightysixth': 20693, 'pursuant': 20694, 'liverpool': 20695, 'voyage': 20696, 'seamen': 20697, 'poise': 20698, 'jaycees': 20699, 'sally': 20700, 'saabye': 20701, 'adhered': 20702, 'desperately': 20703, 'observances': 20704, 'choreographer': 20705, 'flowered': 20706, 'catherine': 20707, 'medicis': 20708, 'comique': 20709, 'reine': 20710, 'alternated': 20711, 'verses': 20712, 'intermissions': 20713, 'islanders': 20714, 'hectic': 20715, 'pilgrims': 20716, 'benevolence': 20717, 'almighty': 20718, 'gratitude': 20719, 'posterity': 20720, 'oppressed': 20721, 'frugality': 20722, 'skeptically': 20723, 'imitate': 20724, 'dire': 20725, 'lords': 20726, 'stat': 20727, 'usc': 20728, 'usable': 20729, 'practicable': 20730, 'consumptive': 20731, 'saline': 20732, 'thereto': 20733, 'brackish': 20734, 'mineralized': 20735, 'aforesaid': 20736, 'authorization': 20737, 'subsections': 20738, 'accomplishing': 20739, 'physicists': 20740, 'effectuate': 20741, 'inventions': 20742, 'donation': 20743, 'bibliographical': 20744, 'correlate': 20745, 'publish': 20746, 'instrumentalities': 20747, 'compatible': 20748, 'fullest': 20749, 'subsection': 20750, 'deprive': 20751, 'thereunder': 20752, 'moneys': 20753, 'dispositions': 20754, 'ensuing': 20755, 'theretofore': 20756, 'therewith': 20757, 'expiration': 20758, 'twelveyear': 20759, 'bidder': 20760, 'nonmetallic': 20761, 'lignite': 20762, 'embodying': 20763, 'rightofentry': 20764, 'magnitude': 20765, 'minesafety': 20766, 'applicable': 20767, 'duly': 20768, 'ores': 20769, 'stabilize': 20770, 'therefrom': 20771, 'assay': 20772, 'centum': 20773, 'saint': 20774, 'pathology': 20775, 'forensic': 20776, 'histochemistry': 20777, 'ophthalmic': 20778, 'oral': 20779, 'cardiovasculatory': 20780, 'orthopedic': 20781, 'medicomilitary': 20782, 'morphological': 20783, 'biological': 20784, 'biochemical': 20785, 'microwaves': 20786, 'oxygen': 20787, 'neuropathology': 20788, 'carcinoma': 20789, 'prostate': 20790, 'histochemical': 20791, 'dysplasia': 20792, 'biophysical': 20793, 'ocular': 20794, 'mammalian': 20795, 'microscopical': 20796, 'microchemistry': 20797, 'microcytochemistry': 20798, 'diphosphopyridine': 20799, 'nucleotide': 20800, 'synthesizine': 20801, 'lymphoma': 20802, 'leprae': 20803, 'mycobacteria': 20804, 'wounds': 20805, 'clinical': 20806, 'photomicrography': 20807, 'twentynine': 20808, 'operable': 20809, 'lectured': 20810, 'demonstrations': 20811, 'instructors': 20812, 'simulation': 20813, 'kits': 20814, 'manikins': 20815, 'projector': 20816, 'bandaging': 20817, 'splinting': 20818, 'handbook': 20819, 'mobilization': 20820, 'manuals': 20821, 'graphic': 20822, 'loaned': 20823, 'forwarded': 20824, 'managua': 20825, 'nicaragua': 20826, 'fascicles': 20827, 'registries': 20828, 'testicular': 20829, 'militarymedical': 20830, 'surgeons': 20831, 'utilized': 20832, 'clinicopathologic': 20833, 'consequent': 20834, 'unabated': 20835, 'depicting': 20836, 'refurbished': 20837, 'specimens': 20838, 'eightyfive': 20839, 'macropathology': 20840, 'squibb': 20841, 'greatgrandson': 20842, 'shorttime': 20843, 'accessions': 20844, 'microscopes': 20845, 'surgical': 20846, 'macropathological': 20847, 'requesters': 20848, 'triservice': 20849, 'contemplated': 20850, 'journals': 20851, 'reviews': 20852, 'ama': 20853, 'photooffset': 20854, 'varityping': 20855, 'typesetting': 20856, 'stapling': 20857, 'unexpended': 20858, 'reinstitution': 20859, 'replacing': 20860, 'novemberdecember': 20861, 'inaugurated': 20862, 'bibliography': 20863, 'diagnosis': 20864, 'epidemiological': 20865, 'calorimeter': 20866, 'fluorine': 20867, 'nonvolatile': 20868, 'fluoride': 20869, 'substantiates': 20870, 'beryllium': 20871, 'explodingwire': 20872, 'thermodynamically': 20873, 'atmospheres': 20874, 'microseconds': 20875, 'verified': 20876, 'calibration': 20877, 'calorimetric': 20878, 'ohmic': 20879, 'voltage': 20880, 'highspeed': 20881, 'shutter': 20882, 'fastopening': 20883, 'fastclosing': 20884, 'edgertons': 20885, 'blackening': 20886, 'wires': 20887, 'aperture': 20888, 'input': 20889, 'interstellar': 20890, 'spectra': 20891, 'extraterrestrial': 20892, 'ions': 20893, 'planetary': 20894, 'detectable': 20895, 'diatomic': 20896, 'hydrides': 20897, 'sh': 20898, 'sih': 20899, 'telescopes': 20900, 'bandwidth': 20901, 'foreknowledge': 20902, 'astronomical': 20903, 'microwave': 20904, 'spectroscopy': 20905, 'molecular': 20906, 'transitions': 20907, 'paramagnetic': 20908, 'lowfrequency': 20909, 'conveniently': 20910, 'optimum': 20911, 'hydride': 20912, 'spectral': 20913, 'radicals': 20914, 'thermometry': 20915, 'helium': 20916, 'germanium': 20917, 'resistors': 20918, 'vaporpressure': 20919, 'interferometer': 20920, 'thermometric': 20921, 'millidegrees': 20922, 'thermometers': 20923, 'impuritydoped': 20924, 'thermally': 20925, 'cycled': 20926, 'resistances': 20927, 'reproducible': 20928, 'millidegree': 20929, 'calibrations': 20930, 'deviations': 20931, 'resistor': 20932, 'reproducibilities': 20933, 'gradients': 20934, 'baths': 20935, 'liter': 20936, 'metallic': 20937, 'dewars': 20938, 'gradient': 20939, 'yl': 20940, 'hydrostatic': 20941, 'isolate': 20942, 'bulb': 20943, 'pvt': 20944, 'pressurevolumetemperature': 20945, 'corrosive': 20946, 'fulfills': 20947, 'nulltype': 20948, 'diaphragm': 20949, 'unbalance': 20950, 'displaces': 20951, 'capacitance': 20952, 'electrically': 20953, 'spherical': 20954, 'concave': 20955, 'backing': 20956, 'exceeding': 20957, 'elastic': 20958, 'atm': 20959, 'overload': 20960, 'diffusion': 20961, 'prandtl': 20962, 'dissociation': 20963, 'coefficient': 20964, 'straddling': 20965, 'integrals': 20966, 'critically': 20967, 'intermolecular': 20968, 'viscosity': 20969, 'conductivity': 20970, 'coefficients': 20971, 'logarithm': 20972, 'nbs': 20973, 'platinum': 20974, 'wildhack': 20975, 'herzfeld': 20976, 'astin': 20977, 'introductory': 20978, 'interactions': 20979, 'astrophysics': 20980, 'indexing': 20981, 'dissemination': 20982, 'bibliographies': 20983, 'probabilities': 20984, 'wallstabilized': 20985, 'highcurrent': 20986, 'profiles': 20987, 'plasma': 20988, 'intensities': 20989, 'matrix': 20990, 'therein': 20991, 'forfeit': 20992, 'claimant': 20993, 'hereafter': 20994, 'apportion': 20995, 'conclusive': 20996, 'deducting': 20997, 'unlawful': 20998, 'misdemeanor': 20999, 'imprisoned': 21000, 'notify': 21001, 'claimants': 21002, 'denial': 21003, 'therefor': 21004, 'modify': 21005, 'revise': 21006, 'mandamus': 21007, 'discretion': 21008, 'deferring': 21009, 'comply': 21010, 'provisons': 21011, 'certify': 21012, 'submissions': 21013, 'statesyugoslav': 21014, 'arising': 21015, 'yugoslav': 21016, 'hereinafter': 21017, 'accrued': 21018, 'certified': 21019, 'accordance': 21020, 'executor': 21021, 'comptroller': 21022, 'estates': 21023, 'partnership': 21024, 'assignee': 21025, 'consented': 21026, 'disbursed': 21027, 'ratable': 21028, 'rata': 21029, 'concurrence': 21030, 'adjudication': 21031, 'dooley': 21032, 'commuter': 21033, 'discontinuance': 21034, 'implemented': 21035, 'idly': 21036, 'commutation': 21037, 'raiding': 21038, 'centrals': 21039, 'terminal': 21040, 'southbound': 21041, 'harmful': 21042, 'twosystem': 21043, 'users': 21044, 'abandoning': 21045, 'onagainoffagain': 21046, 'advocated': 21047, 'twoway': 21048, 'lindsay': 21049, 'sulzberger': 21050, 'sulzbergers': 21051, 'orvil': 21052, 'dryfoos': 21053, 'oakes': 21054, 'editorial': 21055, 'merz': 21056, 'emeritus': 21057, 'heartiest': 21058, 'congratulations': 21059, 'blockade': 21060, 'armaments': 21061, 'doctrine': 21062, 'relevant': 21063, 'ssr': 21064, 'beachhead': 21065, 'castroheld': 21066, 'mainland': 21067, 'clearcut': 21068, 'russiandominated': 21069, 'illstarred': 21070, 'mig': 21071, 'strafing': 21072, 'jeopardize': 21073, 'exclude': 21074, 'migs': 21075, 'enlist': 21076, 'cockier': 21077, 'infiltration': 21078, 'restore': 21079, 'reexport': 21080, 'invoke': 21081, 'ports': 21082, 'shangrila': 21083, 'blockading': 21084, 'landbased': 21085, 'squadron': 21086, 'gunfire': 21087, 'searched': 21088, 'cargo': 21089, 'confiscated': 21090, 'avoiding': 21091, 'shortofwar': 21092, 'aviation': 21093, 'czechoslovakia': 21094, 'contraband': 21095, 'oils': 21096, 'foodstuffs': 21097, 'gainful': 21098, 'disabilities': 21099, 'backlog': 21100, 'rehabilitating': 21101, 'remunerative': 21102, 'homebound': 21103, 'threepart': 21104, 'traineeships': 21105, 'authorizations': 21106, 'distributing': 21107, 'allotments': 21108, 'stipulates': 21109, 'redistributed': 21110, 'maximums': 21111, 'vocationally': 21112, 'thickly': 21113, 'disruption': 21114, 'excludes': 21115, 'calculations': 21116, 'computations': 21117, 'unadjusted': 21118, 'recouped': 21119, 'apportioned': 21120, 'pivot': 21121, 'pre': 21122, 'dislocations': 21123, 'mortaring': 21124, 'shielding': 21125, 'inset': 21126, 'mortared': 21127, 'hollow': 21128, 'aboveground': 21129, 'doublewall': 21130, 'impractical': 21131, 'pitrun': 21132, 'gravel': 21133, 'slab': 21134, 'overlaid': 21135, 'waterproofing': 21136, 'preshaped': 21137, 'precast': 21138, 'mounded': 21139, 'hatchway': 21140, 'stairway': 21141, 'rightangle': 21142, 'scatters': 21143, 'vents': 21144, 'conelrad': 21145, 'broadcasts': 21146, 'lowlevel': 21147, 'hotshot': 21148, 'milliampere': 21149, 'flashlighttype': 21150, 'flashlight': 21151, 'appendix': 21152, 'belowground': 21153, 'tornado': 21154, 'radioactivity': 21155, 'decays': 21156, 'fortynine': 21157, 'batterypowered': 21158, 'checklist': 21159, 'rationing': 21160, 'blowers': 21161, 'confines': 21162, 'wastes': 21163, 'pail': 21164, 'advisable': 21165, 'climates': 21166, 'chill': 21167, 'openflame': 21168, 'rehearsals': 21169, 'dwelling': 21170, 'blocking': 21171, 'dweller': 21172, 'maximizing': 21173, 'actively': 21174, 'outstripping': 21175, 'inference': 21176, 'commanding': 21177, 'honorably': 21178, 'outweighed': 21179, 'fsupp': 21180, 'proscribe': 21181, 'monopolization': 21182, 'monopolize': 21183, 'incipiency': 21184, 'restraints': 21185, 'excluded': 21186, 'dealings': 21187, 'preeminent': 21188, 'finishes': 21189, 'endangered': 21190, 'fostering': 21191, 'furthered': 21192, 'inescapable': 21193, 'remanded': 21194, 'reversed': 21195, 'decrees': 21196, 'clothed': 21197, 'judgements': 21198, 'exigencies': 21199, 'pretrial': 21200, 'amici': 21201, 'curiae': 21202, 'disenfranchisement': 21203, 'deeming': 21204, 'divestiture': 21205, 'recommending': 21206, 'christiana': 21207, 'tenyear': 21208, 'allocable': 21209, 'prevail': 21210, 'vested': 21211, 'acquiring': 21212, 'versa': 21213, 'preferential': 21214, 'counterproposal': 21215, 'inter': 21216, 'alia': 21217, 'depress': 21218, 'hanging': 21219, 'equity': 21220, 'comprehensively': 21221, 'mandate': 21222, 'spouses': 21223, 'households': 21224, 'disenfranchised': 21225, 'medieval': 21226, 'quirk': 21227, 'unnourished': 21228, 'endanger': 21229, 'confidentiality': 21230, 'ridicule': 21231, 'hawkins': 21232, 'pronouncement': 21233, 'metaphysical': 21234, 'oneness': 21235, 'communion': 21236, 'confidential': 21237, 'dogmatically': 21238, 'asserts': 21239, 'husbandwife': 21240, 'enthrones': 21241, 'unreality': 21242, 'depose': 21243, 'petitioner': 21244, 'conscientious': 21245, 'objector': 21246, 'covington': 21247, 'friedman': 21248, 'rankin': 21249, 'wilkey': 21250, 'rosenberg': 21251, 'refusal': 21252, 'affirmed': 21253, 'certiorari': 21254, 'petitioners': 21255, 'gonzales': 21256, 'jehovahs': 21257, 'pioneering': 21258, 'reclassified': 21259, 'reclassification': 21260, 'induction': 21261, 'prosecuted': 21262, 'reopened': 21263, 'sicurella': 21264, 'evidenced': 21265, 'memorandum': 21266, 'relinquished': 21267, 'veracity': 21268, 'concurred': 21269, 'procedural': 21270, 'attributing': 21271, 'rebutted': 21272, 'asserting': 21273, 'registrant': 21274, 'supra': 21275, 'renders': 21276, 'estep': 21277, 'contentions': 21278, 'subpoena': 21279, 'duces': 21280, 'tecum': 21281, 'longhand': 21282, 'evensen': 21283, 'thereon': 21284, 'disclose': 21285, 'likewise': 21286, 'intradepartmental': 21287, 'withholding': 21288, 'repudiated': 21289, 'relevancy': 21290, 'inaccuracy': 21291, 'objectors': 21292, 'involvement': 21293, 'interdepartmental': 21294, 'timeliness': 21295, 'inaction': 21296, 'intentionally': 21297, 'inadvertence': 21298, 'bureaucratic': 21299, 'mortality': 21300, 'affliction': 21301, 'bureaucracies': 21302, 'appointees': 21303, 'generating': 21304, 'ignore': 21305, 'spoiled': 21306, 'stationed': 21307, 'remedial': 21308, 'departmental': 21309, 'stimuli': 21310, 'cetera': 21311, 'infinitum': 21312, 'antennae': 21313, 'alerted': 21314, 'explores': 21315, 'appreciative': 21316, 'underlies': 21317, 'policyoriented': 21318, 'perceived': 21319, 'dimly': 21320, 'merciful': 21321, 'guidelines': 21322, 'precedents': 21323, 'charters': 21324, 'wellunderstood': 21325, 'accumulated': 21326, 'factual': 21327, 'merges': 21328, 'imperceptibly': 21329, 'ambassadors': 21330, 'unwanted': 21331, 'inflammation': 21332, 'unilateral': 21333, 'multilateral': 21334, 'editorials': 21335, 'publicopinion': 21336, 'desks': 21337, 'undigested': 21338, 'galaxy': 21339, 'sorted': 21340, 'hounds': 21341, 'snapping': 21342, 'deferment': 21343, 'counterparts': 21344, 'readjustment': 21345, 'afresh': 21346, 'semiautonomous': 21347, 'icas': 21348, 'ica': 21349, 'preparatory': 21350, 'appropriates': 21351, 'graduating': 21352, 'campuses': 21353, 'helpers': 21354, 'skepticism': 21355, 'hostility': 21356, 'immeasurably': 21357, 'focal': 21358, 'currencies': 21359, 'risks': 21360, 'failures': 21361, 'potentiality': 21362, 'liberated': 21363, 'poverty': 21364, 'evolving': 21365, 'habitat': 21366, 'grasslands': 21367, 'fisherman': 21368, 'populations': 21369, 'biggame': 21370, 'gamebird': 21371, 'fishery': 21372, 'impoundments': 21373, 'vegetation': 21374, 'streamside': 21375, 'retard': 21376, 'disrupt': 21377, 'sawtimber': 21378, 'watersheds': 21379, 'lifesupporting': 21380, 'waterflows': 21381, 'renewable': 21382, 'intensive': 21383, 'infestations': 21384, 'incipient': 21385, 'outbreaks': 21386, 'epidemic': 21387, 'suppression': 21388, 'blister': 21389, 'dwarf': 21390, 'mistletoe': 21391, 'softwood': 21392, 'timberlands': 21393, 'proficiency': 21394, 'hazardous': 21395, 'highvalue': 21396, 'needing': 21397, 'felling': 21398, 'snags': 21399, 'lightningoccurrence': 21400, 'firebreaks': 21401, 'rodent': 21402, 'porcupines': 21403, 'mice': 21404, 'forage': 21405, 'infestation': 21406, 'rangelands': 21407, 'trails': 21408, 'jurisdictions': 21409, 'destination': 21410, 'salvage': 21411, 'windstorm': 21412, 'erosion': 21413, 'overgrazing': 21414, 'acrefeet': 21415, 'multiplepurpose': 21416, 'stumpage': 21417, 'irregular': 21418, 'patenting': 21419, 'nonfederal': 21420, 'inholdings': 21421, 'unmanaged': 21422, 'conventionaltype': 21423, 'missiletype': 21424, 'contending': 21425, 'yearend': 21426, 'reexamine': 21427, 'avoidance': 21428, 'strengths': 21429, 'dependents': 21430, 'outweigh': 21431, 'repeal': 21432, 'transactions': 21433, 'violates': 21434, 'disregard': 21435, 'longline': 21436, 'governmentowned': 21437, 'decreases': 21438, 'shipbuilding': 21439, 'obligational': 21440, 'bidding': 21441, 'reenact': 21442, 'obsolescent': 21443, 'unexpectedly': 21444, 'diminishes': 21445, 'reevaluation': 21446, 'redirect': 21447, 'overtaken': 21448, 'regulus': 21449, 'aerodynamic': 21450, 'shiptosurface': 21451, 'surfaced': 21452, 'acceleration': 21453, 'interceptor': 21454, 'mids': 21455, 'jupiter': 21456, 'deployed': 21457, 'intercontinental': 21458, 'highenergy': 21459, 'curtailed': 21460, 'underscore': 21461, 'farranging': 21462, 'deciding': 21463, 'retaliatory': 21464, 'carrierbased': 21465, 'reinforcement': 21466, 'solidfueled': 21467, 'reliability': 21468, 'airframe': 21469, 'bh': 21470, 'turbofan': 21471, 'tankers': 21472, 'bs': 21473, 'equipping': 21474, 'hound': 21475, 'airtosurface': 21476, 'procured': 21477, 'rupees': 21478, 'accruing': 21479, 'accumulate': 21480, 'indias': 21481, 'grains': 21482, 'rupee': 21483, 'flag': 21484, 'disbursement': 21485, 'undertakings': 21486, 'agrees': 21487, 'resale': 21488, 'transshipment': 21489, 'traders': 21490, 'endeavors': 21491, 'patil': 21492, 'excellency': 21493, 'exportimport': 21494, 'subsidiaries': 21495, 'affiliates': 21496, 'ministry': 21497, 'designate': 21498, 'receipt': 21499, 'maturities': 21500, 'sixtyday': 21501, 'approves': 21502, 'channeled': 21503, 'reimbursed': 21504, 'documentation': 21505, 'memoranda': 21506, 'abovementioned': 21507, 'alwayspresent': 21508, 'proceeding': 21509, 'adjacent': 21510, 'interferes': 21511, 'undetectable': 21512, 'radiated': 21513, 'sunspot': 21514, 'atmospheric': 21515, 'casetocase': 21516, 'variables': 21517, 'separations': 21518, 'cochannel': 21519, 'objectionable': 21520, 'allocations': 21521, 'nighttime': 21522, 'propagation': 21523, 'skywave': 21524, 'ionized': 21525, 'ionosphere': 21526, 'radiate': 21527, 'groundwave': 21528, 'radiations': 21529, 'complicating': 21530, 'evolve': 21531, 'instantaneous': 21532, 'limitedtime': 21533, 'curves': 21534, 'variability': 21535, 'fluctuations': 21536, 'denominated': 21537, 'signalintensity': 21538, 'exceeded': 21539, 'inconsistent': 21540, 'clearchannel': 21541, 'predominant': 21542, 'mvm': 21543, 'whereever': 21544, 'directionally': 21545, 'antennas': 21546, 'affidavits': 21547, 'intereference': 21548, 'refund': 21549, 'plainly': 21550, 'waived': 21551, 'nonresident': 21552, 'aliens': 21553, 'decedent': 21554, 'overpayment': 21555, 'remitted': 21556, 'forgiven': 21557, 'computes': 21558, 'uncertified': 21559, 'elapses': 21560, 'refunded': 21561, 'refunds': 21562, 'deduct': 21563, 'rents': 21564, 'royalties': 21565, 'subtract': 21566, 'reimburses': 21567, 'tenant': 21568, 'allowable': 21569, 'heir': 21570, 'legatee': 21571, 'devisee': 21572, 'qualifies': 21573, 'thirtysix': 21574, 'ancillary': 21575, 'lowell': 21576, 'lowells': 21577, 'selectors': 21578, 'constancy': 21579, 'heedless': 21580, 'trickle': 21581, 'caribbean': 21582, 'philippines': 21583, 'novelists': 21584, 'essayists': 21585, 'choreographers': 21586, 'gratis': 21587, 'conveying': 21588, 'truism': 21589, 'biennium': 21590, 'fisk': 21591, 'provost': 21592, 'thrice': 21593, 'makepeace': 21594, 'thackeray': 21595, 'referring': 21596, 'mathias': 21597, 'kellum': 21598, 'print': 21599, 'abovenoted': 21600, 'nurture': 21601, 'apocalyptic': 21602, 'pericles': 21603, 'greeces': 21604, 'extremity': 21605, 'thermopylae': 21606, 'catastrophes': 21607, 'sermon': 21608, 'gusto': 21609, 'keatss': 21610, 'armadas': 21611, 'industriously': 21612, 'logarithms': 21613, 'olympian': 21614, 'sayings': 21615, 'explorations': 21616, 'answering': 21617, 'extinction': 21618, 'forsan': 21619, 'haec': 21620, 'olim': 21621, 'meminisse': 21622, 'iuvabit': 21623, 'rejoicing': 21624, 'remembering': 21625, 'evils': 21626, 'dickens': 21627, 'theoreticians': 21628, 'stripe': 21629, 'inductions': 21630, 'naught': 21631, 'marxs': 21632, 'capitalists': 21633, 'irrevocably': 21634, 'misery': 21635, 'sumner': 21636, 'reckoned': 21637, 'generalization': 21638, 'eternal': 21639, 'germane': 21640, 'enlighten': 21641, 'endow': 21642, 'fellowships': 21643, 'inquiry': 21644, 'humanities': 21645, 'futile': 21646, 'astride': 21647, 'singular': 21648, 'synonym': 21649, 'metalworking': 21650, 'bustle': 21651, 'watchmaker': 21652, 'plied': 21653, 'walcott': 21654, 'lathes': 21655, 'fatherandson': 21656, 'josephs': 21657, 'gutted': 21658, 'rebuilding': 21659, 'sprang': 21660, 'watches': 21661, 'clocks': 21662, 'steeples': 21663, 'inclinations': 21664, 'characteristically': 21665, 'cryptic': 21666, 'lucian': 21667, 'apprenticeship': 21668, 'sharpes': 21669, 'tinkering': 21670, 'vernier': 21671, 'caliper': 21672, 'willcox': 21673, 'gibbs': 21674, 'howe': 21675, 'crude': 21676, 'boon': 21677, 'turret': 21678, 'ancestry': 21679, 'browns': 21680, 'reversible': 21681, 'muskets': 21682, 'handfiled': 21683, 'rattail': 21684, 'archtype': 21685, 'descended': 21686, 'kneetype': 21687, 'tooth': 21688, 'resharpening': 21689, 'gears': 21690, 'byproduct': 21691, 'superceded': 21692, 'intuition': 21693, 'grinding': 21694, 'counterpart': 21695, 'antecedent': 21696, 'machinefamily': 21697, 'swartz': 21698, 'keenest': 21699, 'darlings': 21700, 'trademark': 21701, 'bearer': 21702, 'paralleled': 21703, 'gages': 21704, 'viall': 21705, 'counselor': 21706, 'eminence': 21707, 'interwoven': 21708, 'unchallenged': 21709, 'tenets': 21710, 'formedtooth': 21711, 'hobbing': 21712, 'rudimentary': 21713, 'beltdriven': 21714, 'grinders': 21715, 'cylindrical': 21716, 'semispecial': 21717, 'bedtype': 21718, 'introduces': 21719, 'manufactures': 21720, 'gaging': 21721, 'micrometers': 21722, 'calipers': 21723, 'incoming': 21724, 'lends': 21725, 'sounder': 21726, 'leesonas': 21727, 'unifil': 21728, 'winder': 21729, 'uniconer': 21730, 'coning': 21731, 'chargeable': 21732, 'ultrahighspeed': 21733, 'yarns': 21734, 'textured': 21735, 'apparel': 21736, 'dresses': 21737, 'blouses': 21738, 'winders': 21739, 'largepackage': 21740, 'twister': 21741, 'fiber': 21742, 'progressing': 21743, 'knottying': 21744, 'knot': 21745, 'bobbins': 21746, 'bobbintocone': 21747, 'winding': 21748, 'highcost': 21749, 'looms': 21750, 'takeup': 21751, 'spinning': 21752, 'facilitate': 21753, 'thermoplastic': 21754, 'filament': 21755, 'spinneret': 21756, 'extruder': 21757, 'threading': 21758, 'twisterconers': 21759, 'polymer': 21760, 'moos': 21761, 'licensee': 21762, 'pmr': 21763, 'compagnie': 21764, 'telegraphie': 21765, 'sans': 21766, 'csf': 21767, 'thermoelectric': 21768, 'modules': 21769, 'nair': 21770, 'monitoring': 21771, 'noxious': 21772, 'abreast': 21773, 'retention': 21774, 'leesonaholt': 21775, 'darwen': 21776, 'rochdale': 21777, 'manchester': 21778, 'transfered': 21779, 'reimburse': 21780, 'nonexempt': 21781, 'salaried': 21782, 'semiprivate': 21783, 'exerted': 21784, 'synthetics': 21785, 'blends': 21786, 'carleton': 21787, 'adjunct': 21788, 'glee': 21789, 'auditions': 21790, 'overtones': 21791, 'keynotes': 21792, 'studentdirected': 21793, 'sermons': 21794, 'chaplain': 21795, 'preachers': 21796, 'theological': 21797, 'judeochristian': 21798, 'ymca': 21799, 'ywca': 21800, 'friendships': 21801, 'denominational': 21802, 'canterbury': 21803, 'hillel': 21804, 'congregationalbaptist': 21805, 'northfield': 21806, 'synod': 21807, 'bethel': 21808, 'moravian': 21809, 'pentecostal': 21810, 'federico': 21811, 'garcia': 21812, 'lorca': 21813, 'pestle': 21814, 'misbegotten': 21815, 'menagerie': 21816, 'boliou': 21817, 'ceramics': 21818, 'enameling': 21819, 'welding': 21820, 'printmaking': 21821, 'lapidary': 21822, 'extracurricular': 21823, 'bottega': 21824, 'contexts': 21825, 'intercollegiate': 21826, 'eligibility': 21827, 'abides': 21828, 'captaincy': 21829, 'cheerleaders': 21830, 'soccer': 21831, 'sportsmanship': 21832, 'orchesis': 21833, 'invitational': 21834, 'threenight': 21835, 'interclass': 21836, 'badminton': 21837, 'hockey': 21838, 'olaf': 21839, 'arranges': 21840, 'picnics': 21841, 'hikes': 21842, 'canoe': 21843, 'banquets': 21844, 'pamphlets': 21845, 'alumni': 21846, 'edited': 21847, 'miscellany': 21848, 'carletonian': 21849, 'examinations': 21850, 'algol': 21851, 'lowpower': 21852, 'carriercurrent': 21853, 'downtrend': 21854, 'burdensome': 21855, 'highend': 21856, 'consoles': 21857, 'phonographs': 21858, 'totalled': 21859, 'battlefield': 21860, 'nikezeus': 21861, 'datahandling': 21862, 'quadruple': 21863, 'banking': 21864, 'retailing': 21865, 'retrieval': 21866, 'transistors': 21867, 'capacitors': 21868, 'semiconductors': 21869, 'uncertainties': 21870, 'fullyear': 21871, 'devey': 21872, 'vectrol': 21873, 'thyratron': 21874, 'rectifier': 21875, 'vectrols': 21876, 'sprague': 21877, 'deveys': 21878, 'spragues': 21879, 'digital': 21880, 'englishborn': 21881, 'vickers': 21882, 'philco': 21883, 'scarborough': 21884, 'electromagnetic': 21885, 'compatability': 21886, 'delegated': 21887, 'selfemployed': 21888, 'accountable': 21889, 'universitywide': 21890, 'actionoriented': 21891, 'persist': 21892, 'hesitance': 21893, 'conversant': 21894, 'ramifications': 21895, 'deadlines': 21896, 'interchange': 21897, 'frankly': 21898, 'daybyday': 21899, 'tact': 21900, 'prerogatives': 21901, 'rebuilds': 21902, 'regenerates': 21903, 'deans': 21904, 'appoints': 21905, 'allcollege': 21906, 'confer': 21907, 'nominate': 21908, 'investigates': 21909, 'truest': 21910, 'unaggressive': 21911, 'summon': 21912, 'oratorical': 21913, 'diversities': 21914, 'multiversity': 21915, 'institutionwide': 21916, 'undergraduates': 21917, 'forecasting': 21918, 'appropriateness': 21919, 'inspires': 21920, 'sternly': 21921, 'curricula': 21922, 'enthusiastically': 21923, 'instructional': 21924, 'empirical': 21925, 'prominence': 21926, 'starvation': 21927, 'socially': 21928, 'culturally': 21929, 'affluent': 21930, 'joneses': 21931, 'relate': 21932, 'nonacademic': 21933, 'besieged': 21934, 'capacities': 21935, 'declinations': 21936, 'substitutions': 21937, 'perception': 21938, 'lengthened': 21939, 'disliked': 21940, 'rang': 21941, 'repetitive': 21942, 'unimportant': 21943, 'bees': 21944, 'buzzing': 21945, 'sour': 21946, 'trays': 21947, 'flydotted': 21948, 'cheesecloth': 21949, 'surging': 21950, 'dived': 21951, 'blackness': 21952, 'amber': 21953, 'filippo': 21954, 'rossi': 21955, 'signore': 21956, 'elders': 21957, 'commanded': 21958, 'kiss': 21959, 'furpiece': 21960, 'wiggled': 21961, 'satincovered': 21962, 'buttocks': 21963, 'clutched': 21964, 'suitcase': 21965, 'strutted': 21966, 'streetcars': 21967, 'torino': 21968, 'airs': 21969, 'slapped': 21970, 'dante': 21971, 'actresses': 21972, 'calloused': 21973, 'caressed': 21974, 'rosaries': 21975, 'excitedly': 21976, 'puckered': 21977, 'chins': 21978, 'hairs': 21979, 'sprouted': 21980, 'tweezed': 21981, 'mauvecolored': 21982, 'sweeter': 21983, 'smiled': 21984, 'suppleness': 21985, 'stockings': 21986, 'shooing': 21987, 'fleas': 21988, 'sundials': 21989, 'variegated': 21990, 'flown': 21991, 'withered': 21992, 'wrinkled': 21993, 'guessed': 21994, 'outskirts': 21995, 'bari': 21996, 'chieti': 21997, 'smelled': 21998, 'roared': 21999, 'schuylkill': 22000, 'hatred': 22001, 'aloneness': 22002, 'sameness': 22003, 'ginkgo': 22004, 'manurescented': 22005, 'porches': 22006, 'wicker': 22007, 'screeched': 22008, 'rusted': 22009, 'stablegarage': 22010, 'scent': 22011, 'hedge': 22012, 'reeked': 22013, 'dregs': 22014, 'squatted': 22015, 'grating': 22016, 'facade': 22017, 'bartolis': 22018, 'secondstory': 22019, 'showroom': 22020, 'fortresses': 22021, 'slant': 22022, 'paved': 22023, 'alleyways': 22024, 'tunneled': 22025, 'intimacy': 22026, 'courtyards': 22027, 'shaded': 22028, 'grape': 22029, 'forked': 22030, 'gossip': 22031, 'sinister': 22032, 'coolness': 22033, 'pompeii': 22034, 'whitecolumned': 22035, 'eightthirty': 22036, 'gloved': 22037, 'fist': 22038, 'bowing': 22039, 'vest': 22040, 'unconcerned': 22041, 'brushing': 22042, 'lithe': 22043, 'straddled': 22044, 'pales': 22045, 'tanned': 22046, 'artfully': 22047, 'tapering': 22048, 'glowed': 22049, 'sinewy': 22050, 'swirled': 22051, 'childlike': 22052, 'softness': 22053, 'harshness': 22054, 'belied': 22055, 'downcast': 22056, 'sullen': 22057, 'screeching': 22058, 'interrupted': 22059, 'daydreaming': 22060, 'wetness': 22061, 'lapping': 22062, 'goats': 22063, 'claret': 22064, 'feasting': 22065, 'sallow': 22066, 'timecast': 22067, 'encrusted': 22068, 'marbleized': 22069, 'unfalteringly': 22070, 'goat': 22071, 'git': 22072, 'soothing': 22073, 'whiskered': 22074, 'jowls': 22075, 'swollen': 22076, 'teats': 22077, 'expectantly': 22078, 'undulated': 22079, 'straining': 22080, 'taut': 22081, 'squirted': 22082, 'savored': 22083, 'bagpipe': 22084, 'delighting': 22085, 'fluttering': 22086, 'soutane': 22087, 'reassured': 22088, 'sandals': 22089, 'ocher': 22090, 'pompeiis': 22091, 'clapping': 22092, 'pretended': 22093, 'ticks': 22094, 'niobe': 22095, 'neatest': 22096, 'concetta': 22097, 'concettas': 22098, 'idiot': 22099, 'romeos': 22100, 'shrill': 22101, 'rotundity': 22102, 'disfigured': 22103, 'flesh': 22104, 'maggies': 22105, 'throbbed': 22106, 'maggie': 22107, 'quench': 22108, 'fuzz': 22109, 'flaxen': 22110, 'rages': 22111, 'digesting': 22112, 'peaches': 22113, 'complexion': 22114, 'shook': 22115, 'coaxed': 22116, 'rackety': 22117, 'washer': 22118, 'lugged': 22119, 'familys': 22120, 'upkeep': 22121, 'soap': 22122, 'pored': 22123, 'desperation': 22124, 'eugenia': 22125, 'babys': 22126, 'nursery': 22127, 'starched': 22128, 'nuzzled': 22129, 'ironed': 22130, 'evadna': 22131, 'mae': 22132, 'flannel': 22133, 'wrapper': 22134, 'bests': 22135, 'liliputian': 22136, 'snap': 22137, 'laughing': 22138, 'laughed': 22139, 'envelope': 22140, 'jotting': 22141, 'cribs': 22142, 'playroom': 22143, 'chris': 22144, 'salads': 22145, 'beans': 22146, 'typing': 22147, 'chattering': 22148, 'miseries': 22149, 'harshened': 22150, 'grim': 22151, 'resembling': 22152, 'habitual': 22153, 'sprawling': 22154, 'bumptious': 22155, 'openhanded': 22156, 'greedy': 22157, 'basking': 22158, 'riches': 22159, 'jobless': 22160, 'depressions': 22161, 'congested': 22162, 'abernathys': 22163, 'dentist': 22164, 'soles': 22165, 'overshoes': 22166, 'abernathy': 22167, 'ravenous': 22168, 'maw': 22169, 'appeased': 22170, 'hurling': 22171, 'depths': 22172, 'cracks': 22173, 'sprung': 22174, 'loosened': 22175, 'fireplaces': 22176, 'grandmas': 22177, 'wretched': 22178, 'stormbound': 22179, 'shipwrecked': 22180, 'freak': 22181, 'anxieties': 22182, 'swabbed': 22183, 'bathrooms': 22184, 'undressed': 22185, 'groaning': 22186, 'polar': 22187, 'plunged': 22188, 'mouthful': 22189, 'hated': 22190, 'wallow': 22191, 'ruin': 22192, 'begged': 22193, 'willed': 22194, 'bedspread': 22195, 'overturning': 22196, 'tolleys': 22197, 'laban': 22198, 'tolley': 22199, 'hed': 22200, 'jenny': 22201, 'robards': 22202, 'mamma': 22203, 'kizzie': 22204, 'suns': 22205, 'braces': 22206, 'marrying': 22207, 'consorting': 22208, 'fairbrothers': 22209, 'labans': 22210, 'fault': 22211, 'valiant': 22212, 'pitiable': 22213, 'dear': 22214, 'cruel': 22215, 'loghouse': 22216, 'marry': 22217, 'asunder': 22218, 'absolution': 22219, 'telegraph': 22220, 'pigeonhole': 22221, 'deception': 22222, 'confess': 22223, 'lacerate': 22224, 'pyre': 22225, 'curl': 22226, 'sealing': 22227, 'bubbling': 22228, 'feathery': 22229, 'gathers': 22230, 'swinburne': 22231, 'envy': 22232, 'satisfactions': 22233, 'greening': 22234, 'fairs': 22235, 'quinzaine': 22236, 'graves': 22237, 'grandsons': 22238, 'thimble': 22239, 'blacksmith': 22240, 'preacher': 22241, 'howdy': 22242, 'whipsnade': 22243, 'dunne': 22244, 'pga': 22245, 'cun': 22246, 'damn': 22247, 'plainout': 22248, 'scream': 22249, 'carte': 22250, 'irritating': 22251, 'mares': 22252, 'geldings': 22253, 'whatnots': 22254, 'reverent': 22255, 'racin': 22256, 'revolting': 22257, 'gunny': 22258, 'imperiously': 22259, 'stall': 22260, 'oneasy': 22261, 'scarf': 22262, 'sorl': 22263, 'musnt': 22264, 'annoy': 22265, 'foal': 22266, 'laments': 22267, 'predictions': 22268, 'procession': 22269, 'foals': 22270, 'symbolized': 22271, 'tillie': 22272, 'midwife': 22273, 'jennys': 22274, 'aversion': 22275, 'admirer': 22276, 'veterinarian': 22277, 'rubbing': 22278, 'quarts': 22279, 'liniment': 22280, 'fussing': 22281, 'bran': 22282, 'mash': 22283, 'russe': 22284, 'tracking': 22285, 'worried': 22286, 'triplets': 22287, 'trippin': 22288, 'rhyme': 22289, 'cute': 22290, 'arcilla': 22291, 'flotilla': 22292, 'edmonia': 22293, 'jennifer': 22294, 'kezziah': 22295, 'thisll': 22296, 'fetch': 22297, 'boyname': 22298, 'handsomest': 22299, 'distressed': 22300, 'peach': 22301, 'sis': 22302, 'rakestraw': 22303, 'heavenly': 22304, 'spa': 22305, 'snippy': 22306, 'namesake': 22307, 'teething': 22308, 'kiz': 22309, 'tillies': 22310, 'nicks': 22311, 'chickens': 22312, 'pups': 22313, 'todo': 22314, 'dollies': 22315, 'nigs': 22316, 'shame': 22317, 'everbody': 22318, 'dang': 22319, 'oystchers': 22320, 'barl': 22321, 'oystchersll': 22322, 'perk': 22323, 'roys': 22324, 'eph': 22325, 'showers': 22326, 'hop': 22327, 'momentary': 22328, 'thems': 22329, 'purtiest': 22330, 'babes': 22331, 'lonesome': 22332, 'comin': 22333, 'uncomfortably': 22334, 'henrietta': 22335, 'murmured': 22336, 'doatys': 22337, 'doaty': 22338, 'godless': 22339, 'wishing': 22340, 'garnet': 22341, 'hetty': 22342, 'unfavorable': 22343, 'adelia': 22344, 'hettys': 22345, 'maneret': 22346, 'craddock': 22347, 'wand': 22348, 'everlasting': 22349, 'onetwothree': 22350, 'teas': 22351, 'fetes': 22352, 'mama': 22353, 'blackwell': 22354, 'planets': 22355, 'sighing': 22356, 'colloquy': 22357, 'sill': 22358, 'pilgrim': 22359, 'graveyards': 22360, 'impatient': 22361, 'dew': 22362, 'wildness': 22363, 'leaning': 22364, 'rosebush': 22365, 'thorns': 22366, 'dewdrops': 22367, 'nondescriptly': 22368, 'barefoot': 22369, 'decidedly': 22370, 'femme': 22371, 'dun': 22372, 'rosa': 22373, 'unbelievably': 22374, 'reassurance': 22375, 'bun': 22376, 'jug': 22377, 'tame': 22378, 'bouquet': 22379, 'scented': 22380, 'ladys': 22381, 'bedstraw': 22382, 'grasses': 22383, 'haranguing': 22384, 'folly': 22385, 'poodle': 22386, 'gleefully': 22387, 'supplicating': 22388, 'prayerful': 22389, 'forepaws': 22390, 'rummaging': 22391, 'coldly': 22392, 'slumbered': 22393, 'shuttered': 22394, 'eying': 22395, 'frankest': 22396, 'princessinacarriage': 22397, 'acknowledgments': 22398, 'reflective': 22399, 'sap': 22400, 'impulse': 22401, 'nettled': 22402, 'unenthusiastic': 22403, 'dryin': 22404, 'scowled': 22405, 'takin': 22406, 'soons': 22407, 'coffin': 22408, 'doubtfully': 22409, 'yre': 22410, 'soldierly': 22411, 'sprawled': 22412, 'fr': 22413, 'whatsoever': 22414, 'tissues': 22415, 'womanly': 22416, 'pacifies': 22417, 'dad': 22418, 'titus': 22419, 'nineties': 22420, 'blackwells': 22421, 'beard': 22422, 'deepset': 22423, 'mariner': 22424, 'fishingboat': 22425, 'shriveled': 22426, 'lawful': 22427, 'leavin': 22428, 'cheerfully': 22429, 'dryly': 22430, 'knowingly': 22431, 'liking': 22432, 'connivance': 22433, 'selma': 22434, 'cotters': 22435, 'censure': 22436, 'bigboned': 22437, 'drabhaired': 22438, 'apron': 22439, 'limp': 22440, 'grandad': 22441, 'porridge': 22442, 'sops': 22443, 'claws': 22444, 'lowly': 22445, 'granddaughter': 22446, 'wearily': 22447, 'piously': 22448, 'forgave': 22449, 'somewheres': 22450, 'maam': 22451, 'delia': 22452, 'nod': 22453, 'patiently': 22454, 'mumbled': 22455, 'shuffling': 22456, 'mightily': 22457, 'buffeted': 22458, 'gabble': 22459, 'journeys': 22460, 'dotted': 22461, 'scant': 22462, 'clawing': 22463, 'stony': 22464, 'darted': 22465, 'rustle': 22466, 'terrestrial': 22467, 'humming': 22468, 'mindless': 22469, 'spire': 22470, 'graveyard': 22471, 'headstones': 22472, 'tredding': 22473, 'seadamp': 22474, 'indecipherable': 22475, 'padded': 22476, 'parasol': 22477, 'rockcarved': 22478, 'moonlight': 22479, 'scudding': 22480, 'ghosts': 22481, 'momoyama': 22482, 'miyagi': 22483, 'prefecture': 22484, 'honshu': 22485, 'ainu': 22486, 'ainus': 22487, 'ancestors': 22488, 'caucasian': 22489, 'subsist': 22490, 'tribal': 22491, 'chants': 22492, 'sadness': 22493, 'assimilated': 22494, 'akita': 22495, 'prefectures': 22496, 'hairy': 22497, 'tawny': 22498, 'honeyinthesun': 22499, 'tint': 22500, 'invaders': 22501, 'taller': 22502, 'exquisitely': 22503, 'willowy': 22504, 'sunburn': 22505, 'forebears': 22506, 'intriguingly': 22507, 'rebellious': 22508, 'diego': 22509, 'bremerton': 22510, 'resign': 22511, 'psychopathic': 22512, 'depressingly': 22513, 'teamed': 22514, 'hulks': 22515, 'warships': 22516, 'sunk': 22517, 'inshore': 22518, 'nerveshattering': 22519, 'blasts': 22520, 'psychiatry': 22521, 'dinnertime': 22522, 'sixmonth': 22523, 'yokosuka': 22524, 'fleets': 22525, 'goodlooking': 22526, 'cubes': 22527, 'tinkling': 22528, 'tipsy': 22529, 'tweed': 22530, 'aviator': 22531, 'fiftyfifty': 22532, 'implied': 22533, 'harro': 22534, 'girlsan': 22535, 'catchee': 22536, 'boyfuriendo': 22537, 'likee': 22538, 'beg': 22539, 'nicelooking': 22540, 'openmouthed': 22541, 'blushing': 22542, 'furiously': 22543, 'jerked': 22544, 'slang': 22545, 'flyboy': 22546, 'uh': 22547, 'brunettes': 22548, 'orient': 22549, 'humiliated': 22550, 'selfconsciously': 22551, 'waitresses': 22552, 'murdering': 22553, 'yuki': 22554, 'kobayashi': 22555, 'bifuteksan': 22556, 'kohi': 22557, 'futotsu': 22558, 'whitehaired': 22559, 'doting': 22560, 'tommys': 22561, 'rebelliously': 22562, 'transient': 22563, 'afterduty': 22564, 'putupon': 22565, 'indigestion': 22566, 'bicarbonate': 22567, 'soda': 22568, 'sulked': 22569, 'oyajima': 22570, 'kimono': 22571, 'kotowaza': 22572, 'proverb': 22573, 'tanin': 22574, 'yori': 22575, 'miuchi': 22576, 'strangers': 22577, 'thicker': 22578, 'doolittles': 22579, 'captains': 22580, 'mast': 22581, 'dispensed': 22582, 'immature': 22583, 'subic': 22584, 'walt': 22585, 'rabble': 22586, 'doolittle': 22587, 'appleby': 22588, 'perils': 22589, 'sobering': 22590, 'wisecracked': 22591, 'indoctrination': 22592, 'slaughtering': 22593, 'cockroaches': 22594, 'ethyl': 22595, 'chloride': 22596, 'bustard': 22597, 'mccafferty': 22598, 'shipmate': 22599, 'gresham': 22600, 'sonofabitch': 22601, 'commissary': 22602, 'errand': 22603, 'gangway': 22604, 'excursion': 22605, 'dusk': 22606, 'hiking': 22607, 'frog': 22608, 'sierras': 22609, 'buzzs': 22610, 'strippers': 22611, 'scrumptious': 22612, 'toodle': 22613, 'alllesbian': 22614, 'willows': 22615, 'instigator': 22616, 'gertrude': 22617, 'ahah': 22618, 'divorcee': 22619, 'disappointed': 22620, 'pajamas': 22621, 'moons': 22622, 'semiprofessionally': 22623, 'laysisters': 22624, 'eskimos': 22625, 'highball': 22626, 'sparkled': 22627, 'dully': 22628, 'hardships': 22629, 'smug': 22630, 'sappy': 22631, 'twitch': 22632, 'lewd': 22633, 'winking': 22634, 'eskimo': 22635, 'sicklytolerant': 22636, 'canvassing': 22637, 'forebearing': 22638, 'retreated': 22639, 'curiously': 22640, 'corridors': 22641, 'knocking': 22642, 'pairs': 22643, 'hundredandfifty': 22644, 'overexcited': 22645, 'remonstrated': 22646, 'bibles': 22647, 'cosmetics': 22648, 'waspishly': 22649, 'appliance': 22650, 'heatedly': 22651, 'blinking': 22652, 'seller': 22653, 'buckingup': 22654, 'crestfallen': 22655, 'indecisively': 22656, 'showered': 22657, 'overdue': 22658, 'alimony': 22659, 'collector': 22660, 'exemptions': 22661, 'ate': 22662, 'crest': 22663, 'whitetopped': 22664, 'glisten': 22665, 'truckee': 22666, 'spangle': 22667, 'elated': 22668, 'adventurous': 22669, 'flowerpot': 22670, 'calf': 22671, 'dice': 22672, 'rattling': 22673, 'gamblers': 22674, 'caring': 22675, 'mural': 22676, 'depicted': 22677, 'settlers': 22678, 'gazed': 22679, 'donner': 22680, 'starving': 22681, 'mused': 22682, 'heavilyupholstered': 22683, 'onearm': 22684, 'bandits': 22685, 'bested': 22686, 'driedup': 22687, 'blondes': 22688, 'martingale': 22689, 'hitandmiss': 22690, 'fiveseventeen': 22691, 'twelvehour': 22692, 'roulettes': 22693, 'blackjack': 22694, 'barh': 22695, 'sparky': 22696, 'singlefoot': 22697, 'washoe': 22698, 'pinto': 22699, 'jinx': 22700, 'hurrays': 22701, 'glorified': 22702, 'den': 22703, 'keno': 22704, 'waned': 22705, 'shill': 22706, 'shills': 22707, 'flipping': 22708, 'floorshow': 22709, 'adele': 22710, 'brenner': 22711, 'schoolgirls': 22712, 'chuckaluck': 22713, 'shirt': 22714, 'fatter': 22715, 'calneva': 22716, 'instigating': 22717, 'stickman': 22718, 'crossroading': 22719, 'faro': 22720, 'pollen': 22721, 'okay': 22722, 'crap': 22723, 'pyramid': 22724, 'hows': 22725, 'sunsuit': 22726, 'prosperous': 22727, 'propositioned': 22728, 'tango': 22729, 'lump': 22730, 'throat': 22731, 'gisele': 22732, 'sylphide': 22733, 'spencer': 22734, 'coldbloodedly': 22735, 'somers': 22736, 'pretence': 22737, 'gansevoort': 22738, 'andrews': 22739, 'mutineer': 22740, 'heiser': 22741, 'wildeyed': 22742, 'chilling': 22743, 'handspikes': 22744, 'heavers': 22745, 'holystones': 22746, 'mysteriously': 22747, 'souvenirs': 22748, 'battleax': 22749, 'sharpened': 22750, 'mckinley': 22751, 'spencers': 22752, 'disappearance': 22753, 'topgallant': 22754, 'wellorganized': 22755, 'horror': 22756, 'bellowed': 22757, 'questioningly': 22758, 'shackled': 22759, 'adrien': 22760, 'deslonde': 22761, 'alexanders': 22762, 'violently': 22763, 'weatherroyal': 22764, 'swear': 22765, 'obey': 22766, 'bloodshed': 22767, 'unwillingness': 22768, 'sanction': 22769, 'irons': 22770, 'stalked': 22771, 'morose': 22772, 'displeasure': 22773, 'hiding': 22774, 'midshipman': 22775, 'tillotson': 22776, 'insolently': 22777, 'disobeyed': 22778, 'seaman': 22779, 'brandishing': 22780, 'snarling': 22781, 'villainous': 22782, 'omniscient': 22783, 'staunch': 22784, 'punished': 22785, 'ferocious': 22786, 'anarchy': 22787, 'sentinel': 22788, 'midshipmen': 22789, 'implacable': 22790, 'passionately': 22791, 'eighteenyearold': 22792, 'sailed': 22793, 'sobbed': 22794, 'egotists': 22795, 'egotist': 22796, 'someday': 22797, 'sternfaced': 22798, 'inspected': 22799, 'averted': 22800, 'boatswain': 22801, 'mildmannered': 22802, 'respectful': 22803, 'squinting': 22804, 'lethargy': 22805, 'gaze': 22806, 'calmness': 22807, 'unawareness': 22808, 'thickskulled': 22809, 'handcuffs': 22810, 'redhaired': 22811, 'prisoner': 22812, 'shackles': 22813, 'undoing': 22814, 'hazel': 22815, 'untruth': 22816, 'cromwells': 22817, 'whispered': 22818, 'geometry': 22819, 'wardroom': 22820, 'frightful': 22821, 'torah': 22822, 'trash': 22823, 'warmish': 22824, 'foul': 22825, 'alley': 22826, 'doublebreasted': 22827, 'trousers': 22828, 'buckles': 22829, 'brim': 22830, 'pinkishwhite': 22831, 'paot': 22832, 'longsleeved': 22833, 'dingy': 22834, 'pivoting': 22835, 'plodding': 22836, 'discolored': 22837, 'synagogues': 22838, 'ajar': 22839, 'baggy': 22840, 'skullcap': 22841, 'clasping': 22842, 'unclasping': 22843, 'paunch': 22844, 'flicked': 22845, 'barearmed': 22846, 'corridor': 22847, 'peering': 22848, 'dripped': 22849, 'surly': 22850, 'yiddish': 22851, 'rapping': 22852, 'shrilled': 22853, 'hebrew': 22854, 'greatgrandfather': 22855, 'prayed': 22856, 'ghettos': 22857, 'upturned': 22858, 'cropped': 22859, 'ringlets': 22860, 'yellowed': 22861, 'prayerbooks': 22862, 'ghetto': 22863, 'incessantly': 22864, 'freckles': 22865, 'curls': 22866, 'memorized': 22867, 'singsonged': 22868, 'offkey': 22869, 'shuddered': 22870, 'clucked': 22871, 'rigid': 22872, 'shabbat': 22873, 'numb': 22874, 'prickly': 22875, 'pruta': 22876, 'grinned': 22877, 'sabras': 22878, 'horrible': 22879, 'messiah': 22880, 'convictions': 22881, 'immortal': 22882, 'twinkling': 22883, 'respectfully': 22884, 'kibbutzim': 22885, 'aliah': 22886, 'immigrants': 22887, 'slyly': 22888, 'shearim': 22889, 'anyplace': 22890, 'clasped': 22891, 'cobblestones': 22892, 'pursed': 22893, 'refugee': 22894, 'strut': 22895, 'numerals': 22896, 'despondent': 22897, 'retrieve': 22898, 'wandered': 22899, 'hanged': 22900, 'reuveni': 22901, 'brighteyed': 22902, 'poling': 22903, 'braving': 22904, 'dumped': 22905, 'ethiopians': 22906, 'cabins': 22907, 'naked': 22908, 'unfrosted': 22909, 'streetlight': 22910, 'swooping': 22911, 'bouts': 22912, 'hopscotch': 22913, 'moths': 22914, 'pinging': 22915, 'feelers': 22916, 'waving': 22917, 'sagged': 22918, 'overhearing': 22919, 'gratt': 22920, 'shafer': 22921, 'mattie': 22922, 'microphone': 22923, 'toonker': 22924, 'burkette': 22925, 'yanking': 22926, 'leak': 22927, 'parachute': 22928, 'starkey': 22929, 'poe': 22930, 'underwear': 22931, 'pregnant': 22932, 'daddy': 22933, 'draining': 22934, 'punctured': 22935, 'muddy': 22936, 'pumps': 22937, 'damned': 22938, 'hating': 22939, 'raped': 22940, 'rape': 22941, 'nestled': 22942, 'tramp': 22943, 'skull': 22944, 'crates': 22945, 'mildvoiced': 22946, 'littletown': 22947, 'bigtown': 22948, 'houdini': 22949, 'unlocked': 22950, 'chump': 22951, 'tooshiny': 22952, 'dawns': 22953, 'shafers': 22954, 'whitewashed': 22955, 'spellbound': 22956, 'rehearsing': 22957, 'swelled': 22958, 'goose': 22959, 'bumps': 22960, 'rippled': 22961, 'rained': 22962, 'ass': 22963, 'nodding': 22964, 'cheeks': 22965, 'powdery': 22966, 'droughts': 22967, 'drought': 22968, 'factorytoyou': 22969, 'unventilated': 22970, 'primping': 22971, 'boxedin': 22972, 'bangs': 22973, 'jerk': 22974, 'clutching': 22975, 'whicheverthehell': 22976, 'sixthirty': 22977, 'crammed': 22978, 'eightbyten': 22979, 'jewelers': 22980, 'paperback': 22981, 'cops': 22982, 'karamazov': 22983, 'magpie': 22984, 'fifteenthcentury': 22985, 'ferreted': 22986, 'shields': 22987, 'reflections': 22988, 'mckenzie': 22989, 'rufus': 22990, 'researches': 22991, 'haircuts': 22992, 'fauntleroy': 22993, 'beards': 22994, 'stills': 22995, 'clam': 22996, 'painters': 22997, 'monmouth': 22998, 'reminded': 22999, 'freshness': 23000, 'nearsighted': 23001, 'uncanny': 23002, 'absentminded': 23003, 'sleepwalker': 23004, 'christs': 23005, 'prussian': 23006, 'pants': 23007, 'lodgings': 23008, 'askingtons': 23009, 'illustrator': 23010, 'askington': 23011, 'monmouths': 23012, 'cashmere': 23013, 'buttons': 23014, 'viyella': 23015, 'necktie': 23016, 'bolo': 23017, 'jade': 23018, 'brushoffs': 23019, 'fortyfour': 23020, 'erudite': 23021, 'illustrators': 23022, 'slick': 23023, 'velasquez': 23024, 'bookshelves': 23025, 'modigliani': 23026, 'pollock': 23027, 'miro': 23028, 'martian': 23029, 'durer': 23030, 'mantegna': 23031, 'embrace': 23032, 'fragment': 23033, 'mosaic': 23034, 'expressionism': 23035, 'photorealism': 23036, 'anatomy': 23037, 'fivehundreddollar': 23038, 'bums': 23039, 'hajime': 23040, 'iijima': 23041, 'pendleton': 23042, 'osric': 23043, 'retrospective': 23044, 'thoreaus': 23045, 'hangouts': 23046, 'magical': 23047, 'isolating': 23048, 'artisan': 23049, 'craftsmanship': 23050, 'goldsmith': 23051, 'carver': 23052, 'portraying': 23053, 'propagandist': 23054, 'satirist': 23055, 'illustrating': 23056, 'toothpaste': 23057, 'salacious': 23058, 'fluff': 23059, 'navel': 23060, 'upshot': 23061, 'pendletons': 23062, 'awkward': 23063, 'punch': 23064, 'lonely': 23065, 'brushoff': 23066, 'mailman': 23067, 'cigars': 23068, 'quitting': 23069, 'ida': 23070, 'frowning': 23071, 'stir': 23072, 'accusing': 23073, 'vias': 23074, 'assail': 23075, 'halfmurmured': 23076, 'parboiled': 23077, 'icebox': 23078, 'dolly': 23079, 'thaxters': 23080, 'movietobe': 23081, 'tranquil': 23082, 'foggy': 23083, 'grooved': 23084, 'mists': 23085, 'sunwarmed': 23086, 'palisades': 23087, 'crept': 23088, 'twinkle': 23089, 'unsee': 23090, 'thaxter': 23091, 'turnaround': 23092, 'engisch': 23093, 'screamed': 23094, 'closets': 23095, 'exclaiming': 23096, 'gasps': 23097, 'portfolio': 23098, 'lingerie': 23099, 'salters': 23100, 'alarm': 23101, 'harvie': 23102, 'constance': 23103, 'disturbed': 23104, 'gleaming': 23105, 'moontrack': 23106, 'misstep': 23107, 'shudder': 23108, 'vigilance': 23109, 'sonny': 23110, 'pitied': 23111, 'unquenched': 23112, 'enduring': 23113, 'outcry': 23114, 'appalled': 23115, 'absurd': 23116, 'exclamation': 23117, 'estranged': 23118, 'hangs': 23119, 'selfpity': 23120, 'scapegoat': 23121, 'rankles': 23122, 'coolly': 23123, 'triumphantly': 23124, 'overplayed': 23125, 'insulting': 23126, 'dispossessed': 23127, 'makeshifts': 23128, 'arid': 23129, 'transcending': 23130, 'murky': 23131, 'selfexamination': 23132, 'deliverance': 23133, 'pettiness': 23134, 'greed': 23135, 'glistening': 23136, 'eyeglasses': 23137, 'doll': 23138, 'stranger': 23139, 'sacred': 23140, 'burial': 23141, 'postponed': 23142, 'cremate': 23143, 'trestles': 23144, 'sheaf': 23145, 'knelt': 23146, 'hearse': 23147, 'chapellike': 23148, 'discreet': 23149, 'faiths': 23150, 'impelled': 23151, 'kneel': 23152, 'healing': 23153, 'uhhu': 23154, 'eyelid': 23155, 'convivial': 23156, 'pausing': 23157, 'umm': 23158, 'kleenex': 23159, 'lipstick': 23160, 'alberto': 23161, 'flatter': 23162, 'caneli': 23163, 'hide': 23164, 'annoyance': 23165, 'scrub': 23166, 'exasperation': 23167, 'dwelt': 23168, 'thinsoled': 23169, 'darkgray': 23170, 'slacks': 23171, 'fawncolored': 23172, 'tweedy': 23173, 'darkblue': 23174, 'parioli': 23175, 'loafed': 23176, 'ruins': 23177, 'veneto': 23178, 'farnese': 23179, 'scandal': 23180, 'farneses': 23181, 'trastevere': 23182, 'piazza': 23183, 'woke': 23184, 'bells': 23185, 'scolding': 23186, 'clung': 23187, 'peters': 23188, 'drowsily': 23189, 'snuggled': 23190, 'certainty': 23191, 'sistine': 23192, 'prophets': 23193, 'protestant': 23194, 'dogmatic': 23195, 'atheists': 23196, 'wearied': 23197, 'ideologies': 23198, 'enlargement': 23199, 'pondering': 23200, 'ferraros': 23201, 'joking': 23202, 'worrying': 23203, 'ferraro': 23204, 'softly': 23205, 'ciao': 23206, 'gleamed': 23207, 'agnese': 23208, 'ello': 23209, 'biscuits': 23210, 'folded': 23211, 'signora': 23212, 'bobbing': 23213, 'encouragingly': 23214, 'nephew': 23215, 'boxcar': 23216, 'sams': 23217, 'boxcars': 23218, 'regretfully': 23219, 'thanked': 23220, 'serenity': 23221, 'unaware': 23222, 'homely': 23223, 'approvingly': 23224, 'confidentially': 23225, 'discontent': 23226, 'intellect': 23227, 'signor': 23228, 'carlas': 23229, 'italians': 23230, 'devout': 23231, 'malta': 23232, 'happiness': 23233, 'dreamy': 23234, 'dookiyoon': 23235, 'purify': 23236, 'caressing': 23237, 'flageolet': 23238, 'whisper': 23239, 'unhesitant': 23240, 'disdain': 23241, 'scornful': 23242, 'bleeding': 23243, 'presences': 23244, 'trembling': 23245, 'queer': 23246, 'hideous': 23247, 'weird': 23248, 'images': 23249, 'eyeballs': 23250, 'thumbs': 23251, 'minded': 23252, 'lodges': 23253, 'halfdrunk': 23254, 'walitzee': 23255, 'commotion': 23256, 'hushed': 23257, 'imperious': 23258, 'scorn': 23259, 'overloud': 23260, 'indignant': 23261, 'unsheathing': 23262, 'curing': 23263, 'wickedness': 23264, 'cunning': 23265, 'loathing': 23266, 'helsqiyokom': 23267, 'murmuring': 23268, 'mingling': 23269, 'hurled': 23270, 'sting': 23271, 'defiance': 23272, 'howling': 23273, 'bullhide': 23274, 'screaming': 23275, 'flog': 23276, 'demons': 23277, 'jerking': 23278, 'hovel': 23279, 'doublemarried': 23280, 'darkness': 23281, 'mumbling': 23282, 'stupor': 23283, 'worrisome': 23284, 'wolves': 23285, 'nakedness': 23286, 'stale': 23287, 'odor': 23288, 'whisky': 23289, 'tuhulhulzote': 23290, 'curses': 23291, 'gnarled': 23292, 'talons': 23293, 'rudely': 23294, 'shoving': 23295, 'snarled': 23296, 'motionless': 23297, 'staring': 23298, 'delineaments': 23299, 'bark': 23300, 'begotten': 23301, 'tracings': 23302, 'refracted': 23303, 'lash': 23304, 'crazed': 23305, 'monosyllables': 23306, 'unnnt': 23307, 'quavering': 23308, 'unbent': 23309, 'dodging': 23310, 'hid': 23311, 'madness': 23312, 'glorying': 23313, 'hoarse': 23314, 'mastiff': 23315, 'bristling': 23316, 'ranted': 23317, 'prophesied': 23318, 'doom': 23319, 'gasping': 23320, 'draughts': 23321, 'incoherent': 23322, 'oblivion': 23323, 'retribution': 23324, 'antics': 23325, 'disdaining': 23326, 'gloom': 23327, 'paraded': 23328, 'grandly': 23329, 'attis': 23330, 'skeletons': 23331, 'paxam': 23332, 'arrowheads': 23333, 'rattlesnakes': 23334, 'maneuvers': 23335, 'unison': 23336, 'sarpsis': 23337, 'blankets': 23338, 'swan': 23339, 'emulate': 23340, 'timidly': 23341, 'disordered': 23342, 'chemistries': 23343, 'fermenting': 23344, 'alokut': 23345, 'maneuvered': 23346, 'cavalry': 23347, 'frenziedly': 23348, 'regalia': 23349, 'foreheads': 23350, 'tails': 23351, 'sage': 23352, 'hens': 23353, 'whitened': 23354, 'leggings': 23355, 'maleness': 23356, 'admiring': 23357, 'envenomed': 23358, 'haunted': 23359, 'hilltops': 23360, 'descend': 23361, 'cliffs': 23362, 'arrogance': 23363, 'streaming': 23364, 'amulets': 23365, 'bellicosity': 23366, 'throes': 23367, 'disheveled': 23368, 'hoofs': 23369, 'appaloosas': 23370, 'multicolored': 23371, 'banners': 23372, 'cacophony': 23373, 'thousandlegged': 23374, 'plunging': 23375, 'saddles': 23376, 'ejaculated': 23377, 'hemlocks': 23378, 'birch': 23379, 'quarry': 23380, 'stubs': 23381, 'expertly': 23382, 'sneakers': 23383, 'shortcut': 23384, 'reedy': 23385, 'frogs': 23386, 'julia': 23387, 'hello': 23388, 'lowercut': 23389, 'pretense': 23390, 'embarrassment': 23391, 'bentley': 23392, 'rawlings': 23393, 'ghost': 23394, 'slept': 23395, 'fumbled': 23396, 'bandages': 23397, 'uncovered': 23398, 'fearful': 23399, 'coursing': 23400, 'shivered': 23401, 'bloodsoaked': 23402, 'tidiness': 23403, 'verge': 23404, 'poldowski': 23405, 'debt': 23406, 'effete': 23407, 'peered': 23408, 'wristwatch': 23409, 'kneeling': 23410, 'shoelaces': 23411, 'absurdly': 23412, 'strands': 23413, 'gauze': 23414, 'cheekbones': 23415, 'detained': 23416, 'hallway': 23417, 'freakish': 23418, 'cavern': 23419, 'thief': 23420, 'blazer': 23421, 'brow': 23422, 'knitted': 23423, 'pietros': 23424, 'float': 23425, 'implausibly': 23426, 'considerate': 23427, 'eyelids': 23428, 'pounding': 23429, 'footsteps': 23430, 'pietro': 23431, 'insolent': 23432, 'disdainful': 23433, 'ardmore': 23434, 'merest': 23435, 'inflection': 23436, 'rehearsed': 23437, 'analyze': 23438, 'carrie': 23439, 'slackened': 23440, 'purposeless': 23441, 'abruptly': 23442, 'bumped': 23443, 'kitchenette': 23444, 'swallows': 23445, 'intoxicated': 23446, 'pinchhit': 23447, 'tactful': 23448, 'nudge': 23449, 'postponement': 23450, 'bribe': 23451, 'renovated': 23452, 'settler': 23453, 'conformists': 23454, 'obnoxious': 23455, 'ruffled': 23456, 'jims': 23457, 'myra': 23458, 'unreliable': 23459, 'flyaway': 23460, 'jollying': 23461, 'showering': 23462, 'raindrops': 23463, 'pattered': 23464, 'grandmother': 23465, 'websterville': 23466, 'myras': 23467, 'jingled': 23468, 'nervously': 23469, 'scare': 23470, 'greg': 23471, 'disasters': 23472, 'childcloud': 23473, 'fuss': 23474, 'looming': 23475, 'forevercathy': 23476, 'fiercely': 23477, 'yell': 23478, 'moonwashed': 23479, 'steeped': 23480, 'rung': 23481, 'brows': 23482, 'muddling': 23483, 'worthless': 23484, 'clattering': 23485, 'overwhelmed': 23486, 'dolls': 23487, 'gushed': 23488, 'handkerchief': 23489, 'skillfully': 23490, 'shapeup': 23491, 'groaned': 23492, 'susans': 23493, 'gentler': 23494, 'grappling': 23495, 'outsized': 23496, 'armload': 23497, 'scroogelike': 23498, 'sympathize': 23499, 'cathys': 23500, 'lilliputian': 23501, 'flowerscented': 23502, 'darkened': 23503, 'goodby': 23504, 'chillier': 23505, 'raffish': 23506, 'cowbirds': 23507, 'bobbed': 23508, 'gobbled': 23509, 'feathered': 23510, 'vestments': 23511, 'mate': 23512, 'nests': 23513, 'sentinels': 23514, 'helplessness': 23515, 'unscrupulous': 23516, 'dump': 23517, 'curtains': 23518, 'rabbits': 23519, 'airy': 23520, 'hangers': 23521, 'gregs': 23522, 'faintly': 23523, 'fragrant': 23524, 'lavender': 23525, 'panicky': 23526, 'phoned': 23527, 'napping': 23528, 'methuselah': 23529, 'maternal': 23530, 'merriest': 23531, 'hummed': 23532, 'voiceless': 23533, 'wallpaper': 23534, 'moth': 23535, 'seekingly': 23536, 'christmastime': 23537, 'speechless': 23538, 'cord': 23539, 'uncoiling': 23540, 'thickened': 23541, 'tightened': 23542, 'toandfro': 23543, 'purpleblack': 23544, 'cowbird': 23545, 'trudged': 23546, 'teddy': 23547, 'shortest': 23548, 'unimpressed': 23549, 'plopped': 23550, 'quint': 23551, 'disbelieving': 23552, 'esperanza': 23553, 'showoffy': 23554, 'lifeguards': 23555, 'swirling': 23556, 'quints': 23557, 'sherbetcolored': 23558, 'deserted': 23559, 'eats': 23560, 'jiggling': 23561, 'jaggedly': 23562, 'inlet': 23563, 'lumpy': 23564, 'seaweed': 23565, 'whiskers': 23566, 'dragon': 23567, 'corkscrew': 23568, 'canute': 23569, 'quintus': 23570, 'vampires': 23571, 'witches': 23572, 'warty': 23573, 'astronaut': 23574, 'intrepid': 23575, 'persecuted': 23576, 'fearless': 23577, 'scary': 23578, 'thump': 23579, 'pig': 23580, 'cords': 23581, 'fortman': 23582, 'limping': 23583, 'polio': 23584, 'bedside': 23585, 'spilled': 23586, 'probly': 23587, 'victoria': 23588, 'lick': 23589, 'fatso': 23590, 'stuckup': 23591, 'gord': 23592, 'zip': 23593, 'unlaced': 23594, 'wadded': 23595, 'sweat': 23596, 'goolick': 23597, 'goooolick': 23598, 'creaked': 23599, 'gull': 23600, 'aw': 23601, 'scared': 23602, 'crawled': 23603, 'spat': 23604, 'yelled': 23605, 'peppermints': 23606, 'straps': 23607, 'shouders': 23608, 'duck': 23609, 'squatters': 23610, 'kansasnebraska': 23611, 'britches': 23612, 'aleck': 23613, 'cough': 23614, 'imitating': 23615, 'victorias': 23616, 'holierthanthou': 23617, 'wop': 23618, 'wops': 23619, 'jeans': 23620, 'dingylooking': 23621, 'spouted': 23622, 'canes': 23623, 'someones': 23624, 'zoooop': 23625, 'crook': 23626, 'waiter': 23627, 'bannnnnng': 23628, 'stooooomp': 23629, 'licking': 23630, 'plume': 23631, 'collie': 23632, 'wirehaired': 23633, 'glared': 23634, 'mackerel': 23635, 'tranquilizers': 23636, 'braver': 23637, 'jag': 23638, 'yodeling': 23639, 'squint': 23640, 'sabella': 23641, 'undying': 23642, 'curly': 23643, 'pugh': 23644, 'scraped': 23645, 'camels': 23646, 'tripoli': 23647, 'harelips': 23648, 'galway': 23649, 'tinkers': 23650, 'caravans': 23651, 'gypsies': 23652, 'jerez': 23653, 'yawn': 23654, 'korean': 23655, 'iq': 23656, 'mushr': 23657, 'ozon': 23658, 'encyclopedia': 23659, 'schnooks': 23660, 'tonsil': 23661, 'chinaman': 23662, 'giggles': 23663, 'imitated': 23664, 'cherries': 23665, 'snuck': 23666, 'gumming': 23667, 'stumpy': 23668, 'panting': 23669, 'thirst': 23670, 'lagoon': 23671, 'admiringly': 23672, 'salmon': 23673, 'swam': 23674, 'encylopedia': 23675, 'je': 23676, 'quok': 23677, 'daydreamed': 23678, 'splashed': 23679, 'buckets': 23680, 'beseech': 23681, 'thee': 23682, 'raisin': 23683, 'bib': 23684, 'daddys': 23685, 'oneoclock': 23686, 'yeah': 23687, 'noticing': 23688, 'rope': 23689, 'koolaid': 23690, 'gagging': 23691, 'sweating': 23692, 'unbearable': 23693, 'drowning': 23694, 'bobbie': 23695, 'jaguar': 23696, 'linda': 23697, 'oakmont': 23698, 'miswritten': 23699, 'heartless': 23700, 'prematurely': 23701, 'edythe': 23702, 'appalling': 23703, 'ruined': 23704, 'mousie': 23705, 'reproach': 23706, 'prettiest': 23707, 'allegheny': 23708, 'handsomer': 23709, 'goggleeyed': 23710, 'debs': 23711, 'dartmouth': 23712, 'crinkles': 23713, 'johnandlinda': 23714, 'longue': 23715, 'vue': 23716, 'conneaut': 23717, 'spats': 23718, 'heal': 23719, 'dillinger': 23720, 'lindas': 23721, 'wishful': 23722, 'thinkers': 23723, 'hornes': 23724, 'frivolous': 23725, 'scatterbrained': 23726, 'giggled': 23727, 'myth': 23728, 'skirts': 23729, 'drifted': 23730, 'lessdramatic': 23731, 'sewickley': 23732, 'grindstone': 23733, 'cutest': 23734, 'blessing': 23735, 'fontanel': 23736, 'nary': 23737, 'edythes': 23738, 'dizziness': 23739, 'uselessness': 23740, 'shuffled': 23741, 'crackers': 23742, 'webber': 23743, 'eldest': 23744, 'whod': 23745, 'bosoms': 23746, 'oversubscribed': 23747, 'missionaries': 23748, 'whimpering': 23749, 'bends': 23750, 'overgenerous': 23751, 'apparency': 23752, 'hairpin': 23753, 'mourning': 23754, 'couldve': 23755, 'bobbies': 23756, 'bonedeep': 23757, 'sorrow': 23758, 'undo': 23759, 'trembled': 23760, 'soothe': 23761, 'capturing': 23762, 'struggled': 23763, 'wonders': 23764, 'alloy': 23765, 'steels': 23766, 'macisaacs': 23767, 'lovejoy': 23768, 'carnegieillinois': 23769, 'stuartfamily': 23770, 'reuben': 23771, 'pittsburghers': 23772, 'dragooned': 23773, 'murkland': 23774, 'johnll': 23775, 'funk': 23776, 'subordinate': 23777, 'meteoric': 23778, 'babysitter': 23779, 'sweetly': 23780, 'nadine': 23781, 'francie': 23782, 'thoms': 23783, 'thom': 23784, 'everythings': 23785, 'nadines': 23786, 'flushed': 23787, 'faltered': 23788, 'sitters': 23789, 'ragged': 23790, 'wallys': 23791, 'refuse': 23792, 'scooted': 23793, 'dozed': 23794, 'hissed': 23795, 'lurched': 23796, 'strode': 23797, 'raked': 23798, 'insulted': 23799, 'dime': 23800, 'francies': 23801, 'televisonrecord': 23802, 'grubby': 23803, 'filth': 23804, 'traipsing': 23805, 'curtly': 23806, 'snoring': 23807, 'thankful': 23808, 'pits': 23809, 'miserably': 23810, 'blew': 23811, 'necks': 23812, 'owing': 23813, 'evicted': 23814, 'stranded': 23815, 'fretted': 23816, 'brightened': 23817, 'embarrassed': 23818, 'pleading': 23819, 'darn': 23820, 'snobs': 23821, 'crawl': 23822, 'virus': 23823, 'nogood': 23824, 'alibis': 23825, 'blackballed': 23826, 'sewed': 23827, 'punks': 23828, 'stifling': 23829, 'thousandth': 23830, 'ninetofive': 23831, 'fivedaysaweek': 23832, 'shaving': 23833, 'sneezed': 23834, 'gladdy': 23835, 'orphanage': 23836, 'boardinghome': 23837, 'fonder': 23838, 'mustnt': 23839, 'gladdys': 23840, 'michelson': 23841, 'fairview': 23842, 'interns': 23843, 'ishii': 23844, 'sicker': 23845, 'postoperative': 23846, 'lulu': 23847, 'bancroft': 23848, 'alcoholism': 23849, 'scar': 23850, 'puffy': 23851, 'telltale': 23852, 'twocolored': 23853, 'bleached': 23854, 'disquiet': 23855, 'aa': 23856, 'relaxes': 23857, 'gladly': 23858, 'drawnback': 23859, 'bloodspots': 23860, 'groggins': 23861, 'papanicolaou': 23862, 'vaginal': 23863, 'smear': 23864, 'lab': 23865, 'hysterectomy': 23866, 'intraepithelial': 23867, 'situ': 23868, 'wryly': 23869, 'badgering': 23870, 'booze': 23871, 'grimaced': 23872, 'bancrofts': 23873, 'knob': 23874, 'dozing': 23875, 'shiver': 23876, 'disregarded': 23877, 'dilatation': 23878, 'curettage': 23879, 'tremble': 23880, 'coverlet': 23881, 'disregarding': 23882, 'echo': 23883, 'intently': 23884, 'halfsmile': 23885, 'heartstopping': 23886, 'stammered': 23887, 'echoed': 23888, 'mockingly': 23889, 'outta': 23890, 'alcoholic': 23891, 'caresses': 23892, 'breathed': 23893, 'anesthetic': 23894, 'yieldingmediterranianwoman': 23895, 'soothed': 23896, 'drunker': 23897, 'metaltasting': 23898, 'suck': 23899, 'aqualung': 23900, 'chuckled': 23901, 'hazy': 23902, 'duds': 23903, 'bellyfull': 23904, 'valery': 23905, 'orly': 23906, 'rhinemain': 23907, 'mistlike': 23908, 'pocketful': 23909, 'elysees': 23910, 'hun': 23911, 'dazzled': 23912, 'bugatti': 23913, 'farina': 23914, 'coachwork': 23915, 'chassis': 23916, 'aajk': 23917, 'mercedes': 23918, 'triomphe': 23919, 'deiffel': 23920, 'maxims': 23921, 'jour': 23922, 'nuit': 23923, 'montmartre': 23924, 'claire': 23925, 'assuaged': 23926, 'noblesse': 23927, 'oblige': 23928, 'nymphomaniac': 23929, 'panther': 23930, 'pils': 23931, 'tuborg': 23932, 'crocked': 23933, 'cognac': 23934, 'capricorn': 23935, 'debauchery': 23936, 'reconciled': 23937, 'flop': 23938, 'binge': 23939, 'therapeutic': 23940, 'snowing': 23941, 'dim': 23942, 'flakes': 23943, 'topcoat': 23944, 'unuttered': 23945, 'unhappiness': 23946, 'wager': 23947, 'derriere': 23948, 'snorted': 23949, 'tiredness': 23950, 'gambit': 23951, 'remy': 23952, 'rotten': 23953, 'lug': 23954, 'drowsing': 23955, 'allons': 23956, 'sensed': 23957, 'rime': 23958, 'melancholy': 23959, 'bon': 23960, 'hips': 23961, 'tousled': 23962, 'jai': 23963, 'faim': 23964, 'toothbrush': 23965, 'innocently': 23966, 'scald': 23967, 'suzanne': 23968, 'grunted': 23969, 'sipping': 23970, 'putains': 23971, 'louvre': 23972, 'metro': 23973, 'cabaret': 23974, 'mussels': 23975, 'sommelier': 23976, 'steely': 23977, 'jeroboam': 23978, 'theresa': 23979, 'stubblefield': 23980, 'exhaustingly': 23981, 'telescoped': 23982, 'aqueducts': 23983, 'tombs': 23984, 'appian': 23985, 'colosseum': 23986, 'stubblefields': 23987, 'lamplight': 23988, 'noisy': 23989, 'motorscooters': 23990, 'swerving': 23991, 'perilously': 23992, 'staircase': 23993, 'azalea': 23994, 'potted': 23995, 'azaleas': 23996, 'blooms': 23997, 'fuchsia': 23998, 'palest': 23999, 'portly': 24000, 'wellbred': 24001, 'banisters': 24002, 'parapets': 24003, 'insides': 24004, 'dismay': 24005, 'elec': 24006, 'carraway': 24007, 'ts': 24008, 'ls': 24009, 'tuxapoka': 24010, 'nextdoor': 24011, 'scrawled': 24012, 'spagna': 24013, 'aging': 24014, 'immemorial': 24015, 'sweetpeas': 24016, 'drawer': 24017, 'motherofpearl': 24018, 'refolded': 24019, 'elecs': 24020, 'weakening': 24021, 'diapers': 24022, 'gentility': 24023, 'mammas': 24024, 'emmas': 24025, 'uttermost': 24026, 'cramp': 24027, 'hobbled': 24028, 'agony': 24029, 'bathrobe': 24030, 'footstool': 24031, 'clenched': 24032, 'contorted': 24033, 'heroically': 24034, 'monkey': 24035, 'solemn': 24036, 'cat': 24037, 'kittens': 24038, 'kettle': 24039, 'enamelled': 24040, 'hiccups': 24041, 'unamused': 24042, 'roundeyed': 24043, 'woe': 24044, 'georges': 24045, 'parting': 24046, 'robbie': 24047, 'rosie': 24048, 'whittaker': 24049, 'crumbling': 24050, 'sneezing': 24051, 'uncertainly': 24052, 'unnaturally': 24053, 'cameos': 24054, 'pens': 24055, 'papal': 24056, 'carrozza': 24057, 'vacant': 24058, 'banister': 24059, 'vendor': 24060, 'welldressed': 24061, 'alligator': 24062, 'scurried': 24063, 'hinting': 24064, 'supremely': 24065, 'balzac': 24066, 'stendhal': 24067, 'dinsmore': 24068, 'diapiace': 24069, 'insomma': 24070, 'stealer': 24071, 'dolan': 24072, 'nobodyd': 24073, 'goodliving': 24074, 'johnnie': 24075, 'lucilles': 24076, 'trucker': 24077, 'penniless': 24078, 'kissed': 24079, 'crackling': 24080, 'smokes': 24081, 'ticking': 24082, 'swears': 24083, 'noncommittally': 24084, 'scheming': 24085, 'surrendered': 24086, 'blushed': 24087, 'sexual': 24088, 'triggered': 24089, 'fierceness': 24090, 'crickets': 24091, 'serenaded': 24092, 'huh': 24093, 'blissful': 24094, 'elbow': 24095, 'contentment': 24096, 'idiots': 24097, 'upbringing': 24098, 'johnnies': 24099, 'petted': 24100, 'longest': 24101, 'husbandstealer': 24102, 'wondrous': 24103, 'emotions': 24104, 'faneuil': 24105, 'alma': 24106, 'anxiously': 24107, 'schmalma': 24108, 'shrilly': 24109, 'disguised': 24110, 'ginger': 24111, 'ale': 24112, 'snugly': 24113, 'invisible': 24114, 'cmon': 24115, 'lubricated': 24116, 'allamericanboy': 24117, 'twoburner': 24118, 'kirby': 24119, 'pelting': 24120, 'lunatic': 24121, 'bachelortype': 24122, 'eatables': 24123, 'curving': 24124, 'veranda': 24125, 'kirbys': 24126, 'vitaminandiron': 24127, 'cure': 24128, 'vivian': 24129, 'kissing': 24130, 'ailment': 24131, 'scalded': 24132, 'dawning': 24133, 'sandy': 24134, 'puddles': 24135, 'prescription': 24136, 'mockery': 24137, 'oddson': 24138, 'awesome': 24139, 'blackandyellow': 24140, 'polkadotted': 24141, 'natives': 24142, 'filthy': 24143, 'pyhrric': 24144, 'peaked': 24145, 'forbore': 24146, 'peony': 24147, 'honeymooning': 24148, 'whatshisname': 24149, 'lounging': 24150, 'unalloyed': 24151, 'bliss': 24152, 'leafed': 24153, 'bobbsey': 24154, 'hoofandmouth': 24155, 'hideously': 24156, 'bruising': 24157, 'shin': 24158, 'fuzzy': 24159, 'mania': 24160, 'dyed': 24161, 'longhair': 24162, 'permeates': 24163, 'squirt': 24164, 'kissin': 24165, 'kare': 24166, 'lotion': 24167, 'dainty': 24168, 'swiping': 24169, 'fastfrozen': 24170, 'horseblanket': 24171, 'plaid': 24172, 'splashy': 24173, 'subconsciously': 24174, 'toilsome': 24175, 'laden': 24176, 'clattery': 24177, 'mops': 24178, 'pails': 24179, 'scorcher': 24180, 'larkspur': 24181, 'ironpoor': 24182, 'frail': 24183, 'varicolored': 24184, 'fouroclock': 24185, 'floodlit': 24186, 'punctuated': 24187, 'refrigerators': 24188, 'propped': 24189, 'postscript': 24190, 'ninetysix': 24191, 'redheads': 24192, 'browny': 24193, 'brownyhaired': 24194, 'bikinis': 24195, 'preponderance': 24196, 'dune': 24197, 'stool': 24198, 'turtleneck': 24199, 'notsopale': 24200, 'moonlit': 24201, 'filched': 24202, 'vivians': 24203, 'slopping': 24204, 'pajama': 24205, 'subside': 24206, 'glycerin': 24207, 'whitens': 24208, 'overhand': 24209, 'annistons': 24210, 'smacked': 24211, 'riversides': 24212, 'redheaded': 24213, 'rossoff': 24214, 'relay': 24215, 'deegans': 24216, 'deegan': 24217, 'punches': 24218, 'uproar': 24219, 'cursed': 24220, 'dugout': 24221, 'eyeing': 24222, 'infuriated': 24223, 'bastard': 24224, 'goddamn': 24225, 'fielder': 24226, 'rammed': 24227, 'ballplayers': 24228, 'quivering': 24229, 'ram': 24230, 'powerfully': 24231, 'hander': 24232, 'hefty': 24233, 'mikes': 24234, 'ricco': 24235, 'phils': 24236, 'bastards': 24237, 'haydon': 24238, 'pounded': 24239, 'flatfooted': 24240, 'unhurried': 24241, 'squelched': 24242, 'sweatshirt': 24243, 'helluva': 24244, 'eddies': 24245, 'proball': 24246, 'dazed': 24247, 'cinch': 24248, 'ramming': 24249, 'goddamit': 24250, 'springfields': 24251, 'atta': 24252, 'outfielders': 24253, 'insularity': 24254, 'byways': 24255, 'fascinate': 24256, 'laotse': 24257, 'mencius': 24258, 'suzuki': 24259, 'hindu': 24260, 'tomes': 24261, 'krishnaists': 24262, 'socioarchaeological': 24263, 'zendavesta': 24264, 'acala': 24265, 'remoteness': 24266, 'bookish': 24267, 'lore': 24268, 'biwa': 24269, 'distrusted': 24270, 'incarcerated': 24271, 'dusted': 24272, 'freighter': 24273, 'plucked': 24274, 'resemble': 24275, 'envied': 24276, 'teadrinking': 24277, 'ryusenji': 24278, 'fudomae': 24279, 'charlottes': 24280, 'flippant': 24281, 'pointless': 24282, 'zen': 24283, 'modifier': 24284, 'soba': 24285, 'udon': 24286, 'sushi': 24287, 'pretentious': 24288, 'sashimi': 24289, 'ceecee': 24290, 'witter': 24291, 'gompachi': 24292, 'komurasaki': 24293, 'parkish': 24294, 'kanto': 24295, 'statue': 24296, 'fudo': 24297, 'bothersome': 24298, 'twentytwo': 24299, 'tiniest': 24300, 'ascetic': 24301, 'spigots': 24302, 'hillside': 24303, 'caged': 24304, 'incarnation': 24305, 'likened': 24306, 'limpid': 24307, 'fountainfalls': 24308, 'hundredyen': 24309, 'priest': 24310, 'fudos': 24311, 'scraping': 24312, 'stillness': 24313, 'hurried': 24314, 'lingered': 24315, 'stubble': 24316, 'plowed': 24317, 'snowfence': 24318, 'lath': 24319, 'furrow': 24320, 'snakes': 24321, 'throttle': 24322, 'frighten': 24323, 'fright': 24324, 'delicately': 24325, 'interlaced': 24326, 'jetblack': 24327, 'astonishing': 24328, 'unthinkable': 24329, 'firecolored': 24330, 'lumps': 24331, 'forepart': 24332, 'fieldmice': 24333, 'newlyplowed': 24334, 'shone': 24335, 'sunburned': 24336, 'crumbled': 24337, 'paleness': 24338, 'dusty': 24339, 'uncolored': 24340, 'plowshares': 24341, 'scouring': 24342, 'stamping': 24343, 'ferocity': 24344, 'frenzied': 24345, 'impatience': 24346, 'hunchedup': 24347, 'pirouette': 24348, 'frenetic': 24349, 'savagery': 24350, 'glimmer': 24351, 'remnant': 24352, 'ache': 24353, 'bubbly': 24354, 'finelyspun': 24355, 'effeminate': 24356, 'eyelashes': 24357, 'brushlike': 24358, 'newlyscrubbed': 24359, 'splintered': 24360, 'bitten': 24361, 'poisonous': 24362, 'foolishly': 24363, 'graylooking': 24364, 'beautifullytapered': 24365, 'vise': 24366, 'splayed': 24367, 'wrenched': 24368, 'thickest': 24369, 'crystals': 24370, 'icefeeling': 24371, 'spasm': 24372, 'wrenches': 24373, 'toolkit': 24374, 'gleeful': 24375, 'nasty': 24376, 'slap': 24377, 'insolence': 24378, 'cady': 24379, 'unglued': 24380, 'tidings': 24381, 'hanford': 24382, 'snapper': 24383, 'enrolled': 24384, 'credentials': 24385, 'transcript': 24386, 'motivation': 24387, 'partlow': 24388, 'enroll': 24389, 'reunions': 24390, 'oldgradtype': 24391, 'petes': 24392, 'ivy': 24393, 'politicking': 24394, 'geology': 24395, 'enrolling': 24396, 'ruining': 24397, 'venetian': 24398, 'bucket': 24399, 'commending': 24400, 'amusement': 24401, 'soulsearching': 24402, 'shoved': 24403, 'unsealed': 24404, 'whistled': 24405, 'gasser': 24406, 'prepacked': 24407, 'messing': 24408, 'unease': 24409, 'darned': 24410, 'surcease': 24411, 'navyblue': 24412, 'shag': 24413, 'woolly': 24414, 'commencement': 24415, 'partlows': 24416, 'proverbial': 24417, 'methodically': 24418, 'straighta': 24419, 'antisocial': 24420, 'frayed': 24421, 'coffeepot': 24422, 'booklined': 24423, 'dilapidated': 24424, 'daves': 24425, 'motives': 24426, 'belligerence': 24427, 'fishpond': 24428, 'chess': 24429, 'rockandroll': 24430, 'mollified': 24431, 'brutally': 24432, 'loosen': 24433, 'hamradio': 24434, 'curb': 24435, 'hemming': 24436, 'guild': 24437, 'wellworn': 24438, 'mailbox': 24439, 'arguing': 24440, 'shorts': 24441, 'negligent': 24442, 'kidding': 24443, 'garments': 24444, 'littered': 24445, 'rug': 24446, 'assertive': 24447, 'grinning': 24448, 'stoop': 24449, 'patina': 24450, 'veining': 24451, 'vertebrae': 24452, 'unyielding': 24453, 'invigorating': 24454, 'teasing': 24455, 'superhuman': 24456, 'neatness': 24457, 'incongruity': 24458, 'mole': 24459, 'doorbell': 24460, 'anthea': 24461, 'strained': 24462, 'glissade': 24463, 'ellipsis': 24464, 'topic': 24465, 'brainards': 24466, 'aback': 24467, 'fumed': 24468, 'raving': 24469, 'titters': 24470, 'whisperings': 24471, 'scabrous': 24472, 'unclean': 24473, 'hoarseness': 24474, 'crouched': 24475, 'apologized': 24476, 'annoyed': 24477, 'pallid': 24478, 'angrily': 24479, 'postpone': 24480, 'blot': 24481, 'countenance': 24482, 'gaily': 24483, 'frothy': 24484, 'deceptive': 24485, 'merriment': 24486, 'snort': 24487, 'mock': 24488, 'scattering': 24489, 'impinge': 24490, 'bizarre': 24491, 'frantically': 24492, 'exit': 24493, 'defeatism': 24494, 'sullenly': 24495, 'morosely': 24496, 'frenzy': 24497, 'panties': 24498, 'humiliation': 24499, 'endlessly': 24500, 'brassiere': 24501, 'girdle': 24502, 'traversed': 24503, 'rumpled': 24504, 'childishness': 24505, 'looseness': 24506, 'unruly': 24507, 'underclothes': 24508, 'linked': 24509, 'virility': 24510, 'exalted': 24511, 'fanaticism': 24512, 'nylon': 24513, 'grasped': 24514, 'occurring': 24515, 'unsteady': 24516, 'thatll': 24517, 'resurgence': 24518, 'az': 24519, 'nibs': 24520, 'glory': 24521, 'inadvertent': 24522, 'hersheys': 24523, 'eddyman': 24524, 'freddy': 24525, 'detached': 24526, 'skyscraper': 24527, 'gerry': 24528, 'willis': 24529, 'zenith': 24530, 'skeleton': 24531, 'vicissitudes': 24532, 'proliferation': 24533, 'freddys': 24534, 'prospering': 24535, 'familial': 24536, 'prodded': 24537, 'joans': 24538, 'competency': 24539, 'richly': 24540, 'experimentally': 24541, 'calculators': 24542, 'herberet': 24543, 'inexhaustible': 24544, 'coffers': 24545, 'allstates': 24546, 'mediumsized': 24547, 'fourwheeldrive': 24548, 'offroad': 24549, 'overlarge': 24550, 'amalgamation': 24551, 'herberets': 24552, 'subassembly': 24553, 'ordnance': 24554, 'complaisant': 24555, 'fascinated': 24556, 'enchanted': 24557, 'proposition': 24558, 'hamrick': 24559, 'grabs': 24560, 'airline': 24561, 'compoundengine': 24562, 'settles': 24563, 'richert': 24564, 'dampening': 24565, 'fray': 24566, 'cudgels': 24567, 'patriarchy': 24568, 'swaying': 24569, 'unwilling': 24570, 'hyphenated': 24571, 'elephant': 24572, 'plumped': 24573, 'bind': 24574, 'closeted': 24575, 'azs': 24576, 'conceptions': 24577, 'hamricks': 24578, 'coincidental': 24579, 'smallcar': 24580, 'ticonderoga': 24581, 'broach': 24582, 'dealerships': 24583, 'cheaply': 24584, 'insurmountable': 24585, 'dubious': 24586, 'gantlet': 24587, 'incredulity': 24588, 'animosity': 24589, 'quarrels': 24590, 'transact': 24591, 'lowpriced': 24592, 'bucking': 24593, 'oldfashioned': 24594, 'snobbery': 24595, 'chromed': 24596, 'seduction': 24597, 'readymade': 24598, 'yachts': 24599, 'georgian': 24600, 'tooexpensive': 24601, 'allstateszenith': 24602, 'risky': 24603, 'instinctively': 24604, 'availing': 24605, 'inlaws': 24606, 'disquietude': 24607, 'jubilantly': 24608, 'encircled': 24609, 'forefinger': 24610, 'spikehaired': 24611, 'burly': 24612, 'redfaced': 24613, 'decked': 24614, 'hornrimmed': 24615}\n"
     ]
    }
   ],
   "source": [
    "print(w2v.data.word2id_dict)"
   ]
  },
  {
   "cell_type": "code",
   "execution_count": 261,
   "metadata": {
    "colab": {
     "base_uri": "https://localhost:8080/"
    },
    "executionInfo": {
     "elapsed": 404,
     "status": "ok",
     "timestamp": 1639671833467,
     "user": {
      "displayName": "moghis fereidouni",
      "photoUrl": "https://lh3.googleusercontent.com/a-/AOh14GjVlp_EUmsYa2wET4sH8v8ttME5Wjz5knmZivaz=s64",
      "userId": "04154357719458086941"
     },
     "user_tz": -210
    },
    "id": "On08un3-zKXk",
    "outputId": "00f551d6-8bdb-4985-eb67-213e8da6b43c"
   },
   "outputs": [
    {
     "data": {
      "text/plain": [
       "{'children': ['restudy',\n",
       "  'nursery',\n",
       "  'chassis',\n",
       "  'equines',\n",
       "  'scripts',\n",
       "  'remedial',\n",
       "  'kroger',\n",
       "  'mingle',\n",
       "  'uttermost'],\n",
       " 'democratic': ['republican',\n",
       "  'voted',\n",
       "  'swell',\n",
       "  'georgia',\n",
       "  'bronx',\n",
       "  'unworkable',\n",
       "  'alamein',\n",
       "  'defendants',\n",
       "  'morocco'],\n",
       " 'election': ['forwarded',\n",
       "  'curiously',\n",
       "  'boissoneault',\n",
       "  'oregon',\n",
       "  'lowliest',\n",
       "  'independents',\n",
       "  'conventions',\n",
       "  'unanimous',\n",
       "  'byrds'],\n",
       " 'game': ['scored',\n",
       "  'gaines',\n",
       "  'popped',\n",
       "  'baylors',\n",
       "  'sometimesnecessary',\n",
       "  'phonies',\n",
       "  'sprained',\n",
       "  'triplecrown',\n",
       "  'upstanding'],\n",
       " 'mettwurst': ['bratwurst',\n",
       "  'photofloodlights',\n",
       "  'lobster',\n",
       "  'europeans',\n",
       "  'jerusalem',\n",
       "  'teaspoonful',\n",
       "  'loneliness',\n",
       "  'solitude',\n",
       "  'toasted'],\n",
       " 'player': ['burnings',\n",
       "  'nagle',\n",
       "  'impudent',\n",
       "  'overloud',\n",
       "  'outplayed',\n",
       "  'winking',\n",
       "  'incomparably',\n",
       "  'dyer',\n",
       "  'sermons'],\n",
       " 'sauce': ['pineapple',\n",
       "  'bread',\n",
       "  'frankfurter',\n",
       "  'minced',\n",
       "  'tiers',\n",
       "  'walnuts',\n",
       "  'chicken',\n",
       "  'franks',\n",
       "  'needle'],\n",
       " 'tablespoon': ['horseradish',\n",
       "  'tangy',\n",
       "  'teaspoons',\n",
       "  'truest',\n",
       "  'twains',\n",
       "  'chive',\n",
       "  'superhuman',\n",
       "  'buttery',\n",
       "  'grounding']}"
      ]
     },
     "execution_count": 261,
     "metadata": {},
     "output_type": "execute_result"
    }
   ],
   "source": [
    "similar_words = {search_term: [w2v.data.id2word_dict[idx] for idx in distance_matrix[w2v.data.word2id_dict[search_term]].argsort()[1:10]] \n",
    "                   for search_term in ['tablespoon','election','sauce', 'democratic','player','game','children','mettwurst']}\n",
    "similar_words"
   ]
  }
 ],
 "metadata": {
  "colab": {
   "authorship_tag": "ABX9TyPGHwwwRyOVNfzHvuXqjnw5",
   "collapsed_sections": [],
   "name": "Word2Vec - CBOW with hierarchical softmax.ipynb",
   "provenance": []
  },
  "kernelspec": {
   "display_name": "Python 3 (ipykernel)",
   "language": "python",
   "name": "python3"
  },
  "language_info": {
   "codemirror_mode": {
    "name": "ipython",
    "version": 3
   },
   "file_extension": ".py",
   "mimetype": "text/x-python",
   "name": "python",
   "nbconvert_exporter": "python",
   "pygments_lexer": "ipython3",
   "version": "3.9.9"
  }
 },
 "nbformat": 4,
 "nbformat_minor": 1
}
